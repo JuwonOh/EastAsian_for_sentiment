{
 "cells": [
  {
   "cell_type": "markdown",
   "metadata": {},
   "source": [
    "## sentiment analysis for fox news\n",
    "\n",
    "- Vader sentime"
   ]
  },
  {
   "cell_type": "code",
   "execution_count": 51,
   "metadata": {},
   "outputs": [
    {
     "data": {
      "text/html": [
       "<style>.container { width:95% !important; }</style>"
      ],
      "text/plain": [
       "<IPython.core.display.HTML object>"
      ]
     },
     "metadata": {},
     "output_type": "display_data"
    }
   ],
   "source": [
    "#Data Analysis\n",
    "import pandas as pd\n",
    "import matplotlib.pyplot as plt\n",
    "import seaborn as sns\n",
    "import numpy as np\n",
    "\n",
    "'''Features'''\n",
    "from sklearn.preprocessing import LabelEncoder\n",
    "from sklearn.feature_extraction.text import TfidfVectorizer, CountVectorizer, TfidfTransformer\n",
    "from sklearn.decomposition import TruncatedSVD\n",
    "from sklearn.preprocessing import label_binarize\n",
    "\n",
    "'''Classifiers'''\n",
    "from sklearn.dummy import DummyClassifier\n",
    "from sklearn.linear_model import SGDClassifier\n",
    "from sklearn.naive_bayes import GaussianNB, BernoulliNB\n",
    "from sklearn.tree import DecisionTreeClassifier\n",
    "from sklearn.ensemble import RandomForestClassifier, AdaBoostClassifier, ExtraTreesClassifier, BaggingClassifier\n",
    "from sklearn.neighbors import KNeighborsClassifier, RadiusNeighborsClassifier\n",
    "from sklearn.multiclass import OneVsRestClassifier\n",
    "from sklearn.svm import LinearSVC, SVC\n",
    "from sklearn.linear_model import RidgeClassifier , LogisticRegression\n",
    "\n",
    "'''Metrics/Evaluation'''\n",
    "from sklearn.model_selection import train_test_split\n",
    "from sklearn.model_selection import GridSearchCV\n",
    "from sklearn.metrics import accuracy_score, precision_score, recall_score, f1_score, roc_curve, auc, confusion_matrix\n",
    "from scipy import interp\n",
    "from itertools import cycle\n",
    "\n",
    "'''Plotting'''\n",
    "import matplotlib.pyplot as plt\n",
    "import seaborn as sns\n",
    "sns.set_style('darkgrid')\n",
    "\n",
    "'''Display'''\n",
    "from IPython.core.display import display, HTML\n",
    "display(HTML(\"<style>.container { width:95% !important; }</style>\"))\n",
    "import warnings\n",
    "warnings.filterwarnings('ignore')\n",
    "pd.options.display.float_format = '{:,.2f}'.format\n",
    "\n",
    "from collections import Counter"
   ]
  },
  {
   "cell_type": "markdown",
   "metadata": {},
   "source": [
    "### data loading"
   ]
  },
  {
   "cell_type": "markdown",
   "metadata": {},
   "source": [
    "uskr: 1.0: 47, 0.0: 12(96), -1.0: 17 - 0.65(0.73)\n",
    "usjp: 1.0: 74, 0.0: 46(50), -1.0: 34 - 0.69(0.68)\n",
    "jpkr:  0: 88, -1: 78 - 0.92\t\n",
    "cnkr: 0: 116, -1: 10, 1: 9, 0.95 \n",
    "cnjp: 1: 15, 0: 35, 1: 4 - 0.65\n",
    "uscn: "
   ]
  },
  {
   "cell_type": "code",
   "execution_count": null,
   "metadata": {},
   "outputs": [],
   "source": []
  },
  {
   "cell_type": "code",
   "execution_count": 21,
   "metadata": {},
   "outputs": [
    {
     "data": {
      "text/plain": [
       "(160, 2)"
      ]
     },
     "execution_count": 21,
     "metadata": {},
     "output_type": "execute_result"
    }
   ],
   "source": [
    "usjp = pd.read_csv('C:/Users/Juwon Oh/Documents/github/sentiment analysis/sentiment_six_relations_original_usjp.csv')\n",
    "uskr = pd.read_csv('C:/Users/Juwon Oh/Documents/github/sentiment analysis/sentiment_six_relations_original_uskr.csv')\n",
    "jpkr = pd.read_csv('C:/Users/Juwon Oh/Documents/github/sentiment analysis/sentiment_six_relations_original_jpkr.csv')\n",
    "cnkr = pd.read_csv('C:/Users/Juwon Oh/Documents/github/sentiment analysis/sentiment_six_relations_original_cnkr.csv')\n",
    "cnjp = pd.read_csv('C:/Users/Juwon Oh/Documents/github/sentiment analysis/sentiment_six_relations_original_cnjp.csv')\n",
    "uscn = pd.read_csv('C:/Users/Juwon Oh/Documents/github/sentiment analysis/sentiment_six_relations_original_uscn.csv')\n",
    "fox = uskr[['sentiment','text_raw']]\n",
    "#fox = fox.dropna()\n",
    "fox = fox.fillna(0)\n",
    "labels = fox.sentiment.values\n",
    "text = fox.iloc[:, -1].values\n",
    "fox.shape"
   ]
  },
  {
   "cell_type": "code",
   "execution_count": 52,
   "metadata": {},
   "outputs": [
    {
     "data": {
      "text/plain": [
       "Counter({1.0: 47, 0.0: 96, -1.0: 17})"
      ]
     },
     "execution_count": 52,
     "metadata": {},
     "output_type": "execute_result"
    }
   ],
   "source": [
    "Counter(labels)"
   ]
  },
  {
   "cell_type": "code",
   "execution_count": 3,
   "metadata": {},
   "outputs": [],
   "source": [
    "## stemmer Lemmatizer"
   ]
  },
  {
   "cell_type": "code",
   "execution_count": 22,
   "metadata": {
    "code_folding": []
   },
   "outputs": [],
   "source": [
    "from nltk.stem.snowball import SnowballStemmer\n",
    "stemmer = SnowballStemmer('english')\n",
    "\n",
    "new_corpus=[' '.join([stemmer.stem(word) for word in text.split(' ')])for text in text]"
   ]
  },
  {
   "cell_type": "code",
   "execution_count": 23,
   "metadata": {},
   "outputs": [],
   "source": [
    "from nltk.stem import WordNetLemmatizer\n",
    "lemmer=WordNetLemmatizer()\n",
    "\n",
    "new_corpus=[' '.join([lemmer.lemmatize(word) for word in text.split(' ')])for text in new_corpus]"
   ]
  },
  {
   "cell_type": "markdown",
   "metadata": {},
   "source": [
    "### vectorization and cross validation"
   ]
  },
  {
   "cell_type": "code",
   "execution_count": 24,
   "metadata": {
    "scrolled": true
   },
   "outputs": [],
   "source": [
    "count_vect = CountVectorizer(stop_words=\"english\", ngram_range=(1, 2), max_df= 0.95, min_df=4)\n",
    "text_vector = count_vect.fit_transform(new_corpus)\n",
    "tfidf_transformer = TfidfTransformer(use_idf=True)\n",
    "text_Tfidf = tfidf_transformer.fit_transform(text_vector)"
   ]
  },
  {
   "cell_type": "code",
   "execution_count": 25,
   "metadata": {
    "scrolled": true
   },
   "outputs": [
    {
     "data": {
      "text/plain": [
       "(160, 3728)"
      ]
     },
     "execution_count": 25,
     "metadata": {},
     "output_type": "execute_result"
    }
   ],
   "source": [
    "text_Tfidf.shape"
   ]
  },
  {
   "cell_type": "code",
   "execution_count": 26,
   "metadata": {},
   "outputs": [],
   "source": [
    "#Dimenionality reduction. Only using the 100 best features er category\n",
    "\n",
    "lsa = TruncatedSVD(n_components=1000, \n",
    "                   n_iter=10, \n",
    "                   random_state=3)\n",
    "\n",
    "X = lsa.fit_transform(text_Tfidf)"
   ]
  },
  {
   "cell_type": "code",
   "execution_count": 27,
   "metadata": {},
   "outputs": [],
   "source": [
    "X_train, X_test, y_train, y_test = train_test_split(X, labels, test_size=0.3, shuffle = True, random_state=0)"
   ]
  },
  {
   "cell_type": "markdown",
   "metadata": {},
   "source": [
    "## MinMaxScaler\n",
    "\n",
    "- uskr: 1.0: 47, 0.0: 12(96), -1.0: 17\n",
    "- cnkr: 0: 116, -1: 10, 1: 9\n",
    "- cnjp: 1: 15, 0: 35, 1"
   ]
  },
  {
   "cell_type": "markdown",
   "metadata": {},
   "source": [
    "from sklearn.preprocessing import MinMaxScaler\n",
    "\n",
    "scaler = MinMaxScaler(feature_range=(0, 1, -1))\n",
    "scaler.fit_transform(text_Tfidf)\n",
    "X_train = scaler.fit_transform(text_Tfidf)"
   ]
  },
  {
   "cell_type": "code",
   "execution_count": 93,
   "metadata": {
    "scrolled": true
   },
   "outputs": [
    {
     "name": "stdout",
     "output_type": "stream",
     "text": [
      "After OverSampling, the shape of train_X: (288, 160)\n",
      "After OverSampling, the shape of train_y: (288, 160) \n",
      "\n",
      "After OverSampling, counts of label '-1': 96\n",
      "After OverSampling, counts of label '1': 96\n",
      "After OverSampling, counts of label '0': 96\n"
     ]
    }
   ],
   "source": [
    "from imblearn.over_sampling import SMOTE\n",
    "# 모델설정\n",
    "sm = SMOTE(ratio='auto', kind='regular', k_neighbors=5)\n",
    "\n",
    "# train데이터를 넣어 복제함\n",
    "X_resampled, y_resampled = sm.fit_sample(X,list(labels))\n",
    "\n",
    "print('After OverSampling, the shape of train_X: {}'.format(X_resampled.shape))\n",
    "print('After OverSampling, the shape of train_y: {} \\n'.format(X_resampled.shape))\n",
    "\n",
    "print(\"After OverSampling, counts of label '-1': {}\".format(sum(y_resampled==-1)))\n",
    "print(\"After OverSampling, counts of label '1': {}\".format(sum(y_resampled==1)))\n",
    "print(\"After OverSampling, counts of label '0': {}\".format(sum(y_resampled==0)))"
   ]
  },
  {
   "cell_type": "markdown",
   "metadata": {},
   "source": [
    "## Dimentionality reduction\n",
    "\n",
    " - I don't use it once, but I plan to use it later when I receive a large amount of data."
   ]
  },
  {
   "cell_type": "markdown",
   "metadata": {},
   "source": [
    "### basic model evaluation "
   ]
  },
  {
   "cell_type": "code",
   "execution_count": 29,
   "metadata": {
    "scrolled": false
   },
   "outputs": [
    {
     "data": {
      "text/html": [
       "<div>\n",
       "<style scoped>\n",
       "    .dataframe tbody tr th:only-of-type {\n",
       "        vertical-align: middle;\n",
       "    }\n",
       "\n",
       "    .dataframe tbody tr th {\n",
       "        vertical-align: top;\n",
       "    }\n",
       "\n",
       "    .dataframe thead th {\n",
       "        text-align: right;\n",
       "    }\n",
       "</style>\n",
       "<table border=\"1\" class=\"dataframe\">\n",
       "  <thead>\n",
       "    <tr style=\"text-align: right;\">\n",
       "      <th></th>\n",
       "      <th>model_name</th>\n",
       "      <th>accuracy_score</th>\n",
       "      <th>precision_score</th>\n",
       "      <th>recall_score</th>\n",
       "      <th>f1_score</th>\n",
       "    </tr>\n",
       "  </thead>\n",
       "  <tbody>\n",
       "    <tr>\n",
       "      <th>1</th>\n",
       "      <td>Stochastic Gradient Descent</td>\n",
       "      <td>0.67</td>\n",
       "      <td>0.63</td>\n",
       "      <td>0.49</td>\n",
       "      <td>0.52</td>\n",
       "    </tr>\n",
       "    <tr>\n",
       "      <th>4</th>\n",
       "      <td>AdaBoost</td>\n",
       "      <td>0.52</td>\n",
       "      <td>0.46</td>\n",
       "      <td>0.47</td>\n",
       "      <td>0.46</td>\n",
       "    </tr>\n",
       "    <tr>\n",
       "      <th>5</th>\n",
       "      <td>Gaussian Naive Bayes</td>\n",
       "      <td>0.62</td>\n",
       "      <td>0.38</td>\n",
       "      <td>0.43</td>\n",
       "      <td>0.40</td>\n",
       "    </tr>\n",
       "    <tr>\n",
       "      <th>3</th>\n",
       "      <td>Decsision Tree</td>\n",
       "      <td>0.52</td>\n",
       "      <td>0.36</td>\n",
       "      <td>0.38</td>\n",
       "      <td>0.36</td>\n",
       "    </tr>\n",
       "    <tr>\n",
       "      <th>2</th>\n",
       "      <td>Random Forest</td>\n",
       "      <td>0.56</td>\n",
       "      <td>0.29</td>\n",
       "      <td>0.32</td>\n",
       "      <td>0.30</td>\n",
       "    </tr>\n",
       "    <tr>\n",
       "      <th>6</th>\n",
       "      <td>K Nearest Neighbor</td>\n",
       "      <td>0.25</td>\n",
       "      <td>0.44</td>\n",
       "      <td>0.38</td>\n",
       "      <td>0.28</td>\n",
       "    </tr>\n",
       "    <tr>\n",
       "      <th>0</th>\n",
       "      <td>Dummy</td>\n",
       "      <td>0.29</td>\n",
       "      <td>0.33</td>\n",
       "      <td>0.36</td>\n",
       "      <td>0.28</td>\n",
       "    </tr>\n",
       "  </tbody>\n",
       "</table>\n",
       "</div>"
      ],
      "text/plain": [
       "                    model_name accuracy_score precision_score recall_score  \\\n",
       "1  Stochastic Gradient Descent           0.67            0.63         0.49   \n",
       "4                     AdaBoost           0.52            0.46         0.47   \n",
       "5         Gaussian Naive Bayes           0.62            0.38         0.43   \n",
       "3               Decsision Tree           0.52            0.36         0.38   \n",
       "2                Random Forest           0.56            0.29         0.32   \n",
       "6           K Nearest Neighbor           0.25            0.44         0.38   \n",
       "0                        Dummy           0.29            0.33         0.36   \n",
       "\n",
       "  f1_score  \n",
       "1     0.52  \n",
       "4     0.46  \n",
       "5     0.40  \n",
       "3     0.36  \n",
       "2     0.30  \n",
       "6     0.28  \n",
       "0     0.28  "
      ]
     },
     "execution_count": 29,
     "metadata": {},
     "output_type": "execute_result"
    }
   ],
   "source": [
    "#Preliminary model evaluation using default parameters\n",
    "\n",
    "#Creating a dict of the models\n",
    "model_dict = {'Dummy' : DummyClassifier(random_state=3),\n",
    "              'Stochastic Gradient Descent' : SGDClassifier(random_state=3, loss='log'),\n",
    "              'Random Forest': RandomForestClassifier(random_state=3),\n",
    "              'Decsision Tree': DecisionTreeClassifier(random_state=3),\n",
    "              'AdaBoost': AdaBoostClassifier(random_state=3),\n",
    "              'Gaussian Naive Bayes': GaussianNB(),\n",
    "              'K Nearest Neighbor': KNeighborsClassifier()}\n",
    "#X_train = X_train.todense()\n",
    "# X_test = X_test.todense()\n",
    "#Function to get the scores for each model in a df\n",
    "def model_score_df(model_dict):   \n",
    "    model_name, ac_score_list, p_score_list, r_score_list, f1_score_list = [], [], [], [], []\n",
    "    for k,v in model_dict.items():   \n",
    "        model_name.append(k)\n",
    "        v.fit(X_resampled, y_resampled )\n",
    "        y_pred = v.predict(X_test)\n",
    "        ac_score_list.append(accuracy_score(y_test, y_pred))\n",
    "        p_score_list.append(precision_score(y_test, y_pred, average='macro'))\n",
    "        r_score_list.append(recall_score(y_test, y_pred, average='macro'))\n",
    "        f1_score_list.append(f1_score(y_test, y_pred, average='macro'))\n",
    "        model_comparison_df = pd.DataFrame([model_name, ac_score_list, p_score_list, r_score_list, f1_score_list]).T\n",
    "        model_comparison_df.columns = ['model_name', 'accuracy_score', 'precision_score', 'recall_score', 'f1_score']\n",
    "        model_comparison_df = model_comparison_df.sort_values(by='f1_score', ascending=False)\n",
    "    return model_comparison_df\n",
    "\n",
    "model_score_df(model_dict)"
   ]
  },
  {
   "cell_type": "markdown",
   "metadata": {},
   "source": [
    "### gridsearch and parameter optimization\n",
    " - BernoulliNB\n",
    " - SGDClassifier\n",
    " - RandomForestClassifier\n",
    " - DecisionTreeClassifier\n",
    " - extra treeClassifier\n",
    " - RidgeClassifier\n",
    " - Logisticregression classifier\n",
    " - KNeighborsClassifier\n",
    " - LinearSVC\n",
    " - GradientBoostingClassifier\n",
    " "
   ]
  },
  {
   "cell_type": "code",
   "execution_count": 75,
   "metadata": {},
   "outputs": [
    {
     "data": {
      "text/plain": [
       "0.7083333333333334"
      ]
     },
     "execution_count": 75,
     "metadata": {},
     "output_type": "execute_result"
    }
   ],
   "source": [
    "## OneVsRestClassifier+ SVC\n",
    "\n",
    "classifier = OneVsRestClassifier(SVC(kernel='linear', probability=True,random_state=3))\n",
    "\n",
    "y_score = classifier.fit(X_resampled, y_resampled).decision_function(X_test)\n",
    "y_pred = classifier.predict(X_test)\n",
    "accuracy_score(y_test, y_pred)"
   ]
  },
  {
   "cell_type": "code",
   "execution_count": 46,
   "metadata": {
    "scrolled": false
   },
   "outputs": [
    {
     "name": "stdout",
     "output_type": "stream",
     "text": [
      "Fitting 5 folds for each of 13 candidates, totalling 65 fits\n"
     ]
    },
    {
     "name": "stderr",
     "output_type": "stream",
     "text": [
      "[Parallel(n_jobs=-1)]: Using backend LokyBackend with 8 concurrent workers.\n"
     ]
    },
    {
     "name": "stdout",
     "output_type": "stream",
     "text": [
      "GridSearchCV best score : 56.88%, best_params : {'alpha': 0.0}\n"
     ]
    },
    {
     "name": "stderr",
     "output_type": "stream",
     "text": [
      "[Parallel(n_jobs=-1)]: Done  16 tasks      | elapsed:    4.8s\n",
      "[Parallel(n_jobs=-1)]: Done  65 out of  65 | elapsed:    4.9s finished\n"
     ]
    }
   ],
   "source": [
    "## BernoulliNB\n",
    "# BernoulliNB(alpha=1.0, binarize=0.0, fit_prior=True, class_prior=None)\n",
    "\n",
    "Bernoullinb = BernoulliNB()\n",
    "params = {'alpha' : [0.0, 0.0001, 0.001, 0.01, 0.1, 0.5, 1.0, 2.0,3.0 ,5.0, 7.0, 8.0,10.0]}\n",
    "\n",
    "Bernoullinb = GridSearchCV(BernoulliNB(), \n",
    "                   params,\n",
    "                   cv = 5,\n",
    "                   verbose = 3, \n",
    "                   n_jobs = -1)\n",
    "Bernoullinb_best_model = Bernoullinb.fit(X, labels)\n",
    "print('GridSearchCV best score : {:.2f}%, best_params : {}'.format(Bernoullinb.best_score_*100, Bernoullinb.best_params_))"
   ]
  },
  {
   "cell_type": "code",
   "execution_count": 18,
   "metadata": {},
   "outputs": [],
   "source": [
    "from sklearn.metrics import classification_report"
   ]
  },
  {
   "cell_type": "code",
   "execution_count": 19,
   "metadata": {},
   "outputs": [
    {
     "name": "stdout",
     "output_type": "stream",
     "text": [
      "0.723 (+/-0.174) for {'alpha': 0.0}\n",
      "0.723 (+/-0.174) for {'alpha': 0.0001}\n",
      "0.723 (+/-0.174) for {'alpha': 0.001}\n",
      "0.723 (+/-0.174) for {'alpha': 0.01}\n",
      "0.723 (+/-0.174) for {'alpha': 0.1}\n",
      "0.726 (+/-0.172) for {'alpha': 0.5}\n",
      "0.725 (+/-0.171) for {'alpha': 1.0}\n",
      "0.726 (+/-0.163) for {'alpha': 2.0}\n",
      "0.727 (+/-0.162) for {'alpha': 3.0}\n",
      "0.728 (+/-0.160) for {'alpha': 5.0}\n",
      "0.728 (+/-0.160) for {'alpha': 7.0}\n",
      "0.728 (+/-0.160) for {'alpha': 8.0}\n",
      "0.731 (+/-0.151) for {'alpha': 10.0}\n",
      "              precision    recall  f1-score   support\n",
      "\n",
      "        -1.0       0.42      0.72      0.53        92\n",
      "         0.0       0.36      0.21      0.27        81\n",
      "         1.0       0.44      0.10      0.16        41\n",
      "\n",
      "   micro avg       0.41      0.41      0.41       214\n",
      "   macro avg       0.41      0.34      0.32       214\n",
      "weighted avg       0.40      0.41      0.36       214\n",
      "\n"
     ]
    }
   ],
   "source": [
    "means = Bernoullinb_best_model.cv_results_['mean_test_score']\n",
    "stds = Bernoullinb_best_model.cv_results_['std_test_score']\n",
    "for mean, std, params in zip(means, stds, Bernoullinb_best_model.cv_results_['params']):\n",
    "    print(\"%0.3f (+/-%0.03f) for %r\"% (mean, std * 2, params))\n",
    "y_true, y_pred = y_test, Bernoullinb_best_model.predict(X_test)\n",
    "print(classification_report(y_true, y_pred))\n"
   ]
  },
  {
   "cell_type": "markdown",
   "metadata": {},
   "source": [
    "## roc curve"
   ]
  },
  {
   "cell_type": "markdown",
   "metadata": {},
   "source": [
    "y_pred = Bernoullinb_best_model.predict(X_test)\n",
    "conf_mat = confusion_matrix(y_test, y_pred)\n",
    "ax = sns.heatmap(conf_mat, annot=True, fmt='d', xticklabels= [-1,0,1], yticklabels= [-1,0,1])\n"
   ]
  },
  {
   "cell_type": "markdown",
   "metadata": {},
   "source": [
    "n_classes = [-1,0,1]\n",
    "fpr = dict()\n",
    "tpr = dict()\n",
    "roc_auc = dict()\n",
    "for i in range(n_classes):\n",
    "    fpr[i], tpr[i], _ = roc_curve(y_test[:, i], y_score[:, i])\n",
    "    roc_auc[i] = auc(fpr[i], tpr[i])"
   ]
  },
  {
   "cell_type": "markdown",
   "metadata": {},
   "source": [
    "# Compute macro-average ROC curve and ROC area\n",
    "\n",
    "# First aggregate all false positive rates\n",
    "all_fpr = np.unique(np.concatenate([fpr[i] for i in range(n_classes)]))\n",
    "\n",
    "# Then interpolate all ROC curves at this points\n",
    "mean_tpr = np.zeros_like(all_fpr)\n",
    "for i in range(n_classes):\n",
    "    mean_tpr += interp(all_fpr, fpr[i], tpr[i])\n",
    "\n",
    "# Finally average it and compute AUC\n",
    "mean_tpr /= n_classes\n",
    "\n",
    "fpr[\"macro\"] = all_fpr\n",
    "tpr[\"macro\"] = mean_tpr\n",
    "roc_auc[\"macro\"] = auc(fpr[\"macro\"], tpr[\"macro\"])\n",
    "\n",
    "# Plot all ROC curves\n",
    "plt.figure()\n",
    "plt.plot(fpr[\"micro\"], tpr[\"micro\"],\n",
    "         label='micro-average ROC curve (area = {0:0.2f})'\n",
    "               ''.format(roc_auc[\"micro\"]),\n",
    "         color='deeppink', linestyle=':', linewidth=4)\n",
    "\n",
    "plt.plot(fpr[\"macro\"], tpr[\"macro\"],\n",
    "         label='macro-average ROC curve (area = {0:0.2f})'\n",
    "               ''.format(roc_auc[\"macro\"]),\n",
    "         color='navy', linestyle=':', linewidth=4)\n",
    "\n",
    "colors = cycle(['aqua', 'darkorange', 'cornflowerblue'])\n",
    "for i, color in zip(range(n_classes), colors):\n",
    "    plt.plot(fpr[i], tpr[i], color=color, lw=lw,\n",
    "             label='ROC curve of class {0} (area = {1:0.2f})'\n",
    "             ''.format(i, roc_auc[i]))\n",
    "\n",
    "plt.plot([0, 1], [0, 1], 'k--', lw=lw)\n",
    "plt.xlim([0.0, 1.0])\n",
    "plt.ylim([0.0, 1.05])\n",
    "plt.xlabel('False Positive Rate')\n",
    "plt.ylabel('True Positive Rate')\n",
    "plt.title('Some extension of Receiver operating characteristic to multi-class')\n",
    "plt.legend(loc=\"lower right\")\n",
    "plt.show()"
   ]
  },
  {
   "cell_type": "code",
   "execution_count": 48,
   "metadata": {
    "scrolled": true
   },
   "outputs": [
    {
     "name": "stdout",
     "output_type": "stream",
     "text": [
      "Accuracy : 0.584\n"
     ]
    },
    {
     "data": {
      "text/plain": [
       "array([[68, 17,  7],\n",
       "       [28, 43, 10],\n",
       "       [20,  7, 14]], dtype=int64)"
      ]
     },
     "execution_count": 48,
     "metadata": {},
     "output_type": "execute_result"
    }
   ],
   "source": [
    "y_pred = SGD.predict(X_test)\n",
    "from sklearn.metrics import accuracy_score\n",
    "print('Accuracy : {:.3f}'.format(accuracy_score(y_test, y_pred)))\n",
    "confusion_matrix(y_test, y_pred)"
   ]
  },
  {
   "cell_type": "markdown",
   "metadata": {},
   "source": [
    "SGD = SGDClassifier(random_state=3, loss='log')\n",
    "SGD.fit(X_train, y_train)\n",
    "\n",
    "y_pred = Bernoullinb_best_model.predict(X_test) \n",
    "conf_mat = confusion_matrix(y_test, y_pred) \n",
    "ax = sns.heatmap(conf_mat, annot=True, fmt='d', xticklabels= [-1,0,1], yticklabels= [-1,0,1])\n",
    "confusion_matrix(y_true, y_pred)"
   ]
  },
  {
   "cell_type": "code",
   "execution_count": 91,
   "metadata": {
    "scrolled": false
   },
   "outputs": [
    {
     "name": "stdout",
     "output_type": "stream",
     "text": [
      "Fitting 3 folds for each of 400 candidates, totalling 1200 fits\n"
     ]
    },
    {
     "name": "stderr",
     "output_type": "stream",
     "text": [
      "[Parallel(n_jobs=-1)]: Using backend LokyBackend with 8 concurrent workers.\n",
      "[Parallel(n_jobs=-1)]: Done  34 tasks      | elapsed:    4.3s\n",
      "[Parallel(n_jobs=-1)]: Done 679 tasks      | elapsed:   33.9s\n",
      "[Parallel(n_jobs=-1)]: Done 952 tasks      | elapsed:   55.8s\n"
     ]
    },
    {
     "name": "stdout",
     "output_type": "stream",
     "text": [
      "GridSearchCV best score : 77.50%, best_params : {'alpha': 1e-06, 'loss': 'hinge', 'max_iter': 70, 'penalty': 'l2', 'random_state': 3, 'tol': None}\n"
     ]
    },
    {
     "name": "stderr",
     "output_type": "stream",
     "text": [
      "[Parallel(n_jobs=-1)]: Done 1200 out of 1200 | elapsed:  1.4min finished\n"
     ]
    }
   ],
   "source": [
    "## SGDClassifier\n",
    "# SGDClassifier(loss=’hinge’, penalty=’l2’, alpha=0.0001, l1_ratio=0.15, fit_intercept=True, max_iter=1000, tol=0.001, shuffle=True, verbose=0, epsilon=0.1, n_jobs=None, random_state=None, learning_rate=’optimal’, eta0=0.0, power_t=0.5, early_stopping=False, validation_fraction=0.1, n_iter_no_change=5, class_weight=None, warm_start=False, average=False)\n",
    "\n",
    "loss =  ['hinge','log']\n",
    "penalty = ['l2','l1']\n",
    "alpha = [1e-6, 1e-3, 1e-1, 1e0, 0.0001]\n",
    "max_iter = [5,10,20,30, 50, 60, 70, 100,1000, 10000]\n",
    "tol = [None, 1e-3]\n",
    "eta0 = [0.1, 0.001]\n",
    "random_state = [3]\n",
    "\n",
    "SGD = SGDClassifier()\n",
    "\n",
    "params = dict(loss=loss,\n",
    "              penalty=penalty,\n",
    "              alpha=alpha,\n",
    "              max_iter=max_iter,\n",
    "              tol=tol,\n",
    "              random_state=random_state)\n",
    "\n",
    "SGDgridsearch = GridSearchCV(SGDClassifier(),\n",
    "                          params,\n",
    "                          cv = 3,\n",
    "                          verbose = 1, \n",
    "                          n_jobs = -1)\n",
    "\n",
    "sgd_best_model = SGDgridsearch.fit(X, labels)\n",
    "print('GridSearchCV best score : {:.2f}%, best_params : {}'.format(SGDgridsearch.best_score_*100, SGDgridsearch.best_params_))"
   ]
  },
  {
   "cell_type": "code",
   "execution_count": 92,
   "metadata": {},
   "outputs": [
    {
     "name": "stdout",
     "output_type": "stream",
     "text": [
      "0.656 (+/-0.016) for {'alpha': 1e-06, 'loss': 'hinge', 'max_iter': 5, 'penalty': 'l2', 'random_state': 3, 'tol': None}\n",
      "0.656 (+/-0.016) for {'alpha': 1e-06, 'loss': 'hinge', 'max_iter': 5, 'penalty': 'l2', 'random_state': 3, 'tol': 0.001}\n",
      "0.681 (+/-0.085) for {'alpha': 1e-06, 'loss': 'hinge', 'max_iter': 5, 'penalty': 'l1', 'random_state': 3, 'tol': None}\n",
      "0.681 (+/-0.085) for {'alpha': 1e-06, 'loss': 'hinge', 'max_iter': 5, 'penalty': 'l1', 'random_state': 3, 'tol': 0.001}\n",
      "0.694 (+/-0.094) for {'alpha': 1e-06, 'loss': 'hinge', 'max_iter': 10, 'penalty': 'l2', 'random_state': 3, 'tol': None}\n",
      "0.694 (+/-0.094) for {'alpha': 1e-06, 'loss': 'hinge', 'max_iter': 10, 'penalty': 'l2', 'random_state': 3, 'tol': 0.001}\n",
      "0.694 (+/-0.057) for {'alpha': 1e-06, 'loss': 'hinge', 'max_iter': 10, 'penalty': 'l1', 'random_state': 3, 'tol': None}\n",
      "0.694 (+/-0.057) for {'alpha': 1e-06, 'loss': 'hinge', 'max_iter': 10, 'penalty': 'l1', 'random_state': 3, 'tol': 0.001}\n",
      "0.706 (+/-0.074) for {'alpha': 1e-06, 'loss': 'hinge', 'max_iter': 20, 'penalty': 'l2', 'random_state': 3, 'tol': None}\n",
      "0.750 (+/-0.147) for {'alpha': 1e-06, 'loss': 'hinge', 'max_iter': 20, 'penalty': 'l2', 'random_state': 3, 'tol': 0.001}\n",
      "0.669 (+/-0.108) for {'alpha': 1e-06, 'loss': 'hinge', 'max_iter': 20, 'penalty': 'l1', 'random_state': 3, 'tol': None}\n",
      "0.713 (+/-0.087) for {'alpha': 1e-06, 'loss': 'hinge', 'max_iter': 20, 'penalty': 'l1', 'random_state': 3, 'tol': 0.001}\n",
      "0.713 (+/-0.087) for {'alpha': 1e-06, 'loss': 'hinge', 'max_iter': 30, 'penalty': 'l2', 'random_state': 3, 'tol': None}\n",
      "0.750 (+/-0.147) for {'alpha': 1e-06, 'loss': 'hinge', 'max_iter': 30, 'penalty': 'l2', 'random_state': 3, 'tol': 0.001}\n",
      "0.713 (+/-0.087) for {'alpha': 1e-06, 'loss': 'hinge', 'max_iter': 30, 'penalty': 'l1', 'random_state': 3, 'tol': None}\n",
      "0.719 (+/-0.101) for {'alpha': 1e-06, 'loss': 'hinge', 'max_iter': 30, 'penalty': 'l1', 'random_state': 3, 'tol': 0.001}\n",
      "0.744 (+/-0.133) for {'alpha': 1e-06, 'loss': 'hinge', 'max_iter': 50, 'penalty': 'l2', 'random_state': 3, 'tol': None}\n",
      "0.750 (+/-0.147) for {'alpha': 1e-06, 'loss': 'hinge', 'max_iter': 50, 'penalty': 'l2', 'random_state': 3, 'tol': 0.001}\n",
      "0.719 (+/-0.091) for {'alpha': 1e-06, 'loss': 'hinge', 'max_iter': 50, 'penalty': 'l1', 'random_state': 3, 'tol': None}\n",
      "0.719 (+/-0.101) for {'alpha': 1e-06, 'loss': 'hinge', 'max_iter': 50, 'penalty': 'l1', 'random_state': 3, 'tol': 0.001}\n",
      "0.756 (+/-0.100) for {'alpha': 1e-06, 'loss': 'hinge', 'max_iter': 60, 'penalty': 'l2', 'random_state': 3, 'tol': None}\n",
      "0.750 (+/-0.147) for {'alpha': 1e-06, 'loss': 'hinge', 'max_iter': 60, 'penalty': 'l2', 'random_state': 3, 'tol': 0.001}\n",
      "0.719 (+/-0.091) for {'alpha': 1e-06, 'loss': 'hinge', 'max_iter': 60, 'penalty': 'l1', 'random_state': 3, 'tol': None}\n",
      "0.719 (+/-0.101) for {'alpha': 1e-06, 'loss': 'hinge', 'max_iter': 60, 'penalty': 'l1', 'random_state': 3, 'tol': 0.001}\n",
      "0.775 (+/-0.057) for {'alpha': 1e-06, 'loss': 'hinge', 'max_iter': 70, 'penalty': 'l2', 'random_state': 3, 'tol': None}\n",
      "0.750 (+/-0.147) for {'alpha': 1e-06, 'loss': 'hinge', 'max_iter': 70, 'penalty': 'l2', 'random_state': 3, 'tol': 0.001}\n",
      "0.719 (+/-0.091) for {'alpha': 1e-06, 'loss': 'hinge', 'max_iter': 70, 'penalty': 'l1', 'random_state': 3, 'tol': None}\n",
      "0.719 (+/-0.101) for {'alpha': 1e-06, 'loss': 'hinge', 'max_iter': 70, 'penalty': 'l1', 'random_state': 3, 'tol': 0.001}\n",
      "0.706 (+/-0.183) for {'alpha': 1e-06, 'loss': 'hinge', 'max_iter': 100, 'penalty': 'l2', 'random_state': 3, 'tol': None}\n",
      "0.750 (+/-0.147) for {'alpha': 1e-06, 'loss': 'hinge', 'max_iter': 100, 'penalty': 'l2', 'random_state': 3, 'tol': 0.001}\n",
      "0.681 (+/-0.085) for {'alpha': 1e-06, 'loss': 'hinge', 'max_iter': 100, 'penalty': 'l1', 'random_state': 3, 'tol': None}\n",
      "0.719 (+/-0.101) for {'alpha': 1e-06, 'loss': 'hinge', 'max_iter': 100, 'penalty': 'l1', 'random_state': 3, 'tol': 0.001}\n",
      "0.669 (+/-0.087) for {'alpha': 1e-06, 'loss': 'hinge', 'max_iter': 1000, 'penalty': 'l2', 'random_state': 3, 'tol': None}\n",
      "0.750 (+/-0.147) for {'alpha': 1e-06, 'loss': 'hinge', 'max_iter': 1000, 'penalty': 'l2', 'random_state': 3, 'tol': 0.001}\n",
      "0.681 (+/-0.022) for {'alpha': 1e-06, 'loss': 'hinge', 'max_iter': 1000, 'penalty': 'l1', 'random_state': 3, 'tol': None}\n",
      "0.719 (+/-0.101) for {'alpha': 1e-06, 'loss': 'hinge', 'max_iter': 1000, 'penalty': 'l1', 'random_state': 3, 'tol': 0.001}\n",
      "0.681 (+/-0.072) for {'alpha': 1e-06, 'loss': 'hinge', 'max_iter': 10000, 'penalty': 'l2', 'random_state': 3, 'tol': None}\n",
      "0.750 (+/-0.147) for {'alpha': 1e-06, 'loss': 'hinge', 'max_iter': 10000, 'penalty': 'l2', 'random_state': 3, 'tol': 0.001}\n",
      "0.700 (+/-0.062) for {'alpha': 1e-06, 'loss': 'hinge', 'max_iter': 10000, 'penalty': 'l1', 'random_state': 3, 'tol': None}\n",
      "0.719 (+/-0.101) for {'alpha': 1e-06, 'loss': 'hinge', 'max_iter': 10000, 'penalty': 'l1', 'random_state': 3, 'tol': 0.001}\n",
      "0.662 (+/-0.085) for {'alpha': 1e-06, 'loss': 'log', 'max_iter': 5, 'penalty': 'l2', 'random_state': 3, 'tol': None}\n",
      "0.662 (+/-0.085) for {'alpha': 1e-06, 'loss': 'log', 'max_iter': 5, 'penalty': 'l2', 'random_state': 3, 'tol': 0.001}\n",
      "0.688 (+/-0.148) for {'alpha': 1e-06, 'loss': 'log', 'max_iter': 5, 'penalty': 'l1', 'random_state': 3, 'tol': None}\n",
      "0.688 (+/-0.148) for {'alpha': 1e-06, 'loss': 'log', 'max_iter': 5, 'penalty': 'l1', 'random_state': 3, 'tol': 0.001}\n",
      "0.669 (+/-0.076) for {'alpha': 1e-06, 'loss': 'log', 'max_iter': 10, 'penalty': 'l2', 'random_state': 3, 'tol': None}\n",
      "0.669 (+/-0.076) for {'alpha': 1e-06, 'loss': 'log', 'max_iter': 10, 'penalty': 'l2', 'random_state': 3, 'tol': 0.001}\n",
      "0.662 (+/-0.103) for {'alpha': 1e-06, 'loss': 'log', 'max_iter': 10, 'penalty': 'l1', 'random_state': 3, 'tol': None}\n",
      "0.637 (+/-0.121) for {'alpha': 1e-06, 'loss': 'log', 'max_iter': 10, 'penalty': 'l1', 'random_state': 3, 'tol': 0.001}\n",
      "0.694 (+/-0.118) for {'alpha': 1e-06, 'loss': 'log', 'max_iter': 20, 'penalty': 'l2', 'random_state': 3, 'tol': None}\n",
      "0.706 (+/-0.127) for {'alpha': 1e-06, 'loss': 'log', 'max_iter': 20, 'penalty': 'l2', 'random_state': 3, 'tol': 0.001}\n",
      "0.631 (+/-0.248) for {'alpha': 1e-06, 'loss': 'log', 'max_iter': 20, 'penalty': 'l1', 'random_state': 3, 'tol': None}\n",
      "0.644 (+/-0.138) for {'alpha': 1e-06, 'loss': 'log', 'max_iter': 20, 'penalty': 'l1', 'random_state': 3, 'tol': 0.001}\n",
      "0.725 (+/-0.185) for {'alpha': 1e-06, 'loss': 'log', 'max_iter': 30, 'penalty': 'l2', 'random_state': 3, 'tol': None}\n",
      "0.706 (+/-0.127) for {'alpha': 1e-06, 'loss': 'log', 'max_iter': 30, 'penalty': 'l2', 'random_state': 3, 'tol': 0.001}\n",
      "0.706 (+/-0.153) for {'alpha': 1e-06, 'loss': 'log', 'max_iter': 30, 'penalty': 'l1', 'random_state': 3, 'tol': None}\n",
      "0.694 (+/-0.135) for {'alpha': 1e-06, 'loss': 'log', 'max_iter': 30, 'penalty': 'l1', 'random_state': 3, 'tol': 0.001}\n",
      "0.725 (+/-0.194) for {'alpha': 1e-06, 'loss': 'log', 'max_iter': 50, 'penalty': 'l2', 'random_state': 3, 'tol': None}\n",
      "0.706 (+/-0.127) for {'alpha': 1e-06, 'loss': 'log', 'max_iter': 50, 'penalty': 'l2', 'random_state': 3, 'tol': 0.001}\n",
      "0.713 (+/-0.168) for {'alpha': 1e-06, 'loss': 'log', 'max_iter': 50, 'penalty': 'l1', 'random_state': 3, 'tol': None}\n",
      "0.694 (+/-0.135) for {'alpha': 1e-06, 'loss': 'log', 'max_iter': 50, 'penalty': 'l1', 'random_state': 3, 'tol': 0.001}\n",
      "0.725 (+/-0.194) for {'alpha': 1e-06, 'loss': 'log', 'max_iter': 60, 'penalty': 'l2', 'random_state': 3, 'tol': None}\n",
      "0.706 (+/-0.127) for {'alpha': 1e-06, 'loss': 'log', 'max_iter': 60, 'penalty': 'l2', 'random_state': 3, 'tol': 0.001}\n",
      "0.706 (+/-0.156) for {'alpha': 1e-06, 'loss': 'log', 'max_iter': 60, 'penalty': 'l1', 'random_state': 3, 'tol': None}\n",
      "0.694 (+/-0.135) for {'alpha': 1e-06, 'loss': 'log', 'max_iter': 60, 'penalty': 'l1', 'random_state': 3, 'tol': 0.001}\n",
      "0.725 (+/-0.194) for {'alpha': 1e-06, 'loss': 'log', 'max_iter': 70, 'penalty': 'l2', 'random_state': 3, 'tol': None}\n",
      "0.706 (+/-0.127) for {'alpha': 1e-06, 'loss': 'log', 'max_iter': 70, 'penalty': 'l2', 'random_state': 3, 'tol': 0.001}\n",
      "0.706 (+/-0.156) for {'alpha': 1e-06, 'loss': 'log', 'max_iter': 70, 'penalty': 'l1', 'random_state': 3, 'tol': None}\n",
      "0.694 (+/-0.135) for {'alpha': 1e-06, 'loss': 'log', 'max_iter': 70, 'penalty': 'l1', 'random_state': 3, 'tol': 0.001}\n",
      "0.681 (+/-0.217) for {'alpha': 1e-06, 'loss': 'log', 'max_iter': 100, 'penalty': 'l2', 'random_state': 3, 'tol': None}\n",
      "0.706 (+/-0.127) for {'alpha': 1e-06, 'loss': 'log', 'max_iter': 100, 'penalty': 'l2', 'random_state': 3, 'tol': 0.001}\n",
      "0.688 (+/-0.166) for {'alpha': 1e-06, 'loss': 'log', 'max_iter': 100, 'penalty': 'l1', 'random_state': 3, 'tol': None}\n",
      "0.694 (+/-0.135) for {'alpha': 1e-06, 'loss': 'log', 'max_iter': 100, 'penalty': 'l1', 'random_state': 3, 'tol': 0.001}\n",
      "0.688 (+/-0.183) for {'alpha': 1e-06, 'loss': 'log', 'max_iter': 1000, 'penalty': 'l2', 'random_state': 3, 'tol': None}\n",
      "0.706 (+/-0.127) for {'alpha': 1e-06, 'loss': 'log', 'max_iter': 1000, 'penalty': 'l2', 'random_state': 3, 'tol': 0.001}\n",
      "0.688 (+/-0.166) for {'alpha': 1e-06, 'loss': 'log', 'max_iter': 1000, 'penalty': 'l1', 'random_state': 3, 'tol': None}\n",
      "0.694 (+/-0.135) for {'alpha': 1e-06, 'loss': 'log', 'max_iter': 1000, 'penalty': 'l1', 'random_state': 3, 'tol': 0.001}\n",
      "0.713 (+/-0.109) for {'alpha': 1e-06, 'loss': 'log', 'max_iter': 10000, 'penalty': 'l2', 'random_state': 3, 'tol': None}\n",
      "0.706 (+/-0.127) for {'alpha': 1e-06, 'loss': 'log', 'max_iter': 10000, 'penalty': 'l2', 'random_state': 3, 'tol': 0.001}\n",
      "0.700 (+/-0.163) for {'alpha': 1e-06, 'loss': 'log', 'max_iter': 10000, 'penalty': 'l1', 'random_state': 3, 'tol': None}\n",
      "0.694 (+/-0.135) for {'alpha': 1e-06, 'loss': 'log', 'max_iter': 10000, 'penalty': 'l1', 'random_state': 3, 'tol': 0.001}\n",
      "0.713 (+/-0.087) for {'alpha': 0.001, 'loss': 'hinge', 'max_iter': 5, 'penalty': 'l2', 'random_state': 3, 'tol': None}\n",
      "0.713 (+/-0.087) for {'alpha': 0.001, 'loss': 'hinge', 'max_iter': 5, 'penalty': 'l2', 'random_state': 3, 'tol': 0.001}\n",
      "0.694 (+/-0.110) for {'alpha': 0.001, 'loss': 'hinge', 'max_iter': 5, 'penalty': 'l1', 'random_state': 3, 'tol': None}\n",
      "0.694 (+/-0.110) for {'alpha': 0.001, 'loss': 'hinge', 'max_iter': 5, 'penalty': 'l1', 'random_state': 3, 'tol': 0.001}\n",
      "0.675 (+/-0.110) for {'alpha': 0.001, 'loss': 'hinge', 'max_iter': 10, 'penalty': 'l2', 'random_state': 3, 'tol': None}\n",
      "0.675 (+/-0.110) for {'alpha': 0.001, 'loss': 'hinge', 'max_iter': 10, 'penalty': 'l2', 'random_state': 3, 'tol': 0.001}\n",
      "0.662 (+/-0.065) for {'alpha': 0.001, 'loss': 'hinge', 'max_iter': 10, 'penalty': 'l1', 'random_state': 3, 'tol': None}\n",
      "0.662 (+/-0.065) for {'alpha': 0.001, 'loss': 'hinge', 'max_iter': 10, 'penalty': 'l1', 'random_state': 3, 'tol': 0.001}\n",
      "0.706 (+/-0.074) for {'alpha': 0.001, 'loss': 'hinge', 'max_iter': 20, 'penalty': 'l2', 'random_state': 3, 'tol': None}\n",
      "0.719 (+/-0.162) for {'alpha': 0.001, 'loss': 'hinge', 'max_iter': 20, 'penalty': 'l2', 'random_state': 3, 'tol': 0.001}\n",
      "0.669 (+/-0.076) for {'alpha': 0.001, 'loss': 'hinge', 'max_iter': 20, 'penalty': 'l1', 'random_state': 3, 'tol': None}\n",
      "0.662 (+/-0.072) for {'alpha': 0.001, 'loss': 'hinge', 'max_iter': 20, 'penalty': 'l1', 'random_state': 3, 'tol': 0.001}\n",
      "0.700 (+/-0.145) for {'alpha': 0.001, 'loss': 'hinge', 'max_iter': 30, 'penalty': 'l2', 'random_state': 3, 'tol': None}\n",
      "0.725 (+/-0.164) for {'alpha': 0.001, 'loss': 'hinge', 'max_iter': 30, 'penalty': 'l2', 'random_state': 3, 'tol': 0.001}\n",
      "0.681 (+/-0.041) for {'alpha': 0.001, 'loss': 'hinge', 'max_iter': 30, 'penalty': 'l1', 'random_state': 3, 'tol': None}\n",
      "0.662 (+/-0.072) for {'alpha': 0.001, 'loss': 'hinge', 'max_iter': 30, 'penalty': 'l1', 'random_state': 3, 'tol': 0.001}\n",
      "0.706 (+/-0.104) for {'alpha': 0.001, 'loss': 'hinge', 'max_iter': 50, 'penalty': 'l2', 'random_state': 3, 'tol': None}\n",
      "0.725 (+/-0.164) for {'alpha': 0.001, 'loss': 'hinge', 'max_iter': 50, 'penalty': 'l2', 'random_state': 3, 'tol': 0.001}\n",
      "0.675 (+/-0.083) for {'alpha': 0.001, 'loss': 'hinge', 'max_iter': 50, 'penalty': 'l1', 'random_state': 3, 'tol': None}\n",
      "0.662 (+/-0.072) for {'alpha': 0.001, 'loss': 'hinge', 'max_iter': 50, 'penalty': 'l1', 'random_state': 3, 'tol': 0.001}\n",
      "0.700 (+/-0.102) for {'alpha': 0.001, 'loss': 'hinge', 'max_iter': 60, 'penalty': 'l2', 'random_state': 3, 'tol': None}\n",
      "0.725 (+/-0.164) for {'alpha': 0.001, 'loss': 'hinge', 'max_iter': 60, 'penalty': 'l2', 'random_state': 3, 'tol': 0.001}\n",
      "0.669 (+/-0.076) for {'alpha': 0.001, 'loss': 'hinge', 'max_iter': 60, 'penalty': 'l1', 'random_state': 3, 'tol': None}\n",
      "0.662 (+/-0.072) for {'alpha': 0.001, 'loss': 'hinge', 'max_iter': 60, 'penalty': 'l1', 'random_state': 3, 'tol': 0.001}\n",
      "0.706 (+/-0.099) for {'alpha': 0.001, 'loss': 'hinge', 'max_iter': 70, 'penalty': 'l2', 'random_state': 3, 'tol': None}\n",
      "0.725 (+/-0.164) for {'alpha': 0.001, 'loss': 'hinge', 'max_iter': 70, 'penalty': 'l2', 'random_state': 3, 'tol': 0.001}\n",
      "0.675 (+/-0.083) for {'alpha': 0.001, 'loss': 'hinge', 'max_iter': 70, 'penalty': 'l1', 'random_state': 3, 'tol': None}\n",
      "0.662 (+/-0.072) for {'alpha': 0.001, 'loss': 'hinge', 'max_iter': 70, 'penalty': 'l1', 'random_state': 3, 'tol': 0.001}\n",
      "0.706 (+/-0.104) for {'alpha': 0.001, 'loss': 'hinge', 'max_iter': 100, 'penalty': 'l2', 'random_state': 3, 'tol': None}\n",
      "0.725 (+/-0.164) for {'alpha': 0.001, 'loss': 'hinge', 'max_iter': 100, 'penalty': 'l2', 'random_state': 3, 'tol': 0.001}\n",
      "0.662 (+/-0.065) for {'alpha': 0.001, 'loss': 'hinge', 'max_iter': 100, 'penalty': 'l1', 'random_state': 3, 'tol': None}\n",
      "0.662 (+/-0.072) for {'alpha': 0.001, 'loss': 'hinge', 'max_iter': 100, 'penalty': 'l1', 'random_state': 3, 'tol': 0.001}\n",
      "0.713 (+/-0.109) for {'alpha': 0.001, 'loss': 'hinge', 'max_iter': 1000, 'penalty': 'l2', 'random_state': 3, 'tol': None}\n",
      "0.725 (+/-0.164) for {'alpha': 0.001, 'loss': 'hinge', 'max_iter': 1000, 'penalty': 'l2', 'random_state': 3, 'tol': 0.001}\n",
      "0.675 (+/-0.058) for {'alpha': 0.001, 'loss': 'hinge', 'max_iter': 1000, 'penalty': 'l1', 'random_state': 3, 'tol': None}\n",
      "0.662 (+/-0.072) for {'alpha': 0.001, 'loss': 'hinge', 'max_iter': 1000, 'penalty': 'l1', 'random_state': 3, 'tol': 0.001}\n",
      "0.713 (+/-0.109) for {'alpha': 0.001, 'loss': 'hinge', 'max_iter': 10000, 'penalty': 'l2', 'random_state': 3, 'tol': None}\n",
      "0.725 (+/-0.164) for {'alpha': 0.001, 'loss': 'hinge', 'max_iter': 10000, 'penalty': 'l2', 'random_state': 3, 'tol': 0.001}\n",
      "0.681 (+/-0.065) for {'alpha': 0.001, 'loss': 'hinge', 'max_iter': 10000, 'penalty': 'l1', 'random_state': 3, 'tol': None}\n",
      "0.662 (+/-0.072) for {'alpha': 0.001, 'loss': 'hinge', 'max_iter': 10000, 'penalty': 'l1', 'random_state': 3, 'tol': 0.001}\n",
      "0.675 (+/-0.133) for {'alpha': 0.001, 'loss': 'log', 'max_iter': 5, 'penalty': 'l2', 'random_state': 3, 'tol': None}\n",
      "0.675 (+/-0.133) for {'alpha': 0.001, 'loss': 'log', 'max_iter': 5, 'penalty': 'l2', 'random_state': 3, 'tol': 0.001}\n",
      "0.688 (+/-0.135) for {'alpha': 0.001, 'loss': 'log', 'max_iter': 5, 'penalty': 'l1', 'random_state': 3, 'tol': None}\n",
      "0.688 (+/-0.135) for {'alpha': 0.001, 'loss': 'log', 'max_iter': 5, 'penalty': 'l1', 'random_state': 3, 'tol': 0.001}\n",
      "0.700 (+/-0.132) for {'alpha': 0.001, 'loss': 'log', 'max_iter': 10, 'penalty': 'l2', 'random_state': 3, 'tol': None}\n",
      "0.700 (+/-0.132) for {'alpha': 0.001, 'loss': 'log', 'max_iter': 10, 'penalty': 'l2', 'random_state': 3, 'tol': 0.001}\n",
      "0.694 (+/-0.148) for {'alpha': 0.001, 'loss': 'log', 'max_iter': 10, 'penalty': 'l1', 'random_state': 3, 'tol': None}\n",
      "0.694 (+/-0.148) for {'alpha': 0.001, 'loss': 'log', 'max_iter': 10, 'penalty': 'l1', 'random_state': 3, 'tol': 0.001}\n",
      "0.731 (+/-0.167) for {'alpha': 0.001, 'loss': 'log', 'max_iter': 20, 'penalty': 'l2', 'random_state': 3, 'tol': None}\n",
      "0.688 (+/-0.166) for {'alpha': 0.001, 'loss': 'log', 'max_iter': 20, 'penalty': 'l2', 'random_state': 3, 'tol': 0.001}\n",
      "0.681 (+/-0.118) for {'alpha': 0.001, 'loss': 'log', 'max_iter': 20, 'penalty': 'l1', 'random_state': 3, 'tol': None}\n",
      "0.675 (+/-0.110) for {'alpha': 0.001, 'loss': 'log', 'max_iter': 20, 'penalty': 'l1', 'random_state': 3, 'tol': 0.001}\n",
      "0.731 (+/-0.167) for {'alpha': 0.001, 'loss': 'log', 'max_iter': 30, 'penalty': 'l2', 'random_state': 3, 'tol': None}\n",
      "0.688 (+/-0.166) for {'alpha': 0.001, 'loss': 'log', 'max_iter': 30, 'penalty': 'l2', 'random_state': 3, 'tol': 0.001}\n",
      "0.694 (+/-0.139) for {'alpha': 0.001, 'loss': 'log', 'max_iter': 30, 'penalty': 'l1', 'random_state': 3, 'tol': None}\n",
      "0.681 (+/-0.122) for {'alpha': 0.001, 'loss': 'log', 'max_iter': 30, 'penalty': 'l1', 'random_state': 3, 'tol': 0.001}\n",
      "0.731 (+/-0.167) for {'alpha': 0.001, 'loss': 'log', 'max_iter': 50, 'penalty': 'l2', 'random_state': 3, 'tol': None}\n",
      "0.688 (+/-0.166) for {'alpha': 0.001, 'loss': 'log', 'max_iter': 50, 'penalty': 'l2', 'random_state': 3, 'tol': 0.001}\n",
      "0.681 (+/-0.118) for {'alpha': 0.001, 'loss': 'log', 'max_iter': 50, 'penalty': 'l1', 'random_state': 3, 'tol': None}\n",
      "0.681 (+/-0.122) for {'alpha': 0.001, 'loss': 'log', 'max_iter': 50, 'penalty': 'l1', 'random_state': 3, 'tol': 0.001}\n",
      "0.700 (+/-0.179) for {'alpha': 0.001, 'loss': 'log', 'max_iter': 60, 'penalty': 'l2', 'random_state': 3, 'tol': None}\n",
      "0.688 (+/-0.166) for {'alpha': 0.001, 'loss': 'log', 'max_iter': 60, 'penalty': 'l2', 'random_state': 3, 'tol': 0.001}\n",
      "0.688 (+/-0.135) for {'alpha': 0.001, 'loss': 'log', 'max_iter': 60, 'penalty': 'l1', 'random_state': 3, 'tol': None}\n",
      "0.681 (+/-0.122) for {'alpha': 0.001, 'loss': 'log', 'max_iter': 60, 'penalty': 'l1', 'random_state': 3, 'tol': 0.001}\n",
      "0.719 (+/-0.162) for {'alpha': 0.001, 'loss': 'log', 'max_iter': 70, 'penalty': 'l2', 'random_state': 3, 'tol': None}\n",
      "0.688 (+/-0.166) for {'alpha': 0.001, 'loss': 'log', 'max_iter': 70, 'penalty': 'l2', 'random_state': 3, 'tol': 0.001}\n",
      "0.681 (+/-0.122) for {'alpha': 0.001, 'loss': 'log', 'max_iter': 70, 'penalty': 'l1', 'random_state': 3, 'tol': None}\n",
      "0.681 (+/-0.122) for {'alpha': 0.001, 'loss': 'log', 'max_iter': 70, 'penalty': 'l1', 'random_state': 3, 'tol': 0.001}\n",
      "0.713 (+/-0.163) for {'alpha': 0.001, 'loss': 'log', 'max_iter': 100, 'penalty': 'l2', 'random_state': 3, 'tol': None}\n",
      "0.688 (+/-0.166) for {'alpha': 0.001, 'loss': 'log', 'max_iter': 100, 'penalty': 'l2', 'random_state': 3, 'tol': 0.001}\n",
      "0.669 (+/-0.101) for {'alpha': 0.001, 'loss': 'log', 'max_iter': 100, 'penalty': 'l1', 'random_state': 3, 'tol': None}\n",
      "0.681 (+/-0.122) for {'alpha': 0.001, 'loss': 'log', 'max_iter': 100, 'penalty': 'l1', 'random_state': 3, 'tol': 0.001}\n",
      "0.713 (+/-0.178) for {'alpha': 0.001, 'loss': 'log', 'max_iter': 1000, 'penalty': 'l2', 'random_state': 3, 'tol': None}\n",
      "0.688 (+/-0.166) for {'alpha': 0.001, 'loss': 'log', 'max_iter': 1000, 'penalty': 'l2', 'random_state': 3, 'tol': 0.001}\n",
      "0.688 (+/-0.128) for {'alpha': 0.001, 'loss': 'log', 'max_iter': 1000, 'penalty': 'l1', 'random_state': 3, 'tol': None}\n",
      "0.681 (+/-0.122) for {'alpha': 0.001, 'loss': 'log', 'max_iter': 1000, 'penalty': 'l1', 'random_state': 3, 'tol': 0.001}\n",
      "0.713 (+/-0.178) for {'alpha': 0.001, 'loss': 'log', 'max_iter': 10000, 'penalty': 'l2', 'random_state': 3, 'tol': None}\n",
      "0.688 (+/-0.166) for {'alpha': 0.001, 'loss': 'log', 'max_iter': 10000, 'penalty': 'l2', 'random_state': 3, 'tol': 0.001}\n",
      "0.688 (+/-0.128) for {'alpha': 0.001, 'loss': 'log', 'max_iter': 10000, 'penalty': 'l1', 'random_state': 3, 'tol': None}\n",
      "0.681 (+/-0.122) for {'alpha': 0.001, 'loss': 'log', 'max_iter': 10000, 'penalty': 'l1', 'random_state': 3, 'tol': 0.001}\n",
      "0.600 (+/-0.021) for {'alpha': 0.1, 'loss': 'hinge', 'max_iter': 5, 'penalty': 'l2', 'random_state': 3, 'tol': None}\n",
      "0.600 (+/-0.021) for {'alpha': 0.1, 'loss': 'hinge', 'max_iter': 5, 'penalty': 'l2', 'random_state': 3, 'tol': 0.001}\n",
      "0.600 (+/-0.021) for {'alpha': 0.1, 'loss': 'hinge', 'max_iter': 5, 'penalty': 'l1', 'random_state': 3, 'tol': None}\n",
      "0.600 (+/-0.021) for {'alpha': 0.1, 'loss': 'hinge', 'max_iter': 5, 'penalty': 'l1', 'random_state': 3, 'tol': 0.001}\n",
      "0.600 (+/-0.021) for {'alpha': 0.1, 'loss': 'hinge', 'max_iter': 10, 'penalty': 'l2', 'random_state': 3, 'tol': None}\n",
      "0.600 (+/-0.021) for {'alpha': 0.1, 'loss': 'hinge', 'max_iter': 10, 'penalty': 'l2', 'random_state': 3, 'tol': 0.001}\n",
      "0.600 (+/-0.021) for {'alpha': 0.1, 'loss': 'hinge', 'max_iter': 10, 'penalty': 'l1', 'random_state': 3, 'tol': None}\n",
      "0.600 (+/-0.021) for {'alpha': 0.1, 'loss': 'hinge', 'max_iter': 10, 'penalty': 'l1', 'random_state': 3, 'tol': 0.001}\n",
      "0.600 (+/-0.021) for {'alpha': 0.1, 'loss': 'hinge', 'max_iter': 20, 'penalty': 'l2', 'random_state': 3, 'tol': None}\n",
      "0.600 (+/-0.021) for {'alpha': 0.1, 'loss': 'hinge', 'max_iter': 20, 'penalty': 'l2', 'random_state': 3, 'tol': 0.001}\n",
      "0.600 (+/-0.021) for {'alpha': 0.1, 'loss': 'hinge', 'max_iter': 20, 'penalty': 'l1', 'random_state': 3, 'tol': None}\n",
      "0.600 (+/-0.021) for {'alpha': 0.1, 'loss': 'hinge', 'max_iter': 20, 'penalty': 'l1', 'random_state': 3, 'tol': 0.001}\n",
      "0.600 (+/-0.021) for {'alpha': 0.1, 'loss': 'hinge', 'max_iter': 30, 'penalty': 'l2', 'random_state': 3, 'tol': None}\n",
      "0.600 (+/-0.021) for {'alpha': 0.1, 'loss': 'hinge', 'max_iter': 30, 'penalty': 'l2', 'random_state': 3, 'tol': 0.001}\n",
      "0.600 (+/-0.021) for {'alpha': 0.1, 'loss': 'hinge', 'max_iter': 30, 'penalty': 'l1', 'random_state': 3, 'tol': None}\n",
      "0.600 (+/-0.021) for {'alpha': 0.1, 'loss': 'hinge', 'max_iter': 30, 'penalty': 'l1', 'random_state': 3, 'tol': 0.001}\n",
      "0.600 (+/-0.021) for {'alpha': 0.1, 'loss': 'hinge', 'max_iter': 50, 'penalty': 'l2', 'random_state': 3, 'tol': None}\n",
      "0.600 (+/-0.021) for {'alpha': 0.1, 'loss': 'hinge', 'max_iter': 50, 'penalty': 'l2', 'random_state': 3, 'tol': 0.001}\n",
      "0.600 (+/-0.021) for {'alpha': 0.1, 'loss': 'hinge', 'max_iter': 50, 'penalty': 'l1', 'random_state': 3, 'tol': None}\n",
      "0.600 (+/-0.021) for {'alpha': 0.1, 'loss': 'hinge', 'max_iter': 50, 'penalty': 'l1', 'random_state': 3, 'tol': 0.001}\n",
      "0.600 (+/-0.021) for {'alpha': 0.1, 'loss': 'hinge', 'max_iter': 60, 'penalty': 'l2', 'random_state': 3, 'tol': None}\n",
      "0.600 (+/-0.021) for {'alpha': 0.1, 'loss': 'hinge', 'max_iter': 60, 'penalty': 'l2', 'random_state': 3, 'tol': 0.001}\n",
      "0.600 (+/-0.021) for {'alpha': 0.1, 'loss': 'hinge', 'max_iter': 60, 'penalty': 'l1', 'random_state': 3, 'tol': None}\n",
      "0.600 (+/-0.021) for {'alpha': 0.1, 'loss': 'hinge', 'max_iter': 60, 'penalty': 'l1', 'random_state': 3, 'tol': 0.001}\n",
      "0.600 (+/-0.021) for {'alpha': 0.1, 'loss': 'hinge', 'max_iter': 70, 'penalty': 'l2', 'random_state': 3, 'tol': None}\n",
      "0.600 (+/-0.021) for {'alpha': 0.1, 'loss': 'hinge', 'max_iter': 70, 'penalty': 'l2', 'random_state': 3, 'tol': 0.001}\n",
      "0.600 (+/-0.021) for {'alpha': 0.1, 'loss': 'hinge', 'max_iter': 70, 'penalty': 'l1', 'random_state': 3, 'tol': None}\n",
      "0.600 (+/-0.021) for {'alpha': 0.1, 'loss': 'hinge', 'max_iter': 70, 'penalty': 'l1', 'random_state': 3, 'tol': 0.001}\n",
      "0.600 (+/-0.021) for {'alpha': 0.1, 'loss': 'hinge', 'max_iter': 100, 'penalty': 'l2', 'random_state': 3, 'tol': None}\n",
      "0.600 (+/-0.021) for {'alpha': 0.1, 'loss': 'hinge', 'max_iter': 100, 'penalty': 'l2', 'random_state': 3, 'tol': 0.001}\n",
      "0.600 (+/-0.021) for {'alpha': 0.1, 'loss': 'hinge', 'max_iter': 100, 'penalty': 'l1', 'random_state': 3, 'tol': None}\n",
      "0.600 (+/-0.021) for {'alpha': 0.1, 'loss': 'hinge', 'max_iter': 100, 'penalty': 'l1', 'random_state': 3, 'tol': 0.001}\n",
      "0.600 (+/-0.021) for {'alpha': 0.1, 'loss': 'hinge', 'max_iter': 1000, 'penalty': 'l2', 'random_state': 3, 'tol': None}\n",
      "0.600 (+/-0.021) for {'alpha': 0.1, 'loss': 'hinge', 'max_iter': 1000, 'penalty': 'l2', 'random_state': 3, 'tol': 0.001}\n",
      "0.600 (+/-0.021) for {'alpha': 0.1, 'loss': 'hinge', 'max_iter': 1000, 'penalty': 'l1', 'random_state': 3, 'tol': None}\n",
      "0.600 (+/-0.021) for {'alpha': 0.1, 'loss': 'hinge', 'max_iter': 1000, 'penalty': 'l1', 'random_state': 3, 'tol': 0.001}\n",
      "0.600 (+/-0.021) for {'alpha': 0.1, 'loss': 'hinge', 'max_iter': 10000, 'penalty': 'l2', 'random_state': 3, 'tol': None}\n",
      "0.600 (+/-0.021) for {'alpha': 0.1, 'loss': 'hinge', 'max_iter': 10000, 'penalty': 'l2', 'random_state': 3, 'tol': 0.001}\n",
      "0.600 (+/-0.021) for {'alpha': 0.1, 'loss': 'hinge', 'max_iter': 10000, 'penalty': 'l1', 'random_state': 3, 'tol': None}\n",
      "0.600 (+/-0.021) for {'alpha': 0.1, 'loss': 'hinge', 'max_iter': 10000, 'penalty': 'l1', 'random_state': 3, 'tol': 0.001}\n",
      "0.600 (+/-0.021) for {'alpha': 0.1, 'loss': 'log', 'max_iter': 5, 'penalty': 'l2', 'random_state': 3, 'tol': None}\n",
      "0.600 (+/-0.021) for {'alpha': 0.1, 'loss': 'log', 'max_iter': 5, 'penalty': 'l2', 'random_state': 3, 'tol': 0.001}\n",
      "0.600 (+/-0.021) for {'alpha': 0.1, 'loss': 'log', 'max_iter': 5, 'penalty': 'l1', 'random_state': 3, 'tol': None}\n",
      "0.600 (+/-0.021) for {'alpha': 0.1, 'loss': 'log', 'max_iter': 5, 'penalty': 'l1', 'random_state': 3, 'tol': 0.001}\n",
      "0.600 (+/-0.021) for {'alpha': 0.1, 'loss': 'log', 'max_iter': 10, 'penalty': 'l2', 'random_state': 3, 'tol': None}\n",
      "0.600 (+/-0.021) for {'alpha': 0.1, 'loss': 'log', 'max_iter': 10, 'penalty': 'l2', 'random_state': 3, 'tol': 0.001}\n",
      "0.600 (+/-0.021) for {'alpha': 0.1, 'loss': 'log', 'max_iter': 10, 'penalty': 'l1', 'random_state': 3, 'tol': None}\n",
      "0.600 (+/-0.021) for {'alpha': 0.1, 'loss': 'log', 'max_iter': 10, 'penalty': 'l1', 'random_state': 3, 'tol': 0.001}\n",
      "0.600 (+/-0.021) for {'alpha': 0.1, 'loss': 'log', 'max_iter': 20, 'penalty': 'l2', 'random_state': 3, 'tol': None}\n",
      "0.600 (+/-0.021) for {'alpha': 0.1, 'loss': 'log', 'max_iter': 20, 'penalty': 'l2', 'random_state': 3, 'tol': 0.001}\n",
      "0.600 (+/-0.021) for {'alpha': 0.1, 'loss': 'log', 'max_iter': 20, 'penalty': 'l1', 'random_state': 3, 'tol': None}\n",
      "0.600 (+/-0.021) for {'alpha': 0.1, 'loss': 'log', 'max_iter': 20, 'penalty': 'l1', 'random_state': 3, 'tol': 0.001}\n",
      "0.600 (+/-0.021) for {'alpha': 0.1, 'loss': 'log', 'max_iter': 30, 'penalty': 'l2', 'random_state': 3, 'tol': None}\n",
      "0.600 (+/-0.021) for {'alpha': 0.1, 'loss': 'log', 'max_iter': 30, 'penalty': 'l2', 'random_state': 3, 'tol': 0.001}\n",
      "0.600 (+/-0.021) for {'alpha': 0.1, 'loss': 'log', 'max_iter': 30, 'penalty': 'l1', 'random_state': 3, 'tol': None}\n",
      "0.600 (+/-0.021) for {'alpha': 0.1, 'loss': 'log', 'max_iter': 30, 'penalty': 'l1', 'random_state': 3, 'tol': 0.001}\n",
      "0.600 (+/-0.021) for {'alpha': 0.1, 'loss': 'log', 'max_iter': 50, 'penalty': 'l2', 'random_state': 3, 'tol': None}\n",
      "0.600 (+/-0.021) for {'alpha': 0.1, 'loss': 'log', 'max_iter': 50, 'penalty': 'l2', 'random_state': 3, 'tol': 0.001}\n",
      "0.600 (+/-0.021) for {'alpha': 0.1, 'loss': 'log', 'max_iter': 50, 'penalty': 'l1', 'random_state': 3, 'tol': None}\n",
      "0.600 (+/-0.021) for {'alpha': 0.1, 'loss': 'log', 'max_iter': 50, 'penalty': 'l1', 'random_state': 3, 'tol': 0.001}\n",
      "0.600 (+/-0.021) for {'alpha': 0.1, 'loss': 'log', 'max_iter': 60, 'penalty': 'l2', 'random_state': 3, 'tol': None}\n",
      "0.600 (+/-0.021) for {'alpha': 0.1, 'loss': 'log', 'max_iter': 60, 'penalty': 'l2', 'random_state': 3, 'tol': 0.001}\n",
      "0.600 (+/-0.021) for {'alpha': 0.1, 'loss': 'log', 'max_iter': 60, 'penalty': 'l1', 'random_state': 3, 'tol': None}\n",
      "0.600 (+/-0.021) for {'alpha': 0.1, 'loss': 'log', 'max_iter': 60, 'penalty': 'l1', 'random_state': 3, 'tol': 0.001}\n",
      "0.600 (+/-0.021) for {'alpha': 0.1, 'loss': 'log', 'max_iter': 70, 'penalty': 'l2', 'random_state': 3, 'tol': None}\n",
      "0.600 (+/-0.021) for {'alpha': 0.1, 'loss': 'log', 'max_iter': 70, 'penalty': 'l2', 'random_state': 3, 'tol': 0.001}\n",
      "0.600 (+/-0.021) for {'alpha': 0.1, 'loss': 'log', 'max_iter': 70, 'penalty': 'l1', 'random_state': 3, 'tol': None}\n",
      "0.600 (+/-0.021) for {'alpha': 0.1, 'loss': 'log', 'max_iter': 70, 'penalty': 'l1', 'random_state': 3, 'tol': 0.001}\n",
      "0.600 (+/-0.021) for {'alpha': 0.1, 'loss': 'log', 'max_iter': 100, 'penalty': 'l2', 'random_state': 3, 'tol': None}\n",
      "0.600 (+/-0.021) for {'alpha': 0.1, 'loss': 'log', 'max_iter': 100, 'penalty': 'l2', 'random_state': 3, 'tol': 0.001}\n",
      "0.600 (+/-0.021) for {'alpha': 0.1, 'loss': 'log', 'max_iter': 100, 'penalty': 'l1', 'random_state': 3, 'tol': None}\n",
      "0.600 (+/-0.021) for {'alpha': 0.1, 'loss': 'log', 'max_iter': 100, 'penalty': 'l1', 'random_state': 3, 'tol': 0.001}\n",
      "0.600 (+/-0.021) for {'alpha': 0.1, 'loss': 'log', 'max_iter': 1000, 'penalty': 'l2', 'random_state': 3, 'tol': None}\n",
      "0.600 (+/-0.021) for {'alpha': 0.1, 'loss': 'log', 'max_iter': 1000, 'penalty': 'l2', 'random_state': 3, 'tol': 0.001}\n",
      "0.600 (+/-0.021) for {'alpha': 0.1, 'loss': 'log', 'max_iter': 1000, 'penalty': 'l1', 'random_state': 3, 'tol': None}\n",
      "0.600 (+/-0.021) for {'alpha': 0.1, 'loss': 'log', 'max_iter': 1000, 'penalty': 'l1', 'random_state': 3, 'tol': 0.001}\n",
      "0.600 (+/-0.021) for {'alpha': 0.1, 'loss': 'log', 'max_iter': 10000, 'penalty': 'l2', 'random_state': 3, 'tol': None}\n",
      "0.600 (+/-0.021) for {'alpha': 0.1, 'loss': 'log', 'max_iter': 10000, 'penalty': 'l2', 'random_state': 3, 'tol': 0.001}\n",
      "0.600 (+/-0.021) for {'alpha': 0.1, 'loss': 'log', 'max_iter': 10000, 'penalty': 'l1', 'random_state': 3, 'tol': None}\n",
      "0.600 (+/-0.021) for {'alpha': 0.1, 'loss': 'log', 'max_iter': 10000, 'penalty': 'l1', 'random_state': 3, 'tol': 0.001}\n",
      "0.600 (+/-0.021) for {'alpha': 1.0, 'loss': 'hinge', 'max_iter': 5, 'penalty': 'l2', 'random_state': 3, 'tol': None}\n",
      "0.600 (+/-0.021) for {'alpha': 1.0, 'loss': 'hinge', 'max_iter': 5, 'penalty': 'l2', 'random_state': 3, 'tol': 0.001}\n",
      "0.600 (+/-0.021) for {'alpha': 1.0, 'loss': 'hinge', 'max_iter': 5, 'penalty': 'l1', 'random_state': 3, 'tol': None}\n",
      "0.600 (+/-0.021) for {'alpha': 1.0, 'loss': 'hinge', 'max_iter': 5, 'penalty': 'l1', 'random_state': 3, 'tol': 0.001}\n",
      "0.600 (+/-0.021) for {'alpha': 1.0, 'loss': 'hinge', 'max_iter': 10, 'penalty': 'l2', 'random_state': 3, 'tol': None}\n",
      "0.600 (+/-0.021) for {'alpha': 1.0, 'loss': 'hinge', 'max_iter': 10, 'penalty': 'l2', 'random_state': 3, 'tol': 0.001}\n",
      "0.600 (+/-0.021) for {'alpha': 1.0, 'loss': 'hinge', 'max_iter': 10, 'penalty': 'l1', 'random_state': 3, 'tol': None}\n",
      "0.600 (+/-0.021) for {'alpha': 1.0, 'loss': 'hinge', 'max_iter': 10, 'penalty': 'l1', 'random_state': 3, 'tol': 0.001}\n",
      "0.600 (+/-0.021) for {'alpha': 1.0, 'loss': 'hinge', 'max_iter': 20, 'penalty': 'l2', 'random_state': 3, 'tol': None}\n",
      "0.600 (+/-0.021) for {'alpha': 1.0, 'loss': 'hinge', 'max_iter': 20, 'penalty': 'l2', 'random_state': 3, 'tol': 0.001}\n",
      "0.600 (+/-0.021) for {'alpha': 1.0, 'loss': 'hinge', 'max_iter': 20, 'penalty': 'l1', 'random_state': 3, 'tol': None}\n",
      "0.600 (+/-0.021) for {'alpha': 1.0, 'loss': 'hinge', 'max_iter': 20, 'penalty': 'l1', 'random_state': 3, 'tol': 0.001}\n",
      "0.600 (+/-0.021) for {'alpha': 1.0, 'loss': 'hinge', 'max_iter': 30, 'penalty': 'l2', 'random_state': 3, 'tol': None}\n",
      "0.600 (+/-0.021) for {'alpha': 1.0, 'loss': 'hinge', 'max_iter': 30, 'penalty': 'l2', 'random_state': 3, 'tol': 0.001}\n",
      "0.600 (+/-0.021) for {'alpha': 1.0, 'loss': 'hinge', 'max_iter': 30, 'penalty': 'l1', 'random_state': 3, 'tol': None}\n",
      "0.600 (+/-0.021) for {'alpha': 1.0, 'loss': 'hinge', 'max_iter': 30, 'penalty': 'l1', 'random_state': 3, 'tol': 0.001}\n",
      "0.600 (+/-0.021) for {'alpha': 1.0, 'loss': 'hinge', 'max_iter': 50, 'penalty': 'l2', 'random_state': 3, 'tol': None}\n",
      "0.600 (+/-0.021) for {'alpha': 1.0, 'loss': 'hinge', 'max_iter': 50, 'penalty': 'l2', 'random_state': 3, 'tol': 0.001}\n",
      "0.600 (+/-0.021) for {'alpha': 1.0, 'loss': 'hinge', 'max_iter': 50, 'penalty': 'l1', 'random_state': 3, 'tol': None}\n",
      "0.600 (+/-0.021) for {'alpha': 1.0, 'loss': 'hinge', 'max_iter': 50, 'penalty': 'l1', 'random_state': 3, 'tol': 0.001}\n",
      "0.600 (+/-0.021) for {'alpha': 1.0, 'loss': 'hinge', 'max_iter': 60, 'penalty': 'l2', 'random_state': 3, 'tol': None}\n",
      "0.600 (+/-0.021) for {'alpha': 1.0, 'loss': 'hinge', 'max_iter': 60, 'penalty': 'l2', 'random_state': 3, 'tol': 0.001}\n",
      "0.600 (+/-0.021) for {'alpha': 1.0, 'loss': 'hinge', 'max_iter': 60, 'penalty': 'l1', 'random_state': 3, 'tol': None}\n",
      "0.600 (+/-0.021) for {'alpha': 1.0, 'loss': 'hinge', 'max_iter': 60, 'penalty': 'l1', 'random_state': 3, 'tol': 0.001}\n",
      "0.600 (+/-0.021) for {'alpha': 1.0, 'loss': 'hinge', 'max_iter': 70, 'penalty': 'l2', 'random_state': 3, 'tol': None}\n",
      "0.600 (+/-0.021) for {'alpha': 1.0, 'loss': 'hinge', 'max_iter': 70, 'penalty': 'l2', 'random_state': 3, 'tol': 0.001}\n",
      "0.600 (+/-0.021) for {'alpha': 1.0, 'loss': 'hinge', 'max_iter': 70, 'penalty': 'l1', 'random_state': 3, 'tol': None}\n",
      "0.600 (+/-0.021) for {'alpha': 1.0, 'loss': 'hinge', 'max_iter': 70, 'penalty': 'l1', 'random_state': 3, 'tol': 0.001}\n",
      "0.600 (+/-0.021) for {'alpha': 1.0, 'loss': 'hinge', 'max_iter': 100, 'penalty': 'l2', 'random_state': 3, 'tol': None}\n",
      "0.600 (+/-0.021) for {'alpha': 1.0, 'loss': 'hinge', 'max_iter': 100, 'penalty': 'l2', 'random_state': 3, 'tol': 0.001}\n",
      "0.600 (+/-0.021) for {'alpha': 1.0, 'loss': 'hinge', 'max_iter': 100, 'penalty': 'l1', 'random_state': 3, 'tol': None}\n",
      "0.600 (+/-0.021) for {'alpha': 1.0, 'loss': 'hinge', 'max_iter': 100, 'penalty': 'l1', 'random_state': 3, 'tol': 0.001}\n",
      "0.600 (+/-0.021) for {'alpha': 1.0, 'loss': 'hinge', 'max_iter': 1000, 'penalty': 'l2', 'random_state': 3, 'tol': None}\n",
      "0.600 (+/-0.021) for {'alpha': 1.0, 'loss': 'hinge', 'max_iter': 1000, 'penalty': 'l2', 'random_state': 3, 'tol': 0.001}\n",
      "0.600 (+/-0.021) for {'alpha': 1.0, 'loss': 'hinge', 'max_iter': 1000, 'penalty': 'l1', 'random_state': 3, 'tol': None}\n",
      "0.600 (+/-0.021) for {'alpha': 1.0, 'loss': 'hinge', 'max_iter': 1000, 'penalty': 'l1', 'random_state': 3, 'tol': 0.001}\n",
      "0.600 (+/-0.021) for {'alpha': 1.0, 'loss': 'hinge', 'max_iter': 10000, 'penalty': 'l2', 'random_state': 3, 'tol': None}\n",
      "0.600 (+/-0.021) for {'alpha': 1.0, 'loss': 'hinge', 'max_iter': 10000, 'penalty': 'l2', 'random_state': 3, 'tol': 0.001}\n",
      "0.600 (+/-0.021) for {'alpha': 1.0, 'loss': 'hinge', 'max_iter': 10000, 'penalty': 'l1', 'random_state': 3, 'tol': None}\n",
      "0.600 (+/-0.021) for {'alpha': 1.0, 'loss': 'hinge', 'max_iter': 10000, 'penalty': 'l1', 'random_state': 3, 'tol': 0.001}\n",
      "0.600 (+/-0.021) for {'alpha': 1.0, 'loss': 'log', 'max_iter': 5, 'penalty': 'l2', 'random_state': 3, 'tol': None}\n",
      "0.600 (+/-0.021) for {'alpha': 1.0, 'loss': 'log', 'max_iter': 5, 'penalty': 'l2', 'random_state': 3, 'tol': 0.001}\n",
      "0.600 (+/-0.021) for {'alpha': 1.0, 'loss': 'log', 'max_iter': 5, 'penalty': 'l1', 'random_state': 3, 'tol': None}\n",
      "0.600 (+/-0.021) for {'alpha': 1.0, 'loss': 'log', 'max_iter': 5, 'penalty': 'l1', 'random_state': 3, 'tol': 0.001}\n",
      "0.600 (+/-0.021) for {'alpha': 1.0, 'loss': 'log', 'max_iter': 10, 'penalty': 'l2', 'random_state': 3, 'tol': None}\n",
      "0.600 (+/-0.021) for {'alpha': 1.0, 'loss': 'log', 'max_iter': 10, 'penalty': 'l2', 'random_state': 3, 'tol': 0.001}\n",
      "0.600 (+/-0.021) for {'alpha': 1.0, 'loss': 'log', 'max_iter': 10, 'penalty': 'l1', 'random_state': 3, 'tol': None}\n",
      "0.600 (+/-0.021) for {'alpha': 1.0, 'loss': 'log', 'max_iter': 10, 'penalty': 'l1', 'random_state': 3, 'tol': 0.001}\n",
      "0.600 (+/-0.021) for {'alpha': 1.0, 'loss': 'log', 'max_iter': 20, 'penalty': 'l2', 'random_state': 3, 'tol': None}\n",
      "0.600 (+/-0.021) for {'alpha': 1.0, 'loss': 'log', 'max_iter': 20, 'penalty': 'l2', 'random_state': 3, 'tol': 0.001}\n",
      "0.600 (+/-0.021) for {'alpha': 1.0, 'loss': 'log', 'max_iter': 20, 'penalty': 'l1', 'random_state': 3, 'tol': None}\n",
      "0.600 (+/-0.021) for {'alpha': 1.0, 'loss': 'log', 'max_iter': 20, 'penalty': 'l1', 'random_state': 3, 'tol': 0.001}\n",
      "0.600 (+/-0.021) for {'alpha': 1.0, 'loss': 'log', 'max_iter': 30, 'penalty': 'l2', 'random_state': 3, 'tol': None}\n",
      "0.600 (+/-0.021) for {'alpha': 1.0, 'loss': 'log', 'max_iter': 30, 'penalty': 'l2', 'random_state': 3, 'tol': 0.001}\n",
      "0.600 (+/-0.021) for {'alpha': 1.0, 'loss': 'log', 'max_iter': 30, 'penalty': 'l1', 'random_state': 3, 'tol': None}\n",
      "0.600 (+/-0.021) for {'alpha': 1.0, 'loss': 'log', 'max_iter': 30, 'penalty': 'l1', 'random_state': 3, 'tol': 0.001}\n",
      "0.600 (+/-0.021) for {'alpha': 1.0, 'loss': 'log', 'max_iter': 50, 'penalty': 'l2', 'random_state': 3, 'tol': None}\n",
      "0.600 (+/-0.021) for {'alpha': 1.0, 'loss': 'log', 'max_iter': 50, 'penalty': 'l2', 'random_state': 3, 'tol': 0.001}\n",
      "0.600 (+/-0.021) for {'alpha': 1.0, 'loss': 'log', 'max_iter': 50, 'penalty': 'l1', 'random_state': 3, 'tol': None}\n",
      "0.600 (+/-0.021) for {'alpha': 1.0, 'loss': 'log', 'max_iter': 50, 'penalty': 'l1', 'random_state': 3, 'tol': 0.001}\n",
      "0.600 (+/-0.021) for {'alpha': 1.0, 'loss': 'log', 'max_iter': 60, 'penalty': 'l2', 'random_state': 3, 'tol': None}\n",
      "0.600 (+/-0.021) for {'alpha': 1.0, 'loss': 'log', 'max_iter': 60, 'penalty': 'l2', 'random_state': 3, 'tol': 0.001}\n",
      "0.600 (+/-0.021) for {'alpha': 1.0, 'loss': 'log', 'max_iter': 60, 'penalty': 'l1', 'random_state': 3, 'tol': None}\n",
      "0.600 (+/-0.021) for {'alpha': 1.0, 'loss': 'log', 'max_iter': 60, 'penalty': 'l1', 'random_state': 3, 'tol': 0.001}\n",
      "0.600 (+/-0.021) for {'alpha': 1.0, 'loss': 'log', 'max_iter': 70, 'penalty': 'l2', 'random_state': 3, 'tol': None}\n",
      "0.600 (+/-0.021) for {'alpha': 1.0, 'loss': 'log', 'max_iter': 70, 'penalty': 'l2', 'random_state': 3, 'tol': 0.001}\n",
      "0.600 (+/-0.021) for {'alpha': 1.0, 'loss': 'log', 'max_iter': 70, 'penalty': 'l1', 'random_state': 3, 'tol': None}\n",
      "0.600 (+/-0.021) for {'alpha': 1.0, 'loss': 'log', 'max_iter': 70, 'penalty': 'l1', 'random_state': 3, 'tol': 0.001}\n",
      "0.600 (+/-0.021) for {'alpha': 1.0, 'loss': 'log', 'max_iter': 100, 'penalty': 'l2', 'random_state': 3, 'tol': None}\n",
      "0.600 (+/-0.021) for {'alpha': 1.0, 'loss': 'log', 'max_iter': 100, 'penalty': 'l2', 'random_state': 3, 'tol': 0.001}\n",
      "0.600 (+/-0.021) for {'alpha': 1.0, 'loss': 'log', 'max_iter': 100, 'penalty': 'l1', 'random_state': 3, 'tol': None}\n",
      "0.600 (+/-0.021) for {'alpha': 1.0, 'loss': 'log', 'max_iter': 100, 'penalty': 'l1', 'random_state': 3, 'tol': 0.001}\n",
      "0.600 (+/-0.021) for {'alpha': 1.0, 'loss': 'log', 'max_iter': 1000, 'penalty': 'l2', 'random_state': 3, 'tol': None}\n",
      "0.600 (+/-0.021) for {'alpha': 1.0, 'loss': 'log', 'max_iter': 1000, 'penalty': 'l2', 'random_state': 3, 'tol': 0.001}\n",
      "0.600 (+/-0.021) for {'alpha': 1.0, 'loss': 'log', 'max_iter': 1000, 'penalty': 'l1', 'random_state': 3, 'tol': None}\n",
      "0.600 (+/-0.021) for {'alpha': 1.0, 'loss': 'log', 'max_iter': 1000, 'penalty': 'l1', 'random_state': 3, 'tol': 0.001}\n",
      "0.600 (+/-0.021) for {'alpha': 1.0, 'loss': 'log', 'max_iter': 10000, 'penalty': 'l2', 'random_state': 3, 'tol': None}\n",
      "0.600 (+/-0.021) for {'alpha': 1.0, 'loss': 'log', 'max_iter': 10000, 'penalty': 'l2', 'random_state': 3, 'tol': 0.001}\n",
      "0.600 (+/-0.021) for {'alpha': 1.0, 'loss': 'log', 'max_iter': 10000, 'penalty': 'l1', 'random_state': 3, 'tol': None}\n",
      "0.600 (+/-0.021) for {'alpha': 1.0, 'loss': 'log', 'max_iter': 10000, 'penalty': 'l1', 'random_state': 3, 'tol': 0.001}\n",
      "0.669 (+/-0.101) for {'alpha': 0.0001, 'loss': 'hinge', 'max_iter': 5, 'penalty': 'l2', 'random_state': 3, 'tol': None}\n",
      "0.669 (+/-0.101) for {'alpha': 0.0001, 'loss': 'hinge', 'max_iter': 5, 'penalty': 'l2', 'random_state': 3, 'tol': 0.001}\n",
      "0.631 (+/-0.078) for {'alpha': 0.0001, 'loss': 'hinge', 'max_iter': 5, 'penalty': 'l1', 'random_state': 3, 'tol': None}\n",
      "0.631 (+/-0.078) for {'alpha': 0.0001, 'loss': 'hinge', 'max_iter': 5, 'penalty': 'l1', 'random_state': 3, 'tol': 0.001}\n",
      "0.619 (+/-0.094) for {'alpha': 0.0001, 'loss': 'hinge', 'max_iter': 10, 'penalty': 'l2', 'random_state': 3, 'tol': None}\n",
      "0.619 (+/-0.094) for {'alpha': 0.0001, 'loss': 'hinge', 'max_iter': 10, 'penalty': 'l2', 'random_state': 3, 'tol': 0.001}\n",
      "0.675 (+/-0.123) for {'alpha': 0.0001, 'loss': 'hinge', 'max_iter': 10, 'penalty': 'l1', 'random_state': 3, 'tol': None}\n",
      "0.675 (+/-0.123) for {'alpha': 0.0001, 'loss': 'hinge', 'max_iter': 10, 'penalty': 'l1', 'random_state': 3, 'tol': 0.001}\n",
      "0.650 (+/-0.109) for {'alpha': 0.0001, 'loss': 'hinge', 'max_iter': 20, 'penalty': 'l2', 'random_state': 3, 'tol': None}\n",
      "0.706 (+/-0.076) for {'alpha': 0.0001, 'loss': 'hinge', 'max_iter': 20, 'penalty': 'l2', 'random_state': 3, 'tol': 0.001}\n",
      "0.700 (+/-0.163) for {'alpha': 0.0001, 'loss': 'hinge', 'max_iter': 20, 'penalty': 'l1', 'random_state': 3, 'tol': None}\n",
      "0.694 (+/-0.118) for {'alpha': 0.0001, 'loss': 'hinge', 'max_iter': 20, 'penalty': 'l1', 'random_state': 3, 'tol': 0.001}\n",
      "0.700 (+/-0.145) for {'alpha': 0.0001, 'loss': 'hinge', 'max_iter': 30, 'penalty': 'l2', 'random_state': 3, 'tol': None}\n",
      "0.706 (+/-0.076) for {'alpha': 0.0001, 'loss': 'hinge', 'max_iter': 30, 'penalty': 'l2', 'random_state': 3, 'tol': 0.001}\n",
      "0.694 (+/-0.135) for {'alpha': 0.0001, 'loss': 'hinge', 'max_iter': 30, 'penalty': 'l1', 'random_state': 3, 'tol': None}\n",
      "0.694 (+/-0.118) for {'alpha': 0.0001, 'loss': 'hinge', 'max_iter': 30, 'penalty': 'l1', 'random_state': 3, 'tol': 0.001}\n",
      "0.713 (+/-0.109) for {'alpha': 0.0001, 'loss': 'hinge', 'max_iter': 50, 'penalty': 'l2', 'random_state': 3, 'tol': None}\n",
      "0.706 (+/-0.076) for {'alpha': 0.0001, 'loss': 'hinge', 'max_iter': 50, 'penalty': 'l2', 'random_state': 3, 'tol': 0.001}\n",
      "0.706 (+/-0.156) for {'alpha': 0.0001, 'loss': 'hinge', 'max_iter': 50, 'penalty': 'l1', 'random_state': 3, 'tol': None}\n",
      "0.694 (+/-0.118) for {'alpha': 0.0001, 'loss': 'hinge', 'max_iter': 50, 'penalty': 'l1', 'random_state': 3, 'tol': 0.001}\n",
      "0.719 (+/-0.193) for {'alpha': 0.0001, 'loss': 'hinge', 'max_iter': 60, 'penalty': 'l2', 'random_state': 3, 'tol': None}\n",
      "0.706 (+/-0.076) for {'alpha': 0.0001, 'loss': 'hinge', 'max_iter': 60, 'penalty': 'l2', 'random_state': 3, 'tol': 0.001}\n",
      "0.688 (+/-0.128) for {'alpha': 0.0001, 'loss': 'hinge', 'max_iter': 60, 'penalty': 'l1', 'random_state': 3, 'tol': None}\n",
      "0.694 (+/-0.118) for {'alpha': 0.0001, 'loss': 'hinge', 'max_iter': 60, 'penalty': 'l1', 'random_state': 3, 'tol': 0.001}\n",
      "0.669 (+/-0.105) for {'alpha': 0.0001, 'loss': 'hinge', 'max_iter': 70, 'penalty': 'l2', 'random_state': 3, 'tol': None}\n",
      "0.706 (+/-0.076) for {'alpha': 0.0001, 'loss': 'hinge', 'max_iter': 70, 'penalty': 'l2', 'random_state': 3, 'tol': 0.001}\n",
      "0.688 (+/-0.128) for {'alpha': 0.0001, 'loss': 'hinge', 'max_iter': 70, 'penalty': 'l1', 'random_state': 3, 'tol': None}\n",
      "0.694 (+/-0.118) for {'alpha': 0.0001, 'loss': 'hinge', 'max_iter': 70, 'penalty': 'l1', 'random_state': 3, 'tol': 0.001}\n",
      "0.681 (+/-0.113) for {'alpha': 0.0001, 'loss': 'hinge', 'max_iter': 100, 'penalty': 'l2', 'random_state': 3, 'tol': None}\n",
      "0.706 (+/-0.076) for {'alpha': 0.0001, 'loss': 'hinge', 'max_iter': 100, 'penalty': 'l2', 'random_state': 3, 'tol': 0.001}\n",
      "0.688 (+/-0.128) for {'alpha': 0.0001, 'loss': 'hinge', 'max_iter': 100, 'penalty': 'l1', 'random_state': 3, 'tol': None}\n",
      "0.694 (+/-0.118) for {'alpha': 0.0001, 'loss': 'hinge', 'max_iter': 100, 'penalty': 'l1', 'random_state': 3, 'tol': 0.001}\n",
      "0.719 (+/-0.117) for {'alpha': 0.0001, 'loss': 'hinge', 'max_iter': 1000, 'penalty': 'l2', 'random_state': 3, 'tol': None}\n",
      "0.706 (+/-0.076) for {'alpha': 0.0001, 'loss': 'hinge', 'max_iter': 1000, 'penalty': 'l2', 'random_state': 3, 'tol': 0.001}\n",
      "0.688 (+/-0.075) for {'alpha': 0.0001, 'loss': 'hinge', 'max_iter': 1000, 'penalty': 'l1', 'random_state': 3, 'tol': None}\n",
      "0.694 (+/-0.118) for {'alpha': 0.0001, 'loss': 'hinge', 'max_iter': 1000, 'penalty': 'l1', 'random_state': 3, 'tol': 0.001}\n",
      "0.713 (+/-0.109) for {'alpha': 0.0001, 'loss': 'hinge', 'max_iter': 10000, 'penalty': 'l2', 'random_state': 3, 'tol': None}\n",
      "0.706 (+/-0.076) for {'alpha': 0.0001, 'loss': 'hinge', 'max_iter': 10000, 'penalty': 'l2', 'random_state': 3, 'tol': 0.001}\n",
      "0.681 (+/-0.065) for {'alpha': 0.0001, 'loss': 'hinge', 'max_iter': 10000, 'penalty': 'l1', 'random_state': 3, 'tol': None}\n",
      "0.694 (+/-0.118) for {'alpha': 0.0001, 'loss': 'hinge', 'max_iter': 10000, 'penalty': 'l1', 'random_state': 3, 'tol': 0.001}\n",
      "0.700 (+/-0.145) for {'alpha': 0.0001, 'loss': 'log', 'max_iter': 5, 'penalty': 'l2', 'random_state': 3, 'tol': None}\n",
      "0.700 (+/-0.145) for {'alpha': 0.0001, 'loss': 'log', 'max_iter': 5, 'penalty': 'l2', 'random_state': 3, 'tol': 0.001}\n",
      "0.669 (+/-0.136) for {'alpha': 0.0001, 'loss': 'log', 'max_iter': 5, 'penalty': 'l1', 'random_state': 3, 'tol': None}\n",
      "0.669 (+/-0.136) for {'alpha': 0.0001, 'loss': 'log', 'max_iter': 5, 'penalty': 'l1', 'random_state': 3, 'tol': 0.001}\n",
      "0.700 (+/-0.092) for {'alpha': 0.0001, 'loss': 'log', 'max_iter': 10, 'penalty': 'l2', 'random_state': 3, 'tol': None}\n",
      "0.700 (+/-0.092) for {'alpha': 0.0001, 'loss': 'log', 'max_iter': 10, 'penalty': 'l2', 'random_state': 3, 'tol': 0.001}\n",
      "0.700 (+/-0.121) for {'alpha': 0.0001, 'loss': 'log', 'max_iter': 10, 'penalty': 'l1', 'random_state': 3, 'tol': None}\n",
      "0.700 (+/-0.121) for {'alpha': 0.0001, 'loss': 'log', 'max_iter': 10, 'penalty': 'l1', 'random_state': 3, 'tol': 0.001}\n",
      "0.669 (+/-0.131) for {'alpha': 0.0001, 'loss': 'log', 'max_iter': 20, 'penalty': 'l2', 'random_state': 3, 'tol': None}\n",
      "0.713 (+/-0.135) for {'alpha': 0.0001, 'loss': 'log', 'max_iter': 20, 'penalty': 'l2', 'random_state': 3, 'tol': 0.001}\n",
      "0.675 (+/-0.147) for {'alpha': 0.0001, 'loss': 'log', 'max_iter': 20, 'penalty': 'l1', 'random_state': 3, 'tol': None}\n",
      "0.713 (+/-0.138) for {'alpha': 0.0001, 'loss': 'log', 'max_iter': 20, 'penalty': 'l1', 'random_state': 3, 'tol': 0.001}\n",
      "0.719 (+/-0.173) for {'alpha': 0.0001, 'loss': 'log', 'max_iter': 30, 'penalty': 'l2', 'random_state': 3, 'tol': None}\n",
      "0.713 (+/-0.135) for {'alpha': 0.0001, 'loss': 'log', 'max_iter': 30, 'penalty': 'l2', 'random_state': 3, 'tol': 0.001}\n",
      "0.713 (+/-0.162) for {'alpha': 0.0001, 'loss': 'log', 'max_iter': 30, 'penalty': 'l1', 'random_state': 3, 'tol': None}\n",
      "0.713 (+/-0.138) for {'alpha': 0.0001, 'loss': 'log', 'max_iter': 30, 'penalty': 'l1', 'random_state': 3, 'tol': 0.001}\n",
      "0.719 (+/-0.151) for {'alpha': 0.0001, 'loss': 'log', 'max_iter': 50, 'penalty': 'l2', 'random_state': 3, 'tol': None}\n",
      "0.713 (+/-0.135) for {'alpha': 0.0001, 'loss': 'log', 'max_iter': 50, 'penalty': 'l2', 'random_state': 3, 'tol': 0.001}\n",
      "0.713 (+/-0.138) for {'alpha': 0.0001, 'loss': 'log', 'max_iter': 50, 'penalty': 'l1', 'random_state': 3, 'tol': None}\n",
      "0.713 (+/-0.138) for {'alpha': 0.0001, 'loss': 'log', 'max_iter': 50, 'penalty': 'l1', 'random_state': 3, 'tol': 0.001}\n",
      "0.706 (+/-0.178) for {'alpha': 0.0001, 'loss': 'log', 'max_iter': 60, 'penalty': 'l2', 'random_state': 3, 'tol': None}\n",
      "0.713 (+/-0.135) for {'alpha': 0.0001, 'loss': 'log', 'max_iter': 60, 'penalty': 'l2', 'random_state': 3, 'tol': 0.001}\n",
      "0.713 (+/-0.138) for {'alpha': 0.0001, 'loss': 'log', 'max_iter': 60, 'penalty': 'l1', 'random_state': 3, 'tol': None}\n",
      "0.713 (+/-0.138) for {'alpha': 0.0001, 'loss': 'log', 'max_iter': 60, 'penalty': 'l1', 'random_state': 3, 'tol': 0.001}\n",
      "0.713 (+/-0.135) for {'alpha': 0.0001, 'loss': 'log', 'max_iter': 70, 'penalty': 'l2', 'random_state': 3, 'tol': None}\n",
      "0.713 (+/-0.135) for {'alpha': 0.0001, 'loss': 'log', 'max_iter': 70, 'penalty': 'l2', 'random_state': 3, 'tol': 0.001}\n",
      "0.713 (+/-0.138) for {'alpha': 0.0001, 'loss': 'log', 'max_iter': 70, 'penalty': 'l1', 'random_state': 3, 'tol': None}\n",
      "0.713 (+/-0.138) for {'alpha': 0.0001, 'loss': 'log', 'max_iter': 70, 'penalty': 'l1', 'random_state': 3, 'tol': 0.001}\n",
      "0.694 (+/-0.118) for {'alpha': 0.0001, 'loss': 'log', 'max_iter': 100, 'penalty': 'l2', 'random_state': 3, 'tol': None}\n",
      "0.713 (+/-0.135) for {'alpha': 0.0001, 'loss': 'log', 'max_iter': 100, 'penalty': 'l2', 'random_state': 3, 'tol': 0.001}\n",
      "0.713 (+/-0.138) for {'alpha': 0.0001, 'loss': 'log', 'max_iter': 100, 'penalty': 'l1', 'random_state': 3, 'tol': None}\n",
      "0.713 (+/-0.138) for {'alpha': 0.0001, 'loss': 'log', 'max_iter': 100, 'penalty': 'l1', 'random_state': 3, 'tol': 0.001}\n",
      "0.719 (+/-0.144) for {'alpha': 0.0001, 'loss': 'log', 'max_iter': 1000, 'penalty': 'l2', 'random_state': 3, 'tol': None}\n",
      "0.713 (+/-0.135) for {'alpha': 0.0001, 'loss': 'log', 'max_iter': 1000, 'penalty': 'l2', 'random_state': 3, 'tol': 0.001}\n",
      "0.700 (+/-0.117) for {'alpha': 0.0001, 'loss': 'log', 'max_iter': 1000, 'penalty': 'l1', 'random_state': 3, 'tol': None}\n",
      "0.713 (+/-0.138) for {'alpha': 0.0001, 'loss': 'log', 'max_iter': 1000, 'penalty': 'l1', 'random_state': 3, 'tol': 0.001}\n",
      "0.719 (+/-0.144) for {'alpha': 0.0001, 'loss': 'log', 'max_iter': 10000, 'penalty': 'l2', 'random_state': 3, 'tol': None}\n",
      "0.713 (+/-0.135) for {'alpha': 0.0001, 'loss': 'log', 'max_iter': 10000, 'penalty': 'l2', 'random_state': 3, 'tol': 0.001}\n",
      "0.681 (+/-0.118) for {'alpha': 0.0001, 'loss': 'log', 'max_iter': 10000, 'penalty': 'l1', 'random_state': 3, 'tol': None}\n",
      "0.713 (+/-0.138) for {'alpha': 0.0001, 'loss': 'log', 'max_iter': 10000, 'penalty': 'l1', 'random_state': 3, 'tol': 0.001}\n"
     ]
    }
   ],
   "source": [
    "means = sgd_best_model.cv_results_['mean_test_score']\n",
    "stds = sgd_best_model.cv_results_['std_test_score']\n",
    "for mean, std, params in zip(means, stds, sgd_best_model.cv_results_['params']):\n",
    "    print(\"%0.3f (+/-%0.03f) for %r\"% (mean, std * 2, params))"
   ]
  },
  {
   "cell_type": "code",
   "execution_count": 33,
   "metadata": {},
   "outputs": [
    {
     "name": "stdout",
     "output_type": "stream",
     "text": [
      "0.859 (+/-0.097) for {'alpha': 1e-06, 'loss': 'hinge', 'max_iter': 5, 'penalty': 'l2', 'random_state': 3, 'tol': None}\n",
      "0.859 (+/-0.097) for {'alpha': 1e-06, 'loss': 'hinge', 'max_iter': 5, 'penalty': 'l2', 'random_state': 3, 'tol': 0.001}\n",
      "0.844 (+/-0.098) for {'alpha': 1e-06, 'loss': 'hinge', 'max_iter': 5, 'penalty': 'l1', 'random_state': 3, 'tol': None}\n",
      "0.844 (+/-0.098) for {'alpha': 1e-06, 'loss': 'hinge', 'max_iter': 5, 'penalty': 'l1', 'random_state': 3, 'tol': 0.001}\n",
      "0.891 (+/-0.129) for {'alpha': 1e-06, 'loss': 'hinge', 'max_iter': 10, 'penalty': 'l2', 'random_state': 3, 'tol': None}\n",
      "0.870 (+/-0.085) for {'alpha': 1e-06, 'loss': 'hinge', 'max_iter': 10, 'penalty': 'l2', 'random_state': 3, 'tol': 0.001}\n",
      "0.880 (+/-0.130) for {'alpha': 1e-06, 'loss': 'hinge', 'max_iter': 10, 'penalty': 'l1', 'random_state': 3, 'tol': None}\n",
      "0.880 (+/-0.130) for {'alpha': 1e-06, 'loss': 'hinge', 'max_iter': 10, 'penalty': 'l1', 'random_state': 3, 'tol': 0.001}\n",
      "0.859 (+/-0.082) for {'alpha': 1e-06, 'loss': 'hinge', 'max_iter': 20, 'penalty': 'l2', 'random_state': 3, 'tol': None}\n",
      "0.875 (+/-0.103) for {'alpha': 1e-06, 'loss': 'hinge', 'max_iter': 20, 'penalty': 'l2', 'random_state': 3, 'tol': 0.001}\n",
      "0.833 (+/-0.110) for {'alpha': 1e-06, 'loss': 'hinge', 'max_iter': 20, 'penalty': 'l1', 'random_state': 3, 'tol': None}\n",
      "0.859 (+/-0.097) for {'alpha': 1e-06, 'loss': 'hinge', 'max_iter': 20, 'penalty': 'l1', 'random_state': 3, 'tol': 0.001}\n",
      "0.854 (+/-0.115) for {'alpha': 1e-06, 'loss': 'hinge', 'max_iter': 30, 'penalty': 'l2', 'random_state': 3, 'tol': None}\n",
      "0.875 (+/-0.103) for {'alpha': 1e-06, 'loss': 'hinge', 'max_iter': 30, 'penalty': 'l2', 'random_state': 3, 'tol': 0.001}\n",
      "0.849 (+/-0.124) for {'alpha': 1e-06, 'loss': 'hinge', 'max_iter': 30, 'penalty': 'l1', 'random_state': 3, 'tol': None}\n",
      "0.859 (+/-0.097) for {'alpha': 1e-06, 'loss': 'hinge', 'max_iter': 30, 'penalty': 'l1', 'random_state': 3, 'tol': 0.001}\n",
      "0.891 (+/-0.094) for {'alpha': 1e-06, 'loss': 'hinge', 'max_iter': 50, 'penalty': 'l2', 'random_state': 3, 'tol': None}\n",
      "0.875 (+/-0.103) for {'alpha': 1e-06, 'loss': 'hinge', 'max_iter': 50, 'penalty': 'l2', 'random_state': 3, 'tol': 0.001}\n",
      "0.885 (+/-0.129) for {'alpha': 1e-06, 'loss': 'hinge', 'max_iter': 50, 'penalty': 'l1', 'random_state': 3, 'tol': None}\n",
      "0.859 (+/-0.097) for {'alpha': 1e-06, 'loss': 'hinge', 'max_iter': 50, 'penalty': 'l1', 'random_state': 3, 'tol': 0.001}\n",
      "0.875 (+/-0.086) for {'alpha': 1e-06, 'loss': 'hinge', 'max_iter': 60, 'penalty': 'l2', 'random_state': 3, 'tol': None}\n",
      "0.875 (+/-0.103) for {'alpha': 1e-06, 'loss': 'hinge', 'max_iter': 60, 'penalty': 'l2', 'random_state': 3, 'tol': 0.001}\n",
      "0.880 (+/-0.123) for {'alpha': 1e-06, 'loss': 'hinge', 'max_iter': 60, 'penalty': 'l1', 'random_state': 3, 'tol': None}\n",
      "0.859 (+/-0.097) for {'alpha': 1e-06, 'loss': 'hinge', 'max_iter': 60, 'penalty': 'l1', 'random_state': 3, 'tol': 0.001}\n",
      "0.870 (+/-0.066) for {'alpha': 1e-06, 'loss': 'hinge', 'max_iter': 70, 'penalty': 'l2', 'random_state': 3, 'tol': None}\n",
      "0.875 (+/-0.103) for {'alpha': 1e-06, 'loss': 'hinge', 'max_iter': 70, 'penalty': 'l2', 'random_state': 3, 'tol': 0.001}\n",
      "0.870 (+/-0.116) for {'alpha': 1e-06, 'loss': 'hinge', 'max_iter': 70, 'penalty': 'l1', 'random_state': 3, 'tol': None}\n",
      "0.859 (+/-0.097) for {'alpha': 1e-06, 'loss': 'hinge', 'max_iter': 70, 'penalty': 'l1', 'random_state': 3, 'tol': 0.001}\n",
      "0.870 (+/-0.103) for {'alpha': 1e-06, 'loss': 'hinge', 'max_iter': 100, 'penalty': 'l2', 'random_state': 3, 'tol': None}\n",
      "0.875 (+/-0.103) for {'alpha': 1e-06, 'loss': 'hinge', 'max_iter': 100, 'penalty': 'l2', 'random_state': 3, 'tol': 0.001}\n",
      "0.849 (+/-0.090) for {'alpha': 1e-06, 'loss': 'hinge', 'max_iter': 100, 'penalty': 'l1', 'random_state': 3, 'tol': None}\n",
      "0.859 (+/-0.097) for {'alpha': 1e-06, 'loss': 'hinge', 'max_iter': 100, 'penalty': 'l1', 'random_state': 3, 'tol': 0.001}\n",
      "0.849 (+/-0.045) for {'alpha': 1e-06, 'loss': 'hinge', 'max_iter': 1000, 'penalty': 'l2', 'random_state': 3, 'tol': None}\n",
      "0.875 (+/-0.103) for {'alpha': 1e-06, 'loss': 'hinge', 'max_iter': 1000, 'penalty': 'l2', 'random_state': 3, 'tol': 0.001}\n",
      "0.865 (+/-0.116) for {'alpha': 1e-06, 'loss': 'hinge', 'max_iter': 1000, 'penalty': 'l1', 'random_state': 3, 'tol': None}\n",
      "0.859 (+/-0.097) for {'alpha': 1e-06, 'loss': 'hinge', 'max_iter': 1000, 'penalty': 'l1', 'random_state': 3, 'tol': 0.001}\n",
      "0.875 (+/-0.021) for {'alpha': 1e-06, 'loss': 'hinge', 'max_iter': 10000, 'penalty': 'l2', 'random_state': 3, 'tol': None}\n",
      "0.875 (+/-0.103) for {'alpha': 1e-06, 'loss': 'hinge', 'max_iter': 10000, 'penalty': 'l2', 'random_state': 3, 'tol': 0.001}\n",
      "0.818 (+/-0.159) for {'alpha': 1e-06, 'loss': 'hinge', 'max_iter': 10000, 'penalty': 'l1', 'random_state': 3, 'tol': None}\n",
      "0.859 (+/-0.097) for {'alpha': 1e-06, 'loss': 'hinge', 'max_iter': 10000, 'penalty': 'l1', 'random_state': 3, 'tol': 0.001}\n",
      "0.859 (+/-0.096) for {'alpha': 1e-06, 'loss': 'log', 'max_iter': 5, 'penalty': 'l2', 'random_state': 3, 'tol': None}\n",
      "0.859 (+/-0.096) for {'alpha': 1e-06, 'loss': 'log', 'max_iter': 5, 'penalty': 'l2', 'random_state': 3, 'tol': 0.001}\n",
      "0.870 (+/-0.049) for {'alpha': 1e-06, 'loss': 'log', 'max_iter': 5, 'penalty': 'l1', 'random_state': 3, 'tol': None}\n",
      "0.870 (+/-0.049) for {'alpha': 1e-06, 'loss': 'log', 'max_iter': 5, 'penalty': 'l1', 'random_state': 3, 'tol': 0.001}\n",
      "0.901 (+/-0.078) for {'alpha': 1e-06, 'loss': 'log', 'max_iter': 10, 'penalty': 'l2', 'random_state': 3, 'tol': None}\n",
      "0.901 (+/-0.078) for {'alpha': 1e-06, 'loss': 'log', 'max_iter': 10, 'penalty': 'l2', 'random_state': 3, 'tol': 0.001}\n",
      "0.901 (+/-0.078) for {'alpha': 1e-06, 'loss': 'log', 'max_iter': 10, 'penalty': 'l1', 'random_state': 3, 'tol': None}\n",
      "0.901 (+/-0.078) for {'alpha': 1e-06, 'loss': 'log', 'max_iter': 10, 'penalty': 'l1', 'random_state': 3, 'tol': 0.001}\n",
      "0.891 (+/-0.067) for {'alpha': 1e-06, 'loss': 'log', 'max_iter': 20, 'penalty': 'l2', 'random_state': 3, 'tol': None}\n",
      "0.906 (+/-0.077) for {'alpha': 1e-06, 'loss': 'log', 'max_iter': 20, 'penalty': 'l2', 'random_state': 3, 'tol': 0.001}\n",
      "0.880 (+/-0.033) for {'alpha': 1e-06, 'loss': 'log', 'max_iter': 20, 'penalty': 'l1', 'random_state': 3, 'tol': None}\n",
      "0.901 (+/-0.078) for {'alpha': 1e-06, 'loss': 'log', 'max_iter': 20, 'penalty': 'l1', 'random_state': 3, 'tol': 0.001}\n",
      "0.885 (+/-0.094) for {'alpha': 1e-06, 'loss': 'log', 'max_iter': 30, 'penalty': 'l2', 'random_state': 3, 'tol': None}\n",
      "0.906 (+/-0.077) for {'alpha': 1e-06, 'loss': 'log', 'max_iter': 30, 'penalty': 'l2', 'random_state': 3, 'tol': 0.001}\n",
      "0.885 (+/-0.050) for {'alpha': 1e-06, 'loss': 'log', 'max_iter': 30, 'penalty': 'l1', 'random_state': 3, 'tol': None}\n",
      "0.901 (+/-0.078) for {'alpha': 1e-06, 'loss': 'log', 'max_iter': 30, 'penalty': 'l1', 'random_state': 3, 'tol': 0.001}\n",
      "0.901 (+/-0.078) for {'alpha': 1e-06, 'loss': 'log', 'max_iter': 50, 'penalty': 'l2', 'random_state': 3, 'tol': None}\n",
      "0.906 (+/-0.077) for {'alpha': 1e-06, 'loss': 'log', 'max_iter': 50, 'penalty': 'l2', 'random_state': 3, 'tol': 0.001}\n",
      "0.896 (+/-0.039) for {'alpha': 1e-06, 'loss': 'log', 'max_iter': 50, 'penalty': 'l1', 'random_state': 3, 'tol': None}\n",
      "0.901 (+/-0.078) for {'alpha': 1e-06, 'loss': 'log', 'max_iter': 50, 'penalty': 'l1', 'random_state': 3, 'tol': 0.001}\n",
      "0.885 (+/-0.072) for {'alpha': 1e-06, 'loss': 'log', 'max_iter': 60, 'penalty': 'l2', 'random_state': 3, 'tol': None}\n",
      "0.906 (+/-0.077) for {'alpha': 1e-06, 'loss': 'log', 'max_iter': 60, 'penalty': 'l2', 'random_state': 3, 'tol': 0.001}\n",
      "0.891 (+/-0.042) for {'alpha': 1e-06, 'loss': 'log', 'max_iter': 60, 'penalty': 'l1', 'random_state': 3, 'tol': None}\n",
      "0.901 (+/-0.078) for {'alpha': 1e-06, 'loss': 'log', 'max_iter': 60, 'penalty': 'l1', 'random_state': 3, 'tol': 0.001}\n",
      "0.865 (+/-0.013) for {'alpha': 1e-06, 'loss': 'log', 'max_iter': 70, 'penalty': 'l2', 'random_state': 3, 'tol': None}\n",
      "0.906 (+/-0.077) for {'alpha': 1e-06, 'loss': 'log', 'max_iter': 70, 'penalty': 'l2', 'random_state': 3, 'tol': 0.001}\n",
      "0.854 (+/-0.027) for {'alpha': 1e-06, 'loss': 'log', 'max_iter': 70, 'penalty': 'l1', 'random_state': 3, 'tol': None}\n",
      "0.901 (+/-0.078) for {'alpha': 1e-06, 'loss': 'log', 'max_iter': 70, 'penalty': 'l1', 'random_state': 3, 'tol': 0.001}\n",
      "0.859 (+/-0.006) for {'alpha': 1e-06, 'loss': 'log', 'max_iter': 100, 'penalty': 'l2', 'random_state': 3, 'tol': None}\n",
      "0.906 (+/-0.077) for {'alpha': 1e-06, 'loss': 'log', 'max_iter': 100, 'penalty': 'l2', 'random_state': 3, 'tol': 0.001}\n",
      "0.854 (+/-0.041) for {'alpha': 1e-06, 'loss': 'log', 'max_iter': 100, 'penalty': 'l1', 'random_state': 3, 'tol': None}\n",
      "0.901 (+/-0.078) for {'alpha': 1e-06, 'loss': 'log', 'max_iter': 100, 'penalty': 'l1', 'random_state': 3, 'tol': 0.001}\n",
      "0.865 (+/-0.047) for {'alpha': 1e-06, 'loss': 'log', 'max_iter': 1000, 'penalty': 'l2', 'random_state': 3, 'tol': None}\n",
      "0.906 (+/-0.077) for {'alpha': 1e-06, 'loss': 'log', 'max_iter': 1000, 'penalty': 'l2', 'random_state': 3, 'tol': 0.001}\n",
      "0.844 (+/-0.060) for {'alpha': 1e-06, 'loss': 'log', 'max_iter': 1000, 'penalty': 'l1', 'random_state': 3, 'tol': None}\n",
      "0.901 (+/-0.078) for {'alpha': 1e-06, 'loss': 'log', 'max_iter': 1000, 'penalty': 'l1', 'random_state': 3, 'tol': 0.001}\n",
      "0.901 (+/-0.052) for {'alpha': 1e-06, 'loss': 'log', 'max_iter': 10000, 'penalty': 'l2', 'random_state': 3, 'tol': None}\n",
      "0.906 (+/-0.077) for {'alpha': 1e-06, 'loss': 'log', 'max_iter': 10000, 'penalty': 'l2', 'random_state': 3, 'tol': 0.001}\n",
      "0.828 (+/-0.084) for {'alpha': 1e-06, 'loss': 'log', 'max_iter': 10000, 'penalty': 'l1', 'random_state': 3, 'tol': None}\n",
      "0.901 (+/-0.078) for {'alpha': 1e-06, 'loss': 'log', 'max_iter': 10000, 'penalty': 'l1', 'random_state': 3, 'tol': 0.001}\n",
      "0.927 (+/-0.064) for {'alpha': 0.001, 'loss': 'hinge', 'max_iter': 5, 'penalty': 'l2', 'random_state': 3, 'tol': None}\n",
      "0.927 (+/-0.064) for {'alpha': 0.001, 'loss': 'hinge', 'max_iter': 5, 'penalty': 'l2', 'random_state': 3, 'tol': 0.001}\n",
      "0.911 (+/-0.105) for {'alpha': 0.001, 'loss': 'hinge', 'max_iter': 5, 'penalty': 'l1', 'random_state': 3, 'tol': None}\n",
      "0.911 (+/-0.105) for {'alpha': 0.001, 'loss': 'hinge', 'max_iter': 5, 'penalty': 'l1', 'random_state': 3, 'tol': 0.001}\n",
      "0.911 (+/-0.055) for {'alpha': 0.001, 'loss': 'hinge', 'max_iter': 10, 'penalty': 'l2', 'random_state': 3, 'tol': None}\n",
      "0.911 (+/-0.055) for {'alpha': 0.001, 'loss': 'hinge', 'max_iter': 10, 'penalty': 'l2', 'random_state': 3, 'tol': 0.001}\n",
      "0.875 (+/-0.138) for {'alpha': 0.001, 'loss': 'hinge', 'max_iter': 10, 'penalty': 'l1', 'random_state': 3, 'tol': None}\n",
      "0.875 (+/-0.138) for {'alpha': 0.001, 'loss': 'hinge', 'max_iter': 10, 'penalty': 'l1', 'random_state': 3, 'tol': 0.001}\n",
      "0.906 (+/-0.052) for {'alpha': 0.001, 'loss': 'hinge', 'max_iter': 20, 'penalty': 'l2', 'random_state': 3, 'tol': None}\n",
      "0.911 (+/-0.055) for {'alpha': 0.001, 'loss': 'hinge', 'max_iter': 20, 'penalty': 'l2', 'random_state': 3, 'tol': 0.001}\n",
      "0.896 (+/-0.090) for {'alpha': 0.001, 'loss': 'hinge', 'max_iter': 20, 'penalty': 'l1', 'random_state': 3, 'tol': None}\n",
      "0.901 (+/-0.065) for {'alpha': 0.001, 'loss': 'hinge', 'max_iter': 20, 'penalty': 'l1', 'random_state': 3, 'tol': 0.001}\n",
      "0.927 (+/-0.064) for {'alpha': 0.001, 'loss': 'hinge', 'max_iter': 30, 'penalty': 'l2', 'random_state': 3, 'tol': None}\n",
      "0.917 (+/-0.040) for {'alpha': 0.001, 'loss': 'hinge', 'max_iter': 30, 'penalty': 'l2', 'random_state': 3, 'tol': 0.001}\n",
      "0.901 (+/-0.078) for {'alpha': 0.001, 'loss': 'hinge', 'max_iter': 30, 'penalty': 'l1', 'random_state': 3, 'tol': None}\n",
      "0.906 (+/-0.092) for {'alpha': 0.001, 'loss': 'hinge', 'max_iter': 30, 'penalty': 'l1', 'random_state': 3, 'tol': 0.001}\n",
      "0.922 (+/-0.052) for {'alpha': 0.001, 'loss': 'hinge', 'max_iter': 50, 'penalty': 'l2', 'random_state': 3, 'tol': None}\n",
      "0.917 (+/-0.040) for {'alpha': 0.001, 'loss': 'hinge', 'max_iter': 50, 'penalty': 'l2', 'random_state': 3, 'tol': 0.001}\n",
      "0.891 (+/-0.077) for {'alpha': 0.001, 'loss': 'hinge', 'max_iter': 50, 'penalty': 'l1', 'random_state': 3, 'tol': None}\n",
      "0.906 (+/-0.092) for {'alpha': 0.001, 'loss': 'hinge', 'max_iter': 50, 'penalty': 'l1', 'random_state': 3, 'tol': 0.001}\n",
      "0.922 (+/-0.052) for {'alpha': 0.001, 'loss': 'hinge', 'max_iter': 60, 'penalty': 'l2', 'random_state': 3, 'tol': None}\n",
      "0.917 (+/-0.040) for {'alpha': 0.001, 'loss': 'hinge', 'max_iter': 60, 'penalty': 'l2', 'random_state': 3, 'tol': 0.001}\n",
      "0.896 (+/-0.064) for {'alpha': 0.001, 'loss': 'hinge', 'max_iter': 60, 'penalty': 'l1', 'random_state': 3, 'tol': None}\n",
      "0.906 (+/-0.092) for {'alpha': 0.001, 'loss': 'hinge', 'max_iter': 60, 'penalty': 'l1', 'random_state': 3, 'tol': 0.001}\n",
      "0.922 (+/-0.052) for {'alpha': 0.001, 'loss': 'hinge', 'max_iter': 70, 'penalty': 'l2', 'random_state': 3, 'tol': None}\n",
      "0.917 (+/-0.040) for {'alpha': 0.001, 'loss': 'hinge', 'max_iter': 70, 'penalty': 'l2', 'random_state': 3, 'tol': 0.001}\n",
      "0.896 (+/-0.080) for {'alpha': 0.001, 'loss': 'hinge', 'max_iter': 70, 'penalty': 'l1', 'random_state': 3, 'tol': None}\n",
      "0.906 (+/-0.092) for {'alpha': 0.001, 'loss': 'hinge', 'max_iter': 70, 'penalty': 'l1', 'random_state': 3, 'tol': 0.001}\n",
      "0.927 (+/-0.039) for {'alpha': 0.001, 'loss': 'hinge', 'max_iter': 100, 'penalty': 'l2', 'random_state': 3, 'tol': None}\n",
      "0.917 (+/-0.040) for {'alpha': 0.001, 'loss': 'hinge', 'max_iter': 100, 'penalty': 'l2', 'random_state': 3, 'tol': 0.001}\n",
      "0.901 (+/-0.091) for {'alpha': 0.001, 'loss': 'hinge', 'max_iter': 100, 'penalty': 'l1', 'random_state': 3, 'tol': None}\n",
      "0.906 (+/-0.092) for {'alpha': 0.001, 'loss': 'hinge', 'max_iter': 100, 'penalty': 'l1', 'random_state': 3, 'tol': 0.001}\n",
      "0.922 (+/-0.052) for {'alpha': 0.001, 'loss': 'hinge', 'max_iter': 1000, 'penalty': 'l2', 'random_state': 3, 'tol': None}\n",
      "0.917 (+/-0.040) for {'alpha': 0.001, 'loss': 'hinge', 'max_iter': 1000, 'penalty': 'l2', 'random_state': 3, 'tol': 0.001}\n",
      "0.896 (+/-0.080) for {'alpha': 0.001, 'loss': 'hinge', 'max_iter': 1000, 'penalty': 'l1', 'random_state': 3, 'tol': None}\n",
      "0.906 (+/-0.092) for {'alpha': 0.001, 'loss': 'hinge', 'max_iter': 1000, 'penalty': 'l1', 'random_state': 3, 'tol': 0.001}\n",
      "0.922 (+/-0.052) for {'alpha': 0.001, 'loss': 'hinge', 'max_iter': 10000, 'penalty': 'l2', 'random_state': 3, 'tol': None}\n",
      "0.917 (+/-0.040) for {'alpha': 0.001, 'loss': 'hinge', 'max_iter': 10000, 'penalty': 'l2', 'random_state': 3, 'tol': 0.001}\n",
      "0.901 (+/-0.065) for {'alpha': 0.001, 'loss': 'hinge', 'max_iter': 10000, 'penalty': 'l1', 'random_state': 3, 'tol': None}\n",
      "0.906 (+/-0.092) for {'alpha': 0.001, 'loss': 'hinge', 'max_iter': 10000, 'penalty': 'l1', 'random_state': 3, 'tol': 0.001}\n",
      "0.885 (+/-0.108) for {'alpha': 0.001, 'loss': 'log', 'max_iter': 5, 'penalty': 'l2', 'random_state': 3, 'tol': None}\n",
      "0.885 (+/-0.108) for {'alpha': 0.001, 'loss': 'log', 'max_iter': 5, 'penalty': 'l2', 'random_state': 3, 'tol': 0.001}\n",
      "0.891 (+/-0.077) for {'alpha': 0.001, 'loss': 'log', 'max_iter': 5, 'penalty': 'l1', 'random_state': 3, 'tol': None}\n",
      "0.891 (+/-0.077) for {'alpha': 0.001, 'loss': 'log', 'max_iter': 5, 'penalty': 'l1', 'random_state': 3, 'tol': 0.001}\n",
      "0.911 (+/-0.079) for {'alpha': 0.001, 'loss': 'log', 'max_iter': 10, 'penalty': 'l2', 'random_state': 3, 'tol': None}\n",
      "0.911 (+/-0.079) for {'alpha': 0.001, 'loss': 'log', 'max_iter': 10, 'penalty': 'l2', 'random_state': 3, 'tol': 0.001}\n",
      "0.896 (+/-0.064) for {'alpha': 0.001, 'loss': 'log', 'max_iter': 10, 'penalty': 'l1', 'random_state': 3, 'tol': None}\n",
      "0.896 (+/-0.064) for {'alpha': 0.001, 'loss': 'log', 'max_iter': 10, 'penalty': 'l1', 'random_state': 3, 'tol': 0.001}\n",
      "0.911 (+/-0.105) for {'alpha': 0.001, 'loss': 'log', 'max_iter': 20, 'penalty': 'l2', 'random_state': 3, 'tol': None}\n",
      "0.911 (+/-0.079) for {'alpha': 0.001, 'loss': 'log', 'max_iter': 20, 'penalty': 'l2', 'random_state': 3, 'tol': 0.001}\n",
      "0.896 (+/-0.090) for {'alpha': 0.001, 'loss': 'log', 'max_iter': 20, 'penalty': 'l1', 'random_state': 3, 'tol': None}\n",
      "0.896 (+/-0.090) for {'alpha': 0.001, 'loss': 'log', 'max_iter': 20, 'penalty': 'l1', 'random_state': 3, 'tol': 0.001}\n",
      "0.906 (+/-0.077) for {'alpha': 0.001, 'loss': 'log', 'max_iter': 30, 'penalty': 'l2', 'random_state': 3, 'tol': None}\n",
      "0.911 (+/-0.079) for {'alpha': 0.001, 'loss': 'log', 'max_iter': 30, 'penalty': 'l2', 'random_state': 3, 'tol': 0.001}\n",
      "0.891 (+/-0.077) for {'alpha': 0.001, 'loss': 'log', 'max_iter': 30, 'penalty': 'l1', 'random_state': 3, 'tol': None}\n",
      "0.896 (+/-0.090) for {'alpha': 0.001, 'loss': 'log', 'max_iter': 30, 'penalty': 'l1', 'random_state': 3, 'tol': 0.001}\n",
      "0.906 (+/-0.094) for {'alpha': 0.001, 'loss': 'log', 'max_iter': 50, 'penalty': 'l2', 'random_state': 3, 'tol': None}\n",
      "0.911 (+/-0.079) for {'alpha': 0.001, 'loss': 'log', 'max_iter': 50, 'penalty': 'l2', 'random_state': 3, 'tol': 0.001}\n",
      "0.896 (+/-0.080) for {'alpha': 0.001, 'loss': 'log', 'max_iter': 50, 'penalty': 'l1', 'random_state': 3, 'tol': None}\n",
      "0.896 (+/-0.090) for {'alpha': 0.001, 'loss': 'log', 'max_iter': 50, 'penalty': 'l1', 'random_state': 3, 'tol': 0.001}\n",
      "0.901 (+/-0.091) for {'alpha': 0.001, 'loss': 'log', 'max_iter': 60, 'penalty': 'l2', 'random_state': 3, 'tol': None}\n",
      "0.911 (+/-0.079) for {'alpha': 0.001, 'loss': 'log', 'max_iter': 60, 'penalty': 'l2', 'random_state': 3, 'tol': 0.001}\n",
      "0.896 (+/-0.080) for {'alpha': 0.001, 'loss': 'log', 'max_iter': 60, 'penalty': 'l1', 'random_state': 3, 'tol': None}\n",
      "0.896 (+/-0.090) for {'alpha': 0.001, 'loss': 'log', 'max_iter': 60, 'penalty': 'l1', 'random_state': 3, 'tol': 0.001}\n",
      "0.901 (+/-0.091) for {'alpha': 0.001, 'loss': 'log', 'max_iter': 70, 'penalty': 'l2', 'random_state': 3, 'tol': None}\n",
      "0.911 (+/-0.079) for {'alpha': 0.001, 'loss': 'log', 'max_iter': 70, 'penalty': 'l2', 'random_state': 3, 'tol': 0.001}\n",
      "0.896 (+/-0.080) for {'alpha': 0.001, 'loss': 'log', 'max_iter': 70, 'penalty': 'l1', 'random_state': 3, 'tol': None}\n",
      "0.896 (+/-0.090) for {'alpha': 0.001, 'loss': 'log', 'max_iter': 70, 'penalty': 'l1', 'random_state': 3, 'tol': 0.001}\n",
      "0.906 (+/-0.094) for {'alpha': 0.001, 'loss': 'log', 'max_iter': 100, 'penalty': 'l2', 'random_state': 3, 'tol': None}\n",
      "0.911 (+/-0.079) for {'alpha': 0.001, 'loss': 'log', 'max_iter': 100, 'penalty': 'l2', 'random_state': 3, 'tol': 0.001}\n",
      "0.896 (+/-0.080) for {'alpha': 0.001, 'loss': 'log', 'max_iter': 100, 'penalty': 'l1', 'random_state': 3, 'tol': None}\n",
      "0.896 (+/-0.090) for {'alpha': 0.001, 'loss': 'log', 'max_iter': 100, 'penalty': 'l1', 'random_state': 3, 'tol': 0.001}\n",
      "0.906 (+/-0.094) for {'alpha': 0.001, 'loss': 'log', 'max_iter': 1000, 'penalty': 'l2', 'random_state': 3, 'tol': None}\n",
      "0.911 (+/-0.079) for {'alpha': 0.001, 'loss': 'log', 'max_iter': 1000, 'penalty': 'l2', 'random_state': 3, 'tol': 0.001}\n",
      "0.896 (+/-0.080) for {'alpha': 0.001, 'loss': 'log', 'max_iter': 1000, 'penalty': 'l1', 'random_state': 3, 'tol': None}\n",
      "0.896 (+/-0.090) for {'alpha': 0.001, 'loss': 'log', 'max_iter': 1000, 'penalty': 'l1', 'random_state': 3, 'tol': 0.001}\n",
      "0.906 (+/-0.094) for {'alpha': 0.001, 'loss': 'log', 'max_iter': 10000, 'penalty': 'l2', 'random_state': 3, 'tol': None}\n",
      "0.911 (+/-0.079) for {'alpha': 0.001, 'loss': 'log', 'max_iter': 10000, 'penalty': 'l2', 'random_state': 3, 'tol': 0.001}\n",
      "0.896 (+/-0.080) for {'alpha': 0.001, 'loss': 'log', 'max_iter': 10000, 'penalty': 'l1', 'random_state': 3, 'tol': None}\n",
      "0.896 (+/-0.090) for {'alpha': 0.001, 'loss': 'log', 'max_iter': 10000, 'penalty': 'l1', 'random_state': 3, 'tol': 0.001}\n",
      "0.828 (+/-0.206) for {'alpha': 0.1, 'loss': 'hinge', 'max_iter': 5, 'penalty': 'l2', 'random_state': 3, 'tol': None}\n",
      "0.828 (+/-0.206) for {'alpha': 0.1, 'loss': 'hinge', 'max_iter': 5, 'penalty': 'l2', 'random_state': 3, 'tol': 0.001}\n",
      "0.333 (+/-0.000) for {'alpha': 0.1, 'loss': 'hinge', 'max_iter': 5, 'penalty': 'l1', 'random_state': 3, 'tol': None}\n",
      "0.333 (+/-0.000) for {'alpha': 0.1, 'loss': 'hinge', 'max_iter': 5, 'penalty': 'l1', 'random_state': 3, 'tol': 0.001}\n",
      "0.865 (+/-0.130) for {'alpha': 0.1, 'loss': 'hinge', 'max_iter': 10, 'penalty': 'l2', 'random_state': 3, 'tol': None}\n",
      "0.865 (+/-0.130) for {'alpha': 0.1, 'loss': 'hinge', 'max_iter': 10, 'penalty': 'l2', 'random_state': 3, 'tol': 0.001}\n",
      "0.333 (+/-0.000) for {'alpha': 0.1, 'loss': 'hinge', 'max_iter': 10, 'penalty': 'l1', 'random_state': 3, 'tol': None}\n",
      "0.333 (+/-0.000) for {'alpha': 0.1, 'loss': 'hinge', 'max_iter': 10, 'penalty': 'l1', 'random_state': 3, 'tol': 0.001}\n",
      "0.854 (+/-0.209) for {'alpha': 0.1, 'loss': 'hinge', 'max_iter': 20, 'penalty': 'l2', 'random_state': 3, 'tol': None}\n",
      "0.854 (+/-0.142) for {'alpha': 0.1, 'loss': 'hinge', 'max_iter': 20, 'penalty': 'l2', 'random_state': 3, 'tol': 0.001}\n",
      "0.333 (+/-0.000) for {'alpha': 0.1, 'loss': 'hinge', 'max_iter': 20, 'penalty': 'l1', 'random_state': 3, 'tol': None}\n",
      "0.333 (+/-0.000) for {'alpha': 0.1, 'loss': 'hinge', 'max_iter': 20, 'penalty': 'l1', 'random_state': 3, 'tol': 0.001}\n",
      "0.865 (+/-0.181) for {'alpha': 0.1, 'loss': 'hinge', 'max_iter': 30, 'penalty': 'l2', 'random_state': 3, 'tol': None}\n",
      "0.854 (+/-0.142) for {'alpha': 0.1, 'loss': 'hinge', 'max_iter': 30, 'penalty': 'l2', 'random_state': 3, 'tol': 0.001}\n",
      "0.333 (+/-0.000) for {'alpha': 0.1, 'loss': 'hinge', 'max_iter': 30, 'penalty': 'l1', 'random_state': 3, 'tol': None}\n",
      "0.333 (+/-0.000) for {'alpha': 0.1, 'loss': 'hinge', 'max_iter': 30, 'penalty': 'l1', 'random_state': 3, 'tol': 0.001}\n",
      "0.870 (+/-0.168) for {'alpha': 0.1, 'loss': 'hinge', 'max_iter': 50, 'penalty': 'l2', 'random_state': 3, 'tol': None}\n",
      "0.854 (+/-0.142) for {'alpha': 0.1, 'loss': 'hinge', 'max_iter': 50, 'penalty': 'l2', 'random_state': 3, 'tol': 0.001}\n",
      "0.333 (+/-0.000) for {'alpha': 0.1, 'loss': 'hinge', 'max_iter': 50, 'penalty': 'l1', 'random_state': 3, 'tol': None}\n",
      "0.333 (+/-0.000) for {'alpha': 0.1, 'loss': 'hinge', 'max_iter': 50, 'penalty': 'l1', 'random_state': 3, 'tol': 0.001}\n",
      "0.875 (+/-0.169) for {'alpha': 0.1, 'loss': 'hinge', 'max_iter': 60, 'penalty': 'l2', 'random_state': 3, 'tol': None}\n",
      "0.854 (+/-0.142) for {'alpha': 0.1, 'loss': 'hinge', 'max_iter': 60, 'penalty': 'l2', 'random_state': 3, 'tol': 0.001}\n",
      "0.333 (+/-0.000) for {'alpha': 0.1, 'loss': 'hinge', 'max_iter': 60, 'penalty': 'l1', 'random_state': 3, 'tol': None}\n",
      "0.333 (+/-0.000) for {'alpha': 0.1, 'loss': 'hinge', 'max_iter': 60, 'penalty': 'l1', 'random_state': 3, 'tol': 0.001}\n",
      "0.870 (+/-0.168) for {'alpha': 0.1, 'loss': 'hinge', 'max_iter': 70, 'penalty': 'l2', 'random_state': 3, 'tol': None}\n",
      "0.854 (+/-0.142) for {'alpha': 0.1, 'loss': 'hinge', 'max_iter': 70, 'penalty': 'l2', 'random_state': 3, 'tol': 0.001}\n",
      "0.333 (+/-0.000) for {'alpha': 0.1, 'loss': 'hinge', 'max_iter': 70, 'penalty': 'l1', 'random_state': 3, 'tol': None}\n",
      "0.333 (+/-0.000) for {'alpha': 0.1, 'loss': 'hinge', 'max_iter': 70, 'penalty': 'l1', 'random_state': 3, 'tol': 0.001}\n",
      "0.870 (+/-0.183) for {'alpha': 0.1, 'loss': 'hinge', 'max_iter': 100, 'penalty': 'l2', 'random_state': 3, 'tol': None}\n",
      "0.854 (+/-0.142) for {'alpha': 0.1, 'loss': 'hinge', 'max_iter': 100, 'penalty': 'l2', 'random_state': 3, 'tol': 0.001}\n",
      "0.333 (+/-0.000) for {'alpha': 0.1, 'loss': 'hinge', 'max_iter': 100, 'penalty': 'l1', 'random_state': 3, 'tol': None}\n",
      "0.333 (+/-0.000) for {'alpha': 0.1, 'loss': 'hinge', 'max_iter': 100, 'penalty': 'l1', 'random_state': 3, 'tol': 0.001}\n",
      "0.875 (+/-0.169) for {'alpha': 0.1, 'loss': 'hinge', 'max_iter': 1000, 'penalty': 'l2', 'random_state': 3, 'tol': None}\n",
      "0.854 (+/-0.142) for {'alpha': 0.1, 'loss': 'hinge', 'max_iter': 1000, 'penalty': 'l2', 'random_state': 3, 'tol': 0.001}\n",
      "0.333 (+/-0.000) for {'alpha': 0.1, 'loss': 'hinge', 'max_iter': 1000, 'penalty': 'l1', 'random_state': 3, 'tol': None}\n",
      "0.333 (+/-0.000) for {'alpha': 0.1, 'loss': 'hinge', 'max_iter': 1000, 'penalty': 'l1', 'random_state': 3, 'tol': 0.001}\n",
      "0.875 (+/-0.169) for {'alpha': 0.1, 'loss': 'hinge', 'max_iter': 10000, 'penalty': 'l2', 'random_state': 3, 'tol': None}\n",
      "0.854 (+/-0.142) for {'alpha': 0.1, 'loss': 'hinge', 'max_iter': 10000, 'penalty': 'l2', 'random_state': 3, 'tol': 0.001}\n",
      "0.333 (+/-0.000) for {'alpha': 0.1, 'loss': 'hinge', 'max_iter': 10000, 'penalty': 'l1', 'random_state': 3, 'tol': None}\n",
      "0.333 (+/-0.000) for {'alpha': 0.1, 'loss': 'hinge', 'max_iter': 10000, 'penalty': 'l1', 'random_state': 3, 'tol': 0.001}\n",
      "0.828 (+/-0.212) for {'alpha': 0.1, 'loss': 'log', 'max_iter': 5, 'penalty': 'l2', 'random_state': 3, 'tol': None}\n",
      "0.828 (+/-0.212) for {'alpha': 0.1, 'loss': 'log', 'max_iter': 5, 'penalty': 'l2', 'random_state': 3, 'tol': 0.001}\n",
      "0.333 (+/-0.000) for {'alpha': 0.1, 'loss': 'log', 'max_iter': 5, 'penalty': 'l1', 'random_state': 3, 'tol': None}\n",
      "0.333 (+/-0.000) for {'alpha': 0.1, 'loss': 'log', 'max_iter': 5, 'penalty': 'l1', 'random_state': 3, 'tol': 0.001}\n",
      "0.839 (+/-0.193) for {'alpha': 0.1, 'loss': 'log', 'max_iter': 10, 'penalty': 'l2', 'random_state': 3, 'tol': None}\n",
      "0.833 (+/-0.207) for {'alpha': 0.1, 'loss': 'log', 'max_iter': 10, 'penalty': 'l2', 'random_state': 3, 'tol': 0.001}\n",
      "0.333 (+/-0.000) for {'alpha': 0.1, 'loss': 'log', 'max_iter': 10, 'penalty': 'l1', 'random_state': 3, 'tol': None}\n",
      "0.333 (+/-0.000) for {'alpha': 0.1, 'loss': 'log', 'max_iter': 10, 'penalty': 'l1', 'random_state': 3, 'tol': 0.001}\n",
      "0.844 (+/-0.220) for {'alpha': 0.1, 'loss': 'log', 'max_iter': 20, 'penalty': 'l2', 'random_state': 3, 'tol': None}\n",
      "0.844 (+/-0.220) for {'alpha': 0.1, 'loss': 'log', 'max_iter': 20, 'penalty': 'l2', 'random_state': 3, 'tol': 0.001}\n",
      "0.333 (+/-0.000) for {'alpha': 0.1, 'loss': 'log', 'max_iter': 20, 'penalty': 'l1', 'random_state': 3, 'tol': None}\n",
      "0.333 (+/-0.000) for {'alpha': 0.1, 'loss': 'log', 'max_iter': 20, 'penalty': 'l1', 'random_state': 3, 'tol': 0.001}\n",
      "0.844 (+/-0.220) for {'alpha': 0.1, 'loss': 'log', 'max_iter': 30, 'penalty': 'l2', 'random_state': 3, 'tol': None}\n",
      "0.844 (+/-0.220) for {'alpha': 0.1, 'loss': 'log', 'max_iter': 30, 'penalty': 'l2', 'random_state': 3, 'tol': 0.001}\n",
      "0.333 (+/-0.000) for {'alpha': 0.1, 'loss': 'log', 'max_iter': 30, 'penalty': 'l1', 'random_state': 3, 'tol': None}\n",
      "0.333 (+/-0.000) for {'alpha': 0.1, 'loss': 'log', 'max_iter': 30, 'penalty': 'l1', 'random_state': 3, 'tol': 0.001}\n",
      "0.844 (+/-0.220) for {'alpha': 0.1, 'loss': 'log', 'max_iter': 50, 'penalty': 'l2', 'random_state': 3, 'tol': None}\n",
      "0.844 (+/-0.220) for {'alpha': 0.1, 'loss': 'log', 'max_iter': 50, 'penalty': 'l2', 'random_state': 3, 'tol': 0.001}\n",
      "0.333 (+/-0.000) for {'alpha': 0.1, 'loss': 'log', 'max_iter': 50, 'penalty': 'l1', 'random_state': 3, 'tol': None}\n",
      "0.333 (+/-0.000) for {'alpha': 0.1, 'loss': 'log', 'max_iter': 50, 'penalty': 'l1', 'random_state': 3, 'tol': 0.001}\n",
      "0.844 (+/-0.220) for {'alpha': 0.1, 'loss': 'log', 'max_iter': 60, 'penalty': 'l2', 'random_state': 3, 'tol': None}\n",
      "0.844 (+/-0.220) for {'alpha': 0.1, 'loss': 'log', 'max_iter': 60, 'penalty': 'l2', 'random_state': 3, 'tol': 0.001}\n",
      "0.333 (+/-0.000) for {'alpha': 0.1, 'loss': 'log', 'max_iter': 60, 'penalty': 'l1', 'random_state': 3, 'tol': None}\n",
      "0.333 (+/-0.000) for {'alpha': 0.1, 'loss': 'log', 'max_iter': 60, 'penalty': 'l1', 'random_state': 3, 'tol': 0.001}\n",
      "0.844 (+/-0.220) for {'alpha': 0.1, 'loss': 'log', 'max_iter': 70, 'penalty': 'l2', 'random_state': 3, 'tol': None}\n",
      "0.844 (+/-0.220) for {'alpha': 0.1, 'loss': 'log', 'max_iter': 70, 'penalty': 'l2', 'random_state': 3, 'tol': 0.001}\n",
      "0.333 (+/-0.000) for {'alpha': 0.1, 'loss': 'log', 'max_iter': 70, 'penalty': 'l1', 'random_state': 3, 'tol': None}\n",
      "0.333 (+/-0.000) for {'alpha': 0.1, 'loss': 'log', 'max_iter': 70, 'penalty': 'l1', 'random_state': 3, 'tol': 0.001}\n",
      "0.844 (+/-0.220) for {'alpha': 0.1, 'loss': 'log', 'max_iter': 100, 'penalty': 'l2', 'random_state': 3, 'tol': None}\n",
      "0.844 (+/-0.220) for {'alpha': 0.1, 'loss': 'log', 'max_iter': 100, 'penalty': 'l2', 'random_state': 3, 'tol': 0.001}\n",
      "0.333 (+/-0.000) for {'alpha': 0.1, 'loss': 'log', 'max_iter': 100, 'penalty': 'l1', 'random_state': 3, 'tol': None}\n",
      "0.333 (+/-0.000) for {'alpha': 0.1, 'loss': 'log', 'max_iter': 100, 'penalty': 'l1', 'random_state': 3, 'tol': 0.001}\n",
      "0.844 (+/-0.220) for {'alpha': 0.1, 'loss': 'log', 'max_iter': 1000, 'penalty': 'l2', 'random_state': 3, 'tol': None}\n",
      "0.844 (+/-0.220) for {'alpha': 0.1, 'loss': 'log', 'max_iter': 1000, 'penalty': 'l2', 'random_state': 3, 'tol': 0.001}\n",
      "0.333 (+/-0.000) for {'alpha': 0.1, 'loss': 'log', 'max_iter': 1000, 'penalty': 'l1', 'random_state': 3, 'tol': None}\n",
      "0.333 (+/-0.000) for {'alpha': 0.1, 'loss': 'log', 'max_iter': 1000, 'penalty': 'l1', 'random_state': 3, 'tol': 0.001}\n",
      "0.844 (+/-0.220) for {'alpha': 0.1, 'loss': 'log', 'max_iter': 10000, 'penalty': 'l2', 'random_state': 3, 'tol': None}\n",
      "0.844 (+/-0.220) for {'alpha': 0.1, 'loss': 'log', 'max_iter': 10000, 'penalty': 'l2', 'random_state': 3, 'tol': 0.001}\n",
      "0.333 (+/-0.000) for {'alpha': 0.1, 'loss': 'log', 'max_iter': 10000, 'penalty': 'l1', 'random_state': 3, 'tol': None}\n",
      "0.333 (+/-0.000) for {'alpha': 0.1, 'loss': 'log', 'max_iter': 10000, 'penalty': 'l1', 'random_state': 3, 'tol': 0.001}\n",
      "0.630 (+/-0.433) for {'alpha': 1.0, 'loss': 'hinge', 'max_iter': 5, 'penalty': 'l2', 'random_state': 3, 'tol': None}\n",
      "0.630 (+/-0.433) for {'alpha': 1.0, 'loss': 'hinge', 'max_iter': 5, 'penalty': 'l2', 'random_state': 3, 'tol': 0.001}\n",
      "0.333 (+/-0.000) for {'alpha': 1.0, 'loss': 'hinge', 'max_iter': 5, 'penalty': 'l1', 'random_state': 3, 'tol': None}\n",
      "0.333 (+/-0.000) for {'alpha': 1.0, 'loss': 'hinge', 'max_iter': 5, 'penalty': 'l1', 'random_state': 3, 'tol': 0.001}\n",
      "0.677 (+/-0.487) for {'alpha': 1.0, 'loss': 'hinge', 'max_iter': 10, 'penalty': 'l2', 'random_state': 3, 'tol': None}\n",
      "0.641 (+/-0.435) for {'alpha': 1.0, 'loss': 'hinge', 'max_iter': 10, 'penalty': 'l2', 'random_state': 3, 'tol': 0.001}\n",
      "0.333 (+/-0.000) for {'alpha': 1.0, 'loss': 'hinge', 'max_iter': 10, 'penalty': 'l1', 'random_state': 3, 'tol': None}\n",
      "0.333 (+/-0.000) for {'alpha': 1.0, 'loss': 'hinge', 'max_iter': 10, 'penalty': 'l1', 'random_state': 3, 'tol': 0.001}\n",
      "0.812 (+/-0.109) for {'alpha': 1.0, 'loss': 'hinge', 'max_iter': 20, 'penalty': 'l2', 'random_state': 3, 'tol': None}\n",
      "0.781 (+/-0.076) for {'alpha': 1.0, 'loss': 'hinge', 'max_iter': 20, 'penalty': 'l2', 'random_state': 3, 'tol': 0.001}\n",
      "0.333 (+/-0.000) for {'alpha': 1.0, 'loss': 'hinge', 'max_iter': 20, 'penalty': 'l1', 'random_state': 3, 'tol': None}\n",
      "0.333 (+/-0.000) for {'alpha': 1.0, 'loss': 'hinge', 'max_iter': 20, 'penalty': 'l1', 'random_state': 3, 'tol': 0.001}\n",
      "0.839 (+/-0.121) for {'alpha': 1.0, 'loss': 'hinge', 'max_iter': 30, 'penalty': 'l2', 'random_state': 3, 'tol': None}\n",
      "0.781 (+/-0.076) for {'alpha': 1.0, 'loss': 'hinge', 'max_iter': 30, 'penalty': 'l2', 'random_state': 3, 'tol': 0.001}\n",
      "0.333 (+/-0.000) for {'alpha': 1.0, 'loss': 'hinge', 'max_iter': 30, 'penalty': 'l1', 'random_state': 3, 'tol': None}\n",
      "0.333 (+/-0.000) for {'alpha': 1.0, 'loss': 'hinge', 'max_iter': 30, 'penalty': 'l1', 'random_state': 3, 'tol': 0.001}\n",
      "0.870 (+/-0.158) for {'alpha': 1.0, 'loss': 'hinge', 'max_iter': 50, 'penalty': 'l2', 'random_state': 3, 'tol': None}\n",
      "0.781 (+/-0.076) for {'alpha': 1.0, 'loss': 'hinge', 'max_iter': 50, 'penalty': 'l2', 'random_state': 3, 'tol': 0.001}\n",
      "0.333 (+/-0.000) for {'alpha': 1.0, 'loss': 'hinge', 'max_iter': 50, 'penalty': 'l1', 'random_state': 3, 'tol': None}\n",
      "0.333 (+/-0.000) for {'alpha': 1.0, 'loss': 'hinge', 'max_iter': 50, 'penalty': 'l1', 'random_state': 3, 'tol': 0.001}\n",
      "0.865 (+/-0.156) for {'alpha': 1.0, 'loss': 'hinge', 'max_iter': 60, 'penalty': 'l2', 'random_state': 3, 'tol': None}\n",
      "0.781 (+/-0.076) for {'alpha': 1.0, 'loss': 'hinge', 'max_iter': 60, 'penalty': 'l2', 'random_state': 3, 'tol': 0.001}\n",
      "0.333 (+/-0.000) for {'alpha': 1.0, 'loss': 'hinge', 'max_iter': 60, 'penalty': 'l1', 'random_state': 3, 'tol': None}\n",
      "0.333 (+/-0.000) for {'alpha': 1.0, 'loss': 'hinge', 'max_iter': 60, 'penalty': 'l1', 'random_state': 3, 'tol': 0.001}\n",
      "0.865 (+/-0.156) for {'alpha': 1.0, 'loss': 'hinge', 'max_iter': 70, 'penalty': 'l2', 'random_state': 3, 'tol': None}\n",
      "0.781 (+/-0.076) for {'alpha': 1.0, 'loss': 'hinge', 'max_iter': 70, 'penalty': 'l2', 'random_state': 3, 'tol': 0.001}\n",
      "0.333 (+/-0.000) for {'alpha': 1.0, 'loss': 'hinge', 'max_iter': 70, 'penalty': 'l1', 'random_state': 3, 'tol': None}\n",
      "0.333 (+/-0.000) for {'alpha': 1.0, 'loss': 'hinge', 'max_iter': 70, 'penalty': 'l1', 'random_state': 3, 'tol': 0.001}\n",
      "0.875 (+/-0.187) for {'alpha': 1.0, 'loss': 'hinge', 'max_iter': 100, 'penalty': 'l2', 'random_state': 3, 'tol': None}\n",
      "0.781 (+/-0.076) for {'alpha': 1.0, 'loss': 'hinge', 'max_iter': 100, 'penalty': 'l2', 'random_state': 3, 'tol': 0.001}\n",
      "0.333 (+/-0.000) for {'alpha': 1.0, 'loss': 'hinge', 'max_iter': 100, 'penalty': 'l1', 'random_state': 3, 'tol': None}\n",
      "0.333 (+/-0.000) for {'alpha': 1.0, 'loss': 'hinge', 'max_iter': 100, 'penalty': 'l1', 'random_state': 3, 'tol': 0.001}\n",
      "0.875 (+/-0.169) for {'alpha': 1.0, 'loss': 'hinge', 'max_iter': 1000, 'penalty': 'l2', 'random_state': 3, 'tol': None}\n",
      "0.781 (+/-0.076) for {'alpha': 1.0, 'loss': 'hinge', 'max_iter': 1000, 'penalty': 'l2', 'random_state': 3, 'tol': 0.001}\n",
      "0.333 (+/-0.000) for {'alpha': 1.0, 'loss': 'hinge', 'max_iter': 1000, 'penalty': 'l1', 'random_state': 3, 'tol': None}\n",
      "0.333 (+/-0.000) for {'alpha': 1.0, 'loss': 'hinge', 'max_iter': 1000, 'penalty': 'l1', 'random_state': 3, 'tol': 0.001}\n",
      "0.875 (+/-0.169) for {'alpha': 1.0, 'loss': 'hinge', 'max_iter': 10000, 'penalty': 'l2', 'random_state': 3, 'tol': None}\n",
      "0.781 (+/-0.076) for {'alpha': 1.0, 'loss': 'hinge', 'max_iter': 10000, 'penalty': 'l2', 'random_state': 3, 'tol': 0.001}\n",
      "0.333 (+/-0.000) for {'alpha': 1.0, 'loss': 'hinge', 'max_iter': 10000, 'penalty': 'l1', 'random_state': 3, 'tol': None}\n",
      "0.333 (+/-0.000) for {'alpha': 1.0, 'loss': 'hinge', 'max_iter': 10000, 'penalty': 'l1', 'random_state': 3, 'tol': 0.001}\n",
      "0.333 (+/-0.000) for {'alpha': 1.0, 'loss': 'log', 'max_iter': 5, 'penalty': 'l2', 'random_state': 3, 'tol': None}\n",
      "0.333 (+/-0.000) for {'alpha': 1.0, 'loss': 'log', 'max_iter': 5, 'penalty': 'l2', 'random_state': 3, 'tol': 0.001}\n",
      "0.333 (+/-0.000) for {'alpha': 1.0, 'loss': 'log', 'max_iter': 5, 'penalty': 'l1', 'random_state': 3, 'tol': None}\n",
      "0.333 (+/-0.000) for {'alpha': 1.0, 'loss': 'log', 'max_iter': 5, 'penalty': 'l1', 'random_state': 3, 'tol': 0.001}\n",
      "0.333 (+/-0.000) for {'alpha': 1.0, 'loss': 'log', 'max_iter': 10, 'penalty': 'l2', 'random_state': 3, 'tol': None}\n",
      "0.333 (+/-0.000) for {'alpha': 1.0, 'loss': 'log', 'max_iter': 10, 'penalty': 'l2', 'random_state': 3, 'tol': 0.001}\n",
      "0.333 (+/-0.000) for {'alpha': 1.0, 'loss': 'log', 'max_iter': 10, 'penalty': 'l1', 'random_state': 3, 'tol': None}\n",
      "0.333 (+/-0.000) for {'alpha': 1.0, 'loss': 'log', 'max_iter': 10, 'penalty': 'l1', 'random_state': 3, 'tol': 0.001}\n",
      "0.333 (+/-0.000) for {'alpha': 1.0, 'loss': 'log', 'max_iter': 20, 'penalty': 'l2', 'random_state': 3, 'tol': None}\n",
      "0.333 (+/-0.000) for {'alpha': 1.0, 'loss': 'log', 'max_iter': 20, 'penalty': 'l2', 'random_state': 3, 'tol': 0.001}\n",
      "0.333 (+/-0.000) for {'alpha': 1.0, 'loss': 'log', 'max_iter': 20, 'penalty': 'l1', 'random_state': 3, 'tol': None}\n",
      "0.333 (+/-0.000) for {'alpha': 1.0, 'loss': 'log', 'max_iter': 20, 'penalty': 'l1', 'random_state': 3, 'tol': 0.001}\n",
      "0.333 (+/-0.000) for {'alpha': 1.0, 'loss': 'log', 'max_iter': 30, 'penalty': 'l2', 'random_state': 3, 'tol': None}\n",
      "0.333 (+/-0.000) for {'alpha': 1.0, 'loss': 'log', 'max_iter': 30, 'penalty': 'l2', 'random_state': 3, 'tol': 0.001}\n",
      "0.333 (+/-0.000) for {'alpha': 1.0, 'loss': 'log', 'max_iter': 30, 'penalty': 'l1', 'random_state': 3, 'tol': None}\n",
      "0.333 (+/-0.000) for {'alpha': 1.0, 'loss': 'log', 'max_iter': 30, 'penalty': 'l1', 'random_state': 3, 'tol': 0.001}\n",
      "0.333 (+/-0.000) for {'alpha': 1.0, 'loss': 'log', 'max_iter': 50, 'penalty': 'l2', 'random_state': 3, 'tol': None}\n",
      "0.333 (+/-0.000) for {'alpha': 1.0, 'loss': 'log', 'max_iter': 50, 'penalty': 'l2', 'random_state': 3, 'tol': 0.001}\n",
      "0.333 (+/-0.000) for {'alpha': 1.0, 'loss': 'log', 'max_iter': 50, 'penalty': 'l1', 'random_state': 3, 'tol': None}\n",
      "0.333 (+/-0.000) for {'alpha': 1.0, 'loss': 'log', 'max_iter': 50, 'penalty': 'l1', 'random_state': 3, 'tol': 0.001}\n",
      "0.333 (+/-0.000) for {'alpha': 1.0, 'loss': 'log', 'max_iter': 60, 'penalty': 'l2', 'random_state': 3, 'tol': None}\n",
      "0.333 (+/-0.000) for {'alpha': 1.0, 'loss': 'log', 'max_iter': 60, 'penalty': 'l2', 'random_state': 3, 'tol': 0.001}\n",
      "0.333 (+/-0.000) for {'alpha': 1.0, 'loss': 'log', 'max_iter': 60, 'penalty': 'l1', 'random_state': 3, 'tol': None}\n",
      "0.333 (+/-0.000) for {'alpha': 1.0, 'loss': 'log', 'max_iter': 60, 'penalty': 'l1', 'random_state': 3, 'tol': 0.001}\n",
      "0.333 (+/-0.000) for {'alpha': 1.0, 'loss': 'log', 'max_iter': 70, 'penalty': 'l2', 'random_state': 3, 'tol': None}\n",
      "0.333 (+/-0.000) for {'alpha': 1.0, 'loss': 'log', 'max_iter': 70, 'penalty': 'l2', 'random_state': 3, 'tol': 0.001}\n",
      "0.333 (+/-0.000) for {'alpha': 1.0, 'loss': 'log', 'max_iter': 70, 'penalty': 'l1', 'random_state': 3, 'tol': None}\n",
      "0.333 (+/-0.000) for {'alpha': 1.0, 'loss': 'log', 'max_iter': 70, 'penalty': 'l1', 'random_state': 3, 'tol': 0.001}\n",
      "0.333 (+/-0.000) for {'alpha': 1.0, 'loss': 'log', 'max_iter': 100, 'penalty': 'l2', 'random_state': 3, 'tol': None}\n",
      "0.333 (+/-0.000) for {'alpha': 1.0, 'loss': 'log', 'max_iter': 100, 'penalty': 'l2', 'random_state': 3, 'tol': 0.001}\n",
      "0.333 (+/-0.000) for {'alpha': 1.0, 'loss': 'log', 'max_iter': 100, 'penalty': 'l1', 'random_state': 3, 'tol': None}\n",
      "0.333 (+/-0.000) for {'alpha': 1.0, 'loss': 'log', 'max_iter': 100, 'penalty': 'l1', 'random_state': 3, 'tol': 0.001}\n",
      "0.333 (+/-0.000) for {'alpha': 1.0, 'loss': 'log', 'max_iter': 1000, 'penalty': 'l2', 'random_state': 3, 'tol': None}\n",
      "0.333 (+/-0.000) for {'alpha': 1.0, 'loss': 'log', 'max_iter': 1000, 'penalty': 'l2', 'random_state': 3, 'tol': 0.001}\n",
      "0.333 (+/-0.000) for {'alpha': 1.0, 'loss': 'log', 'max_iter': 1000, 'penalty': 'l1', 'random_state': 3, 'tol': None}\n",
      "0.333 (+/-0.000) for {'alpha': 1.0, 'loss': 'log', 'max_iter': 1000, 'penalty': 'l1', 'random_state': 3, 'tol': 0.001}\n",
      "0.333 (+/-0.000) for {'alpha': 1.0, 'loss': 'log', 'max_iter': 10000, 'penalty': 'l2', 'random_state': 3, 'tol': None}\n",
      "0.333 (+/-0.000) for {'alpha': 1.0, 'loss': 'log', 'max_iter': 10000, 'penalty': 'l2', 'random_state': 3, 'tol': 0.001}\n",
      "0.333 (+/-0.000) for {'alpha': 1.0, 'loss': 'log', 'max_iter': 10000, 'penalty': 'l1', 'random_state': 3, 'tol': None}\n",
      "0.333 (+/-0.000) for {'alpha': 1.0, 'loss': 'log', 'max_iter': 10000, 'penalty': 'l1', 'random_state': 3, 'tol': 0.001}\n",
      "0.865 (+/-0.056) for {'alpha': 0.0001, 'loss': 'hinge', 'max_iter': 5, 'penalty': 'l2', 'random_state': 3, 'tol': None}\n",
      "0.865 (+/-0.056) for {'alpha': 0.0001, 'loss': 'hinge', 'max_iter': 5, 'penalty': 'l2', 'random_state': 3, 'tol': 0.001}\n",
      "0.911 (+/-0.032) for {'alpha': 0.0001, 'loss': 'hinge', 'max_iter': 5, 'penalty': 'l1', 'random_state': 3, 'tol': None}\n",
      "0.911 (+/-0.032) for {'alpha': 0.0001, 'loss': 'hinge', 'max_iter': 5, 'penalty': 'l1', 'random_state': 3, 'tol': 0.001}\n",
      "0.875 (+/-0.119) for {'alpha': 0.0001, 'loss': 'hinge', 'max_iter': 10, 'penalty': 'l2', 'random_state': 3, 'tol': None}\n",
      "0.875 (+/-0.119) for {'alpha': 0.0001, 'loss': 'hinge', 'max_iter': 10, 'penalty': 'l2', 'random_state': 3, 'tol': 0.001}\n",
      "0.911 (+/-0.055) for {'alpha': 0.0001, 'loss': 'hinge', 'max_iter': 10, 'penalty': 'l1', 'random_state': 3, 'tol': None}\n",
      "0.911 (+/-0.055) for {'alpha': 0.0001, 'loss': 'hinge', 'max_iter': 10, 'penalty': 'l1', 'random_state': 3, 'tol': 0.001}\n",
      "0.833 (+/-0.124) for {'alpha': 0.0001, 'loss': 'hinge', 'max_iter': 20, 'penalty': 'l2', 'random_state': 3, 'tol': None}\n",
      "0.901 (+/-0.050) for {'alpha': 0.0001, 'loss': 'hinge', 'max_iter': 20, 'penalty': 'l2', 'random_state': 3, 'tol': 0.001}\n",
      "0.896 (+/-0.081) for {'alpha': 0.0001, 'loss': 'hinge', 'max_iter': 20, 'penalty': 'l1', 'random_state': 3, 'tol': None}\n",
      "0.911 (+/-0.055) for {'alpha': 0.0001, 'loss': 'hinge', 'max_iter': 20, 'penalty': 'l1', 'random_state': 3, 'tol': 0.001}\n",
      "0.906 (+/-0.089) for {'alpha': 0.0001, 'loss': 'hinge', 'max_iter': 30, 'penalty': 'l2', 'random_state': 3, 'tol': None}\n",
      "0.901 (+/-0.050) for {'alpha': 0.0001, 'loss': 'hinge', 'max_iter': 30, 'penalty': 'l2', 'random_state': 3, 'tol': 0.001}\n",
      "0.885 (+/-0.094) for {'alpha': 0.0001, 'loss': 'hinge', 'max_iter': 30, 'penalty': 'l1', 'random_state': 3, 'tol': None}\n",
      "0.917 (+/-0.078) for {'alpha': 0.0001, 'loss': 'hinge', 'max_iter': 30, 'penalty': 'l1', 'random_state': 3, 'tol': 0.001}\n",
      "0.911 (+/-0.055) for {'alpha': 0.0001, 'loss': 'hinge', 'max_iter': 50, 'penalty': 'l2', 'random_state': 3, 'tol': None}\n",
      "0.901 (+/-0.050) for {'alpha': 0.0001, 'loss': 'hinge', 'max_iter': 50, 'penalty': 'l2', 'random_state': 3, 'tol': 0.001}\n",
      "0.901 (+/-0.096) for {'alpha': 0.0001, 'loss': 'hinge', 'max_iter': 50, 'penalty': 'l1', 'random_state': 3, 'tol': None}\n",
      "0.917 (+/-0.078) for {'alpha': 0.0001, 'loss': 'hinge', 'max_iter': 50, 'penalty': 'l1', 'random_state': 3, 'tol': 0.001}\n",
      "0.917 (+/-0.053) for {'alpha': 0.0001, 'loss': 'hinge', 'max_iter': 60, 'penalty': 'l2', 'random_state': 3, 'tol': None}\n",
      "0.901 (+/-0.050) for {'alpha': 0.0001, 'loss': 'hinge', 'max_iter': 60, 'penalty': 'l2', 'random_state': 3, 'tol': 0.001}\n",
      "0.891 (+/-0.109) for {'alpha': 0.0001, 'loss': 'hinge', 'max_iter': 60, 'penalty': 'l1', 'random_state': 3, 'tol': None}\n",
      "0.917 (+/-0.078) for {'alpha': 0.0001, 'loss': 'hinge', 'max_iter': 60, 'penalty': 'l1', 'random_state': 3, 'tol': 0.001}\n",
      "0.911 (+/-0.039) for {'alpha': 0.0001, 'loss': 'hinge', 'max_iter': 70, 'penalty': 'l2', 'random_state': 3, 'tol': None}\n",
      "0.901 (+/-0.050) for {'alpha': 0.0001, 'loss': 'hinge', 'max_iter': 70, 'penalty': 'l2', 'random_state': 3, 'tol': 0.001}\n",
      "0.891 (+/-0.109) for {'alpha': 0.0001, 'loss': 'hinge', 'max_iter': 70, 'penalty': 'l1', 'random_state': 3, 'tol': None}\n",
      "0.917 (+/-0.078) for {'alpha': 0.0001, 'loss': 'hinge', 'max_iter': 70, 'penalty': 'l1', 'random_state': 3, 'tol': 0.001}\n",
      "0.917 (+/-0.078) for {'alpha': 0.0001, 'loss': 'hinge', 'max_iter': 100, 'penalty': 'l2', 'random_state': 3, 'tol': None}\n",
      "0.901 (+/-0.050) for {'alpha': 0.0001, 'loss': 'hinge', 'max_iter': 100, 'penalty': 'l2', 'random_state': 3, 'tol': 0.001}\n",
      "0.891 (+/-0.092) for {'alpha': 0.0001, 'loss': 'hinge', 'max_iter': 100, 'penalty': 'l1', 'random_state': 3, 'tol': None}\n",
      "0.917 (+/-0.078) for {'alpha': 0.0001, 'loss': 'hinge', 'max_iter': 100, 'penalty': 'l1', 'random_state': 3, 'tol': 0.001}\n",
      "0.922 (+/-0.052) for {'alpha': 0.0001, 'loss': 'hinge', 'max_iter': 1000, 'penalty': 'l2', 'random_state': 3, 'tol': None}\n",
      "0.901 (+/-0.050) for {'alpha': 0.0001, 'loss': 'hinge', 'max_iter': 1000, 'penalty': 'l2', 'random_state': 3, 'tol': 0.001}\n",
      "0.885 (+/-0.129) for {'alpha': 0.0001, 'loss': 'hinge', 'max_iter': 1000, 'penalty': 'l1', 'random_state': 3, 'tol': None}\n",
      "0.917 (+/-0.078) for {'alpha': 0.0001, 'loss': 'hinge', 'max_iter': 1000, 'penalty': 'l1', 'random_state': 3, 'tol': 0.001}\n",
      "0.917 (+/-0.053) for {'alpha': 0.0001, 'loss': 'hinge', 'max_iter': 10000, 'penalty': 'l2', 'random_state': 3, 'tol': None}\n",
      "0.901 (+/-0.050) for {'alpha': 0.0001, 'loss': 'hinge', 'max_iter': 10000, 'penalty': 'l2', 'random_state': 3, 'tol': 0.001}\n",
      "0.885 (+/-0.103) for {'alpha': 0.0001, 'loss': 'hinge', 'max_iter': 10000, 'penalty': 'l1', 'random_state': 3, 'tol': None}\n",
      "0.917 (+/-0.078) for {'alpha': 0.0001, 'loss': 'hinge', 'max_iter': 10000, 'penalty': 'l1', 'random_state': 3, 'tol': 0.001}\n",
      "0.891 (+/-0.065) for {'alpha': 0.0001, 'loss': 'log', 'max_iter': 5, 'penalty': 'l2', 'random_state': 3, 'tol': None}\n",
      "0.891 (+/-0.065) for {'alpha': 0.0001, 'loss': 'log', 'max_iter': 5, 'penalty': 'l2', 'random_state': 3, 'tol': 0.001}\n",
      "0.896 (+/-0.064) for {'alpha': 0.0001, 'loss': 'log', 'max_iter': 5, 'penalty': 'l1', 'random_state': 3, 'tol': None}\n",
      "0.896 (+/-0.064) for {'alpha': 0.0001, 'loss': 'log', 'max_iter': 5, 'penalty': 'l1', 'random_state': 3, 'tol': 0.001}\n",
      "0.906 (+/-0.067) for {'alpha': 0.0001, 'loss': 'log', 'max_iter': 10, 'penalty': 'l2', 'random_state': 3, 'tol': None}\n",
      "0.906 (+/-0.067) for {'alpha': 0.0001, 'loss': 'log', 'max_iter': 10, 'penalty': 'l2', 'random_state': 3, 'tol': 0.001}\n",
      "0.901 (+/-0.052) for {'alpha': 0.0001, 'loss': 'log', 'max_iter': 10, 'penalty': 'l1', 'random_state': 3, 'tol': None}\n",
      "0.901 (+/-0.052) for {'alpha': 0.0001, 'loss': 'log', 'max_iter': 10, 'penalty': 'l1', 'random_state': 3, 'tol': 0.001}\n",
      "0.906 (+/-0.052) for {'alpha': 0.0001, 'loss': 'log', 'max_iter': 20, 'penalty': 'l2', 'random_state': 3, 'tol': None}\n",
      "0.906 (+/-0.052) for {'alpha': 0.0001, 'loss': 'log', 'max_iter': 20, 'penalty': 'l2', 'random_state': 3, 'tol': 0.001}\n",
      "0.906 (+/-0.077) for {'alpha': 0.0001, 'loss': 'log', 'max_iter': 20, 'penalty': 'l1', 'random_state': 3, 'tol': None}\n",
      "0.911 (+/-0.064) for {'alpha': 0.0001, 'loss': 'log', 'max_iter': 20, 'penalty': 'l1', 'random_state': 3, 'tol': 0.001}\n",
      "0.911 (+/-0.057) for {'alpha': 0.0001, 'loss': 'log', 'max_iter': 30, 'penalty': 'l2', 'random_state': 3, 'tol': None}\n",
      "0.906 (+/-0.052) for {'alpha': 0.0001, 'loss': 'log', 'max_iter': 30, 'penalty': 'l2', 'random_state': 3, 'tol': 0.001}\n",
      "0.891 (+/-0.089) for {'alpha': 0.0001, 'loss': 'log', 'max_iter': 30, 'penalty': 'l1', 'random_state': 3, 'tol': None}\n",
      "0.911 (+/-0.064) for {'alpha': 0.0001, 'loss': 'log', 'max_iter': 30, 'penalty': 'l1', 'random_state': 3, 'tol': 0.001}\n",
      "0.917 (+/-0.065) for {'alpha': 0.0001, 'loss': 'log', 'max_iter': 50, 'penalty': 'l2', 'random_state': 3, 'tol': None}\n",
      "0.906 (+/-0.052) for {'alpha': 0.0001, 'loss': 'log', 'max_iter': 50, 'penalty': 'l2', 'random_state': 3, 'tol': 0.001}\n",
      "0.906 (+/-0.077) for {'alpha': 0.0001, 'loss': 'log', 'max_iter': 50, 'penalty': 'l1', 'random_state': 3, 'tol': None}\n",
      "0.911 (+/-0.064) for {'alpha': 0.0001, 'loss': 'log', 'max_iter': 50, 'penalty': 'l1', 'random_state': 3, 'tol': 0.001}\n",
      "0.911 (+/-0.079) for {'alpha': 0.0001, 'loss': 'log', 'max_iter': 60, 'penalty': 'l2', 'random_state': 3, 'tol': None}\n",
      "0.906 (+/-0.052) for {'alpha': 0.0001, 'loss': 'log', 'max_iter': 60, 'penalty': 'l2', 'random_state': 3, 'tol': 0.001}\n",
      "0.901 (+/-0.078) for {'alpha': 0.0001, 'loss': 'log', 'max_iter': 60, 'penalty': 'l1', 'random_state': 3, 'tol': None}\n",
      "0.911 (+/-0.064) for {'alpha': 0.0001, 'loss': 'log', 'max_iter': 60, 'penalty': 'l1', 'random_state': 3, 'tol': 0.001}\n",
      "0.911 (+/-0.064) for {'alpha': 0.0001, 'loss': 'log', 'max_iter': 70, 'penalty': 'l2', 'random_state': 3, 'tol': None}\n",
      "0.906 (+/-0.052) for {'alpha': 0.0001, 'loss': 'log', 'max_iter': 70, 'penalty': 'l2', 'random_state': 3, 'tol': 0.001}\n",
      "0.906 (+/-0.077) for {'alpha': 0.0001, 'loss': 'log', 'max_iter': 70, 'penalty': 'l1', 'random_state': 3, 'tol': None}\n",
      "0.911 (+/-0.064) for {'alpha': 0.0001, 'loss': 'log', 'max_iter': 70, 'penalty': 'l1', 'random_state': 3, 'tol': 0.001}\n",
      "0.917 (+/-0.065) for {'alpha': 0.0001, 'loss': 'log', 'max_iter': 100, 'penalty': 'l2', 'random_state': 3, 'tol': None}\n",
      "0.906 (+/-0.052) for {'alpha': 0.0001, 'loss': 'log', 'max_iter': 100, 'penalty': 'l2', 'random_state': 3, 'tol': 0.001}\n",
      "0.906 (+/-0.092) for {'alpha': 0.0001, 'loss': 'log', 'max_iter': 100, 'penalty': 'l1', 'random_state': 3, 'tol': None}\n",
      "0.911 (+/-0.064) for {'alpha': 0.0001, 'loss': 'log', 'max_iter': 100, 'penalty': 'l1', 'random_state': 3, 'tol': 0.001}\n",
      "0.917 (+/-0.065) for {'alpha': 0.0001, 'loss': 'log', 'max_iter': 1000, 'penalty': 'l2', 'random_state': 3, 'tol': None}\n",
      "0.906 (+/-0.052) for {'alpha': 0.0001, 'loss': 'log', 'max_iter': 1000, 'penalty': 'l2', 'random_state': 3, 'tol': 0.001}\n",
      "0.906 (+/-0.067) for {'alpha': 0.0001, 'loss': 'log', 'max_iter': 1000, 'penalty': 'l1', 'random_state': 3, 'tol': None}\n",
      "0.911 (+/-0.064) for {'alpha': 0.0001, 'loss': 'log', 'max_iter': 1000, 'penalty': 'l1', 'random_state': 3, 'tol': 0.001}\n",
      "0.917 (+/-0.065) for {'alpha': 0.0001, 'loss': 'log', 'max_iter': 10000, 'penalty': 'l2', 'random_state': 3, 'tol': None}\n",
      "0.906 (+/-0.052) for {'alpha': 0.0001, 'loss': 'log', 'max_iter': 10000, 'penalty': 'l2', 'random_state': 3, 'tol': 0.001}\n",
      "0.906 (+/-0.067) for {'alpha': 0.0001, 'loss': 'log', 'max_iter': 10000, 'penalty': 'l1', 'random_state': 3, 'tol': None}\n",
      "0.911 (+/-0.064) for {'alpha': 0.0001, 'loss': 'log', 'max_iter': 10000, 'penalty': 'l1', 'random_state': 3, 'tol': 0.001}\n",
      "              precision    recall  f1-score   support\n",
      "\n",
      "        -1.0       0.00      0.00      0.00         5\n",
      "         0.0       0.70      0.88      0.78        32\n",
      "         1.0       0.80      0.36      0.50        11\n",
      "\n",
      "   micro avg       0.67      0.67      0.67        48\n",
      "   macro avg       0.50      0.41      0.43        48\n",
      "weighted avg       0.65      0.67      0.63        48\n",
      "\n"
     ]
    }
   ],
   "source": [
    "\n",
    "y_true, y_pred = y_test, sgd_best_model.predict(X_test)\n",
    "print(classification_report(y_true, y_pred))\n"
   ]
  },
  {
   "cell_type": "code",
   "execution_count": 44,
   "metadata": {
    "scrolled": true
   },
   "outputs": [
    {
     "data": {
      "text/plain": [
       "0.6666666666666666"
      ]
     },
     "execution_count": 44,
     "metadata": {},
     "output_type": "execute_result"
    }
   ],
   "source": [
    "estimator =sgd_best_model.best_estimator_\n",
    "pred=estimator.predict(X_test)\n",
    "accuracy_score(y_test, pred)"
   ]
  },
  {
   "cell_type": "code",
   "execution_count": 53,
   "metadata": {},
   "outputs": [
    {
     "data": {
      "text/plain": [
       "array([[ 0,  5,  0],\n",
       "       [ 3, 28,  1],\n",
       "       [ 0,  7,  4]], dtype=int64)"
      ]
     },
     "execution_count": 53,
     "metadata": {},
     "output_type": "execute_result"
    }
   ],
   "source": [
    "confusion_matrix(y_test, pred)"
   ]
  },
  {
   "cell_type": "code",
   "execution_count": null,
   "metadata": {
    "scrolled": true
   },
   "outputs": [],
   "source": [
    "## RandomForestClassifier\n",
    "# randomForestClassifier(n_estimators=’warn’, criterion=’gini’, max_depth=None, min_samples_split=2, min_samples_leaf=1, min_weight_fraction_leaf=0.0, max_features=’auto’, max_leaf_nodes=None, min_impurity_decrease=0.0, min_impurity_split=None, bootstrap=True, oob_score=False, n_jobs=None, random_state=None, verbose=0, warm_start=False, class_weight=None)\n",
    "\n",
    "bootstrap = [True, False]\n",
    "max_depth = [5,10,20,30, 50, 100, None]\n",
    "max_features = ['auto', 'sqrt']\n",
    "min_samples_leaf = [1, 2, 3, 4]\n",
    "min_samples_split = [2, 5, 10]\n",
    "n_estimators = [50, 100, 200, 300, 500 ,600, 800]\n",
    "random_state = [3]\n",
    "\n",
    "params = dict(bootstrap = bootstrap,\n",
    "              max_depth = max_depth,\n",
    "              max_features = max_features,\n",
    "              min_samples_leaf = min_samples_leaf,\n",
    "              n_estimators = n_estimators,\n",
    "              random_state=random_state)\n",
    "\n",
    "rfgridsearch = GridSearchCV(RandomForestClassifier(),\n",
    "                          params, \n",
    "                          cv=3,\n",
    "                          verbose=1, \n",
    "                          n_jobs=-1)\n",
    "\n",
    "rf_best_model = rfgridsearch.fit(X_train, y_train)\n",
    "print('GridSearchCV best score : {:.2f}%, best_params : {}'.format(rfgridsearch.best_score_*100, rfgridsearch.best_params_))"
   ]
  },
  {
   "cell_type": "code",
   "execution_count": null,
   "metadata": {},
   "outputs": [],
   "source": [
    "## DecisionTreeClassifier## extra tree\n",
    "# DecisionTreeClassifier(criterion=’gini’, splitter=’best’, max_depth=None, min_samples_split=2, min_samples_leaf=1, min_weight_fraction_leaf=0.0, max_features=None, random_state=None, max_leaf_nodes=None, min_impurity_decrease=0.0, min_impurity_split=None, class_weight=None, presort=False)\n",
    "\n",
    "params = {'criterion': [\"gini\", 'entropy'],\n",
    "          'min_samples_split':[2,3,5,10,12,15,17,20,25,30,35,40],\n",
    "          'min_samples_leaf':[1,2,3,4,5,7,9,10,13,15,17,20,23,25,27,30]}\n",
    "\n",
    "DecisionTree_gridsearch = GridSearchCV(DecisionTreeClassifier(), \n",
    "                                       params, \n",
    "                                       cv=3,\n",
    "                                       verbose=1, \n",
    "                                       n_jobs=-1)\n",
    "\n",
    "DecisionTree_best_model = DecisionTree_gridsearch.fit(X_train, y_train)\n",
    "print('DecisionTree GridSearchCV best score : {:.2f}%, best_params : {}'.format(DecisionTree_gridsearch.best_score_*100, DecisionTree_gridsearch.best_params_))"
   ]
  },
  {
   "cell_type": "code",
   "execution_count": 179,
   "metadata": {
    "scrolled": true
   },
   "outputs": [
    {
     "name": "stdout",
     "output_type": "stream",
     "text": [
      "Fitting 3 folds for each of 75 candidates, totalling 225 fits\n"
     ]
    },
    {
     "name": "stderr",
     "output_type": "stream",
     "text": [
      "[Parallel(n_jobs=-1)]: Using backend LokyBackend with 8 concurrent workers.\n",
      "[Parallel(n_jobs=-1)]: Done  34 tasks      | elapsed:    7.5s\n",
      "[Parallel(n_jobs=-1)]: Done 184 tasks      | elapsed:   47.6s\n",
      "[Parallel(n_jobs=-1)]: Done 225 out of 225 | elapsed:   56.3s finished\n"
     ]
    },
    {
     "name": "stdout",
     "output_type": "stream",
     "text": [
      "extra tree GridSearchCV best score : 77.04%, best_params : {'max_depth': 35, 'min_samples_split': 2, 'n_estimators': 200}\n"
     ]
    }
   ],
   "source": [
    "## extra tree\n",
    "\n",
    "params = {'n_estimators' : [100, 150,180,190, 200],\n",
    "          'max_depth': [15,20,25,30,35],\n",
    "          'min_samples_split':[2,5,10]}\n",
    "\n",
    "et_gridsearch = GridSearchCV(ExtraTreesClassifier(), \n",
    "                  params, \n",
    "                  cv=3,\n",
    "                  verbose=1, \n",
    "                  n_jobs=-1)\n",
    "et_best_model = et_gridsearch.fit(X_train, y_train)\n",
    "print('extra tree GridSearchCV best score : {:.2f}%, best_params : {}'.format(et_gridsearch.best_score_*100, et_gridsearch.best_params_))"
   ]
  },
  {
   "cell_type": "code",
   "execution_count": null,
   "metadata": {},
   "outputs": [
    {
     "name": "stdout",
     "output_type": "stream",
     "text": [
      "Fitting 3 folds for each of 294 candidates, totalling 882 fits\n"
     ]
    },
    {
     "name": "stderr",
     "output_type": "stream",
     "text": [
      "[Parallel(n_jobs=-1)]: Using backend LokyBackend with 8 concurrent workers.\n",
      "[Parallel(n_jobs=-1)]: Done  34 tasks      | elapsed:   43.9s\n",
      "[Parallel(n_jobs=-1)]: Done 184 tasks      | elapsed:  4.5min\n"
     ]
    }
   ],
   "source": [
    "## GradientBoostingClassifier\n",
    "# GradientBoostingClassifier(loss=’deviance’, learning_rate=0.1, n_estimators=100, subsample=1.0, criterion=’friedman_mse’, min_samples_split=2, min_samples_leaf=1, min_weight_fraction_leaf=0.0, max_depth=3, min_impurity_decrease=0.0, min_impurity_split=None, init=None, random_state=None, max_features=None, verbose=0, max_leaf_nodes=None, warm_start=False, presort=’auto’, validation_fraction=0.1, n_iter_no_change=None, tol=0.0001)[source]\n",
    "\n",
    "from sklearn.ensemble import GradientBoostingClassifier\n",
    "\n",
    "gb = GradientBoostingClassifier()\n",
    "params = {'n_estimators' : [10, 20, 30, 50, 100, 150, 200],\n",
    "          'max_depth': [3, 5,10,15,20,25,30],\n",
    "          'min_samples_split':[2,5,7, 10,12,15]}\n",
    "\n",
    "gbgridsearch = GridSearchCV(GradientBoostingClassifier(), params,\n",
    "                     cv=3,\n",
    "                     verbose=1,\n",
    "                     n_jobs=-1)\n",
    "\n",
    "gb_best_model = gbgridsearch.fit(X_train, y_train)\n",
    "print('extra tree GridSearchCV best score : {:.2f}%, best_params : {}'.format(gbgridsearch.best_score_*100, gbgridsearch.best_params_))"
   ]
  },
  {
   "cell_type": "code",
   "execution_count": null,
   "metadata": {
    "scrolled": true
   },
   "outputs": [],
   "source": [
    "## RidgeClassifier\n",
    "# class sklearn.linear_model.RidgeClassifier(alpha=1.0, fit_intercept=True, normalize=False, copy_X=True, max_iter=None, tol=0.001, class_weight=None, solver=’auto’, random_state=None)\n",
    "\n",
    "params = {'alpha': [25,10,4,2,1.0,0.8,0.5,0.3,0.2,0.1,0.05,0.02,0.01]}\n",
    "RidgeClassifier()\n",
    "Ridgegridsearch = GridSearchCV(RidgeClassifier(), params,\n",
    "                     cv=3,\n",
    "                     verbose=1,\n",
    "                     n_jobs=-1)\n",
    "\n",
    "Ridge_model = Ridgegridsearch.fit(X_train, y_train)\n",
    "print('Ridge GridSearchCV best score : {:.2f}%, best_params : {}'.format(Ridgegridsearch.best_score_*100, Ridgegridsearch.best_params_))\n"
   ]
  },
  {
   "cell_type": "code",
   "execution_count": null,
   "metadata": {
    "scrolled": true
   },
   "outputs": [],
   "source": [
    "## LogisticRegression\n",
    "# LogisticRegression(penalty=’l2’, dual=False, tol=0.0001, C=1.0, fit_intercept=True, intercept_scaling=1, class_weight=None, random_state=None, solver=’warn’, max_iter=100, multi_class=’warn’, verbose=0, warm_start=False, n_jobs=None, l1_ratio=None)\n",
    "\n",
    "\n",
    "params = {\"solver\" : ['lbfgs', 'newton-cg'],\n",
    "          \"C\":[1e-4, 1e-3, 1e-2, 1e-1, 1e0, 1e1, 1e2, 1e3, 1e4, 1e5, 1e6],\n",
    "          \"penalty\":[\"l2\"],\n",
    "          'multi_class': ['multinomial']}\n",
    "\n",
    "\n",
    "Logisticgridsearch = GridSearchCV(LogisticRegression(), params,\n",
    "                     cv=5,\n",
    "                     verbose=1,\n",
    "                     n_jobs=-1)\n",
    "\n",
    "Logistic_model = Logisticgridsearch.fit(X_train, y_train)\n",
    "print('Logistic GridSearchCV best score : {:.2f}%, best_params : {}'.format(Logisticgridsearch.best_score_*100, Logisticgridsearch.best_params_))\n"
   ]
  },
  {
   "cell_type": "code",
   "execution_count": 57,
   "metadata": {},
   "outputs": [],
   "source": [
    "from sklearn.preprocessing import StandardScaler\n",
    "scaler = StandardScaler()\n",
    "X_train_scaled = scaler.fit_transform(X_train)\n",
    "X_test_scaled = scaler.transform(X_test)"
   ]
  },
  {
   "cell_type": "code",
   "execution_count": 51,
   "metadata": {
    "scrolled": true
   },
   "outputs": [
    {
     "name": "stdout",
     "output_type": "stream",
     "text": [
      "Best score for training data: 0.5653923541247485 \n",
      "\n",
      "Best C: 100 \n",
      "\n",
      "Best Kernel: rbf \n",
      "\n",
      "Best Gamma: 0.1 \n",
      "\n"
     ]
    }
   ],
   "source": [
    "params_grid = [{'kernel': ['rbf'], 'gamma': [1e-1, 1e-2, 1e-3, 1e-4, 1e-5],\n",
    "                     'C': [1, 10, 100, 1000]},\n",
    "                    {'kernel': ['linear'], 'C': [1, 10, 100, 1000, 1500]}]\n",
    "svm_model = GridSearchCV(SVC(), params_grid, cv=5)\n",
    "svm_model.fit(X_train, y_train)\n",
    "\n",
    "# View the accuracy score\n",
    "print('Best score for training data:', svm_model.best_score_,\"\\n\") \n",
    "\n",
    "# View the best parameters for the model found using grid search\n",
    "print('Best C:',svm_model.best_estimator_.C,\"\\n\") \n",
    "print('Best Kernel:',svm_model.best_estimator_.kernel,\"\\n\")\n",
    "print('Best Gamma:',svm_model.best_estimator_.gamma,\"\\n\")\n",
    "\n",
    "final_model = svm_model.best_estimator_\n",
    "Y_pred = final_model.predict(X_test)"
   ]
  },
  {
   "cell_type": "code",
   "execution_count": 53,
   "metadata": {},
   "outputs": [
    {
     "ename": "SyntaxError",
     "evalue": "unexpected EOF while parsing (<ipython-input-53-fbaf57c7859f>, line 5)",
     "output_type": "error",
     "traceback": [
      "\u001b[1;36m  File \u001b[1;32m\"<ipython-input-53-fbaf57c7859f>\"\u001b[1;36m, line \u001b[1;32m5\u001b[0m\n\u001b[1;33m    \u001b[0m\n\u001b[1;37m    ^\u001b[0m\n\u001b[1;31mSyntaxError\u001b[0m\u001b[1;31m:\u001b[0m unexpected EOF while parsing\n"
     ]
    }
   ],
   "source": [
    "ada_clf = AdaBoostClassifier(\n",
    "    DecisionTreeClassifier(max_depth=1), n_estimators=200,\n",
    "    algorithm=\"SAMME.R\", learning_rate=0.5, random_state=42)\n",
    "ada_clf.fit(X_train, y_train).predict(X_test\\\n",
    "\n"
   ]
  },
  {
   "cell_type": "code",
   "execution_count": 57,
   "metadata": {},
   "outputs": [
    {
     "name": "stdout",
     "output_type": "stream",
     "text": [
      "SVC\t0.729\n",
      "LinearSVC\t0.729\n",
      "Bagging+SVC\t0.688\n",
      "Bagging+LinearSVC\t0.729\n",
      "Bagging+SVC+Multiprocess\t0.271\n",
      "Bagging+LinearSVC+Multiprocess\t0.729\n"
     ]
    }
   ],
   "source": [
    "kernel = 'linear'\n",
    "dual = False if X.shape[0] > X.shape[1] else True\n",
    "\n",
    "estimator_names = ['SVC', 'LinearSVC', 'Bagging+SVC', 'Bagging+LinearSVC', 'Bagging+SVC+Multiprocess', 'Bagging+LinearSVC+Multiprocess']\n",
    "estimators = [SVC(kernel=kernel),\n",
    "              LinearSVC(dual=dual),\n",
    "              BaggingClassifier(SVC(kernel=kernel), n_estimators=10, max_samples=0.1, n_jobs=1),\n",
    "              BaggingClassifier(LinearSVC(dual=dual), n_estimators=10, max_samples=0.1, n_jobs=1),\n",
    "              BaggingClassifier(SVC(kernel=kernel), n_estimators=10, max_samples=0.1, n_jobs=10),\n",
    "              BaggingClassifier(LinearSVC(dual=dual), n_estimators=10, max_samples=0.1, n_jobs=10)]\n",
    "for name, estimator in zip(estimator_names, estimators):\n",
    "    estimator.fit(X_resampled, y_resampled)\n",
    "    score = estimator.score(X_test, y_test) # accuracy\n",
    "    print('{}\\t{:.3f}'.format(name, score))\n"
   ]
  },
  {
   "cell_type": "code",
   "execution_count": 90,
   "metadata": {},
   "outputs": [
    {
     "name": "stdout",
     "output_type": "stream",
     "text": [
      "              precision    recall  f1-score   support\n",
      "\n",
      "        -1.0       0.00      0.00      0.00         5\n",
      "         0.0       0.76      0.91      0.83        32\n",
      "         1.0       0.88      0.64      0.74        11\n",
      "\n",
      "   micro avg       0.75      0.75      0.75        48\n",
      "   macro avg       0.55      0.51      0.52        48\n",
      "weighted avg       0.71      0.75      0.72        48\n",
      "\n"
     ]
    }
   ],
   "source": [
    "estimator = BaggingClassifier(SVC(kernel=kernel), n_estimators=100, max_samples=0.5, n_jobs=10)\n",
    "estimator.fit(X_resampled, y_resampled)\n",
    "pred=estimator.predict(X_test)\n",
    "accuracy_score(y_test, pred)\n",
    "print(classification_report(y_test, pred))"
   ]
  },
  {
   "cell_type": "code",
   "execution_count": 72,
   "metadata": {},
   "outputs": [
    {
     "data": {
      "text/plain": [
       "array([[ 0,  5,  0],\n",
       "       [ 2, 29,  1],\n",
       "       [ 0,  5,  6]], dtype=int64)"
      ]
     },
     "execution_count": 72,
     "metadata": {},
     "output_type": "execute_result"
    }
   ],
   "source": [
    "confusion_matrix(y_test, pred)"
   ]
  },
  {
   "cell_type": "code",
   "execution_count": 51,
   "metadata": {},
   "outputs": [
    {
     "name": "stdout",
     "output_type": "stream",
     "text": [
      "Fitting 3 folds for each of 22 candidates, totalling 66 fits\n"
     ]
    },
    {
     "name": "stderr",
     "output_type": "stream",
     "text": [
      "[Parallel(n_jobs=-1)]: Using backend LokyBackend with 8 concurrent workers.\n"
     ]
    },
    {
     "ename": "ValueError",
     "evalue": "Invalid parameter solver for estimator LinearSVC(C=0.0001, class_weight=None, dual=True, fit_intercept=True,\n     intercept_scaling=1, loss='squared_hinge', max_iter=1000,\n     multi_class='multinomial', penalty='l2', random_state=0, tol=0.0001,\n     verbose=0). Check the list of available parameters with `estimator.get_params().keys()`.",
     "output_type": "error",
     "traceback": [
      "\u001b[1;31m---------------------------------------------------------------------------\u001b[0m",
      "\u001b[1;31m_RemoteTraceback\u001b[0m                          Traceback (most recent call last)",
      "\u001b[1;31m_RemoteTraceback\u001b[0m: \n\"\"\"\nTraceback (most recent call last):\n  File \"C:\\Users\\Juwon Oh\\Anaconda3\\lib\\site-packages\\sklearn\\externals\\joblib\\externals\\loky\\process_executor.py\", line 418, in _process_worker\n    r = call_item()\n  File \"C:\\Users\\Juwon Oh\\Anaconda3\\lib\\site-packages\\sklearn\\externals\\joblib\\externals\\loky\\process_executor.py\", line 272, in __call__\n    return self.fn(*self.args, **self.kwargs)\n  File \"C:\\Users\\Juwon Oh\\Anaconda3\\lib\\site-packages\\sklearn\\externals\\joblib\\_parallel_backends.py\", line 567, in __call__\n    return self.func(*args, **kwargs)\n  File \"C:\\Users\\Juwon Oh\\Anaconda3\\lib\\site-packages\\sklearn\\externals\\joblib\\parallel.py\", line 225, in __call__\n    for func, args, kwargs in self.items]\n  File \"C:\\Users\\Juwon Oh\\Anaconda3\\lib\\site-packages\\sklearn\\externals\\joblib\\parallel.py\", line 225, in <listcomp>\n    for func, args, kwargs in self.items]\n  File \"C:\\Users\\Juwon Oh\\Anaconda3\\lib\\site-packages\\sklearn\\model_selection\\_validation.py\", line 514, in _fit_and_score\n    estimator.set_params(**parameters)\n  File \"C:\\Users\\Juwon Oh\\Anaconda3\\lib\\site-packages\\sklearn\\base.py\", line 213, in set_params\n    (key, self))\nValueError: Invalid parameter solver for estimator LinearSVC(C=0.0001, class_weight=None, dual=True, fit_intercept=True,\n     intercept_scaling=1, loss='squared_hinge', max_iter=1000,\n     multi_class='multinomial', penalty='l2', random_state=0, tol=0.0001,\n     verbose=0). Check the list of available parameters with `estimator.get_params().keys()`.\n\"\"\"",
      "\nThe above exception was the direct cause of the following exception:\n",
      "\u001b[1;31mValueError\u001b[0m                                Traceback (most recent call last)",
      "\u001b[1;32m<ipython-input-51-bbb4cadf3dae>\u001b[0m in \u001b[0;36m<module>\u001b[1;34m\u001b[0m\n\u001b[0;32m     16\u001b[0m                      n_jobs=-1)\n\u001b[0;32m     17\u001b[0m \u001b[1;33m\u001b[0m\u001b[0m\n\u001b[1;32m---> 18\u001b[1;33m \u001b[0mLinearSVC_best_model\u001b[0m \u001b[1;33m=\u001b[0m \u001b[0mLinearSVCgridsearch\u001b[0m\u001b[1;33m.\u001b[0m\u001b[0mfit\u001b[0m\u001b[1;33m(\u001b[0m\u001b[0mX_train\u001b[0m\u001b[1;33m,\u001b[0m \u001b[0my_train\u001b[0m\u001b[1;33m)\u001b[0m\u001b[1;33m\u001b[0m\u001b[1;33m\u001b[0m\u001b[0m\n\u001b[0m\u001b[0;32m     19\u001b[0m \u001b[0mprint\u001b[0m\u001b[1;33m(\u001b[0m\u001b[1;34m'LinearSVC GridSearchCV best score : {:.2f}%, best_params : {}'\u001b[0m\u001b[1;33m.\u001b[0m\u001b[0mformat\u001b[0m\u001b[1;33m(\u001b[0m\u001b[0mLinearSVCgridsearch\u001b[0m\u001b[1;33m.\u001b[0m\u001b[0mbest_score_\u001b[0m\u001b[1;33m*\u001b[0m\u001b[1;36m100\u001b[0m\u001b[1;33m,\u001b[0m \u001b[0mLinearSVCgridsearch\u001b[0m\u001b[1;33m.\u001b[0m\u001b[0mbest_params_\u001b[0m\u001b[1;33m)\u001b[0m\u001b[1;33m)\u001b[0m\u001b[1;33m\u001b[0m\u001b[1;33m\u001b[0m\u001b[0m\n",
      "\u001b[1;32m~\\Anaconda3\\lib\\site-packages\\sklearn\\model_selection\\_search.py\u001b[0m in \u001b[0;36mfit\u001b[1;34m(self, X, y, groups, **fit_params)\u001b[0m\n\u001b[0;32m    720\u001b[0m                 \u001b[1;32mreturn\u001b[0m \u001b[0mresults_container\u001b[0m\u001b[1;33m[\u001b[0m\u001b[1;36m0\u001b[0m\u001b[1;33m]\u001b[0m\u001b[1;33m\u001b[0m\u001b[1;33m\u001b[0m\u001b[0m\n\u001b[0;32m    721\u001b[0m \u001b[1;33m\u001b[0m\u001b[0m\n\u001b[1;32m--> 722\u001b[1;33m             \u001b[0mself\u001b[0m\u001b[1;33m.\u001b[0m\u001b[0m_run_search\u001b[0m\u001b[1;33m(\u001b[0m\u001b[0mevaluate_candidates\u001b[0m\u001b[1;33m)\u001b[0m\u001b[1;33m\u001b[0m\u001b[1;33m\u001b[0m\u001b[0m\n\u001b[0m\u001b[0;32m    723\u001b[0m \u001b[1;33m\u001b[0m\u001b[0m\n\u001b[0;32m    724\u001b[0m         \u001b[0mresults\u001b[0m \u001b[1;33m=\u001b[0m \u001b[0mresults_container\u001b[0m\u001b[1;33m[\u001b[0m\u001b[1;36m0\u001b[0m\u001b[1;33m]\u001b[0m\u001b[1;33m\u001b[0m\u001b[1;33m\u001b[0m\u001b[0m\n",
      "\u001b[1;32m~\\Anaconda3\\lib\\site-packages\\sklearn\\model_selection\\_search.py\u001b[0m in \u001b[0;36m_run_search\u001b[1;34m(self, evaluate_candidates)\u001b[0m\n\u001b[0;32m   1189\u001b[0m     \u001b[1;32mdef\u001b[0m \u001b[0m_run_search\u001b[0m\u001b[1;33m(\u001b[0m\u001b[0mself\u001b[0m\u001b[1;33m,\u001b[0m \u001b[0mevaluate_candidates\u001b[0m\u001b[1;33m)\u001b[0m\u001b[1;33m:\u001b[0m\u001b[1;33m\u001b[0m\u001b[1;33m\u001b[0m\u001b[0m\n\u001b[0;32m   1190\u001b[0m         \u001b[1;34m\"\"\"Search all candidates in param_grid\"\"\"\u001b[0m\u001b[1;33m\u001b[0m\u001b[1;33m\u001b[0m\u001b[0m\n\u001b[1;32m-> 1191\u001b[1;33m         \u001b[0mevaluate_candidates\u001b[0m\u001b[1;33m(\u001b[0m\u001b[0mParameterGrid\u001b[0m\u001b[1;33m(\u001b[0m\u001b[0mself\u001b[0m\u001b[1;33m.\u001b[0m\u001b[0mparam_grid\u001b[0m\u001b[1;33m)\u001b[0m\u001b[1;33m)\u001b[0m\u001b[1;33m\u001b[0m\u001b[1;33m\u001b[0m\u001b[0m\n\u001b[0m\u001b[0;32m   1192\u001b[0m \u001b[1;33m\u001b[0m\u001b[0m\n\u001b[0;32m   1193\u001b[0m \u001b[1;33m\u001b[0m\u001b[0m\n",
      "\u001b[1;32m~\\Anaconda3\\lib\\site-packages\\sklearn\\model_selection\\_search.py\u001b[0m in \u001b[0;36mevaluate_candidates\u001b[1;34m(candidate_params)\u001b[0m\n\u001b[0;32m    709\u001b[0m                                \u001b[1;32mfor\u001b[0m \u001b[0mparameters\u001b[0m\u001b[1;33m,\u001b[0m \u001b[1;33m(\u001b[0m\u001b[0mtrain\u001b[0m\u001b[1;33m,\u001b[0m \u001b[0mtest\u001b[0m\u001b[1;33m)\u001b[0m\u001b[1;33m\u001b[0m\u001b[1;33m\u001b[0m\u001b[0m\n\u001b[0;32m    710\u001b[0m                                in product(candidate_params,\n\u001b[1;32m--> 711\u001b[1;33m                                           cv.split(X, y, groups)))\n\u001b[0m\u001b[0;32m    712\u001b[0m \u001b[1;33m\u001b[0m\u001b[0m\n\u001b[0;32m    713\u001b[0m                 \u001b[0mall_candidate_params\u001b[0m\u001b[1;33m.\u001b[0m\u001b[0mextend\u001b[0m\u001b[1;33m(\u001b[0m\u001b[0mcandidate_params\u001b[0m\u001b[1;33m)\u001b[0m\u001b[1;33m\u001b[0m\u001b[1;33m\u001b[0m\u001b[0m\n",
      "\u001b[1;32m~\\Anaconda3\\lib\\site-packages\\sklearn\\externals\\joblib\\parallel.py\u001b[0m in \u001b[0;36m__call__\u001b[1;34m(self, iterable)\u001b[0m\n\u001b[0;32m    928\u001b[0m \u001b[1;33m\u001b[0m\u001b[0m\n\u001b[0;32m    929\u001b[0m             \u001b[1;32mwith\u001b[0m \u001b[0mself\u001b[0m\u001b[1;33m.\u001b[0m\u001b[0m_backend\u001b[0m\u001b[1;33m.\u001b[0m\u001b[0mretrieval_context\u001b[0m\u001b[1;33m(\u001b[0m\u001b[1;33m)\u001b[0m\u001b[1;33m:\u001b[0m\u001b[1;33m\u001b[0m\u001b[1;33m\u001b[0m\u001b[0m\n\u001b[1;32m--> 930\u001b[1;33m                 \u001b[0mself\u001b[0m\u001b[1;33m.\u001b[0m\u001b[0mretrieve\u001b[0m\u001b[1;33m(\u001b[0m\u001b[1;33m)\u001b[0m\u001b[1;33m\u001b[0m\u001b[1;33m\u001b[0m\u001b[0m\n\u001b[0m\u001b[0;32m    931\u001b[0m             \u001b[1;31m# Make sure that we get a last message telling us we are done\u001b[0m\u001b[1;33m\u001b[0m\u001b[1;33m\u001b[0m\u001b[1;33m\u001b[0m\u001b[0m\n\u001b[0;32m    932\u001b[0m             \u001b[0melapsed_time\u001b[0m \u001b[1;33m=\u001b[0m \u001b[0mtime\u001b[0m\u001b[1;33m.\u001b[0m\u001b[0mtime\u001b[0m\u001b[1;33m(\u001b[0m\u001b[1;33m)\u001b[0m \u001b[1;33m-\u001b[0m \u001b[0mself\u001b[0m\u001b[1;33m.\u001b[0m\u001b[0m_start_time\u001b[0m\u001b[1;33m\u001b[0m\u001b[1;33m\u001b[0m\u001b[0m\n",
      "\u001b[1;32m~\\Anaconda3\\lib\\site-packages\\sklearn\\externals\\joblib\\parallel.py\u001b[0m in \u001b[0;36mretrieve\u001b[1;34m(self)\u001b[0m\n\u001b[0;32m    831\u001b[0m             \u001b[1;32mtry\u001b[0m\u001b[1;33m:\u001b[0m\u001b[1;33m\u001b[0m\u001b[1;33m\u001b[0m\u001b[0m\n\u001b[0;32m    832\u001b[0m                 \u001b[1;32mif\u001b[0m \u001b[0mgetattr\u001b[0m\u001b[1;33m(\u001b[0m\u001b[0mself\u001b[0m\u001b[1;33m.\u001b[0m\u001b[0m_backend\u001b[0m\u001b[1;33m,\u001b[0m \u001b[1;34m'supports_timeout'\u001b[0m\u001b[1;33m,\u001b[0m \u001b[1;32mFalse\u001b[0m\u001b[1;33m)\u001b[0m\u001b[1;33m:\u001b[0m\u001b[1;33m\u001b[0m\u001b[1;33m\u001b[0m\u001b[0m\n\u001b[1;32m--> 833\u001b[1;33m                     \u001b[0mself\u001b[0m\u001b[1;33m.\u001b[0m\u001b[0m_output\u001b[0m\u001b[1;33m.\u001b[0m\u001b[0mextend\u001b[0m\u001b[1;33m(\u001b[0m\u001b[0mjob\u001b[0m\u001b[1;33m.\u001b[0m\u001b[0mget\u001b[0m\u001b[1;33m(\u001b[0m\u001b[0mtimeout\u001b[0m\u001b[1;33m=\u001b[0m\u001b[0mself\u001b[0m\u001b[1;33m.\u001b[0m\u001b[0mtimeout\u001b[0m\u001b[1;33m)\u001b[0m\u001b[1;33m)\u001b[0m\u001b[1;33m\u001b[0m\u001b[1;33m\u001b[0m\u001b[0m\n\u001b[0m\u001b[0;32m    834\u001b[0m                 \u001b[1;32melse\u001b[0m\u001b[1;33m:\u001b[0m\u001b[1;33m\u001b[0m\u001b[1;33m\u001b[0m\u001b[0m\n\u001b[0;32m    835\u001b[0m                     \u001b[0mself\u001b[0m\u001b[1;33m.\u001b[0m\u001b[0m_output\u001b[0m\u001b[1;33m.\u001b[0m\u001b[0mextend\u001b[0m\u001b[1;33m(\u001b[0m\u001b[0mjob\u001b[0m\u001b[1;33m.\u001b[0m\u001b[0mget\u001b[0m\u001b[1;33m(\u001b[0m\u001b[1;33m)\u001b[0m\u001b[1;33m)\u001b[0m\u001b[1;33m\u001b[0m\u001b[1;33m\u001b[0m\u001b[0m\n",
      "\u001b[1;32m~\\Anaconda3\\lib\\site-packages\\sklearn\\externals\\joblib\\_parallel_backends.py\u001b[0m in \u001b[0;36mwrap_future_result\u001b[1;34m(future, timeout)\u001b[0m\n\u001b[0;32m    519\u001b[0m         AsyncResults.get from multiprocessing.\"\"\"\n\u001b[0;32m    520\u001b[0m         \u001b[1;32mtry\u001b[0m\u001b[1;33m:\u001b[0m\u001b[1;33m\u001b[0m\u001b[1;33m\u001b[0m\u001b[0m\n\u001b[1;32m--> 521\u001b[1;33m             \u001b[1;32mreturn\u001b[0m \u001b[0mfuture\u001b[0m\u001b[1;33m.\u001b[0m\u001b[0mresult\u001b[0m\u001b[1;33m(\u001b[0m\u001b[0mtimeout\u001b[0m\u001b[1;33m=\u001b[0m\u001b[0mtimeout\u001b[0m\u001b[1;33m)\u001b[0m\u001b[1;33m\u001b[0m\u001b[1;33m\u001b[0m\u001b[0m\n\u001b[0m\u001b[0;32m    522\u001b[0m         \u001b[1;32mexcept\u001b[0m \u001b[0mLokyTimeoutError\u001b[0m\u001b[1;33m:\u001b[0m\u001b[1;33m\u001b[0m\u001b[1;33m\u001b[0m\u001b[0m\n\u001b[0;32m    523\u001b[0m             \u001b[1;32mraise\u001b[0m \u001b[0mTimeoutError\u001b[0m\u001b[1;33m(\u001b[0m\u001b[1;33m)\u001b[0m\u001b[1;33m\u001b[0m\u001b[1;33m\u001b[0m\u001b[0m\n",
      "\u001b[1;32m~\\Anaconda3\\lib\\concurrent\\futures\\_base.py\u001b[0m in \u001b[0;36mresult\u001b[1;34m(self, timeout)\u001b[0m\n\u001b[0;32m    430\u001b[0m                 \u001b[1;32mraise\u001b[0m \u001b[0mCancelledError\u001b[0m\u001b[1;33m(\u001b[0m\u001b[1;33m)\u001b[0m\u001b[1;33m\u001b[0m\u001b[1;33m\u001b[0m\u001b[0m\n\u001b[0;32m    431\u001b[0m             \u001b[1;32melif\u001b[0m \u001b[0mself\u001b[0m\u001b[1;33m.\u001b[0m\u001b[0m_state\u001b[0m \u001b[1;33m==\u001b[0m \u001b[0mFINISHED\u001b[0m\u001b[1;33m:\u001b[0m\u001b[1;33m\u001b[0m\u001b[1;33m\u001b[0m\u001b[0m\n\u001b[1;32m--> 432\u001b[1;33m                 \u001b[1;32mreturn\u001b[0m \u001b[0mself\u001b[0m\u001b[1;33m.\u001b[0m\u001b[0m__get_result\u001b[0m\u001b[1;33m(\u001b[0m\u001b[1;33m)\u001b[0m\u001b[1;33m\u001b[0m\u001b[1;33m\u001b[0m\u001b[0m\n\u001b[0m\u001b[0;32m    433\u001b[0m             \u001b[1;32melse\u001b[0m\u001b[1;33m:\u001b[0m\u001b[1;33m\u001b[0m\u001b[1;33m\u001b[0m\u001b[0m\n\u001b[0;32m    434\u001b[0m                 \u001b[1;32mraise\u001b[0m \u001b[0mTimeoutError\u001b[0m\u001b[1;33m(\u001b[0m\u001b[1;33m)\u001b[0m\u001b[1;33m\u001b[0m\u001b[1;33m\u001b[0m\u001b[0m\n",
      "\u001b[1;32m~\\Anaconda3\\lib\\concurrent\\futures\\_base.py\u001b[0m in \u001b[0;36m__get_result\u001b[1;34m(self)\u001b[0m\n\u001b[0;32m    382\u001b[0m     \u001b[1;32mdef\u001b[0m \u001b[0m__get_result\u001b[0m\u001b[1;33m(\u001b[0m\u001b[0mself\u001b[0m\u001b[1;33m)\u001b[0m\u001b[1;33m:\u001b[0m\u001b[1;33m\u001b[0m\u001b[1;33m\u001b[0m\u001b[0m\n\u001b[0;32m    383\u001b[0m         \u001b[1;32mif\u001b[0m \u001b[0mself\u001b[0m\u001b[1;33m.\u001b[0m\u001b[0m_exception\u001b[0m\u001b[1;33m:\u001b[0m\u001b[1;33m\u001b[0m\u001b[1;33m\u001b[0m\u001b[0m\n\u001b[1;32m--> 384\u001b[1;33m             \u001b[1;32mraise\u001b[0m \u001b[0mself\u001b[0m\u001b[1;33m.\u001b[0m\u001b[0m_exception\u001b[0m\u001b[1;33m\u001b[0m\u001b[1;33m\u001b[0m\u001b[0m\n\u001b[0m\u001b[0;32m    385\u001b[0m         \u001b[1;32melse\u001b[0m\u001b[1;33m:\u001b[0m\u001b[1;33m\u001b[0m\u001b[1;33m\u001b[0m\u001b[0m\n\u001b[0;32m    386\u001b[0m             \u001b[1;32mreturn\u001b[0m \u001b[0mself\u001b[0m\u001b[1;33m.\u001b[0m\u001b[0m_result\u001b[0m\u001b[1;33m\u001b[0m\u001b[1;33m\u001b[0m\u001b[0m\n",
      "\u001b[1;31mValueError\u001b[0m: Invalid parameter solver for estimator LinearSVC(C=0.0001, class_weight=None, dual=True, fit_intercept=True,\n     intercept_scaling=1, loss='squared_hinge', max_iter=1000,\n     multi_class='multinomial', penalty='l2', random_state=0, tol=0.0001,\n     verbose=0). Check the list of available parameters with `estimator.get_params().keys()`."
     ]
    }
   ],
   "source": [
    "## LinearSVC\n",
    "# LinearSVC(penalty=’l2’, loss=’squared_hinge’, dual=True, tol=0.0001, C=1.0, multi_class=’ovr’, fit_intercept=True, intercept_scaling=1, class_weight=None, verbose=0, random_state=None, max_iter=1000)\n",
    "labels[labels > 0] = 0\n",
    "\n",
    "\n",
    "\n",
    "Xs_train, Xs_test, ys_train, ys_test = train_test_split(X, labels, test_size=0.3, shuffle = True, random_state=0)\n",
    "\n",
    "params: {}\n",
    "\n",
    "\n",
    "\n",
    "LinearSVCgridsearch = GridSearchCV(LinearSVC(random_state=0, multi_class = 'rammer_singer'), params,\n",
    "                     cv=3,\n",
    "                     verbose=1,\n",
    "                     n_jobs=-1)\n",
    "\n",
    "LinearSVC_best_model = LinearSVCgridsearch.fit(X_train, y_train)\n",
    "print('LinearSVC GridSearchCV best score : {:.2f}%, best_params : {}'.format(LinearSVCgridsearch.best_score_*100, LinearSVCgridsearch.best_params_))\n"
   ]
  },
  {
   "cell_type": "code",
   "execution_count": null,
   "metadata": {},
   "outputs": [],
   "source": [
    "\n",
    "LinearSVC()\n",
    "    \n",
    "classifier = OneVsRestClassifier(svm.SVC(kernel='linear', probability=True,\n",
    "                                 random_state=random_state))\n",
    "y_score = classifier.fit(X_train, y_train).decision_function(X_test)\n",
    "    \n",
    "fpr = dict()\n",
    "tpr = dict()\n",
    "roc_auc = dict()\n",
    "for i in range(n_classes):\n",
    "    fpr[i], tpr[i], _ = roc_curve(y_test[:, i], y_score[:, i])\n",
    "    roc_auc[i] = auc(fpr[i], tpr[i])\n",
    "\n",
    "# Compute micro-average ROC curve and ROC area\n",
    "fpr[\"micro\"], tpr[\"micro\"], _ = roc_curve(y_test.ravel(), y_score.ravel())\n",
    "roc_auc[\"micro\"] = auc(fpr[\"micro\"], tpr[\"micro\"])"
   ]
  },
  {
   "cell_type": "code",
   "execution_count": 55,
   "metadata": {},
   "outputs": [
    {
     "name": "stdout",
     "output_type": "stream",
     "text": [
      "Fitting 3 folds for each of 105 candidates, totalling 315 fits\n"
     ]
    },
    {
     "name": "stderr",
     "output_type": "stream",
     "text": [
      "[Parallel(n_jobs=-1)]: Using backend LokyBackend with 8 concurrent workers.\n",
      "[Parallel(n_jobs=-1)]: Done  34 tasks      | elapsed:   15.6s\n",
      "[Parallel(n_jobs=-1)]: Done 184 tasks      | elapsed:  1.9min\n"
     ]
    },
    {
     "ename": "KeyboardInterrupt",
     "evalue": "",
     "output_type": "error",
     "traceback": [
      "\u001b[1;31m---------------------------------------------------------------------------\u001b[0m",
      "\u001b[1;31mKeyboardInterrupt\u001b[0m                         Traceback (most recent call last)",
      "\u001b[1;32m<ipython-input-55-099fad33885d>\u001b[0m in \u001b[0;36m<module>\u001b[1;34m\u001b[0m\n\u001b[0;32m     12\u001b[0m                      n_jobs=-1)\n\u001b[0;32m     13\u001b[0m \u001b[1;33m\u001b[0m\u001b[0m\n\u001b[1;32m---> 14\u001b[1;33m \u001b[0mgb_best_model\u001b[0m \u001b[1;33m=\u001b[0m \u001b[0mgbgridsearch\u001b[0m\u001b[1;33m.\u001b[0m\u001b[0mfit\u001b[0m\u001b[1;33m(\u001b[0m\u001b[0mX_train\u001b[0m\u001b[1;33m,\u001b[0m \u001b[0my_train\u001b[0m\u001b[1;33m)\u001b[0m\u001b[1;33m\u001b[0m\u001b[1;33m\u001b[0m\u001b[0m\n\u001b[0m\u001b[0;32m     15\u001b[0m \u001b[0mprint\u001b[0m\u001b[1;33m(\u001b[0m\u001b[1;34m'KNeighborsClassifier GridSearchCV best score : {:.2f}%, best_params : {}'\u001b[0m\u001b[1;33m.\u001b[0m\u001b[0mformat\u001b[0m\u001b[1;33m(\u001b[0m\u001b[0mgbgridsearch\u001b[0m\u001b[1;33m.\u001b[0m\u001b[0mbest_score_\u001b[0m\u001b[1;33m*\u001b[0m\u001b[1;36m100\u001b[0m\u001b[1;33m,\u001b[0m \u001b[0mgbgridsearch\u001b[0m\u001b[1;33m.\u001b[0m\u001b[0mbest_params_\u001b[0m\u001b[1;33m)\u001b[0m\u001b[1;33m)\u001b[0m\u001b[1;33m\u001b[0m\u001b[1;33m\u001b[0m\u001b[0m\n",
      "\u001b[1;32m~\\Anaconda3\\lib\\site-packages\\sklearn\\model_selection\\_search.py\u001b[0m in \u001b[0;36mfit\u001b[1;34m(self, X, y, groups, **fit_params)\u001b[0m\n\u001b[0;32m    720\u001b[0m                 \u001b[1;32mreturn\u001b[0m \u001b[0mresults_container\u001b[0m\u001b[1;33m[\u001b[0m\u001b[1;36m0\u001b[0m\u001b[1;33m]\u001b[0m\u001b[1;33m\u001b[0m\u001b[1;33m\u001b[0m\u001b[0m\n\u001b[0;32m    721\u001b[0m \u001b[1;33m\u001b[0m\u001b[0m\n\u001b[1;32m--> 722\u001b[1;33m             \u001b[0mself\u001b[0m\u001b[1;33m.\u001b[0m\u001b[0m_run_search\u001b[0m\u001b[1;33m(\u001b[0m\u001b[0mevaluate_candidates\u001b[0m\u001b[1;33m)\u001b[0m\u001b[1;33m\u001b[0m\u001b[1;33m\u001b[0m\u001b[0m\n\u001b[0m\u001b[0;32m    723\u001b[0m \u001b[1;33m\u001b[0m\u001b[0m\n\u001b[0;32m    724\u001b[0m         \u001b[0mresults\u001b[0m \u001b[1;33m=\u001b[0m \u001b[0mresults_container\u001b[0m\u001b[1;33m[\u001b[0m\u001b[1;36m0\u001b[0m\u001b[1;33m]\u001b[0m\u001b[1;33m\u001b[0m\u001b[1;33m\u001b[0m\u001b[0m\n",
      "\u001b[1;32m~\\Anaconda3\\lib\\site-packages\\sklearn\\model_selection\\_search.py\u001b[0m in \u001b[0;36m_run_search\u001b[1;34m(self, evaluate_candidates)\u001b[0m\n\u001b[0;32m   1189\u001b[0m     \u001b[1;32mdef\u001b[0m \u001b[0m_run_search\u001b[0m\u001b[1;33m(\u001b[0m\u001b[0mself\u001b[0m\u001b[1;33m,\u001b[0m \u001b[0mevaluate_candidates\u001b[0m\u001b[1;33m)\u001b[0m\u001b[1;33m:\u001b[0m\u001b[1;33m\u001b[0m\u001b[1;33m\u001b[0m\u001b[0m\n\u001b[0;32m   1190\u001b[0m         \u001b[1;34m\"\"\"Search all candidates in param_grid\"\"\"\u001b[0m\u001b[1;33m\u001b[0m\u001b[1;33m\u001b[0m\u001b[0m\n\u001b[1;32m-> 1191\u001b[1;33m         \u001b[0mevaluate_candidates\u001b[0m\u001b[1;33m(\u001b[0m\u001b[0mParameterGrid\u001b[0m\u001b[1;33m(\u001b[0m\u001b[0mself\u001b[0m\u001b[1;33m.\u001b[0m\u001b[0mparam_grid\u001b[0m\u001b[1;33m)\u001b[0m\u001b[1;33m)\u001b[0m\u001b[1;33m\u001b[0m\u001b[1;33m\u001b[0m\u001b[0m\n\u001b[0m\u001b[0;32m   1192\u001b[0m \u001b[1;33m\u001b[0m\u001b[0m\n\u001b[0;32m   1193\u001b[0m \u001b[1;33m\u001b[0m\u001b[0m\n",
      "\u001b[1;32m~\\Anaconda3\\lib\\site-packages\\sklearn\\model_selection\\_search.py\u001b[0m in \u001b[0;36mevaluate_candidates\u001b[1;34m(candidate_params)\u001b[0m\n\u001b[0;32m    709\u001b[0m                                \u001b[1;32mfor\u001b[0m \u001b[0mparameters\u001b[0m\u001b[1;33m,\u001b[0m \u001b[1;33m(\u001b[0m\u001b[0mtrain\u001b[0m\u001b[1;33m,\u001b[0m \u001b[0mtest\u001b[0m\u001b[1;33m)\u001b[0m\u001b[1;33m\u001b[0m\u001b[1;33m\u001b[0m\u001b[0m\n\u001b[0;32m    710\u001b[0m                                in product(candidate_params,\n\u001b[1;32m--> 711\u001b[1;33m                                           cv.split(X, y, groups)))\n\u001b[0m\u001b[0;32m    712\u001b[0m \u001b[1;33m\u001b[0m\u001b[0m\n\u001b[0;32m    713\u001b[0m                 \u001b[0mall_candidate_params\u001b[0m\u001b[1;33m.\u001b[0m\u001b[0mextend\u001b[0m\u001b[1;33m(\u001b[0m\u001b[0mcandidate_params\u001b[0m\u001b[1;33m)\u001b[0m\u001b[1;33m\u001b[0m\u001b[1;33m\u001b[0m\u001b[0m\n",
      "\u001b[1;32m~\\Anaconda3\\lib\\site-packages\\sklearn\\externals\\joblib\\parallel.py\u001b[0m in \u001b[0;36m__call__\u001b[1;34m(self, iterable)\u001b[0m\n\u001b[0;32m    928\u001b[0m \u001b[1;33m\u001b[0m\u001b[0m\n\u001b[0;32m    929\u001b[0m             \u001b[1;32mwith\u001b[0m \u001b[0mself\u001b[0m\u001b[1;33m.\u001b[0m\u001b[0m_backend\u001b[0m\u001b[1;33m.\u001b[0m\u001b[0mretrieval_context\u001b[0m\u001b[1;33m(\u001b[0m\u001b[1;33m)\u001b[0m\u001b[1;33m:\u001b[0m\u001b[1;33m\u001b[0m\u001b[1;33m\u001b[0m\u001b[0m\n\u001b[1;32m--> 930\u001b[1;33m                 \u001b[0mself\u001b[0m\u001b[1;33m.\u001b[0m\u001b[0mretrieve\u001b[0m\u001b[1;33m(\u001b[0m\u001b[1;33m)\u001b[0m\u001b[1;33m\u001b[0m\u001b[1;33m\u001b[0m\u001b[0m\n\u001b[0m\u001b[0;32m    931\u001b[0m             \u001b[1;31m# Make sure that we get a last message telling us we are done\u001b[0m\u001b[1;33m\u001b[0m\u001b[1;33m\u001b[0m\u001b[1;33m\u001b[0m\u001b[0m\n\u001b[0;32m    932\u001b[0m             \u001b[0melapsed_time\u001b[0m \u001b[1;33m=\u001b[0m \u001b[0mtime\u001b[0m\u001b[1;33m.\u001b[0m\u001b[0mtime\u001b[0m\u001b[1;33m(\u001b[0m\u001b[1;33m)\u001b[0m \u001b[1;33m-\u001b[0m \u001b[0mself\u001b[0m\u001b[1;33m.\u001b[0m\u001b[0m_start_time\u001b[0m\u001b[1;33m\u001b[0m\u001b[1;33m\u001b[0m\u001b[0m\n",
      "\u001b[1;32m~\\Anaconda3\\lib\\site-packages\\sklearn\\externals\\joblib\\parallel.py\u001b[0m in \u001b[0;36mretrieve\u001b[1;34m(self)\u001b[0m\n\u001b[0;32m    831\u001b[0m             \u001b[1;32mtry\u001b[0m\u001b[1;33m:\u001b[0m\u001b[1;33m\u001b[0m\u001b[1;33m\u001b[0m\u001b[0m\n\u001b[0;32m    832\u001b[0m                 \u001b[1;32mif\u001b[0m \u001b[0mgetattr\u001b[0m\u001b[1;33m(\u001b[0m\u001b[0mself\u001b[0m\u001b[1;33m.\u001b[0m\u001b[0m_backend\u001b[0m\u001b[1;33m,\u001b[0m \u001b[1;34m'supports_timeout'\u001b[0m\u001b[1;33m,\u001b[0m \u001b[1;32mFalse\u001b[0m\u001b[1;33m)\u001b[0m\u001b[1;33m:\u001b[0m\u001b[1;33m\u001b[0m\u001b[1;33m\u001b[0m\u001b[0m\n\u001b[1;32m--> 833\u001b[1;33m                     \u001b[0mself\u001b[0m\u001b[1;33m.\u001b[0m\u001b[0m_output\u001b[0m\u001b[1;33m.\u001b[0m\u001b[0mextend\u001b[0m\u001b[1;33m(\u001b[0m\u001b[0mjob\u001b[0m\u001b[1;33m.\u001b[0m\u001b[0mget\u001b[0m\u001b[1;33m(\u001b[0m\u001b[0mtimeout\u001b[0m\u001b[1;33m=\u001b[0m\u001b[0mself\u001b[0m\u001b[1;33m.\u001b[0m\u001b[0mtimeout\u001b[0m\u001b[1;33m)\u001b[0m\u001b[1;33m)\u001b[0m\u001b[1;33m\u001b[0m\u001b[1;33m\u001b[0m\u001b[0m\n\u001b[0m\u001b[0;32m    834\u001b[0m                 \u001b[1;32melse\u001b[0m\u001b[1;33m:\u001b[0m\u001b[1;33m\u001b[0m\u001b[1;33m\u001b[0m\u001b[0m\n\u001b[0;32m    835\u001b[0m                     \u001b[0mself\u001b[0m\u001b[1;33m.\u001b[0m\u001b[0m_output\u001b[0m\u001b[1;33m.\u001b[0m\u001b[0mextend\u001b[0m\u001b[1;33m(\u001b[0m\u001b[0mjob\u001b[0m\u001b[1;33m.\u001b[0m\u001b[0mget\u001b[0m\u001b[1;33m(\u001b[0m\u001b[1;33m)\u001b[0m\u001b[1;33m)\u001b[0m\u001b[1;33m\u001b[0m\u001b[1;33m\u001b[0m\u001b[0m\n",
      "\u001b[1;32m~\\Anaconda3\\lib\\site-packages\\sklearn\\externals\\joblib\\_parallel_backends.py\u001b[0m in \u001b[0;36mwrap_future_result\u001b[1;34m(future, timeout)\u001b[0m\n\u001b[0;32m    519\u001b[0m         AsyncResults.get from multiprocessing.\"\"\"\n\u001b[0;32m    520\u001b[0m         \u001b[1;32mtry\u001b[0m\u001b[1;33m:\u001b[0m\u001b[1;33m\u001b[0m\u001b[1;33m\u001b[0m\u001b[0m\n\u001b[1;32m--> 521\u001b[1;33m             \u001b[1;32mreturn\u001b[0m \u001b[0mfuture\u001b[0m\u001b[1;33m.\u001b[0m\u001b[0mresult\u001b[0m\u001b[1;33m(\u001b[0m\u001b[0mtimeout\u001b[0m\u001b[1;33m=\u001b[0m\u001b[0mtimeout\u001b[0m\u001b[1;33m)\u001b[0m\u001b[1;33m\u001b[0m\u001b[1;33m\u001b[0m\u001b[0m\n\u001b[0m\u001b[0;32m    522\u001b[0m         \u001b[1;32mexcept\u001b[0m \u001b[0mLokyTimeoutError\u001b[0m\u001b[1;33m:\u001b[0m\u001b[1;33m\u001b[0m\u001b[1;33m\u001b[0m\u001b[0m\n\u001b[0;32m    523\u001b[0m             \u001b[1;32mraise\u001b[0m \u001b[0mTimeoutError\u001b[0m\u001b[1;33m(\u001b[0m\u001b[1;33m)\u001b[0m\u001b[1;33m\u001b[0m\u001b[1;33m\u001b[0m\u001b[0m\n",
      "\u001b[1;32m~\\Anaconda3\\lib\\concurrent\\futures\\_base.py\u001b[0m in \u001b[0;36mresult\u001b[1;34m(self, timeout)\u001b[0m\n\u001b[0;32m    425\u001b[0m                 \u001b[1;32mreturn\u001b[0m \u001b[0mself\u001b[0m\u001b[1;33m.\u001b[0m\u001b[0m__get_result\u001b[0m\u001b[1;33m(\u001b[0m\u001b[1;33m)\u001b[0m\u001b[1;33m\u001b[0m\u001b[1;33m\u001b[0m\u001b[0m\n\u001b[0;32m    426\u001b[0m \u001b[1;33m\u001b[0m\u001b[0m\n\u001b[1;32m--> 427\u001b[1;33m             \u001b[0mself\u001b[0m\u001b[1;33m.\u001b[0m\u001b[0m_condition\u001b[0m\u001b[1;33m.\u001b[0m\u001b[0mwait\u001b[0m\u001b[1;33m(\u001b[0m\u001b[0mtimeout\u001b[0m\u001b[1;33m)\u001b[0m\u001b[1;33m\u001b[0m\u001b[1;33m\u001b[0m\u001b[0m\n\u001b[0m\u001b[0;32m    428\u001b[0m \u001b[1;33m\u001b[0m\u001b[0m\n\u001b[0;32m    429\u001b[0m             \u001b[1;32mif\u001b[0m \u001b[0mself\u001b[0m\u001b[1;33m.\u001b[0m\u001b[0m_state\u001b[0m \u001b[1;32min\u001b[0m \u001b[1;33m[\u001b[0m\u001b[0mCANCELLED\u001b[0m\u001b[1;33m,\u001b[0m \u001b[0mCANCELLED_AND_NOTIFIED\u001b[0m\u001b[1;33m]\u001b[0m\u001b[1;33m:\u001b[0m\u001b[1;33m\u001b[0m\u001b[1;33m\u001b[0m\u001b[0m\n",
      "\u001b[1;32m~\\Anaconda3\\lib\\threading.py\u001b[0m in \u001b[0;36mwait\u001b[1;34m(self, timeout)\u001b[0m\n\u001b[0;32m    294\u001b[0m         \u001b[1;32mtry\u001b[0m\u001b[1;33m:\u001b[0m    \u001b[1;31m# restore state no matter what (e.g., KeyboardInterrupt)\u001b[0m\u001b[1;33m\u001b[0m\u001b[1;33m\u001b[0m\u001b[0m\n\u001b[0;32m    295\u001b[0m             \u001b[1;32mif\u001b[0m \u001b[0mtimeout\u001b[0m \u001b[1;32mis\u001b[0m \u001b[1;32mNone\u001b[0m\u001b[1;33m:\u001b[0m\u001b[1;33m\u001b[0m\u001b[1;33m\u001b[0m\u001b[0m\n\u001b[1;32m--> 296\u001b[1;33m                 \u001b[0mwaiter\u001b[0m\u001b[1;33m.\u001b[0m\u001b[0macquire\u001b[0m\u001b[1;33m(\u001b[0m\u001b[1;33m)\u001b[0m\u001b[1;33m\u001b[0m\u001b[1;33m\u001b[0m\u001b[0m\n\u001b[0m\u001b[0;32m    297\u001b[0m                 \u001b[0mgotit\u001b[0m \u001b[1;33m=\u001b[0m \u001b[1;32mTrue\u001b[0m\u001b[1;33m\u001b[0m\u001b[1;33m\u001b[0m\u001b[0m\n\u001b[0;32m    298\u001b[0m             \u001b[1;32melse\u001b[0m\u001b[1;33m:\u001b[0m\u001b[1;33m\u001b[0m\u001b[1;33m\u001b[0m\u001b[0m\n",
      "\u001b[1;31mKeyboardInterrupt\u001b[0m: "
     ]
    }
   ],
   "source": [
    "## KNeighborsClassifier\n",
    "# KNeighborsClassifier(n_neighbors=5, weights=’uniform’, algorithm=’auto’, leaf_size=30, p=2, metric=’minkowski’, metric_params=None, n_jobs=None, **kwargs)\n",
    "\n",
    "\n",
    "params = {'n_neighbors' : [2,3,4,5,6,7,9],\n",
    "          'leaf_size' :[10,20,30,40,50],\n",
    "          'p': [1,2,3]}\n",
    "\n",
    "gbgridsearch = GridSearchCV(KNeighborsClassifier(), params,\n",
    "                     cv=3,\n",
    "                     verbose=1,\n",
    "                     n_jobs=-1)\n",
    "\n",
    "gb_best_model = gbgridsearch.fit(X_train, y_train)\n",
    "print('KNeighborsClassifier GridSearchCV best score : {:.2f}%, best_params : {}'.format(gbgridsearch.best_score_*100, gbgridsearch.best_params_))\n"
   ]
  },
  {
   "cell_type": "markdown",
   "metadata": {},
   "source": [
    "#### RadiusNeighborsClassifier\n",
    "- parameter: RadiusNeighborsClassifier(radius=1.0, weights=’uniform’, algorithm=’auto’, leaf_size=30, p=2, metric=’minkowski’, outlier_label=None, metric_params=None, n_jobs=None, **kwargs)\n",
    "\n",
    "- caution: \n",
    "\n",
    "\n",
    "params = {'radius' :[3,2,1.0,0.8,0.5,0.3],\n",
    "          'weights' : ['uniform', 'distance'],\n",
    "          'algorithm' : ['auto', 'ball_tree', 'kd_tree', 'brute'],\n",
    "          'p': [1,2,3]}\n",
    "\n",
    "RadiusNeighbors_gridsearch = GridSearchCV(RadiusNeighborsClassifier(), params,\n",
    "                     cv=3,\n",
    "                     verbose=1,\n",
    "                     n_jobs=-1)\n",
    "\n",
    "RadiusNeighbors_best_model = RadiusNeighbors_gridsearch.fit(X_train, y_train)\n",
    "print('RadiusNeighborsClassifier GridSearchCV best score : {:.2f}%, best_params : {}'.format(RadiusNeighbors_gridsearch.best_score_*100, RadiusNeighbors_gridsearch.best_params_))"
   ]
  },
  {
   "cell_type": "markdown",
   "metadata": {},
   "source": [
    "## models accuracy and parameters\n",
    "\n",
    "- KNeighborsClassifier GridSearchCV best score : 77.69%, best_params : {'leaf_size': 10, 'n_neighbors': 2, 'p': 2}\n",
    "- Logistic GridSearchCV best score : 77.69%, best_params : {'C': 1000.0, 'multi_class': 'multinomial', 'penalty': 'l2', 'solver': 'newton-cg'}\n",
    "- Ridge GridSearchCV best score : 78.51%, best_params : {'alpha': 0.02}\n",
    "- gradient boost GridSearchCV best score : 78.51%, best_params : {'max_depth': 15, 'min_samples_split': 10, 'n_estimators': 30}\n",
    "- extra tree GridSearchCV best score : 76.86%, best_params : {'max_depth': 15, 'min_samples_split': 5, 'n_estimators': 10}\n",
    "- SGDClassifier GridSearchCV best score : 75.21%, best_params : {'bootstrap': True, 'max_depth': 10, 'max_features': 'auto', 'min_samples_leaf': 1, 'n_estimators': 500, 'random_state': 3}\n",
    "- DecisionTree GridSearchCV best score : 72.73%, best_params : {'criterion': 'entropy', 'min_samples_leaf': 2, 'min_samples_split': 5}\n",
    "- BernoulliNB GridSearchCV best score : 80.17%, best_params : {'alpha': 0.01}\n"
   ]
  },
  {
   "cell_type": "markdown",
   "metadata": {},
   "source": [
    "### ensemble model\n",
    "\n",
    "- https://github.com/davidsbatista/machine-learning-notebooks/blob/master/hyperparameter-across-models.ipynb"
   ]
  },
  {
   "cell_type": "markdown",
   "metadata": {},
   "source": [
    " ## Voting Ensemble\n",
    " \n",
    " - grid search로 최적의 param을 찾은 뒤에, voting으로 모델 개선"
   ]
  },
  {
   "cell_type": "code",
   "execution_count": null,
   "metadata": {},
   "outputs": [],
   "source": [
    "from sklearn.ensemble import VotingClassifier\n",
    "from sklearn.neural_network import MLPClassifier\n",
    "clfs = [('BB', BernoulliNB(alpha = 0.01)), ('RF', GradientBoostingClassifier(max_depth = 15, min_samples_split= 10, n_estimators =  30)),('Ridge', RidgeClassifier(alpha=  0.02))]\n",
    "\n",
    "vote_clf = VotingClassifier(clfs) "
   ]
  },
  {
   "cell_type": "code",
   "execution_count": null,
   "metadata": {},
   "outputs": [],
   "source": [
    "vote_clf.fit(X_train, y_train)\n",
    "print('Cross Validation Acc : {:.2f}%'.format(vote_clf.score(X_test, y_test)*100))\n",
    "y_score = vote_clf.fit(X_train, y_train)\n",
    "y_pred = vote_clf.predict(X_test)\n"
   ]
  },
  {
   "cell_type": "code",
   "execution_count": null,
   "metadata": {
    "scrolled": true
   },
   "outputs": [],
   "source": [
    "from sklearn.metrics import classification_report, confusion_matrix, accuracy_score\n",
    "y_b = label_binarize(labels, classes = [-1, 0, -1])\n",
    "\n",
    "print('accuracy %s' % accuracy_score(y_pred, y_test))\n",
    "print(classification_report(y_test, y_pred,target_names=y_b))\n"
   ]
  },
  {
   "cell_type": "code",
   "execution_count": null,
   "metadata": {},
   "outputs": [],
   "source": [
    "\n",
    "print(confusion_matrix(y_test,predicted))\n",
    "print(classification_report(y_test,nb_predicted))\n",
    "print(accuracy_score(y_test, nb_predicted))"
   ]
  },
  {
   "cell_type": "code",
   "execution_count": null,
   "metadata": {},
   "outputs": [],
   "source": [
    "\n",
    "\n",
    "n_classes = y_b.shape[1]\n"
   ]
  },
  {
   "cell_type": "code",
   "execution_count": null,
   "metadata": {},
   "outputs": [],
   "source": [
    "\n",
    "\n",
    "#Compute ROC curve and ROC area for each class\n",
    "fpr = dict()\n",
    "tpr = dict()\n",
    "roc_auc = dict()\n",
    "\n",
    "for i in range(n_classes):\n",
    "    fpr[i], tpr[i], _ = roc_curve(y_test[:, i], y_score[:, i])\n",
    "    roc_auc[i] = auc(fpr[i], tpr[i])\n",
    "\n",
    "    \n",
    "#Compute micro-average ROC curve and ROC area\n",
    "fpr['micro'], tpr['micro'], _ = roc_curve(y_test_b.ravel(), y_score.ravel())\n",
    "roc_auc['micro'] = auc(fpr['micro'], tpr['micro'])    "
   ]
  },
  {
   "cell_type": "code",
   "execution_count": null,
   "metadata": {
    "scrolled": true
   },
   "outputs": [],
   "source": [
    "from sklearn.metrics import classification_report, confusion_matrix, accuracy_score\n",
    "\n",
    "print(confusion_matrix(y_test,predicted))\n",
    "print(classification_report(y_test,predicted))\n",
    "print(accuracy_score(y_test, predicted))\n",
    "predicted_proba"
   ]
  },
  {
   "cell_type": "markdown",
   "metadata": {},
   "source": [
    "## Reference\n",
    "\n",
    "- https://towardsdatascience.com/machine-learning-nlp-text-classification-using-scikit-learn-python-and-nltk-c52b92a7c73a\n",
    "\n",
    "bigram graph and multi classification\n",
    "\n",
    "- https://github.com/robsalgado/personal_data_science_projects/blob/master/mulitclass_text_class/Multiclass%20Text%20Classification%20Notebook.ipynb"
   ]
  },
  {
   "cell_type": "code",
   "execution_count": 82,
   "metadata": {},
   "outputs": [],
   "source": [
    "uskr = pd.read_csv('C:/Users/Juwon Oh/Documents/Dropbox/BigDataDiplomacy/Code/2019/Analysis/Fall/USKR.csv', encoding = \"ISO-8859-1\")"
   ]
  },
  {
   "cell_type": "code",
   "execution_count": null,
   "metadata": {},
   "outputs": [],
   "source": [
    "estimator = BaggingClassifier(SVC(kernel=kernel), n_estimators=100, max_samples=0.5, n_jobs=10)\n",
    "estimator.fit(X_resampled, y_resampled)\n",
    "pred=estimator.predict(X_test)\n",
    "accuracy_score(y_test, pred)"
   ]
  },
  {
   "cell_type": "code",
   "execution_count": 88,
   "metadata": {},
   "outputs": [],
   "source": [
    "uskr = uskr[['date', 'title', 'text']]\n",
    "uskr_text= uskr[['text']]"
   ]
  },
  {
   "cell_type": "code",
   "execution_count": 89,
   "metadata": {},
   "outputs": [
    {
     "ename": "ValueError",
     "evalue": "Number of features of the model must match the input. Model n_features is 160 and input n_features is 1.",
     "output_type": "error",
     "traceback": [
      "\u001b[1;31m---------------------------------------------------------------------------\u001b[0m",
      "\u001b[1;31mValueError\u001b[0m                                Traceback (most recent call last)",
      "\u001b[1;32m<ipython-input-89-aa7c8a443a3b>\u001b[0m in \u001b[0;36m<module>\u001b[1;34m\u001b[0m\n\u001b[1;32m----> 1\u001b[1;33m \u001b[0mpred\u001b[0m\u001b[1;33m=\u001b[0m\u001b[0mestimator\u001b[0m\u001b[1;33m.\u001b[0m\u001b[0mpredict\u001b[0m\u001b[1;33m(\u001b[0m\u001b[0muskr_text\u001b[0m\u001b[1;33m)\u001b[0m\u001b[1;33m\u001b[0m\u001b[1;33m\u001b[0m\u001b[0m\n\u001b[0m",
      "\u001b[1;32m~\\Anaconda3\\lib\\site-packages\\sklearn\\ensemble\\bagging.py\u001b[0m in \u001b[0;36mpredict\u001b[1;34m(self, X)\u001b[0m\n\u001b[0;32m    644\u001b[0m             \u001b[0mThe\u001b[0m \u001b[0mpredicted\u001b[0m \u001b[0mclasses\u001b[0m\u001b[1;33m.\u001b[0m\u001b[1;33m\u001b[0m\u001b[1;33m\u001b[0m\u001b[0m\n\u001b[0;32m    645\u001b[0m         \"\"\"\n\u001b[1;32m--> 646\u001b[1;33m         \u001b[0mpredicted_probabilitiy\u001b[0m \u001b[1;33m=\u001b[0m \u001b[0mself\u001b[0m\u001b[1;33m.\u001b[0m\u001b[0mpredict_proba\u001b[0m\u001b[1;33m(\u001b[0m\u001b[0mX\u001b[0m\u001b[1;33m)\u001b[0m\u001b[1;33m\u001b[0m\u001b[1;33m\u001b[0m\u001b[0m\n\u001b[0m\u001b[0;32m    647\u001b[0m         return self.classes_.take((np.argmax(predicted_probabilitiy, axis=1)),\n\u001b[0;32m    648\u001b[0m                                   axis=0)\n",
      "\u001b[1;32m~\\Anaconda3\\lib\\site-packages\\sklearn\\ensemble\\bagging.py\u001b[0m in \u001b[0;36mpredict_proba\u001b[1;34m(self, X)\u001b[0m\n\u001b[0;32m    681\u001b[0m                              \u001b[1;34m\"match the input. Model n_features is {0} and \"\u001b[0m\u001b[1;33m\u001b[0m\u001b[1;33m\u001b[0m\u001b[0m\n\u001b[0;32m    682\u001b[0m                              \u001b[1;34m\"input n_features is {1}.\"\u001b[0m\u001b[1;33m\u001b[0m\u001b[1;33m\u001b[0m\u001b[0m\n\u001b[1;32m--> 683\u001b[1;33m                              \"\".format(self.n_features_, X.shape[1]))\n\u001b[0m\u001b[0;32m    684\u001b[0m \u001b[1;33m\u001b[0m\u001b[0m\n\u001b[0;32m    685\u001b[0m         \u001b[1;31m# Parallel loop\u001b[0m\u001b[1;33m\u001b[0m\u001b[1;33m\u001b[0m\u001b[1;33m\u001b[0m\u001b[0m\n",
      "\u001b[1;31mValueError\u001b[0m: Number of features of the model must match the input. Model n_features is 160 and input n_features is 1."
     ]
    }
   ],
   "source": [
    "pred=estimator.predict(uskr_text)"
   ]
  }
 ],
 "metadata": {
  "kernelspec": {
   "display_name": "Python 3",
   "language": "python",
   "name": "python3"
  },
  "language_info": {
   "codemirror_mode": {
    "name": "ipython",
    "version": 3
   },
   "file_extension": ".py",
   "mimetype": "text/x-python",
   "name": "python",
   "nbconvert_exporter": "python",
   "pygments_lexer": "ipython3",
   "version": "3.7.1"
  },
  "varInspector": {
   "cols": {
    "lenName": 16,
    "lenType": 16,
    "lenVar": 40
   },
   "kernels_config": {
    "python": {
     "delete_cmd_postfix": "",
     "delete_cmd_prefix": "del ",
     "library": "var_list.py",
     "varRefreshCmd": "print(var_dic_list())"
    },
    "r": {
     "delete_cmd_postfix": ") ",
     "delete_cmd_prefix": "rm(",
     "library": "var_list.r",
     "varRefreshCmd": "cat(var_dic_list()) "
    }
   },
   "oldHeight": 404.79999999999995,
   "position": {
    "height": "40px",
    "left": "1305px",
    "right": "20px",
    "top": "100px",
    "width": "250px"
   },
   "types_to_exclude": [
    "module",
    "function",
    "builtin_function_or_method",
    "instance",
    "_Feature"
   ],
   "varInspector_section_display": "none",
   "window_display": true
  }
 },
 "nbformat": 4,
 "nbformat_minor": 2
}
