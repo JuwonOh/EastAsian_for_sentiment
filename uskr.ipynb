{
 "cells": [
  {
   "cell_type": "code",
   "execution_count": 2,
   "metadata": {},
   "outputs": [
    {
     "data": {
      "text/html": [
       "<style>.container { width:95% !important; }</style>"
      ],
      "text/plain": [
       "<IPython.core.display.HTML object>"
      ]
     },
     "metadata": {},
     "output_type": "display_data"
    }
   ],
   "source": [
    "#Data Analysis\n",
    "import pandas as pd\n",
    "import matplotlib.pyplot as plt\n",
    "import seaborn as sns\n",
    "import numpy as np\n",
    "\n",
    "'''Features'''\n",
    "from sklearn.preprocessing import LabelEncoder\n",
    "from sklearn.feature_extraction.text import TfidfVectorizer, CountVectorizer, TfidfTransformer\n",
    "from sklearn.decomposition import TruncatedSVD\n",
    "from sklearn.preprocessing import label_binarize\n",
    "\n",
    "'''Classifiers'''\n",
    "from sklearn.dummy import DummyClassifier\n",
    "from sklearn.linear_model import SGDClassifier\n",
    "from sklearn.naive_bayes import GaussianNB, BernoulliNB\n",
    "from sklearn.tree import DecisionTreeClassifier\n",
    "from sklearn.ensemble import RandomForestClassifier, AdaBoostClassifier, ExtraTreesClassifier, BaggingClassifier\n",
    "from sklearn.neighbors import KNeighborsClassifier, RadiusNeighborsClassifier\n",
    "from sklearn.multiclass import OneVsRestClassifier\n",
    "from sklearn.svm import LinearSVC, SVC\n",
    "from sklearn.linear_model import RidgeClassifier , LogisticRegression\n",
    "\n",
    "'''Metrics/Evaluation'''\n",
    "from sklearn.model_selection import train_test_split\n",
    "from sklearn.model_selection import GridSearchCV\n",
    "from sklearn.metrics import accuracy_score, precision_score, recall_score, f1_score, roc_curve, auc, confusion_matrix\n",
    "from scipy import interp\n",
    "from itertools import cycle\n",
    "from sklearn.ensemble import VotingClassifier\n",
    "from sklearn.neural_network import MLPClassifier\n",
    "\n",
    "'''Plotting'''\n",
    "import matplotlib.pyplot as plt\n",
    "import seaborn as sns\n",
    "sns.set_style('darkgrid')\n",
    "\n",
    "'''Display'''\n",
    "from IPython.core.display import display, HTML\n",
    "display(HTML(\"<style>.container { width:95% !important; }</style>\"))\n",
    "import warnings\n",
    "warnings.filterwarnings('ignore')\n",
    "pd.options.display.float_format = '{:,.2f}'.format"
   ]
  },
  {
   "cell_type": "code",
   "execution_count": 3,
   "metadata": {},
   "outputs": [
    {
     "data": {
      "text/plain": [
       "(54, 2)"
      ]
     },
     "execution_count": 3,
     "metadata": {},
     "output_type": "execute_result"
    }
   ],
   "source": [
    "uskr_train = pd.read_csv('C:/Users/Juwon Oh/Documents/github/sentiment analysis/sentiment_six_relations_original_cnjp.csv')\n",
    "uskr = uskr_train[['sentiment','text_raw']]\n",
    "uskr = uskr.fillna(0)\n",
    "uskr = uskr.dropna()\n",
    "text= uskr.iloc[:, -1].values\n",
    "labels = uskr.sentiment.values\n",
    "uskr.shape"
   ]
  },
  {
   "cell_type": "markdown",
   "metadata": {},
   "source": [
    "## train set"
   ]
  },
  {
   "cell_type": "code",
   "execution_count": 4,
   "metadata": {},
   "outputs": [],
   "source": [
    "from nltk.stem.snowball import SnowballStemmer\n",
    "stemmer = SnowballStemmer('english')\n",
    "\n",
    "new_corpus=[' '.join([stemmer.stem(word) for word in text.split(' ')])for text in text]"
   ]
  },
  {
   "cell_type": "code",
   "execution_count": 5,
   "metadata": {},
   "outputs": [],
   "source": [
    "from nltk.stem import WordNetLemmatizer\n",
    "lemmer=WordNetLemmatizer()\n",
    "\n",
    "new_corpus=[' '.join([lemmer.lemmatize(word) for word in text.split(' ')])for text in new_corpus]"
   ]
  },
  {
   "cell_type": "code",
   "execution_count": 6,
   "metadata": {},
   "outputs": [],
   "source": [
    "count_vect = CountVectorizer(stop_words=\"english\", ngram_range=(1, 2), max_df= 0.95, min_df=4)\n",
    "text_vector = count_vect.fit_transform(new_corpus)\n",
    "tfidf_transformer = TfidfTransformer(use_idf=True)\n",
    "text_Tfidf = tfidf_transformer.fit_transform(text_vector)"
   ]
  },
  {
   "cell_type": "code",
   "execution_count": 7,
   "metadata": {},
   "outputs": [
    {
     "data": {
      "text/plain": [
       "(54, 1059)"
      ]
     },
     "execution_count": 7,
     "metadata": {},
     "output_type": "execute_result"
    }
   ],
   "source": [
    "text_Tfidf.shape"
   ]
  },
  {
   "cell_type": "code",
   "execution_count": 8,
   "metadata": {},
   "outputs": [],
   "source": [
    "#Dimenionality reduction. Only using the 100 best features er category\n",
    "\n",
    "lsa = TruncatedSVD(n_components=1000, \n",
    "                   n_iter=10, \n",
    "                   random_state=3)\n",
    "\n",
    "X = lsa.fit_transform(text_Tfidf)"
   ]
  },
  {
   "cell_type": "code",
   "execution_count": 12,
   "metadata": {},
   "outputs": [
    {
     "name": "stdout",
     "output_type": "stream",
     "text": [
      "After OverSampling, the shape of train_X: (105, 54)\n",
      "After OverSampling, the shape of train_y: (105, 54) \n",
      "\n",
      "After OverSampling, counts of label '-1': 35\n",
      "After OverSampling, counts of label '1': 35\n",
      "After OverSampling, counts of label '0': 35\n"
     ]
    }
   ],
   "source": [
    "from imblearn.over_sampling import SMOTE\n",
    "# 모델설정\n",
    "sm = SMOTE(ratio='auto', kind='regular', k_neighbors=3)\n",
    "\n",
    "# train데이터를 넣어 복제함\n",
    "X_resampled, y_resampled = sm.fit_sample(X,list(labels))\n",
    "\n",
    "print('After OverSampling, the shape of train_X: {}'.format(X_resampled.shape))\n",
    "print('After OverSampling, the shape of train_y: {} \\n'.format(X_resampled.shape))\n",
    "\n",
    "print(\"After OverSampling, counts of label '-1': {}\".format(sum(y_resampled==-1)))\n",
    "print(\"After OverSampling, counts of label '1': {}\".format(sum(y_resampled==1)))\n",
    "print(\"After OverSampling, counts of label '0': {}\".format(sum(y_resampled==0)))"
   ]
  },
  {
   "cell_type": "code",
   "execution_count": 13,
   "metadata": {},
   "outputs": [
    {
     "name": "stdout",
     "output_type": "stream",
     "text": [
      "Fitting 5 folds for each of 13 candidates, totalling 65 fits\n"
     ]
    },
    {
     "name": "stderr",
     "output_type": "stream",
     "text": [
      "[Parallel(n_jobs=-1)]: Using backend LokyBackend with 8 concurrent workers.\n",
      "[Parallel(n_jobs=-1)]: Done  16 tasks      | elapsed:    6.0s\n",
      "[Parallel(n_jobs=-1)]: Done  50 out of  65 | elapsed:    6.2s remaining:    1.8s\n"
     ]
    },
    {
     "name": "stdout",
     "output_type": "stream",
     "text": [
      "GridSearchCV best score : 79.05%, best_params : {'alpha': 0.0}\n"
     ]
    },
    {
     "name": "stderr",
     "output_type": "stream",
     "text": [
      "[Parallel(n_jobs=-1)]: Done  65 out of  65 | elapsed:    6.2s finished\n"
     ]
    }
   ],
   "source": [
    "## BernoulliNB\n",
    "# BernoulliNB(alpha=1.0, binarize=0.0, fit_prior=True, class_prior=None)\n",
    "\n",
    "Bernoullinb = BernoulliNB()\n",
    "params = {'alpha' : [0.0, 0.0001, 0.001, 0.01, 0.1, 0.5, 1.0, 2.0,3.0 ,5.0, 7.0, 8.0,10.0]}\n",
    "\n",
    "Bernoullinb = GridSearchCV(BernoulliNB(), \n",
    "                   params,\n",
    "                   cv = 5,\n",
    "                   verbose = 3, \n",
    "                   n_jobs = -1)\n",
    "Bernoullinb_best_model = Bernoullinb.fit(X_resampled, y_resampled)\n",
    "print('GridSearchCV best score : {:.2f}%, best_params : {}'.format(Bernoullinb.best_score_*100, Bernoullinb.best_params_))"
   ]
  },
  {
   "cell_type": "code",
   "execution_count": 14,
   "metadata": {},
   "outputs": [
    {
     "name": "stdout",
     "output_type": "stream",
     "text": [
      "0.790 (+/-0.177) for {'alpha': 0.0}\n",
      "0.790 (+/-0.177) for {'alpha': 0.0001}\n",
      "0.790 (+/-0.177) for {'alpha': 0.001}\n",
      "0.790 (+/-0.177) for {'alpha': 0.01}\n",
      "0.790 (+/-0.177) for {'alpha': 0.1}\n",
      "0.790 (+/-0.177) for {'alpha': 0.5}\n",
      "0.771 (+/-0.220) for {'alpha': 1.0}\n",
      "0.771 (+/-0.251) for {'alpha': 2.0}\n",
      "0.762 (+/-0.233) for {'alpha': 3.0}\n",
      "0.781 (+/-0.230) for {'alpha': 5.0}\n",
      "0.771 (+/-0.212) for {'alpha': 7.0}\n",
      "0.762 (+/-0.233) for {'alpha': 8.0}\n",
      "0.771 (+/-0.212) for {'alpha': 10.0}\n"
     ]
    }
   ],
   "source": [
    "means = Bernoullinb_best_model.cv_results_['mean_test_score']\n",
    "stds = Bernoullinb_best_model.cv_results_['std_test_score']\n",
    "for mean, std, params in zip(means, stds, Bernoullinb_best_model.cv_results_['params']):\n",
    "    print(\"%0.3f (+/-%0.03f) for %r\"% (mean, std * 2, params))"
   ]
  },
  {
   "cell_type": "code",
   "execution_count": 15,
   "metadata": {
    "scrolled": false
   },
   "outputs": [
    {
     "name": "stdout",
     "output_type": "stream",
     "text": [
      "Fitting 3 folds for each of 400 candidates, totalling 1200 fits\n"
     ]
    },
    {
     "name": "stderr",
     "output_type": "stream",
     "text": [
      "[Parallel(n_jobs=-1)]: Using backend LokyBackend with 8 concurrent workers.\n",
      "[Parallel(n_jobs=-1)]: Done  34 tasks      | elapsed:    0.3s\n",
      "[Parallel(n_jobs=-1)]: Done 1034 tasks      | elapsed:   13.4s\n"
     ]
    },
    {
     "name": "stdout",
     "output_type": "stream",
     "text": [
      "GridSearchCV best score : 95.24%, best_params : {'alpha': 1e-06, 'loss': 'log', 'max_iter': 5, 'penalty': 'l1', 'random_state': 3, 'tol': None}\n"
     ]
    },
    {
     "name": "stderr",
     "output_type": "stream",
     "text": [
      "[Parallel(n_jobs=-1)]: Done 1200 out of 1200 | elapsed:   20.1s finished\n"
     ]
    }
   ],
   "source": [
    "## SGDClassifier\n",
    "# SGDClassifier(loss=’hinge’, penalty=’l2’, alpha=0.0001, l1_ratio=0.15, fit_intercept=True, max_iter=1000, tol=0.001, shuffle=True, verbose=0, epsilon=0.1, n_jobs=None, random_state=None, learning_rate=’optimal’, eta0=0.0, power_t=0.5, early_stopping=False, validation_fraction=0.1, n_iter_no_change=5, class_weight=None, warm_start=False, average=False)\n",
    "\n",
    "loss =  ['hinge','log']\n",
    "penalty = ['l2','l1']\n",
    "alpha = [1e-6, 1e-3, 1e-1, 1e0, 0.0001]\n",
    "max_iter = [5,10,20,30, 50, 60, 70, 100,1000, 10000]\n",
    "tol = [None, 1e-3]\n",
    "eta0 = [0.1, 0.001]\n",
    "random_state = [3]\n",
    "\n",
    "SGD = SGDClassifier()\n",
    "\n",
    "params = dict(loss=loss,\n",
    "              penalty=penalty,\n",
    "              alpha=alpha,\n",
    "              max_iter=max_iter,\n",
    "              tol=tol,\n",
    "              random_state=random_state)\n",
    "\n",
    "SGDgridsearch = GridSearchCV(SGDClassifier(),\n",
    "                          params,\n",
    "                          cv = 3,\n",
    "                          verbose = 1, \n",
    "                          n_jobs = -1)\n",
    "\n",
    "sgd_best_model = SGDgridsearch.fit(X_resampled, y_resampled)\n",
    "print('GridSearchCV best score : {:.2f}%, best_params : {}'.format(SGDgridsearch.best_score_*100, SGDgridsearch.best_params_))"
   ]
  },
  {
   "cell_type": "code",
   "execution_count": 16,
   "metadata": {},
   "outputs": [
    {
     "name": "stdout",
     "output_type": "stream",
     "text": [
      "0.905 (+/-0.024) for {'alpha': 1e-06, 'loss': 'hinge', 'max_iter': 5, 'penalty': 'l2', 'random_state': 3, 'tol': None}\n",
      "0.905 (+/-0.024) for {'alpha': 1e-06, 'loss': 'hinge', 'max_iter': 5, 'penalty': 'l2', 'random_state': 3, 'tol': 0.001}\n",
      "0.905 (+/-0.024) for {'alpha': 1e-06, 'loss': 'hinge', 'max_iter': 5, 'penalty': 'l1', 'random_state': 3, 'tol': None}\n",
      "0.905 (+/-0.024) for {'alpha': 1e-06, 'loss': 'hinge', 'max_iter': 5, 'penalty': 'l1', 'random_state': 3, 'tol': 0.001}\n",
      "0.895 (+/-0.019) for {'alpha': 1e-06, 'loss': 'hinge', 'max_iter': 10, 'penalty': 'l2', 'random_state': 3, 'tol': None}\n",
      "0.895 (+/-0.019) for {'alpha': 1e-06, 'loss': 'hinge', 'max_iter': 10, 'penalty': 'l2', 'random_state': 3, 'tol': 0.001}\n",
      "0.905 (+/-0.024) for {'alpha': 1e-06, 'loss': 'hinge', 'max_iter': 10, 'penalty': 'l1', 'random_state': 3, 'tol': None}\n",
      "0.905 (+/-0.024) for {'alpha': 1e-06, 'loss': 'hinge', 'max_iter': 10, 'penalty': 'l1', 'random_state': 3, 'tol': 0.001}\n",
      "0.886 (+/-0.039) for {'alpha': 1e-06, 'loss': 'hinge', 'max_iter': 20, 'penalty': 'l2', 'random_state': 3, 'tol': None}\n",
      "0.895 (+/-0.019) for {'alpha': 1e-06, 'loss': 'hinge', 'max_iter': 20, 'penalty': 'l2', 'random_state': 3, 'tol': 0.001}\n",
      "0.905 (+/-0.024) for {'alpha': 1e-06, 'loss': 'hinge', 'max_iter': 20, 'penalty': 'l1', 'random_state': 3, 'tol': None}\n",
      "0.905 (+/-0.024) for {'alpha': 1e-06, 'loss': 'hinge', 'max_iter': 20, 'penalty': 'l1', 'random_state': 3, 'tol': 0.001}\n",
      "0.886 (+/-0.039) for {'alpha': 1e-06, 'loss': 'hinge', 'max_iter': 30, 'penalty': 'l2', 'random_state': 3, 'tol': None}\n",
      "0.895 (+/-0.019) for {'alpha': 1e-06, 'loss': 'hinge', 'max_iter': 30, 'penalty': 'l2', 'random_state': 3, 'tol': 0.001}\n",
      "0.905 (+/-0.024) for {'alpha': 1e-06, 'loss': 'hinge', 'max_iter': 30, 'penalty': 'l1', 'random_state': 3, 'tol': None}\n",
      "0.905 (+/-0.024) for {'alpha': 1e-06, 'loss': 'hinge', 'max_iter': 30, 'penalty': 'l1', 'random_state': 3, 'tol': 0.001}\n",
      "0.886 (+/-0.039) for {'alpha': 1e-06, 'loss': 'hinge', 'max_iter': 50, 'penalty': 'l2', 'random_state': 3, 'tol': None}\n",
      "0.895 (+/-0.019) for {'alpha': 1e-06, 'loss': 'hinge', 'max_iter': 50, 'penalty': 'l2', 'random_state': 3, 'tol': 0.001}\n",
      "0.905 (+/-0.024) for {'alpha': 1e-06, 'loss': 'hinge', 'max_iter': 50, 'penalty': 'l1', 'random_state': 3, 'tol': None}\n",
      "0.905 (+/-0.024) for {'alpha': 1e-06, 'loss': 'hinge', 'max_iter': 50, 'penalty': 'l1', 'random_state': 3, 'tol': 0.001}\n",
      "0.895 (+/-0.019) for {'alpha': 1e-06, 'loss': 'hinge', 'max_iter': 60, 'penalty': 'l2', 'random_state': 3, 'tol': None}\n",
      "0.895 (+/-0.019) for {'alpha': 1e-06, 'loss': 'hinge', 'max_iter': 60, 'penalty': 'l2', 'random_state': 3, 'tol': 0.001}\n",
      "0.905 (+/-0.024) for {'alpha': 1e-06, 'loss': 'hinge', 'max_iter': 60, 'penalty': 'l1', 'random_state': 3, 'tol': None}\n",
      "0.905 (+/-0.024) for {'alpha': 1e-06, 'loss': 'hinge', 'max_iter': 60, 'penalty': 'l1', 'random_state': 3, 'tol': 0.001}\n",
      "0.895 (+/-0.019) for {'alpha': 1e-06, 'loss': 'hinge', 'max_iter': 70, 'penalty': 'l2', 'random_state': 3, 'tol': None}\n",
      "0.895 (+/-0.019) for {'alpha': 1e-06, 'loss': 'hinge', 'max_iter': 70, 'penalty': 'l2', 'random_state': 3, 'tol': 0.001}\n",
      "0.905 (+/-0.024) for {'alpha': 1e-06, 'loss': 'hinge', 'max_iter': 70, 'penalty': 'l1', 'random_state': 3, 'tol': None}\n",
      "0.905 (+/-0.024) for {'alpha': 1e-06, 'loss': 'hinge', 'max_iter': 70, 'penalty': 'l1', 'random_state': 3, 'tol': 0.001}\n",
      "0.895 (+/-0.019) for {'alpha': 1e-06, 'loss': 'hinge', 'max_iter': 100, 'penalty': 'l2', 'random_state': 3, 'tol': None}\n",
      "0.895 (+/-0.019) for {'alpha': 1e-06, 'loss': 'hinge', 'max_iter': 100, 'penalty': 'l2', 'random_state': 3, 'tol': 0.001}\n",
      "0.905 (+/-0.024) for {'alpha': 1e-06, 'loss': 'hinge', 'max_iter': 100, 'penalty': 'l1', 'random_state': 3, 'tol': None}\n",
      "0.905 (+/-0.024) for {'alpha': 1e-06, 'loss': 'hinge', 'max_iter': 100, 'penalty': 'l1', 'random_state': 3, 'tol': 0.001}\n",
      "0.895 (+/-0.019) for {'alpha': 1e-06, 'loss': 'hinge', 'max_iter': 1000, 'penalty': 'l2', 'random_state': 3, 'tol': None}\n",
      "0.895 (+/-0.019) for {'alpha': 1e-06, 'loss': 'hinge', 'max_iter': 1000, 'penalty': 'l2', 'random_state': 3, 'tol': 0.001}\n",
      "0.886 (+/-0.039) for {'alpha': 1e-06, 'loss': 'hinge', 'max_iter': 1000, 'penalty': 'l1', 'random_state': 3, 'tol': None}\n",
      "0.905 (+/-0.024) for {'alpha': 1e-06, 'loss': 'hinge', 'max_iter': 1000, 'penalty': 'l1', 'random_state': 3, 'tol': 0.001}\n",
      "0.914 (+/-0.075) for {'alpha': 1e-06, 'loss': 'hinge', 'max_iter': 10000, 'penalty': 'l2', 'random_state': 3, 'tol': None}\n",
      "0.895 (+/-0.019) for {'alpha': 1e-06, 'loss': 'hinge', 'max_iter': 10000, 'penalty': 'l2', 'random_state': 3, 'tol': 0.001}\n",
      "0.886 (+/-0.039) for {'alpha': 1e-06, 'loss': 'hinge', 'max_iter': 10000, 'penalty': 'l1', 'random_state': 3, 'tol': None}\n",
      "0.905 (+/-0.024) for {'alpha': 1e-06, 'loss': 'hinge', 'max_iter': 10000, 'penalty': 'l1', 'random_state': 3, 'tol': 0.001}\n",
      "0.943 (+/-0.090) for {'alpha': 1e-06, 'loss': 'log', 'max_iter': 5, 'penalty': 'l2', 'random_state': 3, 'tol': None}\n",
      "0.943 (+/-0.090) for {'alpha': 1e-06, 'loss': 'log', 'max_iter': 5, 'penalty': 'l2', 'random_state': 3, 'tol': 0.001}\n",
      "0.952 (+/-0.068) for {'alpha': 1e-06, 'loss': 'log', 'max_iter': 5, 'penalty': 'l1', 'random_state': 3, 'tol': None}\n",
      "0.952 (+/-0.068) for {'alpha': 1e-06, 'loss': 'log', 'max_iter': 5, 'penalty': 'l1', 'random_state': 3, 'tol': 0.001}\n",
      "0.943 (+/-0.090) for {'alpha': 1e-06, 'loss': 'log', 'max_iter': 10, 'penalty': 'l2', 'random_state': 3, 'tol': None}\n",
      "0.943 (+/-0.090) for {'alpha': 1e-06, 'loss': 'log', 'max_iter': 10, 'penalty': 'l2', 'random_state': 3, 'tol': 0.001}\n",
      "0.933 (+/-0.093) for {'alpha': 1e-06, 'loss': 'log', 'max_iter': 10, 'penalty': 'l1', 'random_state': 3, 'tol': None}\n",
      "0.952 (+/-0.068) for {'alpha': 1e-06, 'loss': 'log', 'max_iter': 10, 'penalty': 'l1', 'random_state': 3, 'tol': 0.001}\n",
      "0.933 (+/-0.093) for {'alpha': 1e-06, 'loss': 'log', 'max_iter': 20, 'penalty': 'l2', 'random_state': 3, 'tol': None}\n",
      "0.943 (+/-0.090) for {'alpha': 1e-06, 'loss': 'log', 'max_iter': 20, 'penalty': 'l2', 'random_state': 3, 'tol': 0.001}\n",
      "0.943 (+/-0.077) for {'alpha': 1e-06, 'loss': 'log', 'max_iter': 20, 'penalty': 'l1', 'random_state': 3, 'tol': None}\n",
      "0.952 (+/-0.068) for {'alpha': 1e-06, 'loss': 'log', 'max_iter': 20, 'penalty': 'l1', 'random_state': 3, 'tol': 0.001}\n",
      "0.933 (+/-0.093) for {'alpha': 1e-06, 'loss': 'log', 'max_iter': 30, 'penalty': 'l2', 'random_state': 3, 'tol': None}\n",
      "0.943 (+/-0.090) for {'alpha': 1e-06, 'loss': 'log', 'max_iter': 30, 'penalty': 'l2', 'random_state': 3, 'tol': 0.001}\n",
      "0.943 (+/-0.077) for {'alpha': 1e-06, 'loss': 'log', 'max_iter': 30, 'penalty': 'l1', 'random_state': 3, 'tol': None}\n",
      "0.952 (+/-0.068) for {'alpha': 1e-06, 'loss': 'log', 'max_iter': 30, 'penalty': 'l1', 'random_state': 3, 'tol': 0.001}\n",
      "0.933 (+/-0.093) for {'alpha': 1e-06, 'loss': 'log', 'max_iter': 50, 'penalty': 'l2', 'random_state': 3, 'tol': None}\n",
      "0.943 (+/-0.090) for {'alpha': 1e-06, 'loss': 'log', 'max_iter': 50, 'penalty': 'l2', 'random_state': 3, 'tol': 0.001}\n",
      "0.943 (+/-0.077) for {'alpha': 1e-06, 'loss': 'log', 'max_iter': 50, 'penalty': 'l1', 'random_state': 3, 'tol': None}\n",
      "0.952 (+/-0.068) for {'alpha': 1e-06, 'loss': 'log', 'max_iter': 50, 'penalty': 'l1', 'random_state': 3, 'tol': 0.001}\n",
      "0.933 (+/-0.093) for {'alpha': 1e-06, 'loss': 'log', 'max_iter': 60, 'penalty': 'l2', 'random_state': 3, 'tol': None}\n",
      "0.943 (+/-0.090) for {'alpha': 1e-06, 'loss': 'log', 'max_iter': 60, 'penalty': 'l2', 'random_state': 3, 'tol': 0.001}\n",
      "0.943 (+/-0.077) for {'alpha': 1e-06, 'loss': 'log', 'max_iter': 60, 'penalty': 'l1', 'random_state': 3, 'tol': None}\n",
      "0.952 (+/-0.068) for {'alpha': 1e-06, 'loss': 'log', 'max_iter': 60, 'penalty': 'l1', 'random_state': 3, 'tol': 0.001}\n",
      "0.933 (+/-0.093) for {'alpha': 1e-06, 'loss': 'log', 'max_iter': 70, 'penalty': 'l2', 'random_state': 3, 'tol': None}\n",
      "0.943 (+/-0.090) for {'alpha': 1e-06, 'loss': 'log', 'max_iter': 70, 'penalty': 'l2', 'random_state': 3, 'tol': 0.001}\n",
      "0.943 (+/-0.077) for {'alpha': 1e-06, 'loss': 'log', 'max_iter': 70, 'penalty': 'l1', 'random_state': 3, 'tol': None}\n",
      "0.952 (+/-0.068) for {'alpha': 1e-06, 'loss': 'log', 'max_iter': 70, 'penalty': 'l1', 'random_state': 3, 'tol': 0.001}\n",
      "0.933 (+/-0.093) for {'alpha': 1e-06, 'loss': 'log', 'max_iter': 100, 'penalty': 'l2', 'random_state': 3, 'tol': None}\n",
      "0.943 (+/-0.090) for {'alpha': 1e-06, 'loss': 'log', 'max_iter': 100, 'penalty': 'l2', 'random_state': 3, 'tol': 0.001}\n",
      "0.943 (+/-0.077) for {'alpha': 1e-06, 'loss': 'log', 'max_iter': 100, 'penalty': 'l1', 'random_state': 3, 'tol': None}\n",
      "0.952 (+/-0.068) for {'alpha': 1e-06, 'loss': 'log', 'max_iter': 100, 'penalty': 'l1', 'random_state': 3, 'tol': 0.001}\n",
      "0.924 (+/-0.103) for {'alpha': 1e-06, 'loss': 'log', 'max_iter': 1000, 'penalty': 'l2', 'random_state': 3, 'tol': None}\n",
      "0.943 (+/-0.090) for {'alpha': 1e-06, 'loss': 'log', 'max_iter': 1000, 'penalty': 'l2', 'random_state': 3, 'tol': 0.001}\n",
      "0.943 (+/-0.077) for {'alpha': 1e-06, 'loss': 'log', 'max_iter': 1000, 'penalty': 'l1', 'random_state': 3, 'tol': None}\n",
      "0.952 (+/-0.068) for {'alpha': 1e-06, 'loss': 'log', 'max_iter': 1000, 'penalty': 'l1', 'random_state': 3, 'tol': 0.001}\n",
      "0.905 (+/-0.091) for {'alpha': 1e-06, 'loss': 'log', 'max_iter': 10000, 'penalty': 'l2', 'random_state': 3, 'tol': None}\n",
      "0.943 (+/-0.090) for {'alpha': 1e-06, 'loss': 'log', 'max_iter': 10000, 'penalty': 'l2', 'random_state': 3, 'tol': 0.001}\n",
      "0.943 (+/-0.077) for {'alpha': 1e-06, 'loss': 'log', 'max_iter': 10000, 'penalty': 'l1', 'random_state': 3, 'tol': None}\n",
      "0.952 (+/-0.068) for {'alpha': 1e-06, 'loss': 'log', 'max_iter': 10000, 'penalty': 'l1', 'random_state': 3, 'tol': 0.001}\n",
      "0.924 (+/-0.021) for {'alpha': 0.001, 'loss': 'hinge', 'max_iter': 5, 'penalty': 'l2', 'random_state': 3, 'tol': None}\n",
      "0.924 (+/-0.021) for {'alpha': 0.001, 'loss': 'hinge', 'max_iter': 5, 'penalty': 'l2', 'random_state': 3, 'tol': 0.001}\n",
      "0.914 (+/-0.007) for {'alpha': 0.001, 'loss': 'hinge', 'max_iter': 5, 'penalty': 'l1', 'random_state': 3, 'tol': None}\n",
      "0.914 (+/-0.007) for {'alpha': 0.001, 'loss': 'hinge', 'max_iter': 5, 'penalty': 'l1', 'random_state': 3, 'tol': 0.001}\n",
      "0.933 (+/-0.049) for {'alpha': 0.001, 'loss': 'hinge', 'max_iter': 10, 'penalty': 'l2', 'random_state': 3, 'tol': None}\n",
      "0.933 (+/-0.049) for {'alpha': 0.001, 'loss': 'hinge', 'max_iter': 10, 'penalty': 'l2', 'random_state': 3, 'tol': 0.001}\n",
      "0.895 (+/-0.032) for {'alpha': 0.001, 'loss': 'hinge', 'max_iter': 10, 'penalty': 'l1', 'random_state': 3, 'tol': None}\n",
      "0.895 (+/-0.032) for {'alpha': 0.001, 'loss': 'hinge', 'max_iter': 10, 'penalty': 'l1', 'random_state': 3, 'tol': 0.001}\n",
      "0.924 (+/-0.113) for {'alpha': 0.001, 'loss': 'hinge', 'max_iter': 20, 'penalty': 'l2', 'random_state': 3, 'tol': None}\n",
      "0.914 (+/-0.088) for {'alpha': 0.001, 'loss': 'hinge', 'max_iter': 20, 'penalty': 'l2', 'random_state': 3, 'tol': 0.001}\n",
      "0.895 (+/-0.032) for {'alpha': 0.001, 'loss': 'hinge', 'max_iter': 20, 'penalty': 'l1', 'random_state': 3, 'tol': None}\n",
      "0.895 (+/-0.032) for {'alpha': 0.001, 'loss': 'hinge', 'max_iter': 20, 'penalty': 'l1', 'random_state': 3, 'tol': 0.001}\n",
      "0.895 (+/-0.064) for {'alpha': 0.001, 'loss': 'hinge', 'max_iter': 30, 'penalty': 'l2', 'random_state': 3, 'tol': None}\n",
      "0.914 (+/-0.088) for {'alpha': 0.001, 'loss': 'hinge', 'max_iter': 30, 'penalty': 'l2', 'random_state': 3, 'tol': 0.001}\n",
      "0.905 (+/-0.024) for {'alpha': 0.001, 'loss': 'hinge', 'max_iter': 30, 'penalty': 'l1', 'random_state': 3, 'tol': None}\n",
      "0.895 (+/-0.032) for {'alpha': 0.001, 'loss': 'hinge', 'max_iter': 30, 'penalty': 'l1', 'random_state': 3, 'tol': 0.001}\n",
      "0.905 (+/-0.091) for {'alpha': 0.001, 'loss': 'hinge', 'max_iter': 50, 'penalty': 'l2', 'random_state': 3, 'tol': None}\n",
      "0.914 (+/-0.088) for {'alpha': 0.001, 'loss': 'hinge', 'max_iter': 50, 'penalty': 'l2', 'random_state': 3, 'tol': 0.001}\n",
      "0.914 (+/-0.041) for {'alpha': 0.001, 'loss': 'hinge', 'max_iter': 50, 'penalty': 'l1', 'random_state': 3, 'tol': None}\n",
      "0.895 (+/-0.032) for {'alpha': 0.001, 'loss': 'hinge', 'max_iter': 50, 'penalty': 'l1', 'random_state': 3, 'tol': 0.001}\n",
      "0.905 (+/-0.091) for {'alpha': 0.001, 'loss': 'hinge', 'max_iter': 60, 'penalty': 'l2', 'random_state': 3, 'tol': None}\n",
      "0.914 (+/-0.088) for {'alpha': 0.001, 'loss': 'hinge', 'max_iter': 60, 'penalty': 'l2', 'random_state': 3, 'tol': 0.001}\n",
      "0.914 (+/-0.041) for {'alpha': 0.001, 'loss': 'hinge', 'max_iter': 60, 'penalty': 'l1', 'random_state': 3, 'tol': None}\n",
      "0.895 (+/-0.032) for {'alpha': 0.001, 'loss': 'hinge', 'max_iter': 60, 'penalty': 'l1', 'random_state': 3, 'tol': 0.001}\n",
      "0.905 (+/-0.091) for {'alpha': 0.001, 'loss': 'hinge', 'max_iter': 70, 'penalty': 'l2', 'random_state': 3, 'tol': None}\n",
      "0.914 (+/-0.088) for {'alpha': 0.001, 'loss': 'hinge', 'max_iter': 70, 'penalty': 'l2', 'random_state': 3, 'tol': 0.001}\n",
      "0.905 (+/-0.047) for {'alpha': 0.001, 'loss': 'hinge', 'max_iter': 70, 'penalty': 'l1', 'random_state': 3, 'tol': None}\n",
      "0.895 (+/-0.032) for {'alpha': 0.001, 'loss': 'hinge', 'max_iter': 70, 'penalty': 'l1', 'random_state': 3, 'tol': 0.001}\n",
      "0.905 (+/-0.091) for {'alpha': 0.001, 'loss': 'hinge', 'max_iter': 100, 'penalty': 'l2', 'random_state': 3, 'tol': None}\n",
      "0.914 (+/-0.088) for {'alpha': 0.001, 'loss': 'hinge', 'max_iter': 100, 'penalty': 'l2', 'random_state': 3, 'tol': 0.001}\n",
      "0.905 (+/-0.047) for {'alpha': 0.001, 'loss': 'hinge', 'max_iter': 100, 'penalty': 'l1', 'random_state': 3, 'tol': None}\n",
      "0.895 (+/-0.032) for {'alpha': 0.001, 'loss': 'hinge', 'max_iter': 100, 'penalty': 'l1', 'random_state': 3, 'tol': 0.001}\n",
      "0.905 (+/-0.091) for {'alpha': 0.001, 'loss': 'hinge', 'max_iter': 1000, 'penalty': 'l2', 'random_state': 3, 'tol': None}\n",
      "0.914 (+/-0.088) for {'alpha': 0.001, 'loss': 'hinge', 'max_iter': 1000, 'penalty': 'l2', 'random_state': 3, 'tol': 0.001}\n",
      "0.905 (+/-0.047) for {'alpha': 0.001, 'loss': 'hinge', 'max_iter': 1000, 'penalty': 'l1', 'random_state': 3, 'tol': None}\n",
      "0.895 (+/-0.032) for {'alpha': 0.001, 'loss': 'hinge', 'max_iter': 1000, 'penalty': 'l1', 'random_state': 3, 'tol': 0.001}\n",
      "0.905 (+/-0.091) for {'alpha': 0.001, 'loss': 'hinge', 'max_iter': 10000, 'penalty': 'l2', 'random_state': 3, 'tol': None}\n",
      "0.914 (+/-0.088) for {'alpha': 0.001, 'loss': 'hinge', 'max_iter': 10000, 'penalty': 'l2', 'random_state': 3, 'tol': 0.001}\n",
      "0.914 (+/-0.041) for {'alpha': 0.001, 'loss': 'hinge', 'max_iter': 10000, 'penalty': 'l1', 'random_state': 3, 'tol': None}\n",
      "0.895 (+/-0.032) for {'alpha': 0.001, 'loss': 'hinge', 'max_iter': 10000, 'penalty': 'l1', 'random_state': 3, 'tol': 0.001}\n",
      "0.914 (+/-0.041) for {'alpha': 0.001, 'loss': 'log', 'max_iter': 5, 'penalty': 'l2', 'random_state': 3, 'tol': None}\n",
      "0.914 (+/-0.041) for {'alpha': 0.001, 'loss': 'log', 'max_iter': 5, 'penalty': 'l2', 'random_state': 3, 'tol': 0.001}\n",
      "0.924 (+/-0.066) for {'alpha': 0.001, 'loss': 'log', 'max_iter': 5, 'penalty': 'l1', 'random_state': 3, 'tol': None}\n",
      "0.924 (+/-0.066) for {'alpha': 0.001, 'loss': 'log', 'max_iter': 5, 'penalty': 'l1', 'random_state': 3, 'tol': 0.001}\n",
      "0.886 (+/-0.039) for {'alpha': 0.001, 'loss': 'log', 'max_iter': 10, 'penalty': 'l2', 'random_state': 3, 'tol': None}\n",
      "0.905 (+/-0.091) for {'alpha': 0.001, 'loss': 'log', 'max_iter': 10, 'penalty': 'l2', 'random_state': 3, 'tol': 0.001}\n",
      "0.905 (+/-0.091) for {'alpha': 0.001, 'loss': 'log', 'max_iter': 10, 'penalty': 'l1', 'random_state': 3, 'tol': None}\n",
      "0.905 (+/-0.091) for {'alpha': 0.001, 'loss': 'log', 'max_iter': 10, 'penalty': 'l1', 'random_state': 3, 'tol': 0.001}\n",
      "0.905 (+/-0.091) for {'alpha': 0.001, 'loss': 'log', 'max_iter': 20, 'penalty': 'l2', 'random_state': 3, 'tol': None}\n",
      "0.905 (+/-0.091) for {'alpha': 0.001, 'loss': 'log', 'max_iter': 20, 'penalty': 'l2', 'random_state': 3, 'tol': 0.001}\n",
      "0.914 (+/-0.075) for {'alpha': 0.001, 'loss': 'log', 'max_iter': 20, 'penalty': 'l1', 'random_state': 3, 'tol': None}\n",
      "0.914 (+/-0.075) for {'alpha': 0.001, 'loss': 'log', 'max_iter': 20, 'penalty': 'l1', 'random_state': 3, 'tol': 0.001}\n",
      "0.895 (+/-0.064) for {'alpha': 0.001, 'loss': 'log', 'max_iter': 30, 'penalty': 'l2', 'random_state': 3, 'tol': None}\n",
      "0.905 (+/-0.091) for {'alpha': 0.001, 'loss': 'log', 'max_iter': 30, 'penalty': 'l2', 'random_state': 3, 'tol': 0.001}\n",
      "0.914 (+/-0.075) for {'alpha': 0.001, 'loss': 'log', 'max_iter': 30, 'penalty': 'l1', 'random_state': 3, 'tol': None}\n",
      "0.914 (+/-0.075) for {'alpha': 0.001, 'loss': 'log', 'max_iter': 30, 'penalty': 'l1', 'random_state': 3, 'tol': 0.001}\n",
      "0.914 (+/-0.075) for {'alpha': 0.001, 'loss': 'log', 'max_iter': 50, 'penalty': 'l2', 'random_state': 3, 'tol': None}\n",
      "0.905 (+/-0.091) for {'alpha': 0.001, 'loss': 'log', 'max_iter': 50, 'penalty': 'l2', 'random_state': 3, 'tol': 0.001}\n",
      "0.914 (+/-0.075) for {'alpha': 0.001, 'loss': 'log', 'max_iter': 50, 'penalty': 'l1', 'random_state': 3, 'tol': None}\n",
      "0.914 (+/-0.075) for {'alpha': 0.001, 'loss': 'log', 'max_iter': 50, 'penalty': 'l1', 'random_state': 3, 'tol': 0.001}\n",
      "0.914 (+/-0.075) for {'alpha': 0.001, 'loss': 'log', 'max_iter': 60, 'penalty': 'l2', 'random_state': 3, 'tol': None}\n",
      "0.905 (+/-0.091) for {'alpha': 0.001, 'loss': 'log', 'max_iter': 60, 'penalty': 'l2', 'random_state': 3, 'tol': 0.001}\n",
      "0.914 (+/-0.075) for {'alpha': 0.001, 'loss': 'log', 'max_iter': 60, 'penalty': 'l1', 'random_state': 3, 'tol': None}\n",
      "0.914 (+/-0.075) for {'alpha': 0.001, 'loss': 'log', 'max_iter': 60, 'penalty': 'l1', 'random_state': 3, 'tol': 0.001}\n",
      "0.914 (+/-0.075) for {'alpha': 0.001, 'loss': 'log', 'max_iter': 70, 'penalty': 'l2', 'random_state': 3, 'tol': None}\n",
      "0.905 (+/-0.091) for {'alpha': 0.001, 'loss': 'log', 'max_iter': 70, 'penalty': 'l2', 'random_state': 3, 'tol': 0.001}\n",
      "0.914 (+/-0.075) for {'alpha': 0.001, 'loss': 'log', 'max_iter': 70, 'penalty': 'l1', 'random_state': 3, 'tol': None}\n",
      "0.914 (+/-0.075) for {'alpha': 0.001, 'loss': 'log', 'max_iter': 70, 'penalty': 'l1', 'random_state': 3, 'tol': 0.001}\n",
      "0.914 (+/-0.075) for {'alpha': 0.001, 'loss': 'log', 'max_iter': 100, 'penalty': 'l2', 'random_state': 3, 'tol': None}\n",
      "0.905 (+/-0.091) for {'alpha': 0.001, 'loss': 'log', 'max_iter': 100, 'penalty': 'l2', 'random_state': 3, 'tol': 0.001}\n",
      "0.914 (+/-0.075) for {'alpha': 0.001, 'loss': 'log', 'max_iter': 100, 'penalty': 'l1', 'random_state': 3, 'tol': None}\n",
      "0.914 (+/-0.075) for {'alpha': 0.001, 'loss': 'log', 'max_iter': 100, 'penalty': 'l1', 'random_state': 3, 'tol': 0.001}\n",
      "0.914 (+/-0.075) for {'alpha': 0.001, 'loss': 'log', 'max_iter': 1000, 'penalty': 'l2', 'random_state': 3, 'tol': None}\n",
      "0.905 (+/-0.091) for {'alpha': 0.001, 'loss': 'log', 'max_iter': 1000, 'penalty': 'l2', 'random_state': 3, 'tol': 0.001}\n",
      "0.905 (+/-0.091) for {'alpha': 0.001, 'loss': 'log', 'max_iter': 1000, 'penalty': 'l1', 'random_state': 3, 'tol': None}\n",
      "0.914 (+/-0.075) for {'alpha': 0.001, 'loss': 'log', 'max_iter': 1000, 'penalty': 'l1', 'random_state': 3, 'tol': 0.001}\n",
      "0.914 (+/-0.075) for {'alpha': 0.001, 'loss': 'log', 'max_iter': 10000, 'penalty': 'l2', 'random_state': 3, 'tol': None}\n",
      "0.905 (+/-0.091) for {'alpha': 0.001, 'loss': 'log', 'max_iter': 10000, 'penalty': 'l2', 'random_state': 3, 'tol': 0.001}\n",
      "0.905 (+/-0.091) for {'alpha': 0.001, 'loss': 'log', 'max_iter': 10000, 'penalty': 'l1', 'random_state': 3, 'tol': None}\n",
      "0.914 (+/-0.075) for {'alpha': 0.001, 'loss': 'log', 'max_iter': 10000, 'penalty': 'l1', 'random_state': 3, 'tol': 0.001}\n",
      "0.876 (+/-0.023) for {'alpha': 0.1, 'loss': 'hinge', 'max_iter': 5, 'penalty': 'l2', 'random_state': 3, 'tol': None}\n",
      "0.876 (+/-0.023) for {'alpha': 0.1, 'loss': 'hinge', 'max_iter': 5, 'penalty': 'l2', 'random_state': 3, 'tol': 0.001}\n",
      "0.333 (+/-0.000) for {'alpha': 0.1, 'loss': 'hinge', 'max_iter': 5, 'penalty': 'l1', 'random_state': 3, 'tol': None}\n",
      "0.333 (+/-0.000) for {'alpha': 0.1, 'loss': 'hinge', 'max_iter': 5, 'penalty': 'l1', 'random_state': 3, 'tol': 0.001}\n",
      "0.867 (+/-0.016) for {'alpha': 0.1, 'loss': 'hinge', 'max_iter': 10, 'penalty': 'l2', 'random_state': 3, 'tol': None}\n",
      "0.867 (+/-0.016) for {'alpha': 0.1, 'loss': 'hinge', 'max_iter': 10, 'penalty': 'l2', 'random_state': 3, 'tol': 0.001}\n",
      "0.333 (+/-0.000) for {'alpha': 0.1, 'loss': 'hinge', 'max_iter': 10, 'penalty': 'l1', 'random_state': 3, 'tol': None}\n",
      "0.333 (+/-0.000) for {'alpha': 0.1, 'loss': 'hinge', 'max_iter': 10, 'penalty': 'l1', 'random_state': 3, 'tol': 0.001}\n",
      "0.867 (+/-0.062) for {'alpha': 0.1, 'loss': 'hinge', 'max_iter': 20, 'penalty': 'l2', 'random_state': 3, 'tol': None}\n",
      "0.867 (+/-0.062) for {'alpha': 0.1, 'loss': 'hinge', 'max_iter': 20, 'penalty': 'l2', 'random_state': 3, 'tol': 0.001}\n",
      "0.333 (+/-0.000) for {'alpha': 0.1, 'loss': 'hinge', 'max_iter': 20, 'penalty': 'l1', 'random_state': 3, 'tol': None}\n",
      "0.333 (+/-0.000) for {'alpha': 0.1, 'loss': 'hinge', 'max_iter': 20, 'penalty': 'l1', 'random_state': 3, 'tol': 0.001}\n",
      "0.876 (+/-0.089) for {'alpha': 0.1, 'loss': 'hinge', 'max_iter': 30, 'penalty': 'l2', 'random_state': 3, 'tol': None}\n",
      "0.867 (+/-0.062) for {'alpha': 0.1, 'loss': 'hinge', 'max_iter': 30, 'penalty': 'l2', 'random_state': 3, 'tol': 0.001}\n",
      "0.333 (+/-0.000) for {'alpha': 0.1, 'loss': 'hinge', 'max_iter': 30, 'penalty': 'l1', 'random_state': 3, 'tol': None}\n",
      "0.333 (+/-0.000) for {'alpha': 0.1, 'loss': 'hinge', 'max_iter': 30, 'penalty': 'l1', 'random_state': 3, 'tol': 0.001}\n",
      "0.876 (+/-0.064) for {'alpha': 0.1, 'loss': 'hinge', 'max_iter': 50, 'penalty': 'l2', 'random_state': 3, 'tol': None}\n",
      "0.867 (+/-0.062) for {'alpha': 0.1, 'loss': 'hinge', 'max_iter': 50, 'penalty': 'l2', 'random_state': 3, 'tol': 0.001}\n",
      "0.333 (+/-0.000) for {'alpha': 0.1, 'loss': 'hinge', 'max_iter': 50, 'penalty': 'l1', 'random_state': 3, 'tol': None}\n",
      "0.333 (+/-0.000) for {'alpha': 0.1, 'loss': 'hinge', 'max_iter': 50, 'penalty': 'l1', 'random_state': 3, 'tol': 0.001}\n",
      "0.867 (+/-0.062) for {'alpha': 0.1, 'loss': 'hinge', 'max_iter': 60, 'penalty': 'l2', 'random_state': 3, 'tol': None}\n",
      "0.867 (+/-0.062) for {'alpha': 0.1, 'loss': 'hinge', 'max_iter': 60, 'penalty': 'l2', 'random_state': 3, 'tol': 0.001}\n",
      "0.333 (+/-0.000) for {'alpha': 0.1, 'loss': 'hinge', 'max_iter': 60, 'penalty': 'l1', 'random_state': 3, 'tol': None}\n",
      "0.333 (+/-0.000) for {'alpha': 0.1, 'loss': 'hinge', 'max_iter': 60, 'penalty': 'l1', 'random_state': 3, 'tol': 0.001}\n",
      "0.886 (+/-0.116) for {'alpha': 0.1, 'loss': 'hinge', 'max_iter': 70, 'penalty': 'l2', 'random_state': 3, 'tol': None}\n",
      "0.867 (+/-0.062) for {'alpha': 0.1, 'loss': 'hinge', 'max_iter': 70, 'penalty': 'l2', 'random_state': 3, 'tol': 0.001}\n",
      "0.333 (+/-0.000) for {'alpha': 0.1, 'loss': 'hinge', 'max_iter': 70, 'penalty': 'l1', 'random_state': 3, 'tol': None}\n",
      "0.333 (+/-0.000) for {'alpha': 0.1, 'loss': 'hinge', 'max_iter': 70, 'penalty': 'l1', 'random_state': 3, 'tol': 0.001}\n",
      "0.876 (+/-0.089) for {'alpha': 0.1, 'loss': 'hinge', 'max_iter': 100, 'penalty': 'l2', 'random_state': 3, 'tol': None}\n",
      "0.867 (+/-0.062) for {'alpha': 0.1, 'loss': 'hinge', 'max_iter': 100, 'penalty': 'l2', 'random_state': 3, 'tol': 0.001}\n",
      "0.333 (+/-0.000) for {'alpha': 0.1, 'loss': 'hinge', 'max_iter': 100, 'penalty': 'l1', 'random_state': 3, 'tol': None}\n",
      "0.333 (+/-0.000) for {'alpha': 0.1, 'loss': 'hinge', 'max_iter': 100, 'penalty': 'l1', 'random_state': 3, 'tol': 0.001}\n",
      "0.876 (+/-0.089) for {'alpha': 0.1, 'loss': 'hinge', 'max_iter': 1000, 'penalty': 'l2', 'random_state': 3, 'tol': None}\n",
      "0.867 (+/-0.062) for {'alpha': 0.1, 'loss': 'hinge', 'max_iter': 1000, 'penalty': 'l2', 'random_state': 3, 'tol': 0.001}\n",
      "0.333 (+/-0.000) for {'alpha': 0.1, 'loss': 'hinge', 'max_iter': 1000, 'penalty': 'l1', 'random_state': 3, 'tol': None}\n",
      "0.333 (+/-0.000) for {'alpha': 0.1, 'loss': 'hinge', 'max_iter': 1000, 'penalty': 'l1', 'random_state': 3, 'tol': 0.001}\n",
      "0.876 (+/-0.089) for {'alpha': 0.1, 'loss': 'hinge', 'max_iter': 10000, 'penalty': 'l2', 'random_state': 3, 'tol': None}\n",
      "0.867 (+/-0.062) for {'alpha': 0.1, 'loss': 'hinge', 'max_iter': 10000, 'penalty': 'l2', 'random_state': 3, 'tol': 0.001}\n",
      "0.333 (+/-0.000) for {'alpha': 0.1, 'loss': 'hinge', 'max_iter': 10000, 'penalty': 'l1', 'random_state': 3, 'tol': None}\n",
      "0.333 (+/-0.000) for {'alpha': 0.1, 'loss': 'hinge', 'max_iter': 10000, 'penalty': 'l1', 'random_state': 3, 'tol': 0.001}\n",
      "0.886 (+/-0.073) for {'alpha': 0.1, 'loss': 'log', 'max_iter': 5, 'penalty': 'l2', 'random_state': 3, 'tol': None}\n",
      "0.886 (+/-0.073) for {'alpha': 0.1, 'loss': 'log', 'max_iter': 5, 'penalty': 'l2', 'random_state': 3, 'tol': 0.001}\n",
      "0.333 (+/-0.000) for {'alpha': 0.1, 'loss': 'log', 'max_iter': 5, 'penalty': 'l1', 'random_state': 3, 'tol': None}\n",
      "0.333 (+/-0.000) for {'alpha': 0.1, 'loss': 'log', 'max_iter': 5, 'penalty': 'l1', 'random_state': 3, 'tol': 0.001}\n",
      "0.886 (+/-0.073) for {'alpha': 0.1, 'loss': 'log', 'max_iter': 10, 'penalty': 'l2', 'random_state': 3, 'tol': None}\n",
      "0.886 (+/-0.073) for {'alpha': 0.1, 'loss': 'log', 'max_iter': 10, 'penalty': 'l2', 'random_state': 3, 'tol': 0.001}\n",
      "0.333 (+/-0.000) for {'alpha': 0.1, 'loss': 'log', 'max_iter': 10, 'penalty': 'l1', 'random_state': 3, 'tol': None}\n",
      "0.333 (+/-0.000) for {'alpha': 0.1, 'loss': 'log', 'max_iter': 10, 'penalty': 'l1', 'random_state': 3, 'tol': 0.001}\n",
      "0.895 (+/-0.101) for {'alpha': 0.1, 'loss': 'log', 'max_iter': 20, 'penalty': 'l2', 'random_state': 3, 'tol': None}\n",
      "0.886 (+/-0.073) for {'alpha': 0.1, 'loss': 'log', 'max_iter': 20, 'penalty': 'l2', 'random_state': 3, 'tol': 0.001}\n",
      "0.333 (+/-0.000) for {'alpha': 0.1, 'loss': 'log', 'max_iter': 20, 'penalty': 'l1', 'random_state': 3, 'tol': None}\n",
      "0.333 (+/-0.000) for {'alpha': 0.1, 'loss': 'log', 'max_iter': 20, 'penalty': 'l1', 'random_state': 3, 'tol': 0.001}\n",
      "0.895 (+/-0.101) for {'alpha': 0.1, 'loss': 'log', 'max_iter': 30, 'penalty': 'l2', 'random_state': 3, 'tol': None}\n",
      "0.886 (+/-0.073) for {'alpha': 0.1, 'loss': 'log', 'max_iter': 30, 'penalty': 'l2', 'random_state': 3, 'tol': 0.001}\n",
      "0.333 (+/-0.000) for {'alpha': 0.1, 'loss': 'log', 'max_iter': 30, 'penalty': 'l1', 'random_state': 3, 'tol': None}\n",
      "0.333 (+/-0.000) for {'alpha': 0.1, 'loss': 'log', 'max_iter': 30, 'penalty': 'l1', 'random_state': 3, 'tol': 0.001}\n",
      "0.895 (+/-0.101) for {'alpha': 0.1, 'loss': 'log', 'max_iter': 50, 'penalty': 'l2', 'random_state': 3, 'tol': None}\n",
      "0.886 (+/-0.073) for {'alpha': 0.1, 'loss': 'log', 'max_iter': 50, 'penalty': 'l2', 'random_state': 3, 'tol': 0.001}\n",
      "0.333 (+/-0.000) for {'alpha': 0.1, 'loss': 'log', 'max_iter': 50, 'penalty': 'l1', 'random_state': 3, 'tol': None}\n",
      "0.333 (+/-0.000) for {'alpha': 0.1, 'loss': 'log', 'max_iter': 50, 'penalty': 'l1', 'random_state': 3, 'tol': 0.001}\n",
      "0.895 (+/-0.101) for {'alpha': 0.1, 'loss': 'log', 'max_iter': 60, 'penalty': 'l2', 'random_state': 3, 'tol': None}\n",
      "0.886 (+/-0.073) for {'alpha': 0.1, 'loss': 'log', 'max_iter': 60, 'penalty': 'l2', 'random_state': 3, 'tol': 0.001}\n",
      "0.333 (+/-0.000) for {'alpha': 0.1, 'loss': 'log', 'max_iter': 60, 'penalty': 'l1', 'random_state': 3, 'tol': None}\n",
      "0.333 (+/-0.000) for {'alpha': 0.1, 'loss': 'log', 'max_iter': 60, 'penalty': 'l1', 'random_state': 3, 'tol': 0.001}\n",
      "0.895 (+/-0.101) for {'alpha': 0.1, 'loss': 'log', 'max_iter': 70, 'penalty': 'l2', 'random_state': 3, 'tol': None}\n",
      "0.886 (+/-0.073) for {'alpha': 0.1, 'loss': 'log', 'max_iter': 70, 'penalty': 'l2', 'random_state': 3, 'tol': 0.001}\n",
      "0.333 (+/-0.000) for {'alpha': 0.1, 'loss': 'log', 'max_iter': 70, 'penalty': 'l1', 'random_state': 3, 'tol': None}\n",
      "0.333 (+/-0.000) for {'alpha': 0.1, 'loss': 'log', 'max_iter': 70, 'penalty': 'l1', 'random_state': 3, 'tol': 0.001}\n",
      "0.895 (+/-0.101) for {'alpha': 0.1, 'loss': 'log', 'max_iter': 100, 'penalty': 'l2', 'random_state': 3, 'tol': None}\n",
      "0.886 (+/-0.073) for {'alpha': 0.1, 'loss': 'log', 'max_iter': 100, 'penalty': 'l2', 'random_state': 3, 'tol': 0.001}\n",
      "0.333 (+/-0.000) for {'alpha': 0.1, 'loss': 'log', 'max_iter': 100, 'penalty': 'l1', 'random_state': 3, 'tol': None}\n",
      "0.333 (+/-0.000) for {'alpha': 0.1, 'loss': 'log', 'max_iter': 100, 'penalty': 'l1', 'random_state': 3, 'tol': 0.001}\n",
      "0.895 (+/-0.101) for {'alpha': 0.1, 'loss': 'log', 'max_iter': 1000, 'penalty': 'l2', 'random_state': 3, 'tol': None}\n",
      "0.886 (+/-0.073) for {'alpha': 0.1, 'loss': 'log', 'max_iter': 1000, 'penalty': 'l2', 'random_state': 3, 'tol': 0.001}\n",
      "0.333 (+/-0.000) for {'alpha': 0.1, 'loss': 'log', 'max_iter': 1000, 'penalty': 'l1', 'random_state': 3, 'tol': None}\n",
      "0.333 (+/-0.000) for {'alpha': 0.1, 'loss': 'log', 'max_iter': 1000, 'penalty': 'l1', 'random_state': 3, 'tol': 0.001}\n",
      "0.895 (+/-0.101) for {'alpha': 0.1, 'loss': 'log', 'max_iter': 10000, 'penalty': 'l2', 'random_state': 3, 'tol': None}\n",
      "0.886 (+/-0.073) for {'alpha': 0.1, 'loss': 'log', 'max_iter': 10000, 'penalty': 'l2', 'random_state': 3, 'tol': 0.001}\n",
      "0.333 (+/-0.000) for {'alpha': 0.1, 'loss': 'log', 'max_iter': 10000, 'penalty': 'l1', 'random_state': 3, 'tol': None}\n",
      "0.333 (+/-0.000) for {'alpha': 0.1, 'loss': 'log', 'max_iter': 10000, 'penalty': 'l1', 'random_state': 3, 'tol': 0.001}\n",
      "0.886 (+/-0.009) for {'alpha': 1.0, 'loss': 'hinge', 'max_iter': 5, 'penalty': 'l2', 'random_state': 3, 'tol': None}\n",
      "0.886 (+/-0.009) for {'alpha': 1.0, 'loss': 'hinge', 'max_iter': 5, 'penalty': 'l2', 'random_state': 3, 'tol': 0.001}\n",
      "0.333 (+/-0.000) for {'alpha': 1.0, 'loss': 'hinge', 'max_iter': 5, 'penalty': 'l1', 'random_state': 3, 'tol': None}\n",
      "0.333 (+/-0.000) for {'alpha': 1.0, 'loss': 'hinge', 'max_iter': 5, 'penalty': 'l1', 'random_state': 3, 'tol': 0.001}\n",
      "0.876 (+/-0.023) for {'alpha': 1.0, 'loss': 'hinge', 'max_iter': 10, 'penalty': 'l2', 'random_state': 3, 'tol': None}\n",
      "0.848 (+/-0.023) for {'alpha': 1.0, 'loss': 'hinge', 'max_iter': 10, 'penalty': 'l2', 'random_state': 3, 'tol': 0.001}\n",
      "0.333 (+/-0.000) for {'alpha': 1.0, 'loss': 'hinge', 'max_iter': 10, 'penalty': 'l1', 'random_state': 3, 'tol': None}\n",
      "0.333 (+/-0.000) for {'alpha': 1.0, 'loss': 'hinge', 'max_iter': 10, 'penalty': 'l1', 'random_state': 3, 'tol': 0.001}\n",
      "0.867 (+/-0.062) for {'alpha': 1.0, 'loss': 'hinge', 'max_iter': 20, 'penalty': 'l2', 'random_state': 3, 'tol': None}\n",
      "0.848 (+/-0.023) for {'alpha': 1.0, 'loss': 'hinge', 'max_iter': 20, 'penalty': 'l2', 'random_state': 3, 'tol': 0.001}\n",
      "0.333 (+/-0.000) for {'alpha': 1.0, 'loss': 'hinge', 'max_iter': 20, 'penalty': 'l1', 'random_state': 3, 'tol': None}\n",
      "0.333 (+/-0.000) for {'alpha': 1.0, 'loss': 'hinge', 'max_iter': 20, 'penalty': 'l1', 'random_state': 3, 'tol': 0.001}\n",
      "0.867 (+/-0.062) for {'alpha': 1.0, 'loss': 'hinge', 'max_iter': 30, 'penalty': 'l2', 'random_state': 3, 'tol': None}\n",
      "0.848 (+/-0.023) for {'alpha': 1.0, 'loss': 'hinge', 'max_iter': 30, 'penalty': 'l2', 'random_state': 3, 'tol': 0.001}\n",
      "0.333 (+/-0.000) for {'alpha': 1.0, 'loss': 'hinge', 'max_iter': 30, 'penalty': 'l1', 'random_state': 3, 'tol': None}\n",
      "0.333 (+/-0.000) for {'alpha': 1.0, 'loss': 'hinge', 'max_iter': 30, 'penalty': 'l1', 'random_state': 3, 'tol': 0.001}\n",
      "0.876 (+/-0.064) for {'alpha': 1.0, 'loss': 'hinge', 'max_iter': 50, 'penalty': 'l2', 'random_state': 3, 'tol': None}\n",
      "0.848 (+/-0.023) for {'alpha': 1.0, 'loss': 'hinge', 'max_iter': 50, 'penalty': 'l2', 'random_state': 3, 'tol': 0.001}\n",
      "0.333 (+/-0.000) for {'alpha': 1.0, 'loss': 'hinge', 'max_iter': 50, 'penalty': 'l1', 'random_state': 3, 'tol': None}\n",
      "0.333 (+/-0.000) for {'alpha': 1.0, 'loss': 'hinge', 'max_iter': 50, 'penalty': 'l1', 'random_state': 3, 'tol': 0.001}\n",
      "0.876 (+/-0.089) for {'alpha': 1.0, 'loss': 'hinge', 'max_iter': 60, 'penalty': 'l2', 'random_state': 3, 'tol': None}\n",
      "0.848 (+/-0.023) for {'alpha': 1.0, 'loss': 'hinge', 'max_iter': 60, 'penalty': 'l2', 'random_state': 3, 'tol': 0.001}\n",
      "0.333 (+/-0.000) for {'alpha': 1.0, 'loss': 'hinge', 'max_iter': 60, 'penalty': 'l1', 'random_state': 3, 'tol': None}\n",
      "0.333 (+/-0.000) for {'alpha': 1.0, 'loss': 'hinge', 'max_iter': 60, 'penalty': 'l1', 'random_state': 3, 'tol': 0.001}\n",
      "0.886 (+/-0.116) for {'alpha': 1.0, 'loss': 'hinge', 'max_iter': 70, 'penalty': 'l2', 'random_state': 3, 'tol': None}\n",
      "0.848 (+/-0.023) for {'alpha': 1.0, 'loss': 'hinge', 'max_iter': 70, 'penalty': 'l2', 'random_state': 3, 'tol': 0.001}\n",
      "0.333 (+/-0.000) for {'alpha': 1.0, 'loss': 'hinge', 'max_iter': 70, 'penalty': 'l1', 'random_state': 3, 'tol': None}\n",
      "0.333 (+/-0.000) for {'alpha': 1.0, 'loss': 'hinge', 'max_iter': 70, 'penalty': 'l1', 'random_state': 3, 'tol': 0.001}\n",
      "0.876 (+/-0.089) for {'alpha': 1.0, 'loss': 'hinge', 'max_iter': 100, 'penalty': 'l2', 'random_state': 3, 'tol': None}\n",
      "0.848 (+/-0.023) for {'alpha': 1.0, 'loss': 'hinge', 'max_iter': 100, 'penalty': 'l2', 'random_state': 3, 'tol': 0.001}\n",
      "0.333 (+/-0.000) for {'alpha': 1.0, 'loss': 'hinge', 'max_iter': 100, 'penalty': 'l1', 'random_state': 3, 'tol': None}\n",
      "0.333 (+/-0.000) for {'alpha': 1.0, 'loss': 'hinge', 'max_iter': 100, 'penalty': 'l1', 'random_state': 3, 'tol': 0.001}\n",
      "0.876 (+/-0.089) for {'alpha': 1.0, 'loss': 'hinge', 'max_iter': 1000, 'penalty': 'l2', 'random_state': 3, 'tol': None}\n",
      "0.848 (+/-0.023) for {'alpha': 1.0, 'loss': 'hinge', 'max_iter': 1000, 'penalty': 'l2', 'random_state': 3, 'tol': 0.001}\n",
      "0.333 (+/-0.000) for {'alpha': 1.0, 'loss': 'hinge', 'max_iter': 1000, 'penalty': 'l1', 'random_state': 3, 'tol': None}\n",
      "0.333 (+/-0.000) for {'alpha': 1.0, 'loss': 'hinge', 'max_iter': 1000, 'penalty': 'l1', 'random_state': 3, 'tol': 0.001}\n",
      "0.876 (+/-0.089) for {'alpha': 1.0, 'loss': 'hinge', 'max_iter': 10000, 'penalty': 'l2', 'random_state': 3, 'tol': None}\n",
      "0.848 (+/-0.023) for {'alpha': 1.0, 'loss': 'hinge', 'max_iter': 10000, 'penalty': 'l2', 'random_state': 3, 'tol': 0.001}\n",
      "0.333 (+/-0.000) for {'alpha': 1.0, 'loss': 'hinge', 'max_iter': 10000, 'penalty': 'l1', 'random_state': 3, 'tol': None}\n",
      "0.333 (+/-0.000) for {'alpha': 1.0, 'loss': 'hinge', 'max_iter': 10000, 'penalty': 'l1', 'random_state': 3, 'tol': 0.001}\n",
      "0.438 (+/-0.309) for {'alpha': 1.0, 'loss': 'log', 'max_iter': 5, 'penalty': 'l2', 'random_state': 3, 'tol': None}\n",
      "0.438 (+/-0.309) for {'alpha': 1.0, 'loss': 'log', 'max_iter': 5, 'penalty': 'l2', 'random_state': 3, 'tol': 0.001}\n",
      "0.333 (+/-0.000) for {'alpha': 1.0, 'loss': 'log', 'max_iter': 5, 'penalty': 'l1', 'random_state': 3, 'tol': None}\n",
      "0.333 (+/-0.000) for {'alpha': 1.0, 'loss': 'log', 'max_iter': 5, 'penalty': 'l1', 'random_state': 3, 'tol': 0.001}\n",
      "0.467 (+/-0.279) for {'alpha': 1.0, 'loss': 'log', 'max_iter': 10, 'penalty': 'l2', 'random_state': 3, 'tol': None}\n",
      "0.467 (+/-0.279) for {'alpha': 1.0, 'loss': 'log', 'max_iter': 10, 'penalty': 'l2', 'random_state': 3, 'tol': 0.001}\n",
      "0.333 (+/-0.000) for {'alpha': 1.0, 'loss': 'log', 'max_iter': 10, 'penalty': 'l1', 'random_state': 3, 'tol': None}\n",
      "0.333 (+/-0.000) for {'alpha': 1.0, 'loss': 'log', 'max_iter': 10, 'penalty': 'l1', 'random_state': 3, 'tol': 0.001}\n",
      "0.476 (+/-0.274) for {'alpha': 1.0, 'loss': 'log', 'max_iter': 20, 'penalty': 'l2', 'random_state': 3, 'tol': None}\n",
      "0.467 (+/-0.279) for {'alpha': 1.0, 'loss': 'log', 'max_iter': 20, 'penalty': 'l2', 'random_state': 3, 'tol': 0.001}\n",
      "0.333 (+/-0.000) for {'alpha': 1.0, 'loss': 'log', 'max_iter': 20, 'penalty': 'l1', 'random_state': 3, 'tol': None}\n",
      "0.333 (+/-0.000) for {'alpha': 1.0, 'loss': 'log', 'max_iter': 20, 'penalty': 'l1', 'random_state': 3, 'tol': 0.001}\n",
      "0.476 (+/-0.274) for {'alpha': 1.0, 'loss': 'log', 'max_iter': 30, 'penalty': 'l2', 'random_state': 3, 'tol': None}\n",
      "0.467 (+/-0.279) for {'alpha': 1.0, 'loss': 'log', 'max_iter': 30, 'penalty': 'l2', 'random_state': 3, 'tol': 0.001}\n",
      "0.333 (+/-0.000) for {'alpha': 1.0, 'loss': 'log', 'max_iter': 30, 'penalty': 'l1', 'random_state': 3, 'tol': None}\n",
      "0.333 (+/-0.000) for {'alpha': 1.0, 'loss': 'log', 'max_iter': 30, 'penalty': 'l1', 'random_state': 3, 'tol': 0.001}\n",
      "0.486 (+/-0.271) for {'alpha': 1.0, 'loss': 'log', 'max_iter': 50, 'penalty': 'l2', 'random_state': 3, 'tol': None}\n",
      "0.467 (+/-0.279) for {'alpha': 1.0, 'loss': 'log', 'max_iter': 50, 'penalty': 'l2', 'random_state': 3, 'tol': 0.001}\n",
      "0.333 (+/-0.000) for {'alpha': 1.0, 'loss': 'log', 'max_iter': 50, 'penalty': 'l1', 'random_state': 3, 'tol': None}\n",
      "0.333 (+/-0.000) for {'alpha': 1.0, 'loss': 'log', 'max_iter': 50, 'penalty': 'l1', 'random_state': 3, 'tol': 0.001}\n",
      "0.495 (+/-0.270) for {'alpha': 1.0, 'loss': 'log', 'max_iter': 60, 'penalty': 'l2', 'random_state': 3, 'tol': None}\n",
      "0.467 (+/-0.279) for {'alpha': 1.0, 'loss': 'log', 'max_iter': 60, 'penalty': 'l2', 'random_state': 3, 'tol': 0.001}\n",
      "0.333 (+/-0.000) for {'alpha': 1.0, 'loss': 'log', 'max_iter': 60, 'penalty': 'l1', 'random_state': 3, 'tol': None}\n",
      "0.333 (+/-0.000) for {'alpha': 1.0, 'loss': 'log', 'max_iter': 60, 'penalty': 'l1', 'random_state': 3, 'tol': 0.001}\n",
      "0.495 (+/-0.270) for {'alpha': 1.0, 'loss': 'log', 'max_iter': 70, 'penalty': 'l2', 'random_state': 3, 'tol': None}\n",
      "0.467 (+/-0.279) for {'alpha': 1.0, 'loss': 'log', 'max_iter': 70, 'penalty': 'l2', 'random_state': 3, 'tol': 0.001}\n",
      "0.333 (+/-0.000) for {'alpha': 1.0, 'loss': 'log', 'max_iter': 70, 'penalty': 'l1', 'random_state': 3, 'tol': None}\n",
      "0.333 (+/-0.000) for {'alpha': 1.0, 'loss': 'log', 'max_iter': 70, 'penalty': 'l1', 'random_state': 3, 'tol': 0.001}\n",
      "0.495 (+/-0.270) for {'alpha': 1.0, 'loss': 'log', 'max_iter': 100, 'penalty': 'l2', 'random_state': 3, 'tol': None}\n",
      "0.467 (+/-0.279) for {'alpha': 1.0, 'loss': 'log', 'max_iter': 100, 'penalty': 'l2', 'random_state': 3, 'tol': 0.001}\n",
      "0.333 (+/-0.000) for {'alpha': 1.0, 'loss': 'log', 'max_iter': 100, 'penalty': 'l1', 'random_state': 3, 'tol': None}\n",
      "0.333 (+/-0.000) for {'alpha': 1.0, 'loss': 'log', 'max_iter': 100, 'penalty': 'l1', 'random_state': 3, 'tol': 0.001}\n",
      "0.638 (+/-0.123) for {'alpha': 1.0, 'loss': 'log', 'max_iter': 1000, 'penalty': 'l2', 'random_state': 3, 'tol': None}\n",
      "0.467 (+/-0.279) for {'alpha': 1.0, 'loss': 'log', 'max_iter': 1000, 'penalty': 'l2', 'random_state': 3, 'tol': 0.001}\n",
      "0.333 (+/-0.000) for {'alpha': 1.0, 'loss': 'log', 'max_iter': 1000, 'penalty': 'l1', 'random_state': 3, 'tol': None}\n",
      "0.333 (+/-0.000) for {'alpha': 1.0, 'loss': 'log', 'max_iter': 1000, 'penalty': 'l1', 'random_state': 3, 'tol': 0.001}\n",
      "0.781 (+/-0.009) for {'alpha': 1.0, 'loss': 'log', 'max_iter': 10000, 'penalty': 'l2', 'random_state': 3, 'tol': None}\n",
      "0.467 (+/-0.279) for {'alpha': 1.0, 'loss': 'log', 'max_iter': 10000, 'penalty': 'l2', 'random_state': 3, 'tol': 0.001}\n",
      "0.333 (+/-0.000) for {'alpha': 1.0, 'loss': 'log', 'max_iter': 10000, 'penalty': 'l1', 'random_state': 3, 'tol': None}\n",
      "0.333 (+/-0.000) for {'alpha': 1.0, 'loss': 'log', 'max_iter': 10000, 'penalty': 'l1', 'random_state': 3, 'tol': 0.001}\n",
      "0.857 (+/-0.116) for {'alpha': 0.0001, 'loss': 'hinge', 'max_iter': 5, 'penalty': 'l2', 'random_state': 3, 'tol': None}\n",
      "0.857 (+/-0.116) for {'alpha': 0.0001, 'loss': 'hinge', 'max_iter': 5, 'penalty': 'l2', 'random_state': 3, 'tol': 0.001}\n",
      "0.857 (+/-0.160) for {'alpha': 0.0001, 'loss': 'hinge', 'max_iter': 5, 'penalty': 'l1', 'random_state': 3, 'tol': None}\n",
      "0.857 (+/-0.160) for {'alpha': 0.0001, 'loss': 'hinge', 'max_iter': 5, 'penalty': 'l1', 'random_state': 3, 'tol': 0.001}\n",
      "0.867 (+/-0.135) for {'alpha': 0.0001, 'loss': 'hinge', 'max_iter': 10, 'penalty': 'l2', 'random_state': 3, 'tol': None}\n",
      "0.867 (+/-0.135) for {'alpha': 0.0001, 'loss': 'hinge', 'max_iter': 10, 'penalty': 'l2', 'random_state': 3, 'tol': 0.001}\n",
      "0.857 (+/-0.160) for {'alpha': 0.0001, 'loss': 'hinge', 'max_iter': 10, 'penalty': 'l1', 'random_state': 3, 'tol': None}\n",
      "0.857 (+/-0.160) for {'alpha': 0.0001, 'loss': 'hinge', 'max_iter': 10, 'penalty': 'l1', 'random_state': 3, 'tol': 0.001}\n",
      "0.838 (+/-0.139) for {'alpha': 0.0001, 'loss': 'hinge', 'max_iter': 20, 'penalty': 'l2', 'random_state': 3, 'tol': None}\n",
      "0.848 (+/-0.133) for {'alpha': 0.0001, 'loss': 'hinge', 'max_iter': 20, 'penalty': 'l2', 'random_state': 3, 'tol': 0.001}\n",
      "0.867 (+/-0.135) for {'alpha': 0.0001, 'loss': 'hinge', 'max_iter': 20, 'penalty': 'l1', 'random_state': 3, 'tol': None}\n",
      "0.857 (+/-0.160) for {'alpha': 0.0001, 'loss': 'hinge', 'max_iter': 20, 'penalty': 'l1', 'random_state': 3, 'tol': 0.001}\n",
      "0.876 (+/-0.135) for {'alpha': 0.0001, 'loss': 'hinge', 'max_iter': 30, 'penalty': 'l2', 'random_state': 3, 'tol': None}\n",
      "0.848 (+/-0.133) for {'alpha': 0.0001, 'loss': 'hinge', 'max_iter': 30, 'penalty': 'l2', 'random_state': 3, 'tol': 0.001}\n",
      "0.867 (+/-0.135) for {'alpha': 0.0001, 'loss': 'hinge', 'max_iter': 30, 'penalty': 'l1', 'random_state': 3, 'tol': None}\n",
      "0.857 (+/-0.160) for {'alpha': 0.0001, 'loss': 'hinge', 'max_iter': 30, 'penalty': 'l1', 'random_state': 3, 'tol': 0.001}\n",
      "0.876 (+/-0.135) for {'alpha': 0.0001, 'loss': 'hinge', 'max_iter': 50, 'penalty': 'l2', 'random_state': 3, 'tol': None}\n",
      "0.848 (+/-0.133) for {'alpha': 0.0001, 'loss': 'hinge', 'max_iter': 50, 'penalty': 'l2', 'random_state': 3, 'tol': 0.001}\n",
      "0.876 (+/-0.157) for {'alpha': 0.0001, 'loss': 'hinge', 'max_iter': 50, 'penalty': 'l1', 'random_state': 3, 'tol': None}\n",
      "0.857 (+/-0.160) for {'alpha': 0.0001, 'loss': 'hinge', 'max_iter': 50, 'penalty': 'l1', 'random_state': 3, 'tol': 0.001}\n",
      "0.895 (+/-0.111) for {'alpha': 0.0001, 'loss': 'hinge', 'max_iter': 60, 'penalty': 'l2', 'random_state': 3, 'tol': None}\n",
      "0.848 (+/-0.133) for {'alpha': 0.0001, 'loss': 'hinge', 'max_iter': 60, 'penalty': 'l2', 'random_state': 3, 'tol': 0.001}\n",
      "0.876 (+/-0.157) for {'alpha': 0.0001, 'loss': 'hinge', 'max_iter': 60, 'penalty': 'l1', 'random_state': 3, 'tol': None}\n",
      "0.857 (+/-0.160) for {'alpha': 0.0001, 'loss': 'hinge', 'max_iter': 60, 'penalty': 'l1', 'random_state': 3, 'tol': 0.001}\n",
      "0.895 (+/-0.111) for {'alpha': 0.0001, 'loss': 'hinge', 'max_iter': 70, 'penalty': 'l2', 'random_state': 3, 'tol': None}\n",
      "0.848 (+/-0.133) for {'alpha': 0.0001, 'loss': 'hinge', 'max_iter': 70, 'penalty': 'l2', 'random_state': 3, 'tol': 0.001}\n",
      "0.876 (+/-0.157) for {'alpha': 0.0001, 'loss': 'hinge', 'max_iter': 70, 'penalty': 'l1', 'random_state': 3, 'tol': None}\n",
      "0.857 (+/-0.160) for {'alpha': 0.0001, 'loss': 'hinge', 'max_iter': 70, 'penalty': 'l1', 'random_state': 3, 'tol': 0.001}\n",
      "0.867 (+/-0.181) for {'alpha': 0.0001, 'loss': 'hinge', 'max_iter': 100, 'penalty': 'l2', 'random_state': 3, 'tol': None}\n",
      "0.848 (+/-0.133) for {'alpha': 0.0001, 'loss': 'hinge', 'max_iter': 100, 'penalty': 'l2', 'random_state': 3, 'tol': 0.001}\n",
      "0.876 (+/-0.157) for {'alpha': 0.0001, 'loss': 'hinge', 'max_iter': 100, 'penalty': 'l1', 'random_state': 3, 'tol': None}\n",
      "0.857 (+/-0.160) for {'alpha': 0.0001, 'loss': 'hinge', 'max_iter': 100, 'penalty': 'l1', 'random_state': 3, 'tol': 0.001}\n",
      "0.905 (+/-0.091) for {'alpha': 0.0001, 'loss': 'hinge', 'max_iter': 1000, 'penalty': 'l2', 'random_state': 3, 'tol': None}\n",
      "0.848 (+/-0.133) for {'alpha': 0.0001, 'loss': 'hinge', 'max_iter': 1000, 'penalty': 'l2', 'random_state': 3, 'tol': 0.001}\n",
      "0.886 (+/-0.133) for {'alpha': 0.0001, 'loss': 'hinge', 'max_iter': 1000, 'penalty': 'l1', 'random_state': 3, 'tol': None}\n",
      "0.857 (+/-0.160) for {'alpha': 0.0001, 'loss': 'hinge', 'max_iter': 1000, 'penalty': 'l1', 'random_state': 3, 'tol': 0.001}\n",
      "0.905 (+/-0.091) for {'alpha': 0.0001, 'loss': 'hinge', 'max_iter': 10000, 'penalty': 'l2', 'random_state': 3, 'tol': None}\n",
      "0.848 (+/-0.133) for {'alpha': 0.0001, 'loss': 'hinge', 'max_iter': 10000, 'penalty': 'l2', 'random_state': 3, 'tol': 0.001}\n",
      "0.886 (+/-0.161) for {'alpha': 0.0001, 'loss': 'hinge', 'max_iter': 10000, 'penalty': 'l1', 'random_state': 3, 'tol': None}\n",
      "0.857 (+/-0.160) for {'alpha': 0.0001, 'loss': 'hinge', 'max_iter': 10000, 'penalty': 'l1', 'random_state': 3, 'tol': 0.001}\n",
      "0.914 (+/-0.075) for {'alpha': 0.0001, 'loss': 'log', 'max_iter': 5, 'penalty': 'l2', 'random_state': 3, 'tol': None}\n",
      "0.914 (+/-0.075) for {'alpha': 0.0001, 'loss': 'log', 'max_iter': 5, 'penalty': 'l2', 'random_state': 3, 'tol': 0.001}\n",
      "0.914 (+/-0.075) for {'alpha': 0.0001, 'loss': 'log', 'max_iter': 5, 'penalty': 'l1', 'random_state': 3, 'tol': None}\n",
      "0.914 (+/-0.075) for {'alpha': 0.0001, 'loss': 'log', 'max_iter': 5, 'penalty': 'l1', 'random_state': 3, 'tol': 0.001}\n",
      "0.905 (+/-0.091) for {'alpha': 0.0001, 'loss': 'log', 'max_iter': 10, 'penalty': 'l2', 'random_state': 3, 'tol': None}\n",
      "0.905 (+/-0.091) for {'alpha': 0.0001, 'loss': 'log', 'max_iter': 10, 'penalty': 'l2', 'random_state': 3, 'tol': 0.001}\n",
      "0.905 (+/-0.091) for {'alpha': 0.0001, 'loss': 'log', 'max_iter': 10, 'penalty': 'l1', 'random_state': 3, 'tol': None}\n",
      "0.905 (+/-0.091) for {'alpha': 0.0001, 'loss': 'log', 'max_iter': 10, 'penalty': 'l1', 'random_state': 3, 'tol': 0.001}\n",
      "0.905 (+/-0.091) for {'alpha': 0.0001, 'loss': 'log', 'max_iter': 20, 'penalty': 'l2', 'random_state': 3, 'tol': None}\n",
      "0.905 (+/-0.091) for {'alpha': 0.0001, 'loss': 'log', 'max_iter': 20, 'penalty': 'l2', 'random_state': 3, 'tol': 0.001}\n",
      "0.905 (+/-0.091) for {'alpha': 0.0001, 'loss': 'log', 'max_iter': 20, 'penalty': 'l1', 'random_state': 3, 'tol': None}\n",
      "0.905 (+/-0.091) for {'alpha': 0.0001, 'loss': 'log', 'max_iter': 20, 'penalty': 'l1', 'random_state': 3, 'tol': 0.001}\n",
      "0.895 (+/-0.064) for {'alpha': 0.0001, 'loss': 'log', 'max_iter': 30, 'penalty': 'l2', 'random_state': 3, 'tol': None}\n",
      "0.905 (+/-0.091) for {'alpha': 0.0001, 'loss': 'log', 'max_iter': 30, 'penalty': 'l2', 'random_state': 3, 'tol': 0.001}\n",
      "0.895 (+/-0.064) for {'alpha': 0.0001, 'loss': 'log', 'max_iter': 30, 'penalty': 'l1', 'random_state': 3, 'tol': None}\n",
      "0.905 (+/-0.091) for {'alpha': 0.0001, 'loss': 'log', 'max_iter': 30, 'penalty': 'l1', 'random_state': 3, 'tol': 0.001}\n",
      "0.905 (+/-0.091) for {'alpha': 0.0001, 'loss': 'log', 'max_iter': 50, 'penalty': 'l2', 'random_state': 3, 'tol': None}\n",
      "0.905 (+/-0.091) for {'alpha': 0.0001, 'loss': 'log', 'max_iter': 50, 'penalty': 'l2', 'random_state': 3, 'tol': 0.001}\n",
      "0.914 (+/-0.075) for {'alpha': 0.0001, 'loss': 'log', 'max_iter': 50, 'penalty': 'l1', 'random_state': 3, 'tol': None}\n",
      "0.905 (+/-0.091) for {'alpha': 0.0001, 'loss': 'log', 'max_iter': 50, 'penalty': 'l1', 'random_state': 3, 'tol': 0.001}\n",
      "0.905 (+/-0.091) for {'alpha': 0.0001, 'loss': 'log', 'max_iter': 60, 'penalty': 'l2', 'random_state': 3, 'tol': None}\n",
      "0.905 (+/-0.091) for {'alpha': 0.0001, 'loss': 'log', 'max_iter': 60, 'penalty': 'l2', 'random_state': 3, 'tol': 0.001}\n",
      "0.914 (+/-0.075) for {'alpha': 0.0001, 'loss': 'log', 'max_iter': 60, 'penalty': 'l1', 'random_state': 3, 'tol': None}\n",
      "0.905 (+/-0.091) for {'alpha': 0.0001, 'loss': 'log', 'max_iter': 60, 'penalty': 'l1', 'random_state': 3, 'tol': 0.001}\n",
      "0.905 (+/-0.091) for {'alpha': 0.0001, 'loss': 'log', 'max_iter': 70, 'penalty': 'l2', 'random_state': 3, 'tol': None}\n",
      "0.905 (+/-0.091) for {'alpha': 0.0001, 'loss': 'log', 'max_iter': 70, 'penalty': 'l2', 'random_state': 3, 'tol': 0.001}\n",
      "0.914 (+/-0.075) for {'alpha': 0.0001, 'loss': 'log', 'max_iter': 70, 'penalty': 'l1', 'random_state': 3, 'tol': None}\n",
      "0.905 (+/-0.091) for {'alpha': 0.0001, 'loss': 'log', 'max_iter': 70, 'penalty': 'l1', 'random_state': 3, 'tol': 0.001}\n",
      "0.905 (+/-0.091) for {'alpha': 0.0001, 'loss': 'log', 'max_iter': 100, 'penalty': 'l2', 'random_state': 3, 'tol': None}\n",
      "0.905 (+/-0.091) for {'alpha': 0.0001, 'loss': 'log', 'max_iter': 100, 'penalty': 'l2', 'random_state': 3, 'tol': 0.001}\n",
      "0.924 (+/-0.066) for {'alpha': 0.0001, 'loss': 'log', 'max_iter': 100, 'penalty': 'l1', 'random_state': 3, 'tol': None}\n",
      "0.905 (+/-0.091) for {'alpha': 0.0001, 'loss': 'log', 'max_iter': 100, 'penalty': 'l1', 'random_state': 3, 'tol': 0.001}\n",
      "0.905 (+/-0.091) for {'alpha': 0.0001, 'loss': 'log', 'max_iter': 1000, 'penalty': 'l2', 'random_state': 3, 'tol': None}\n",
      "0.905 (+/-0.091) for {'alpha': 0.0001, 'loss': 'log', 'max_iter': 1000, 'penalty': 'l2', 'random_state': 3, 'tol': 0.001}\n",
      "0.924 (+/-0.066) for {'alpha': 0.0001, 'loss': 'log', 'max_iter': 1000, 'penalty': 'l1', 'random_state': 3, 'tol': None}\n",
      "0.905 (+/-0.091) for {'alpha': 0.0001, 'loss': 'log', 'max_iter': 1000, 'penalty': 'l1', 'random_state': 3, 'tol': 0.001}\n",
      "0.905 (+/-0.091) for {'alpha': 0.0001, 'loss': 'log', 'max_iter': 10000, 'penalty': 'l2', 'random_state': 3, 'tol': None}\n",
      "0.905 (+/-0.091) for {'alpha': 0.0001, 'loss': 'log', 'max_iter': 10000, 'penalty': 'l2', 'random_state': 3, 'tol': 0.001}\n",
      "0.914 (+/-0.075) for {'alpha': 0.0001, 'loss': 'log', 'max_iter': 10000, 'penalty': 'l1', 'random_state': 3, 'tol': None}\n",
      "0.905 (+/-0.091) for {'alpha': 0.0001, 'loss': 'log', 'max_iter': 10000, 'penalty': 'l1', 'random_state': 3, 'tol': 0.001}\n"
     ]
    }
   ],
   "source": [
    "means = sgd_best_model.cv_results_['mean_test_score']\n",
    "stds = sgd_best_model.cv_results_['std_test_score']\n",
    "for mean, std, params in zip(means, stds, sgd_best_model.cv_results_['params']):\n",
    "    print(\"%0.3f (+/-%0.03f) for %r\"% (mean, std * 2, params))"
   ]
  },
  {
   "cell_type": "code",
   "execution_count": 17,
   "metadata": {},
   "outputs": [
    {
     "name": "stdout",
     "output_type": "stream",
     "text": [
      "Fitting 5 folds for each of 22 candidates, totalling 110 fits\n"
     ]
    },
    {
     "name": "stderr",
     "output_type": "stream",
     "text": [
      "[Parallel(n_jobs=-1)]: Using backend LokyBackend with 8 concurrent workers.\n"
     ]
    },
    {
     "name": "stdout",
     "output_type": "stream",
     "text": [
      "Logistic GridSearchCV best score : 94.29%, best_params : {'C': 10000.0, 'multi_class': 'multinomial', 'penalty': 'l2', 'solver': 'lbfgs'}\n"
     ]
    },
    {
     "name": "stderr",
     "output_type": "stream",
     "text": [
      "[Parallel(n_jobs=-1)]: Done 110 out of 110 | elapsed:    0.3s finished\n"
     ]
    }
   ],
   "source": [
    "## LogisticRegression\n",
    "# LogisticRegression(penalty=’l2’, dual=False, tol=0.0001, C=1.0, fit_intercept=True, intercept_scaling=1, class_weight=None, random_state=None, solver=’warn’, max_iter=100, multi_class=’warn’, verbose=0, warm_start=False, n_jobs=None, l1_ratio=None)\n",
    "\n",
    "\n",
    "params = {\"solver\" : ['lbfgs', 'newton-cg'],\n",
    "          \"C\":[1e-4, 1e-3, 1e-2, 1e-1, 1e0, 1e1, 1e2, 1e3, 1e4, 1e5, 1e6],\n",
    "          \"penalty\":[\"l2\"],\n",
    "          'multi_class': ['multinomial']}\n",
    "\n",
    "\n",
    "Logisticgridsearch = GridSearchCV(LogisticRegression(), params,\n",
    "                     cv=5,\n",
    "                     verbose=1,\n",
    "                     n_jobs=-1)\n",
    "\n",
    "Logistic_model = Logisticgridsearch.fit(X_resampled, y_resampled)\n",
    "print('Logistic GridSearchCV best score : {:.2f}%, best_params : {}'.format(Logisticgridsearch.best_score_*100, Logisticgridsearch.best_params_))\n"
   ]
  },
  {
   "cell_type": "code",
   "execution_count": 18,
   "metadata": {},
   "outputs": [
    {
     "name": "stdout",
     "output_type": "stream",
     "text": [
      "Logistic GridSearchCV best score : 94.29%, best_params : {'C': 10000.0, 'multi_class': 'multinomial', 'penalty': 'l2', 'solver': 'lbfgs'}\n"
     ]
    }
   ],
   "source": [
    "## LinearSVC\n",
    "\n",
    "params_grid = [{'kernel': ['rbf'], 'gamma': [1e-1, 1e-2, 1e-3, 1e-4, 1e-5],\n",
    "                     'C': [1, 10, 100, 1000]},\n",
    "                    {'kernel': ['linear'], 'C': [1, 10, 100, 1000, 1500]}]\n",
    "svm_model = GridSearchCV(SVC(), params_grid, cv=5)\n",
    "svm_model.fit(X_resampled, y_resampled)\n",
    "print('Logistic GridSearchCV best score : {:.2f}%, best_params : {}'.format(Logisticgridsearch.best_score_*100, Logisticgridsearch.best_params_))\n"
   ]
  },
  {
   "cell_type": "code",
   "execution_count": 19,
   "metadata": {},
   "outputs": [
    {
     "name": "stdout",
     "output_type": "stream",
     "text": [
      "Fitting 5 folds for each of 784 candidates, totalling 3920 fits\n"
     ]
    },
    {
     "name": "stderr",
     "output_type": "stream",
     "text": [
      "[Parallel(n_jobs=-1)]: Using backend LokyBackend with 8 concurrent workers.\n",
      "[Parallel(n_jobs=-1)]: Done  48 tasks      | elapsed:    6.5s\n",
      "[Parallel(n_jobs=-1)]: Done 200 tasks      | elapsed:   28.0s\n",
      "[Parallel(n_jobs=-1)]: Done 450 tasks      | elapsed:  1.0min\n",
      "[Parallel(n_jobs=-1)]: Done 800 tasks      | elapsed:  1.8min\n",
      "[Parallel(n_jobs=-1)]: Done 1250 tasks      | elapsed:  2.8min\n",
      "[Parallel(n_jobs=-1)]: Done 1800 tasks      | elapsed:  4.1min\n",
      "[Parallel(n_jobs=-1)]: Done 2450 tasks      | elapsed:  5.6min\n",
      "[Parallel(n_jobs=-1)]: Done 3200 tasks      | elapsed:  7.3min\n"
     ]
    },
    {
     "name": "stdout",
     "output_type": "stream",
     "text": [
      "GridSearchCV best score : 90.48%, best_params : {'bootstrap': True, 'max_depth': 5, 'max_features': 'auto', 'min_samples_leaf': 3, 'n_estimators': 100, 'random_state': 3}\n"
     ]
    },
    {
     "name": "stderr",
     "output_type": "stream",
     "text": [
      "[Parallel(n_jobs=-1)]: Done 3920 out of 3920 | elapsed:  9.0min finished\n"
     ]
    }
   ],
   "source": [
    "## RandomForestClassifier\n",
    "# randomForestClassifier(n_estimators=’warn’, criterion=’gini’, max_depth=None, min_samples_split=2, min_samples_leaf=1, min_weight_fraction_leaf=0.0, max_features=’auto’, max_leaf_nodes=None, min_impurity_decrease=0.0, min_impurity_split=None, bootstrap=True, oob_score=False, n_jobs=None, random_state=None, verbose=0, warm_start=False, class_weight=None)\n",
    "\n",
    "bootstrap = [True, False]\n",
    "max_depth = [5,10,20,30, 50, 100, None]\n",
    "max_features = ['auto', 'sqrt']\n",
    "min_samples_leaf = [1, 2, 3, 4]\n",
    "min_samples_split = [2, 5, 10]\n",
    "n_estimators = [50, 100, 200, 300, 500 ,600, 800]\n",
    "random_state = [3]\n",
    "\n",
    "params = dict(bootstrap = bootstrap,\n",
    "              max_depth = max_depth,\n",
    "              max_features = max_features,\n",
    "              min_samples_leaf = min_samples_leaf,\n",
    "              n_estimators = n_estimators,\n",
    "              random_state=random_state)\n",
    "\n",
    "rfgridsearch = GridSearchCV(RandomForestClassifier(),\n",
    "                          params, \n",
    "                          cv=5,\n",
    "                          verbose=1, \n",
    "                          n_jobs=-1)\n",
    "\n",
    "rf_best_model = rfgridsearch.fit(X_resampled, y_resampled)\n",
    "print('GridSearchCV best score : {:.2f}%, best_params : {}'.format(rfgridsearch.best_score_*100, rfgridsearch.best_params_))"
   ]
  },
  {
   "cell_type": "code",
   "execution_count": 20,
   "metadata": {
    "scrolled": true
   },
   "outputs": [
    {
     "name": "stdout",
     "output_type": "stream",
     "text": [
      "Fitting 5 folds for each of 384 candidates, totalling 1920 fits\n"
     ]
    },
    {
     "name": "stderr",
     "output_type": "stream",
     "text": [
      "[Parallel(n_jobs=-1)]: Using backend LokyBackend with 8 concurrent workers.\n",
      "[Parallel(n_jobs=-1)]: Done 412 tasks      | elapsed:    0.6s\n"
     ]
    },
    {
     "name": "stdout",
     "output_type": "stream",
     "text": [
      "DecisionTree GridSearchCV best score : 82.86%, best_params : {'criterion': 'gini', 'min_samples_leaf': 1, 'min_samples_split': 2}\n"
     ]
    },
    {
     "name": "stderr",
     "output_type": "stream",
     "text": [
      "[Parallel(n_jobs=-1)]: Done 1920 out of 1920 | elapsed:    2.1s finished\n"
     ]
    }
   ],
   "source": [
    "## DecisionTreeClassifier## extra tree\n",
    "# DecisionTreeClassifier(criterion=’gini’, splitter=’best’, max_depth=None, min_samples_split=2, min_samples_leaf=1, min_weight_fraction_leaf=0.0, max_features=None, random_state=None, max_leaf_nodes=None, min_impurity_decrease=0.0, min_impurity_split=None, class_weight=None, presort=False)\n",
    "\n",
    "params = {'criterion': [\"gini\", 'entropy'],\n",
    "          'min_samples_split':[2,3,5,10,12,15,17,20,25,30,35,40],\n",
    "          'min_samples_leaf':[1,2,3,4,5,7,9,10,13,15,17,20,23,25,27,30]}\n",
    "\n",
    "DecisionTree_gridsearch = GridSearchCV(DecisionTreeClassifier(), \n",
    "                                       params, \n",
    "                                       cv=5,\n",
    "                                       verbose=1, \n",
    "                                       n_jobs=-1)\n",
    "\n",
    "DecisionTree_best_model = DecisionTree_gridsearch.fit(X_resampled, y_resampled)\n",
    "print('DecisionTree GridSearchCV best score : {:.2f}%, best_params : {}'.format(DecisionTree_gridsearch.best_score_*100, DecisionTree_gridsearch.best_params_))"
   ]
  },
  {
   "cell_type": "code",
   "execution_count": 21,
   "metadata": {},
   "outputs": [
    {
     "name": "stdout",
     "output_type": "stream",
     "text": [
      "Fitting 5 folds for each of 294 candidates, totalling 1470 fits\n"
     ]
    },
    {
     "name": "stderr",
     "output_type": "stream",
     "text": [
      "[Parallel(n_jobs=-1)]: Using backend LokyBackend with 8 concurrent workers.\n",
      "[Parallel(n_jobs=-1)]: Done  88 tasks      | elapsed:    5.4s\n",
      "[Parallel(n_jobs=-1)]: Done 268 tasks      | elapsed:   14.4s\n",
      "[Parallel(n_jobs=-1)]: Done 518 tasks      | elapsed:   29.4s\n",
      "[Parallel(n_jobs=-1)]: Done 868 tasks      | elapsed:   52.2s\n",
      "[Parallel(n_jobs=-1)]: Done 1318 tasks      | elapsed:  1.4min\n",
      "[Parallel(n_jobs=-1)]: Done 1470 out of 1470 | elapsed:  1.5min finished\n"
     ]
    },
    {
     "name": "stdout",
     "output_type": "stream",
     "text": [
      "extra tree GridSearchCV best score : 91.43%, best_params : {'max_depth': 3, 'min_samples_split': 2, 'n_estimators': 150}\n"
     ]
    }
   ],
   "source": [
    "## GradientBoostingClassifier\n",
    "# GradientBoostingClassifier(loss=’deviance’, learning_rate=0.1, n_estimators=100, subsample=1.0, criterion=’friedman_mse’, min_samples_split=2, min_samples_leaf=1, min_weight_fraction_leaf=0.0, max_depth=3, min_impurity_decrease=0.0, min_impurity_split=None, init=None, random_state=None, max_features=None, verbose=0, max_leaf_nodes=None, warm_start=False, presort=’auto’, validation_fraction=0.1, n_iter_no_change=None, tol=0.0001)[source]\n",
    "\n",
    "from sklearn.ensemble import GradientBoostingClassifier\n",
    "\n",
    "gb = GradientBoostingClassifier()\n",
    "params = {'n_estimators' : [10, 20, 30, 50, 100, 150, 200],\n",
    "          'max_depth': [3, 5,10,15,20,25,30],\n",
    "          'min_samples_split':[2,5,7, 10,12,15]}\n",
    "\n",
    "gbgridsearch = GridSearchCV(GradientBoostingClassifier(), params,\n",
    "                     cv=5,\n",
    "                     verbose=1,\n",
    "                     n_jobs=-1)\n",
    "\n",
    "gb_best_model = gbgridsearch.fit(X_resampled, y_resampled)\n",
    "print('extra tree GridSearchCV best score : {:.2f}%, best_params : {}'.format(gbgridsearch.best_score_*100, gbgridsearch.best_params_))"
   ]
  },
  {
   "cell_type": "code",
   "execution_count": 22,
   "metadata": {},
   "outputs": [
    {
     "name": "stdout",
     "output_type": "stream",
     "text": [
      "Fitting 3 folds for each of 13 candidates, totalling 39 fits\n",
      "Ridge GridSearchCV best score : 91.43%, best_params : {'alpha': 2}\n"
     ]
    },
    {
     "name": "stderr",
     "output_type": "stream",
     "text": [
      "[Parallel(n_jobs=-1)]: Using backend LokyBackend with 8 concurrent workers.\n",
      "[Parallel(n_jobs=-1)]: Done  39 out of  39 | elapsed:    0.0s finished\n"
     ]
    }
   ],
   "source": [
    "## RidgeClassifier\n",
    "# class sklearn.linear_model.RidgeClassifier(alpha=1.0, fit_intercept=True, normalize=False, copy_X=True, max_iter=None, tol=0.001, class_weight=None, solver=’auto’, random_state=None)\n",
    "\n",
    "params = {'alpha': [25,10,4,2,1.0,0.8,0.5,0.3,0.2,0.1,0.05,0.02,0.01]}\n",
    "RidgeClassifier()\n",
    "Ridgegridsearch = GridSearchCV(RidgeClassifier(), params,\n",
    "                     cv=3,\n",
    "                     verbose=1,\n",
    "                     n_jobs=-1)\n",
    "\n",
    "Ridge_model = Ridgegridsearch.fit(X_resampled, y_resampled)\n",
    "print('Ridge GridSearchCV best score : {:.2f}%, best_params : {}'.format(Ridgegridsearch.best_score_*100, Ridgegridsearch.best_params_))"
   ]
  },
  {
   "cell_type": "code",
   "execution_count": null,
   "metadata": {},
   "outputs": [],
   "source": [
    "clfs = [('sgd', sgd_best_model), ('svm', svm_model),('Logistic', Logistic_model)]\n",
    "\n",
    "vote_clf = VotingClassifier(clfs, voting= 'soft') \n",
    "vote_clf.fit(X_resampled, y_resampled)\n"
   ]
  },
  {
   "cell_type": "markdown",
   "metadata": {},
   "source": [
    "#### test set"
   ]
  },
  {
   "cell_type": "code",
   "execution_count": 24,
   "metadata": {},
   "outputs": [
    {
     "data": {
      "text/plain": [
       "(6452, 3)"
      ]
     },
     "execution_count": 24,
     "metadata": {},
     "output_type": "execute_result"
    }
   ],
   "source": [
    "uskr = pd.read_csv('C:/Users/Juwon Oh/Documents/Dropbox/BigDataDiplomacy/Code/2019/Analysis/Fall/CNJP.csv', encoding = \"ISO-8859-1\")\n",
    "fox = uskr[['date', 'title', 'text']]\n",
    "#fox = fox.dropna()\n",
    "fox = fox.fillna(0)\n",
    "test_text = fox.iloc[:, -1].values\n",
    "fox.shape"
   ]
  },
  {
   "cell_type": "code",
   "execution_count": 25,
   "metadata": {},
   "outputs": [],
   "source": [
    "from nltk.stem.snowball import SnowballStemmer\n",
    "stemmer = SnowballStemmer('english')\n",
    "\n",
    "test_corpus=[' '.join([stemmer.stem(word) for word in text.split(' ')])for text in test_text]"
   ]
  },
  {
   "cell_type": "code",
   "execution_count": 26,
   "metadata": {},
   "outputs": [],
   "source": [
    "from nltk.stem import WordNetLemmatizer\n",
    "lemmer=WordNetLemmatizer()\n",
    "\n",
    "test_corpus=[' '.join([lemmer.lemmatize(word) for word in text.split(' ')])for text in test_corpus]"
   ]
  },
  {
   "cell_type": "code",
   "execution_count": 27,
   "metadata": {},
   "outputs": [],
   "source": [
    "count_vect = CountVectorizer(stop_words=\"english\", ngram_range=(1, 2), max_df= 0.99, min_df=0.01)\n",
    "text_vector = count_vect.fit_transform(test_corpus)\n",
    "tfidf_transformer = TfidfTransformer(use_idf=True)\n",
    "test_Tfidf = tfidf_transformer.fit_transform(text_vector)"
   ]
  },
  {
   "cell_type": "code",
   "execution_count": 30,
   "metadata": {},
   "outputs": [],
   "source": [
    "#Dimenionality reduction. Only using the 100 best features er category\n",
    "\n",
    "lsa = TruncatedSVD(n_components=54, \n",
    "                   n_iter=10, \n",
    "                   random_state=3)\n",
    "\n",
    "y = lsa.fit_transform(test_Tfidf)\n"
   ]
  },
  {
   "cell_type": "code",
   "execution_count": 31,
   "metadata": {
    "scrolled": true
   },
   "outputs": [],
   "source": [
    "sgd_pred = sgd_best_model.predict(y)"
   ]
  },
  {
   "cell_type": "code",
   "execution_count": 77,
   "metadata": {
    "scrolled": true
   },
   "outputs": [],
   "source": [
    "rf_pred = rf_best_model.predict(y)"
   ]
  },
  {
   "cell_type": "code",
   "execution_count": null,
   "metadata": {},
   "outputs": [],
   "source": [
    "svm_pred =svm_model.predict(y)"
   ]
  },
  {
   "cell_type": "code",
   "execution_count": null,
   "metadata": {},
   "outputs": [],
   "source": [
    "Logistic_pred =Logistic_model.predict(y)"
   ]
  },
  {
   "cell_type": "code",
   "execution_count": null,
   "metadata": {},
   "outputs": [],
   "source": [
    "y_pred = vote_clf.predict(X_test)"
   ]
  },
  {
   "cell_type": "code",
   "execution_count": null,
   "metadata": {
    "scrolled": true
   },
   "outputs": [],
   "source": [
    "accuracy_score(svm_pred, sgd_pred)"
   ]
  },
  {
   "cell_type": "code",
   "execution_count": null,
   "metadata": {},
   "outputs": [],
   "source": [
    "accuracy_score(Logistic_pred, sgd_pred)"
   ]
  },
  {
   "cell_type": "code",
   "execution_count": null,
   "metadata": {},
   "outputs": [],
   "source": [
    "len(pred)"
   ]
  },
  {
   "cell_type": "code",
   "execution_count": 33,
   "metadata": {
    "scrolled": true
   },
   "outputs": [],
   "source": [
    "fox['pred'] = sgd_pred"
   ]
  },
  {
   "cell_type": "code",
   "execution_count": 34,
   "metadata": {},
   "outputs": [],
   "source": [
    "fox\n",
    "fox.to_csv(\"C:/Users/Juwon Oh/Documents/Dropbox/BigDataDiplomacy/Code/2019/Analysis/Fall/CNJP_predict.csv\", mode='w')"
   ]
  },
  {
   "cell_type": "markdown",
   "metadata": {},
   "source": [
    "--------------------------------"
   ]
  },
  {
   "cell_type": "code",
   "execution_count": null,
   "metadata": {},
   "outputs": [],
   "source": []
  },
  {
   "cell_type": "code",
   "execution_count": 35,
   "metadata": {},
   "outputs": [
    {
     "data": {
      "text/plain": [
       "(158, 2)"
      ]
     },
     "execution_count": 35,
     "metadata": {},
     "output_type": "execute_result"
    }
   ],
   "source": [
    "uskr_train = pd.read_csv('C:/Users/Juwon Oh/Documents/github/sentiment analysis/sentiment_six_relations_original_usjp.csv')\n",
    "uskr = uskr_train[['sentiment','text_raw']]\n",
    "uskr = uskr.fillna(0)\n",
    "uskr = uskr.dropna()\n",
    "text= uskr.iloc[:, -1].values\n",
    "labels = uskr.sentiment.values\n",
    "uskr.shape"
   ]
  },
  {
   "cell_type": "markdown",
   "metadata": {},
   "source": [
    "## train set"
   ]
  },
  {
   "cell_type": "code",
   "execution_count": 36,
   "metadata": {},
   "outputs": [],
   "source": [
    "from nltk.stem.snowball import SnowballStemmer\n",
    "stemmer = SnowballStemmer('english')\n",
    "\n",
    "new_corpus=[' '.join([stemmer.stem(word) for word in text.split(' ')])for text in text]"
   ]
  },
  {
   "cell_type": "code",
   "execution_count": 37,
   "metadata": {},
   "outputs": [],
   "source": [
    "from nltk.stem import WordNetLemmatizer\n",
    "lemmer=WordNetLemmatizer()\n",
    "\n",
    "new_corpus=[' '.join([lemmer.lemmatize(word) for word in text.split(' ')])for text in new_corpus]"
   ]
  },
  {
   "cell_type": "code",
   "execution_count": 38,
   "metadata": {},
   "outputs": [],
   "source": [
    "count_vect = CountVectorizer(stop_words=\"english\", ngram_range=(1, 2), max_df= 0.95, min_df=4)\n",
    "text_vector = count_vect.fit_transform(new_corpus)\n",
    "tfidf_transformer = TfidfTransformer(use_idf=True)\n",
    "text_Tfidf = tfidf_transformer.fit_transform(text_vector)"
   ]
  },
  {
   "cell_type": "code",
   "execution_count": 39,
   "metadata": {},
   "outputs": [
    {
     "data": {
      "text/plain": [
       "(158, 4443)"
      ]
     },
     "execution_count": 39,
     "metadata": {},
     "output_type": "execute_result"
    }
   ],
   "source": [
    "text_Tfidf.shape"
   ]
  },
  {
   "cell_type": "code",
   "execution_count": 40,
   "metadata": {},
   "outputs": [],
   "source": [
    "#Dimenionality reduction. Only using the 100 best features er category\n",
    "\n",
    "lsa = TruncatedSVD(n_components=1000, \n",
    "                   n_iter=10, \n",
    "                   random_state=3)\n",
    "\n",
    "X = lsa.fit_transform(text_Tfidf)"
   ]
  },
  {
   "cell_type": "code",
   "execution_count": 41,
   "metadata": {},
   "outputs": [
    {
     "name": "stdout",
     "output_type": "stream",
     "text": [
      "After OverSampling, the shape of train_X: (222, 158)\n",
      "After OverSampling, the shape of train_y: (222, 158) \n",
      "\n",
      "After OverSampling, counts of label '-1': 74\n",
      "After OverSampling, counts of label '0': 74\n"
     ]
    }
   ],
   "source": [
    "from imblearn.over_sampling import SMOTE\n",
    "# 모델설정\n",
    "sm = SMOTE(ratio='auto', kind='regular', k_neighbors=5)\n",
    "\n",
    "# train데이터를 넣어 복제함\n",
    "X_sampled, y_sampled = sm.fit_sample(X,list(labels))\n",
    "\n",
    "print('After OverSampling, the shape of train_X: {}'.format(X_sampled.shape))\n",
    "print('After OverSampling, the shape of train_y: {} \\n'.format(X_sampled.shape))\n",
    "\n",
    "print(\"After OverSampling, counts of label '-1': {}\".format(sum(y_sampled==-1)))\n",
    "#print(\"After OverSampling, counts of label '1': {}\".format(sum(y_resampled==1)))\n",
    "print(\"After OverSampling, counts of label '0': {}\".format(sum(y_sampled==0)))"
   ]
  },
  {
   "cell_type": "code",
   "execution_count": 42,
   "metadata": {},
   "outputs": [
    {
     "name": "stdout",
     "output_type": "stream",
     "text": [
      "Fitting 5 folds for each of 13 candidates, totalling 65 fits\n"
     ]
    },
    {
     "name": "stderr",
     "output_type": "stream",
     "text": [
      "[Parallel(n_jobs=-1)]: Using backend LokyBackend with 8 concurrent workers.\n"
     ]
    },
    {
     "name": "stdout",
     "output_type": "stream",
     "text": [
      "GridSearchCV best score : 66.67%, best_params : {'alpha': 0.0}\n"
     ]
    },
    {
     "name": "stderr",
     "output_type": "stream",
     "text": [
      "[Parallel(n_jobs=-1)]: Done  16 tasks      | elapsed:    7.7s\n",
      "[Parallel(n_jobs=-1)]: Done  50 out of  65 | elapsed:    7.8s remaining:    2.3s\n",
      "[Parallel(n_jobs=-1)]: Done  65 out of  65 | elapsed:    7.8s finished\n"
     ]
    }
   ],
   "source": [
    "## BernoulliNB\n",
    "# BernoulliNB(alpha=1.0, binarize=0.0, fit_prior=True, class_prior=None)\n",
    "\n",
    "Bernoullinb = BernoulliNB()\n",
    "params = {'alpha' : [0.0, 0.0001, 0.001, 0.01, 0.1, 0.5, 1.0, 2.0,3.0 ,5.0, 7.0, 8.0,10.0]}\n",
    "\n",
    "Bernoullinb = GridSearchCV(BernoulliNB(), \n",
    "                   params,\n",
    "                   cv = 5,\n",
    "                   verbose = 3, \n",
    "                   n_jobs = -1)\n",
    "Bernoullinb_best_model = Bernoullinb.fit(X_sampled, y_sampled)\n",
    "print('GridSearchCV best score : {:.2f}%, best_params : {}'.format(Bernoullinb.best_score_*100, Bernoullinb.best_params_))"
   ]
  },
  {
   "cell_type": "code",
   "execution_count": 43,
   "metadata": {},
   "outputs": [
    {
     "name": "stdout",
     "output_type": "stream",
     "text": [
      "0.667 (+/-0.162) for {'alpha': 0.0}\n",
      "0.667 (+/-0.162) for {'alpha': 0.0001}\n",
      "0.667 (+/-0.162) for {'alpha': 0.001}\n",
      "0.667 (+/-0.162) for {'alpha': 0.01}\n",
      "0.667 (+/-0.162) for {'alpha': 0.1}\n",
      "0.667 (+/-0.162) for {'alpha': 0.5}\n",
      "0.662 (+/-0.156) for {'alpha': 1.0}\n",
      "0.662 (+/-0.156) for {'alpha': 2.0}\n",
      "0.667 (+/-0.144) for {'alpha': 3.0}\n",
      "0.653 (+/-0.169) for {'alpha': 5.0}\n",
      "0.653 (+/-0.169) for {'alpha': 7.0}\n",
      "0.653 (+/-0.169) for {'alpha': 8.0}\n",
      "0.649 (+/-0.163) for {'alpha': 10.0}\n"
     ]
    }
   ],
   "source": [
    "means = Bernoullinb_best_model.cv_results_['mean_test_score']\n",
    "stds = Bernoullinb_best_model.cv_results_['std_test_score']\n",
    "for mean, std, params in zip(means, stds, Bernoullinb_best_model.cv_results_['params']):\n",
    "    print(\"%0.3f (+/-%0.03f) for %r\"% (mean, std * 2, params))"
   ]
  },
  {
   "cell_type": "code",
   "execution_count": 44,
   "metadata": {},
   "outputs": [
    {
     "name": "stdout",
     "output_type": "stream",
     "text": [
      "Fitting 5 folds for each of 400 candidates, totalling 2000 fits\n"
     ]
    },
    {
     "name": "stderr",
     "output_type": "stream",
     "text": [
      "[Parallel(n_jobs=-1)]: Using backend LokyBackend with 8 concurrent workers.\n",
      "[Parallel(n_jobs=-1)]: Done  34 tasks      | elapsed:    0.5s\n",
      "[Parallel(n_jobs=-1)]: Done 795 tasks      | elapsed:   36.9s\n",
      "[Parallel(n_jobs=-1)]: Done 1142 tasks      | elapsed:  1.3min\n",
      "[Parallel(n_jobs=-1)]: Done 1588 tasks      | elapsed:  2.3min\n",
      "[Parallel(n_jobs=-1)]: Done 1985 out of 2000 | elapsed:  2.8min remaining:    1.2s\n"
     ]
    },
    {
     "name": "stdout",
     "output_type": "stream",
     "text": [
      "GridSearchCV best score : 82.88%, best_params : {'alpha': 0.001, 'loss': 'log', 'max_iter': 20, 'penalty': 'l2', 'random_state': 3, 'tol': None}\n"
     ]
    },
    {
     "name": "stderr",
     "output_type": "stream",
     "text": [
      "[Parallel(n_jobs=-1)]: Done 2000 out of 2000 | elapsed:  3.1min finished\n"
     ]
    }
   ],
   "source": [
    "## SGDClassifier\n",
    "# SGDClassifier(loss=’hinge’, penalty=’l2’, alpha=0.0001, l1_ratio=0.15, fit_intercept=True, max_iter=1000, tol=0.001, shuffle=True, verbose=0, epsilon=0.1, n_jobs=None, random_state=None, learning_rate=’optimal’, eta0=0.0, power_t=0.5, early_stopping=False, validation_fraction=0.1, n_iter_no_change=5, class_weight=None, warm_start=False, average=False)\n",
    "\n",
    "loss =  ['hinge','log']\n",
    "penalty = ['l2','l1']\n",
    "alpha = [1e-6, 1e-3, 1e-1, 1e0, 0.0001]\n",
    "max_iter = [5,10,20,30, 50, 60, 70, 100,1000, 10000]\n",
    "tol = [None, 1e-3]\n",
    "eta0 = [0.1, 0.001]\n",
    "random_state = [3]\n",
    "\n",
    "SGD = SGDClassifier()\n",
    "\n",
    "params = dict(loss=loss,\n",
    "              penalty=penalty,\n",
    "              alpha=alpha,\n",
    "              max_iter=max_iter,\n",
    "              tol=tol,\n",
    "              random_state=random_state)\n",
    "\n",
    "SGDgridsearch = GridSearchCV(SGDClassifier(),\n",
    "                          params,\n",
    "                          cv = 5,\n",
    "                          verbose = 1, \n",
    "                          n_jobs = -1)\n",
    "\n",
    "sgd_best_model = SGDgridsearch.fit(X_sampled, y_sampled)\n",
    "print('GridSearchCV best score : {:.2f}%, best_params : {}'.format(SGDgridsearch.best_score_*100, SGDgridsearch.best_params_))"
   ]
  },
  {
   "cell_type": "code",
   "execution_count": 45,
   "metadata": {},
   "outputs": [
    {
     "name": "stdout",
     "output_type": "stream",
     "text": [
      "0.793 (+/-0.162) for {'alpha': 1e-06, 'loss': 'hinge', 'max_iter': 5, 'penalty': 'l2', 'random_state': 3, 'tol': None}\n",
      "0.793 (+/-0.162) for {'alpha': 1e-06, 'loss': 'hinge', 'max_iter': 5, 'penalty': 'l2', 'random_state': 3, 'tol': 0.001}\n",
      "0.784 (+/-0.169) for {'alpha': 1e-06, 'loss': 'hinge', 'max_iter': 5, 'penalty': 'l1', 'random_state': 3, 'tol': None}\n",
      "0.784 (+/-0.169) for {'alpha': 1e-06, 'loss': 'hinge', 'max_iter': 5, 'penalty': 'l1', 'random_state': 3, 'tol': 0.001}\n",
      "0.748 (+/-0.094) for {'alpha': 1e-06, 'loss': 'hinge', 'max_iter': 10, 'penalty': 'l2', 'random_state': 3, 'tol': None}\n",
      "0.748 (+/-0.094) for {'alpha': 1e-06, 'loss': 'hinge', 'max_iter': 10, 'penalty': 'l2', 'random_state': 3, 'tol': 0.001}\n",
      "0.784 (+/-0.159) for {'alpha': 1e-06, 'loss': 'hinge', 'max_iter': 10, 'penalty': 'l1', 'random_state': 3, 'tol': None}\n",
      "0.784 (+/-0.159) for {'alpha': 1e-06, 'loss': 'hinge', 'max_iter': 10, 'penalty': 'l1', 'random_state': 3, 'tol': 0.001}\n",
      "0.802 (+/-0.118) for {'alpha': 1e-06, 'loss': 'hinge', 'max_iter': 20, 'penalty': 'l2', 'random_state': 3, 'tol': None}\n",
      "0.820 (+/-0.143) for {'alpha': 1e-06, 'loss': 'hinge', 'max_iter': 20, 'penalty': 'l2', 'random_state': 3, 'tol': 0.001}\n",
      "0.806 (+/-0.153) for {'alpha': 1e-06, 'loss': 'hinge', 'max_iter': 20, 'penalty': 'l1', 'random_state': 3, 'tol': None}\n",
      "0.811 (+/-0.148) for {'alpha': 1e-06, 'loss': 'hinge', 'max_iter': 20, 'penalty': 'l1', 'random_state': 3, 'tol': 0.001}\n",
      "0.793 (+/-0.115) for {'alpha': 1e-06, 'loss': 'hinge', 'max_iter': 30, 'penalty': 'l2', 'random_state': 3, 'tol': None}\n",
      "0.820 (+/-0.143) for {'alpha': 1e-06, 'loss': 'hinge', 'max_iter': 30, 'penalty': 'l2', 'random_state': 3, 'tol': 0.001}\n",
      "0.811 (+/-0.154) for {'alpha': 1e-06, 'loss': 'hinge', 'max_iter': 30, 'penalty': 'l1', 'random_state': 3, 'tol': None}\n",
      "0.806 (+/-0.156) for {'alpha': 1e-06, 'loss': 'hinge', 'max_iter': 30, 'penalty': 'l1', 'random_state': 3, 'tol': 0.001}\n",
      "0.797 (+/-0.095) for {'alpha': 1e-06, 'loss': 'hinge', 'max_iter': 50, 'penalty': 'l2', 'random_state': 3, 'tol': None}\n",
      "0.820 (+/-0.143) for {'alpha': 1e-06, 'loss': 'hinge', 'max_iter': 50, 'penalty': 'l2', 'random_state': 3, 'tol': 0.001}\n",
      "0.806 (+/-0.156) for {'alpha': 1e-06, 'loss': 'hinge', 'max_iter': 50, 'penalty': 'l1', 'random_state': 3, 'tol': None}\n",
      "0.806 (+/-0.156) for {'alpha': 1e-06, 'loss': 'hinge', 'max_iter': 50, 'penalty': 'l1', 'random_state': 3, 'tol': 0.001}\n",
      "0.788 (+/-0.100) for {'alpha': 1e-06, 'loss': 'hinge', 'max_iter': 60, 'penalty': 'l2', 'random_state': 3, 'tol': None}\n",
      "0.820 (+/-0.143) for {'alpha': 1e-06, 'loss': 'hinge', 'max_iter': 60, 'penalty': 'l2', 'random_state': 3, 'tol': 0.001}\n",
      "0.806 (+/-0.156) for {'alpha': 1e-06, 'loss': 'hinge', 'max_iter': 60, 'penalty': 'l1', 'random_state': 3, 'tol': None}\n",
      "0.806 (+/-0.156) for {'alpha': 1e-06, 'loss': 'hinge', 'max_iter': 60, 'penalty': 'l1', 'random_state': 3, 'tol': 0.001}\n",
      "0.775 (+/-0.056) for {'alpha': 1e-06, 'loss': 'hinge', 'max_iter': 70, 'penalty': 'l2', 'random_state': 3, 'tol': None}\n",
      "0.820 (+/-0.143) for {'alpha': 1e-06, 'loss': 'hinge', 'max_iter': 70, 'penalty': 'l2', 'random_state': 3, 'tol': 0.001}\n",
      "0.806 (+/-0.156) for {'alpha': 1e-06, 'loss': 'hinge', 'max_iter': 70, 'penalty': 'l1', 'random_state': 3, 'tol': None}\n",
      "0.806 (+/-0.156) for {'alpha': 1e-06, 'loss': 'hinge', 'max_iter': 70, 'penalty': 'l1', 'random_state': 3, 'tol': 0.001}\n",
      "0.802 (+/-0.106) for {'alpha': 1e-06, 'loss': 'hinge', 'max_iter': 100, 'penalty': 'l2', 'random_state': 3, 'tol': None}\n",
      "0.820 (+/-0.143) for {'alpha': 1e-06, 'loss': 'hinge', 'max_iter': 100, 'penalty': 'l2', 'random_state': 3, 'tol': 0.001}\n",
      "0.806 (+/-0.156) for {'alpha': 1e-06, 'loss': 'hinge', 'max_iter': 100, 'penalty': 'l1', 'random_state': 3, 'tol': None}\n",
      "0.806 (+/-0.156) for {'alpha': 1e-06, 'loss': 'hinge', 'max_iter': 100, 'penalty': 'l1', 'random_state': 3, 'tol': 0.001}\n",
      "0.820 (+/-0.131) for {'alpha': 1e-06, 'loss': 'hinge', 'max_iter': 1000, 'penalty': 'l2', 'random_state': 3, 'tol': None}\n",
      "0.820 (+/-0.143) for {'alpha': 1e-06, 'loss': 'hinge', 'max_iter': 1000, 'penalty': 'l2', 'random_state': 3, 'tol': 0.001}\n",
      "0.793 (+/-0.139) for {'alpha': 1e-06, 'loss': 'hinge', 'max_iter': 1000, 'penalty': 'l1', 'random_state': 3, 'tol': None}\n",
      "0.806 (+/-0.156) for {'alpha': 1e-06, 'loss': 'hinge', 'max_iter': 1000, 'penalty': 'l1', 'random_state': 3, 'tol': 0.001}\n",
      "0.797 (+/-0.163) for {'alpha': 1e-06, 'loss': 'hinge', 'max_iter': 10000, 'penalty': 'l2', 'random_state': 3, 'tol': None}\n",
      "0.820 (+/-0.143) for {'alpha': 1e-06, 'loss': 'hinge', 'max_iter': 10000, 'penalty': 'l2', 'random_state': 3, 'tol': 0.001}\n",
      "0.797 (+/-0.144) for {'alpha': 1e-06, 'loss': 'hinge', 'max_iter': 10000, 'penalty': 'l1', 'random_state': 3, 'tol': None}\n",
      "0.806 (+/-0.156) for {'alpha': 1e-06, 'loss': 'hinge', 'max_iter': 10000, 'penalty': 'l1', 'random_state': 3, 'tol': 0.001}\n",
      "0.806 (+/-0.134) for {'alpha': 1e-06, 'loss': 'log', 'max_iter': 5, 'penalty': 'l2', 'random_state': 3, 'tol': None}\n",
      "0.806 (+/-0.134) for {'alpha': 1e-06, 'loss': 'log', 'max_iter': 5, 'penalty': 'l2', 'random_state': 3, 'tol': 0.001}\n",
      "0.793 (+/-0.156) for {'alpha': 1e-06, 'loss': 'log', 'max_iter': 5, 'penalty': 'l1', 'random_state': 3, 'tol': None}\n",
      "0.793 (+/-0.156) for {'alpha': 1e-06, 'loss': 'log', 'max_iter': 5, 'penalty': 'l1', 'random_state': 3, 'tol': 0.001}\n",
      "0.802 (+/-0.154) for {'alpha': 1e-06, 'loss': 'log', 'max_iter': 10, 'penalty': 'l2', 'random_state': 3, 'tol': None}\n",
      "0.797 (+/-0.165) for {'alpha': 1e-06, 'loss': 'log', 'max_iter': 10, 'penalty': 'l2', 'random_state': 3, 'tol': 0.001}\n",
      "0.784 (+/-0.167) for {'alpha': 1e-06, 'loss': 'log', 'max_iter': 10, 'penalty': 'l1', 'random_state': 3, 'tol': None}\n",
      "0.788 (+/-0.157) for {'alpha': 1e-06, 'loss': 'log', 'max_iter': 10, 'penalty': 'l1', 'random_state': 3, 'tol': 0.001}\n",
      "0.820 (+/-0.162) for {'alpha': 1e-06, 'loss': 'log', 'max_iter': 20, 'penalty': 'l2', 'random_state': 3, 'tol': None}\n",
      "0.802 (+/-0.150) for {'alpha': 1e-06, 'loss': 'log', 'max_iter': 20, 'penalty': 'l2', 'random_state': 3, 'tol': 0.001}\n",
      "0.815 (+/-0.100) for {'alpha': 1e-06, 'loss': 'log', 'max_iter': 20, 'penalty': 'l1', 'random_state': 3, 'tol': None}\n",
      "0.811 (+/-0.125) for {'alpha': 1e-06, 'loss': 'log', 'max_iter': 20, 'penalty': 'l1', 'random_state': 3, 'tol': 0.001}\n",
      "0.806 (+/-0.170) for {'alpha': 1e-06, 'loss': 'log', 'max_iter': 30, 'penalty': 'l2', 'random_state': 3, 'tol': None}\n",
      "0.802 (+/-0.150) for {'alpha': 1e-06, 'loss': 'log', 'max_iter': 30, 'penalty': 'l2', 'random_state': 3, 'tol': 0.001}\n",
      "0.806 (+/-0.111) for {'alpha': 1e-06, 'loss': 'log', 'max_iter': 30, 'penalty': 'l1', 'random_state': 3, 'tol': None}\n",
      "0.802 (+/-0.127) for {'alpha': 1e-06, 'loss': 'log', 'max_iter': 30, 'penalty': 'l1', 'random_state': 3, 'tol': 0.001}\n",
      "0.811 (+/-0.165) for {'alpha': 1e-06, 'loss': 'log', 'max_iter': 50, 'penalty': 'l2', 'random_state': 3, 'tol': None}\n",
      "0.802 (+/-0.150) for {'alpha': 1e-06, 'loss': 'log', 'max_iter': 50, 'penalty': 'l2', 'random_state': 3, 'tol': 0.001}\n",
      "0.815 (+/-0.132) for {'alpha': 1e-06, 'loss': 'log', 'max_iter': 50, 'penalty': 'l1', 'random_state': 3, 'tol': None}\n",
      "0.802 (+/-0.127) for {'alpha': 1e-06, 'loss': 'log', 'max_iter': 50, 'penalty': 'l1', 'random_state': 3, 'tol': 0.001}\n",
      "0.806 (+/-0.159) for {'alpha': 1e-06, 'loss': 'log', 'max_iter': 60, 'penalty': 'l2', 'random_state': 3, 'tol': None}\n",
      "0.802 (+/-0.150) for {'alpha': 1e-06, 'loss': 'log', 'max_iter': 60, 'penalty': 'l2', 'random_state': 3, 'tol': 0.001}\n",
      "0.811 (+/-0.120) for {'alpha': 1e-06, 'loss': 'log', 'max_iter': 60, 'penalty': 'l1', 'random_state': 3, 'tol': None}\n",
      "0.802 (+/-0.127) for {'alpha': 1e-06, 'loss': 'log', 'max_iter': 60, 'penalty': 'l1', 'random_state': 3, 'tol': 0.001}\n",
      "0.806 (+/-0.152) for {'alpha': 1e-06, 'loss': 'log', 'max_iter': 70, 'penalty': 'l2', 'random_state': 3, 'tol': None}\n",
      "0.802 (+/-0.150) for {'alpha': 1e-06, 'loss': 'log', 'max_iter': 70, 'penalty': 'l2', 'random_state': 3, 'tol': 0.001}\n",
      "0.811 (+/-0.120) for {'alpha': 1e-06, 'loss': 'log', 'max_iter': 70, 'penalty': 'l1', 'random_state': 3, 'tol': None}\n",
      "0.802 (+/-0.127) for {'alpha': 1e-06, 'loss': 'log', 'max_iter': 70, 'penalty': 'l1', 'random_state': 3, 'tol': 0.001}\n",
      "0.802 (+/-0.154) for {'alpha': 1e-06, 'loss': 'log', 'max_iter': 100, 'penalty': 'l2', 'random_state': 3, 'tol': None}\n",
      "0.802 (+/-0.150) for {'alpha': 1e-06, 'loss': 'log', 'max_iter': 100, 'penalty': 'l2', 'random_state': 3, 'tol': 0.001}\n",
      "0.806 (+/-0.127) for {'alpha': 1e-06, 'loss': 'log', 'max_iter': 100, 'penalty': 'l1', 'random_state': 3, 'tol': None}\n",
      "0.802 (+/-0.127) for {'alpha': 1e-06, 'loss': 'log', 'max_iter': 100, 'penalty': 'l1', 'random_state': 3, 'tol': 0.001}\n",
      "0.793 (+/-0.118) for {'alpha': 1e-06, 'loss': 'log', 'max_iter': 1000, 'penalty': 'l2', 'random_state': 3, 'tol': None}\n",
      "0.802 (+/-0.150) for {'alpha': 1e-06, 'loss': 'log', 'max_iter': 1000, 'penalty': 'l2', 'random_state': 3, 'tol': 0.001}\n",
      "0.802 (+/-0.117) for {'alpha': 1e-06, 'loss': 'log', 'max_iter': 1000, 'penalty': 'l1', 'random_state': 3, 'tol': None}\n",
      "0.802 (+/-0.127) for {'alpha': 1e-06, 'loss': 'log', 'max_iter': 1000, 'penalty': 'l1', 'random_state': 3, 'tol': 0.001}\n",
      "0.802 (+/-0.125) for {'alpha': 1e-06, 'loss': 'log', 'max_iter': 10000, 'penalty': 'l2', 'random_state': 3, 'tol': None}\n",
      "0.802 (+/-0.150) for {'alpha': 1e-06, 'loss': 'log', 'max_iter': 10000, 'penalty': 'l2', 'random_state': 3, 'tol': 0.001}\n",
      "0.806 (+/-0.111) for {'alpha': 1e-06, 'loss': 'log', 'max_iter': 10000, 'penalty': 'l1', 'random_state': 3, 'tol': None}\n",
      "0.802 (+/-0.127) for {'alpha': 1e-06, 'loss': 'log', 'max_iter': 10000, 'penalty': 'l1', 'random_state': 3, 'tol': 0.001}\n",
      "0.757 (+/-0.049) for {'alpha': 0.001, 'loss': 'hinge', 'max_iter': 5, 'penalty': 'l2', 'random_state': 3, 'tol': None}\n",
      "0.757 (+/-0.049) for {'alpha': 0.001, 'loss': 'hinge', 'max_iter': 5, 'penalty': 'l2', 'random_state': 3, 'tol': 0.001}\n",
      "0.775 (+/-0.125) for {'alpha': 0.001, 'loss': 'hinge', 'max_iter': 5, 'penalty': 'l1', 'random_state': 3, 'tol': None}\n",
      "0.775 (+/-0.125) for {'alpha': 0.001, 'loss': 'hinge', 'max_iter': 5, 'penalty': 'l1', 'random_state': 3, 'tol': 0.001}\n",
      "0.779 (+/-0.102) for {'alpha': 0.001, 'loss': 'hinge', 'max_iter': 10, 'penalty': 'l2', 'random_state': 3, 'tol': None}\n",
      "0.779 (+/-0.102) for {'alpha': 0.001, 'loss': 'hinge', 'max_iter': 10, 'penalty': 'l2', 'random_state': 3, 'tol': 0.001}\n",
      "0.775 (+/-0.078) for {'alpha': 0.001, 'loss': 'hinge', 'max_iter': 10, 'penalty': 'l1', 'random_state': 3, 'tol': None}\n",
      "0.775 (+/-0.078) for {'alpha': 0.001, 'loss': 'hinge', 'max_iter': 10, 'penalty': 'l1', 'random_state': 3, 'tol': 0.001}\n",
      "0.797 (+/-0.117) for {'alpha': 0.001, 'loss': 'hinge', 'max_iter': 20, 'penalty': 'l2', 'random_state': 3, 'tol': None}\n",
      "0.802 (+/-0.117) for {'alpha': 0.001, 'loss': 'hinge', 'max_iter': 20, 'penalty': 'l2', 'random_state': 3, 'tol': 0.001}\n",
      "0.802 (+/-0.067) for {'alpha': 0.001, 'loss': 'hinge', 'max_iter': 20, 'penalty': 'l1', 'random_state': 3, 'tol': None}\n",
      "0.806 (+/-0.077) for {'alpha': 0.001, 'loss': 'hinge', 'max_iter': 20, 'penalty': 'l1', 'random_state': 3, 'tol': 0.001}\n",
      "0.797 (+/-0.122) for {'alpha': 0.001, 'loss': 'hinge', 'max_iter': 30, 'penalty': 'l2', 'random_state': 3, 'tol': None}\n",
      "0.788 (+/-0.138) for {'alpha': 0.001, 'loss': 'hinge', 'max_iter': 30, 'penalty': 'l2', 'random_state': 3, 'tol': 0.001}\n",
      "0.811 (+/-0.066) for {'alpha': 0.001, 'loss': 'hinge', 'max_iter': 30, 'penalty': 'l1', 'random_state': 3, 'tol': None}\n",
      "0.802 (+/-0.090) for {'alpha': 0.001, 'loss': 'hinge', 'max_iter': 30, 'penalty': 'l1', 'random_state': 3, 'tol': 0.001}\n",
      "0.802 (+/-0.125) for {'alpha': 0.001, 'loss': 'hinge', 'max_iter': 50, 'penalty': 'l2', 'random_state': 3, 'tol': None}\n",
      "0.779 (+/-0.108) for {'alpha': 0.001, 'loss': 'hinge', 'max_iter': 50, 'penalty': 'l2', 'random_state': 3, 'tol': 0.001}\n",
      "0.811 (+/-0.069) for {'alpha': 0.001, 'loss': 'hinge', 'max_iter': 50, 'penalty': 'l1', 'random_state': 3, 'tol': None}\n",
      "0.806 (+/-0.087) for {'alpha': 0.001, 'loss': 'hinge', 'max_iter': 50, 'penalty': 'l1', 'random_state': 3, 'tol': 0.001}\n",
      "0.806 (+/-0.120) for {'alpha': 0.001, 'loss': 'hinge', 'max_iter': 60, 'penalty': 'l2', 'random_state': 3, 'tol': None}\n",
      "0.779 (+/-0.108) for {'alpha': 0.001, 'loss': 'hinge', 'max_iter': 60, 'penalty': 'l2', 'random_state': 3, 'tol': 0.001}\n",
      "0.815 (+/-0.059) for {'alpha': 0.001, 'loss': 'hinge', 'max_iter': 60, 'penalty': 'l1', 'random_state': 3, 'tol': None}\n",
      "0.806 (+/-0.087) for {'alpha': 0.001, 'loss': 'hinge', 'max_iter': 60, 'penalty': 'l1', 'random_state': 3, 'tol': 0.001}\n",
      "0.802 (+/-0.125) for {'alpha': 0.001, 'loss': 'hinge', 'max_iter': 70, 'penalty': 'l2', 'random_state': 3, 'tol': None}\n",
      "0.779 (+/-0.108) for {'alpha': 0.001, 'loss': 'hinge', 'max_iter': 70, 'penalty': 'l2', 'random_state': 3, 'tol': 0.001}\n",
      "0.811 (+/-0.060) for {'alpha': 0.001, 'loss': 'hinge', 'max_iter': 70, 'penalty': 'l1', 'random_state': 3, 'tol': None}\n",
      "0.806 (+/-0.087) for {'alpha': 0.001, 'loss': 'hinge', 'max_iter': 70, 'penalty': 'l1', 'random_state': 3, 'tol': 0.001}\n",
      "0.802 (+/-0.125) for {'alpha': 0.001, 'loss': 'hinge', 'max_iter': 100, 'penalty': 'l2', 'random_state': 3, 'tol': None}\n",
      "0.779 (+/-0.108) for {'alpha': 0.001, 'loss': 'hinge', 'max_iter': 100, 'penalty': 'l2', 'random_state': 3, 'tol': 0.001}\n",
      "0.811 (+/-0.069) for {'alpha': 0.001, 'loss': 'hinge', 'max_iter': 100, 'penalty': 'l1', 'random_state': 3, 'tol': None}\n",
      "0.806 (+/-0.087) for {'alpha': 0.001, 'loss': 'hinge', 'max_iter': 100, 'penalty': 'l1', 'random_state': 3, 'tol': 0.001}\n",
      "0.797 (+/-0.133) for {'alpha': 0.001, 'loss': 'hinge', 'max_iter': 1000, 'penalty': 'l2', 'random_state': 3, 'tol': None}\n",
      "0.779 (+/-0.108) for {'alpha': 0.001, 'loss': 'hinge', 'max_iter': 1000, 'penalty': 'l2', 'random_state': 3, 'tol': 0.001}\n",
      "0.806 (+/-0.066) for {'alpha': 0.001, 'loss': 'hinge', 'max_iter': 1000, 'penalty': 'l1', 'random_state': 3, 'tol': None}\n",
      "0.806 (+/-0.087) for {'alpha': 0.001, 'loss': 'hinge', 'max_iter': 1000, 'penalty': 'l1', 'random_state': 3, 'tol': 0.001}\n",
      "0.797 (+/-0.133) for {'alpha': 0.001, 'loss': 'hinge', 'max_iter': 10000, 'penalty': 'l2', 'random_state': 3, 'tol': None}\n",
      "0.779 (+/-0.108) for {'alpha': 0.001, 'loss': 'hinge', 'max_iter': 10000, 'penalty': 'l2', 'random_state': 3, 'tol': 0.001}\n",
      "0.811 (+/-0.060) for {'alpha': 0.001, 'loss': 'hinge', 'max_iter': 10000, 'penalty': 'l1', 'random_state': 3, 'tol': None}\n",
      "0.806 (+/-0.087) for {'alpha': 0.001, 'loss': 'hinge', 'max_iter': 10000, 'penalty': 'l1', 'random_state': 3, 'tol': 0.001}\n",
      "0.784 (+/-0.101) for {'alpha': 0.001, 'loss': 'log', 'max_iter': 5, 'penalty': 'l2', 'random_state': 3, 'tol': None}\n",
      "0.784 (+/-0.101) for {'alpha': 0.001, 'loss': 'log', 'max_iter': 5, 'penalty': 'l2', 'random_state': 3, 'tol': 0.001}\n",
      "0.766 (+/-0.086) for {'alpha': 0.001, 'loss': 'log', 'max_iter': 5, 'penalty': 'l1', 'random_state': 3, 'tol': None}\n",
      "0.766 (+/-0.086) for {'alpha': 0.001, 'loss': 'log', 'max_iter': 5, 'penalty': 'l1', 'random_state': 3, 'tol': 0.001}\n",
      "0.793 (+/-0.097) for {'alpha': 0.001, 'loss': 'log', 'max_iter': 10, 'penalty': 'l2', 'random_state': 3, 'tol': None}\n",
      "0.793 (+/-0.097) for {'alpha': 0.001, 'loss': 'log', 'max_iter': 10, 'penalty': 'l2', 'random_state': 3, 'tol': 0.001}\n",
      "0.797 (+/-0.100) for {'alpha': 0.001, 'loss': 'log', 'max_iter': 10, 'penalty': 'l1', 'random_state': 3, 'tol': None}\n",
      "0.797 (+/-0.100) for {'alpha': 0.001, 'loss': 'log', 'max_iter': 10, 'penalty': 'l1', 'random_state': 3, 'tol': 0.001}\n",
      "0.829 (+/-0.126) for {'alpha': 0.001, 'loss': 'log', 'max_iter': 20, 'penalty': 'l2', 'random_state': 3, 'tol': None}\n",
      "0.802 (+/-0.139) for {'alpha': 0.001, 'loss': 'log', 'max_iter': 20, 'penalty': 'l2', 'random_state': 3, 'tol': 0.001}\n",
      "0.802 (+/-0.094) for {'alpha': 0.001, 'loss': 'log', 'max_iter': 20, 'penalty': 'l1', 'random_state': 3, 'tol': None}\n",
      "0.797 (+/-0.100) for {'alpha': 0.001, 'loss': 'log', 'max_iter': 20, 'penalty': 'l1', 'random_state': 3, 'tol': 0.001}\n",
      "0.815 (+/-0.118) for {'alpha': 0.001, 'loss': 'log', 'max_iter': 30, 'penalty': 'l2', 'random_state': 3, 'tol': None}\n",
      "0.802 (+/-0.139) for {'alpha': 0.001, 'loss': 'log', 'max_iter': 30, 'penalty': 'l2', 'random_state': 3, 'tol': 0.001}\n",
      "0.797 (+/-0.104) for {'alpha': 0.001, 'loss': 'log', 'max_iter': 30, 'penalty': 'l1', 'random_state': 3, 'tol': None}\n",
      "0.802 (+/-0.094) for {'alpha': 0.001, 'loss': 'log', 'max_iter': 30, 'penalty': 'l1', 'random_state': 3, 'tol': 0.001}\n",
      "0.820 (+/-0.133) for {'alpha': 0.001, 'loss': 'log', 'max_iter': 50, 'penalty': 'l2', 'random_state': 3, 'tol': None}\n",
      "0.802 (+/-0.139) for {'alpha': 0.001, 'loss': 'log', 'max_iter': 50, 'penalty': 'l2', 'random_state': 3, 'tol': 0.001}\n",
      "0.802 (+/-0.102) for {'alpha': 0.001, 'loss': 'log', 'max_iter': 50, 'penalty': 'l1', 'random_state': 3, 'tol': None}\n",
      "0.802 (+/-0.094) for {'alpha': 0.001, 'loss': 'log', 'max_iter': 50, 'penalty': 'l1', 'random_state': 3, 'tol': 0.001}\n",
      "0.802 (+/-0.128) for {'alpha': 0.001, 'loss': 'log', 'max_iter': 60, 'penalty': 'l2', 'random_state': 3, 'tol': None}\n",
      "0.802 (+/-0.139) for {'alpha': 0.001, 'loss': 'log', 'max_iter': 60, 'penalty': 'l2', 'random_state': 3, 'tol': 0.001}\n",
      "0.802 (+/-0.098) for {'alpha': 0.001, 'loss': 'log', 'max_iter': 60, 'penalty': 'l1', 'random_state': 3, 'tol': None}\n",
      "0.802 (+/-0.094) for {'alpha': 0.001, 'loss': 'log', 'max_iter': 60, 'penalty': 'l1', 'random_state': 3, 'tol': 0.001}\n",
      "0.806 (+/-0.111) for {'alpha': 0.001, 'loss': 'log', 'max_iter': 70, 'penalty': 'l2', 'random_state': 3, 'tol': None}\n",
      "0.802 (+/-0.139) for {'alpha': 0.001, 'loss': 'log', 'max_iter': 70, 'penalty': 'l2', 'random_state': 3, 'tol': 0.001}\n",
      "0.797 (+/-0.108) for {'alpha': 0.001, 'loss': 'log', 'max_iter': 70, 'penalty': 'l1', 'random_state': 3, 'tol': None}\n",
      "0.802 (+/-0.094) for {'alpha': 0.001, 'loss': 'log', 'max_iter': 70, 'penalty': 'l1', 'random_state': 3, 'tol': 0.001}\n",
      "0.815 (+/-0.118) for {'alpha': 0.001, 'loss': 'log', 'max_iter': 100, 'penalty': 'l2', 'random_state': 3, 'tol': None}\n",
      "0.802 (+/-0.139) for {'alpha': 0.001, 'loss': 'log', 'max_iter': 100, 'penalty': 'l2', 'random_state': 3, 'tol': 0.001}\n",
      "0.806 (+/-0.091) for {'alpha': 0.001, 'loss': 'log', 'max_iter': 100, 'penalty': 'l1', 'random_state': 3, 'tol': None}\n",
      "0.802 (+/-0.094) for {'alpha': 0.001, 'loss': 'log', 'max_iter': 100, 'penalty': 'l1', 'random_state': 3, 'tol': 0.001}\n",
      "0.815 (+/-0.118) for {'alpha': 0.001, 'loss': 'log', 'max_iter': 1000, 'penalty': 'l2', 'random_state': 3, 'tol': None}\n",
      "0.802 (+/-0.139) for {'alpha': 0.001, 'loss': 'log', 'max_iter': 1000, 'penalty': 'l2', 'random_state': 3, 'tol': 0.001}\n",
      "0.811 (+/-0.092) for {'alpha': 0.001, 'loss': 'log', 'max_iter': 1000, 'penalty': 'l1', 'random_state': 3, 'tol': None}\n",
      "0.802 (+/-0.094) for {'alpha': 0.001, 'loss': 'log', 'max_iter': 1000, 'penalty': 'l1', 'random_state': 3, 'tol': 0.001}\n",
      "0.815 (+/-0.118) for {'alpha': 0.001, 'loss': 'log', 'max_iter': 10000, 'penalty': 'l2', 'random_state': 3, 'tol': None}\n",
      "0.802 (+/-0.139) for {'alpha': 0.001, 'loss': 'log', 'max_iter': 10000, 'penalty': 'l2', 'random_state': 3, 'tol': 0.001}\n",
      "0.811 (+/-0.092) for {'alpha': 0.001, 'loss': 'log', 'max_iter': 10000, 'penalty': 'l1', 'random_state': 3, 'tol': None}\n",
      "0.802 (+/-0.094) for {'alpha': 0.001, 'loss': 'log', 'max_iter': 10000, 'penalty': 'l1', 'random_state': 3, 'tol': 0.001}\n",
      "0.770 (+/-0.101) for {'alpha': 0.1, 'loss': 'hinge', 'max_iter': 5, 'penalty': 'l2', 'random_state': 3, 'tol': None}\n",
      "0.770 (+/-0.101) for {'alpha': 0.1, 'loss': 'hinge', 'max_iter': 5, 'penalty': 'l2', 'random_state': 3, 'tol': 0.001}\n",
      "0.333 (+/-0.000) for {'alpha': 0.1, 'loss': 'hinge', 'max_iter': 5, 'penalty': 'l1', 'random_state': 3, 'tol': None}\n",
      "0.333 (+/-0.000) for {'alpha': 0.1, 'loss': 'hinge', 'max_iter': 5, 'penalty': 'l1', 'random_state': 3, 'tol': 0.001}\n",
      "0.761 (+/-0.119) for {'alpha': 0.1, 'loss': 'hinge', 'max_iter': 10, 'penalty': 'l2', 'random_state': 3, 'tol': None}\n",
      "0.761 (+/-0.119) for {'alpha': 0.1, 'loss': 'hinge', 'max_iter': 10, 'penalty': 'l2', 'random_state': 3, 'tol': 0.001}\n",
      "0.333 (+/-0.000) for {'alpha': 0.1, 'loss': 'hinge', 'max_iter': 10, 'penalty': 'l1', 'random_state': 3, 'tol': None}\n",
      "0.333 (+/-0.000) for {'alpha': 0.1, 'loss': 'hinge', 'max_iter': 10, 'penalty': 'l1', 'random_state': 3, 'tol': 0.001}\n",
      "0.784 (+/-0.100) for {'alpha': 0.1, 'loss': 'hinge', 'max_iter': 20, 'penalty': 'l2', 'random_state': 3, 'tol': None}\n",
      "0.797 (+/-0.087) for {'alpha': 0.1, 'loss': 'hinge', 'max_iter': 20, 'penalty': 'l2', 'random_state': 3, 'tol': 0.001}\n",
      "0.333 (+/-0.000) for {'alpha': 0.1, 'loss': 'hinge', 'max_iter': 20, 'penalty': 'l1', 'random_state': 3, 'tol': None}\n",
      "0.333 (+/-0.000) for {'alpha': 0.1, 'loss': 'hinge', 'max_iter': 20, 'penalty': 'l1', 'random_state': 3, 'tol': 0.001}\n",
      "0.793 (+/-0.074) for {'alpha': 0.1, 'loss': 'hinge', 'max_iter': 30, 'penalty': 'l2', 'random_state': 3, 'tol': None}\n",
      "0.797 (+/-0.087) for {'alpha': 0.1, 'loss': 'hinge', 'max_iter': 30, 'penalty': 'l2', 'random_state': 3, 'tol': 0.001}\n",
      "0.333 (+/-0.000) for {'alpha': 0.1, 'loss': 'hinge', 'max_iter': 30, 'penalty': 'l1', 'random_state': 3, 'tol': None}\n",
      "0.333 (+/-0.000) for {'alpha': 0.1, 'loss': 'hinge', 'max_iter': 30, 'penalty': 'l1', 'random_state': 3, 'tol': 0.001}\n",
      "0.788 (+/-0.072) for {'alpha': 0.1, 'loss': 'hinge', 'max_iter': 50, 'penalty': 'l2', 'random_state': 3, 'tol': None}\n",
      "0.797 (+/-0.087) for {'alpha': 0.1, 'loss': 'hinge', 'max_iter': 50, 'penalty': 'l2', 'random_state': 3, 'tol': 0.001}\n",
      "0.333 (+/-0.000) for {'alpha': 0.1, 'loss': 'hinge', 'max_iter': 50, 'penalty': 'l1', 'random_state': 3, 'tol': None}\n",
      "0.333 (+/-0.000) for {'alpha': 0.1, 'loss': 'hinge', 'max_iter': 50, 'penalty': 'l1', 'random_state': 3, 'tol': 0.001}\n",
      "0.793 (+/-0.087) for {'alpha': 0.1, 'loss': 'hinge', 'max_iter': 60, 'penalty': 'l2', 'random_state': 3, 'tol': None}\n",
      "0.797 (+/-0.087) for {'alpha': 0.1, 'loss': 'hinge', 'max_iter': 60, 'penalty': 'l2', 'random_state': 3, 'tol': 0.001}\n",
      "0.333 (+/-0.000) for {'alpha': 0.1, 'loss': 'hinge', 'max_iter': 60, 'penalty': 'l1', 'random_state': 3, 'tol': None}\n",
      "0.333 (+/-0.000) for {'alpha': 0.1, 'loss': 'hinge', 'max_iter': 60, 'penalty': 'l1', 'random_state': 3, 'tol': 0.001}\n",
      "0.788 (+/-0.072) for {'alpha': 0.1, 'loss': 'hinge', 'max_iter': 70, 'penalty': 'l2', 'random_state': 3, 'tol': None}\n",
      "0.797 (+/-0.087) for {'alpha': 0.1, 'loss': 'hinge', 'max_iter': 70, 'penalty': 'l2', 'random_state': 3, 'tol': 0.001}\n",
      "0.333 (+/-0.000) for {'alpha': 0.1, 'loss': 'hinge', 'max_iter': 70, 'penalty': 'l1', 'random_state': 3, 'tol': None}\n",
      "0.333 (+/-0.000) for {'alpha': 0.1, 'loss': 'hinge', 'max_iter': 70, 'penalty': 'l1', 'random_state': 3, 'tol': 0.001}\n",
      "0.788 (+/-0.074) for {'alpha': 0.1, 'loss': 'hinge', 'max_iter': 100, 'penalty': 'l2', 'random_state': 3, 'tol': None}\n",
      "0.797 (+/-0.087) for {'alpha': 0.1, 'loss': 'hinge', 'max_iter': 100, 'penalty': 'l2', 'random_state': 3, 'tol': 0.001}\n",
      "0.333 (+/-0.000) for {'alpha': 0.1, 'loss': 'hinge', 'max_iter': 100, 'penalty': 'l1', 'random_state': 3, 'tol': None}\n",
      "0.333 (+/-0.000) for {'alpha': 0.1, 'loss': 'hinge', 'max_iter': 100, 'penalty': 'l1', 'random_state': 3, 'tol': 0.001}\n",
      "0.788 (+/-0.072) for {'alpha': 0.1, 'loss': 'hinge', 'max_iter': 1000, 'penalty': 'l2', 'random_state': 3, 'tol': None}\n",
      "0.797 (+/-0.087) for {'alpha': 0.1, 'loss': 'hinge', 'max_iter': 1000, 'penalty': 'l2', 'random_state': 3, 'tol': 0.001}\n",
      "0.333 (+/-0.000) for {'alpha': 0.1, 'loss': 'hinge', 'max_iter': 1000, 'penalty': 'l1', 'random_state': 3, 'tol': None}\n",
      "0.333 (+/-0.000) for {'alpha': 0.1, 'loss': 'hinge', 'max_iter': 1000, 'penalty': 'l1', 'random_state': 3, 'tol': 0.001}\n",
      "0.788 (+/-0.072) for {'alpha': 0.1, 'loss': 'hinge', 'max_iter': 10000, 'penalty': 'l2', 'random_state': 3, 'tol': None}\n",
      "0.797 (+/-0.087) for {'alpha': 0.1, 'loss': 'hinge', 'max_iter': 10000, 'penalty': 'l2', 'random_state': 3, 'tol': 0.001}\n",
      "0.333 (+/-0.000) for {'alpha': 0.1, 'loss': 'hinge', 'max_iter': 10000, 'penalty': 'l1', 'random_state': 3, 'tol': None}\n",
      "0.333 (+/-0.000) for {'alpha': 0.1, 'loss': 'hinge', 'max_iter': 10000, 'penalty': 'l1', 'random_state': 3, 'tol': 0.001}\n",
      "0.779 (+/-0.113) for {'alpha': 0.1, 'loss': 'log', 'max_iter': 5, 'penalty': 'l2', 'random_state': 3, 'tol': None}\n",
      "0.779 (+/-0.113) for {'alpha': 0.1, 'loss': 'log', 'max_iter': 5, 'penalty': 'l2', 'random_state': 3, 'tol': 0.001}\n",
      "0.333 (+/-0.000) for {'alpha': 0.1, 'loss': 'log', 'max_iter': 5, 'penalty': 'l1', 'random_state': 3, 'tol': None}\n",
      "0.333 (+/-0.000) for {'alpha': 0.1, 'loss': 'log', 'max_iter': 5, 'penalty': 'l1', 'random_state': 3, 'tol': 0.001}\n",
      "0.779 (+/-0.089) for {'alpha': 0.1, 'loss': 'log', 'max_iter': 10, 'penalty': 'l2', 'random_state': 3, 'tol': None}\n",
      "0.770 (+/-0.104) for {'alpha': 0.1, 'loss': 'log', 'max_iter': 10, 'penalty': 'l2', 'random_state': 3, 'tol': 0.001}\n",
      "0.333 (+/-0.000) for {'alpha': 0.1, 'loss': 'log', 'max_iter': 10, 'penalty': 'l1', 'random_state': 3, 'tol': None}\n",
      "0.333 (+/-0.000) for {'alpha': 0.1, 'loss': 'log', 'max_iter': 10, 'penalty': 'l1', 'random_state': 3, 'tol': 0.001}\n",
      "0.775 (+/-0.129) for {'alpha': 0.1, 'loss': 'log', 'max_iter': 20, 'penalty': 'l2', 'random_state': 3, 'tol': None}\n",
      "0.770 (+/-0.104) for {'alpha': 0.1, 'loss': 'log', 'max_iter': 20, 'penalty': 'l2', 'random_state': 3, 'tol': 0.001}\n",
      "0.333 (+/-0.000) for {'alpha': 0.1, 'loss': 'log', 'max_iter': 20, 'penalty': 'l1', 'random_state': 3, 'tol': None}\n",
      "0.333 (+/-0.000) for {'alpha': 0.1, 'loss': 'log', 'max_iter': 20, 'penalty': 'l1', 'random_state': 3, 'tol': 0.001}\n",
      "0.770 (+/-0.119) for {'alpha': 0.1, 'loss': 'log', 'max_iter': 30, 'penalty': 'l2', 'random_state': 3, 'tol': None}\n",
      "0.770 (+/-0.104) for {'alpha': 0.1, 'loss': 'log', 'max_iter': 30, 'penalty': 'l2', 'random_state': 3, 'tol': 0.001}\n",
      "0.333 (+/-0.000) for {'alpha': 0.1, 'loss': 'log', 'max_iter': 30, 'penalty': 'l1', 'random_state': 3, 'tol': None}\n",
      "0.333 (+/-0.000) for {'alpha': 0.1, 'loss': 'log', 'max_iter': 30, 'penalty': 'l1', 'random_state': 3, 'tol': 0.001}\n",
      "0.770 (+/-0.119) for {'alpha': 0.1, 'loss': 'log', 'max_iter': 50, 'penalty': 'l2', 'random_state': 3, 'tol': None}\n",
      "0.770 (+/-0.104) for {'alpha': 0.1, 'loss': 'log', 'max_iter': 50, 'penalty': 'l2', 'random_state': 3, 'tol': 0.001}\n",
      "0.333 (+/-0.000) for {'alpha': 0.1, 'loss': 'log', 'max_iter': 50, 'penalty': 'l1', 'random_state': 3, 'tol': None}\n",
      "0.333 (+/-0.000) for {'alpha': 0.1, 'loss': 'log', 'max_iter': 50, 'penalty': 'l1', 'random_state': 3, 'tol': 0.001}\n",
      "0.770 (+/-0.119) for {'alpha': 0.1, 'loss': 'log', 'max_iter': 60, 'penalty': 'l2', 'random_state': 3, 'tol': None}\n",
      "0.770 (+/-0.104) for {'alpha': 0.1, 'loss': 'log', 'max_iter': 60, 'penalty': 'l2', 'random_state': 3, 'tol': 0.001}\n",
      "0.333 (+/-0.000) for {'alpha': 0.1, 'loss': 'log', 'max_iter': 60, 'penalty': 'l1', 'random_state': 3, 'tol': None}\n",
      "0.333 (+/-0.000) for {'alpha': 0.1, 'loss': 'log', 'max_iter': 60, 'penalty': 'l1', 'random_state': 3, 'tol': 0.001}\n",
      "0.770 (+/-0.119) for {'alpha': 0.1, 'loss': 'log', 'max_iter': 70, 'penalty': 'l2', 'random_state': 3, 'tol': None}\n",
      "0.770 (+/-0.104) for {'alpha': 0.1, 'loss': 'log', 'max_iter': 70, 'penalty': 'l2', 'random_state': 3, 'tol': 0.001}\n",
      "0.333 (+/-0.000) for {'alpha': 0.1, 'loss': 'log', 'max_iter': 70, 'penalty': 'l1', 'random_state': 3, 'tol': None}\n",
      "0.333 (+/-0.000) for {'alpha': 0.1, 'loss': 'log', 'max_iter': 70, 'penalty': 'l1', 'random_state': 3, 'tol': 0.001}\n",
      "0.770 (+/-0.119) for {'alpha': 0.1, 'loss': 'log', 'max_iter': 100, 'penalty': 'l2', 'random_state': 3, 'tol': None}\n",
      "0.770 (+/-0.104) for {'alpha': 0.1, 'loss': 'log', 'max_iter': 100, 'penalty': 'l2', 'random_state': 3, 'tol': 0.001}\n",
      "0.333 (+/-0.000) for {'alpha': 0.1, 'loss': 'log', 'max_iter': 100, 'penalty': 'l1', 'random_state': 3, 'tol': None}\n",
      "0.333 (+/-0.000) for {'alpha': 0.1, 'loss': 'log', 'max_iter': 100, 'penalty': 'l1', 'random_state': 3, 'tol': 0.001}\n",
      "0.770 (+/-0.119) for {'alpha': 0.1, 'loss': 'log', 'max_iter': 1000, 'penalty': 'l2', 'random_state': 3, 'tol': None}\n",
      "0.770 (+/-0.104) for {'alpha': 0.1, 'loss': 'log', 'max_iter': 1000, 'penalty': 'l2', 'random_state': 3, 'tol': 0.001}\n",
      "0.333 (+/-0.000) for {'alpha': 0.1, 'loss': 'log', 'max_iter': 1000, 'penalty': 'l1', 'random_state': 3, 'tol': None}\n",
      "0.333 (+/-0.000) for {'alpha': 0.1, 'loss': 'log', 'max_iter': 1000, 'penalty': 'l1', 'random_state': 3, 'tol': 0.001}\n",
      "0.770 (+/-0.119) for {'alpha': 0.1, 'loss': 'log', 'max_iter': 10000, 'penalty': 'l2', 'random_state': 3, 'tol': None}\n",
      "0.770 (+/-0.104) for {'alpha': 0.1, 'loss': 'log', 'max_iter': 10000, 'penalty': 'l2', 'random_state': 3, 'tol': 0.001}\n",
      "0.333 (+/-0.000) for {'alpha': 0.1, 'loss': 'log', 'max_iter': 10000, 'penalty': 'l1', 'random_state': 3, 'tol': None}\n",
      "0.333 (+/-0.000) for {'alpha': 0.1, 'loss': 'log', 'max_iter': 10000, 'penalty': 'l1', 'random_state': 3, 'tol': 0.001}\n",
      "0.595 (+/-0.343) for {'alpha': 1.0, 'loss': 'hinge', 'max_iter': 5, 'penalty': 'l2', 'random_state': 3, 'tol': None}\n",
      "0.595 (+/-0.343) for {'alpha': 1.0, 'loss': 'hinge', 'max_iter': 5, 'penalty': 'l2', 'random_state': 3, 'tol': 0.001}\n",
      "0.333 (+/-0.000) for {'alpha': 1.0, 'loss': 'hinge', 'max_iter': 5, 'penalty': 'l1', 'random_state': 3, 'tol': None}\n",
      "0.333 (+/-0.000) for {'alpha': 1.0, 'loss': 'hinge', 'max_iter': 5, 'penalty': 'l1', 'random_state': 3, 'tol': 0.001}\n",
      "0.658 (+/-0.353) for {'alpha': 1.0, 'loss': 'hinge', 'max_iter': 10, 'penalty': 'l2', 'random_state': 3, 'tol': None}\n",
      "0.653 (+/-0.367) for {'alpha': 1.0, 'loss': 'hinge', 'max_iter': 10, 'penalty': 'l2', 'random_state': 3, 'tol': 0.001}\n",
      "0.333 (+/-0.000) for {'alpha': 1.0, 'loss': 'hinge', 'max_iter': 10, 'penalty': 'l1', 'random_state': 3, 'tol': None}\n",
      "0.333 (+/-0.000) for {'alpha': 1.0, 'loss': 'hinge', 'max_iter': 10, 'penalty': 'l1', 'random_state': 3, 'tol': 0.001}\n",
      "0.775 (+/-0.130) for {'alpha': 1.0, 'loss': 'hinge', 'max_iter': 20, 'penalty': 'l2', 'random_state': 3, 'tol': None}\n",
      "0.757 (+/-0.150) for {'alpha': 1.0, 'loss': 'hinge', 'max_iter': 20, 'penalty': 'l2', 'random_state': 3, 'tol': 0.001}\n",
      "0.333 (+/-0.000) for {'alpha': 1.0, 'loss': 'hinge', 'max_iter': 20, 'penalty': 'l1', 'random_state': 3, 'tol': None}\n",
      "0.333 (+/-0.000) for {'alpha': 1.0, 'loss': 'hinge', 'max_iter': 20, 'penalty': 'l1', 'random_state': 3, 'tol': 0.001}\n",
      "0.779 (+/-0.088) for {'alpha': 1.0, 'loss': 'hinge', 'max_iter': 30, 'penalty': 'l2', 'random_state': 3, 'tol': None}\n",
      "0.757 (+/-0.150) for {'alpha': 1.0, 'loss': 'hinge', 'max_iter': 30, 'penalty': 'l2', 'random_state': 3, 'tol': 0.001}\n",
      "0.333 (+/-0.000) for {'alpha': 1.0, 'loss': 'hinge', 'max_iter': 30, 'penalty': 'l1', 'random_state': 3, 'tol': None}\n",
      "0.333 (+/-0.000) for {'alpha': 1.0, 'loss': 'hinge', 'max_iter': 30, 'penalty': 'l1', 'random_state': 3, 'tol': 0.001}\n",
      "0.779 (+/-0.073) for {'alpha': 1.0, 'loss': 'hinge', 'max_iter': 50, 'penalty': 'l2', 'random_state': 3, 'tol': None}\n",
      "0.757 (+/-0.150) for {'alpha': 1.0, 'loss': 'hinge', 'max_iter': 50, 'penalty': 'l2', 'random_state': 3, 'tol': 0.001}\n",
      "0.333 (+/-0.000) for {'alpha': 1.0, 'loss': 'hinge', 'max_iter': 50, 'penalty': 'l1', 'random_state': 3, 'tol': None}\n",
      "0.333 (+/-0.000) for {'alpha': 1.0, 'loss': 'hinge', 'max_iter': 50, 'penalty': 'l1', 'random_state': 3, 'tol': 0.001}\n",
      "0.788 (+/-0.076) for {'alpha': 1.0, 'loss': 'hinge', 'max_iter': 60, 'penalty': 'l2', 'random_state': 3, 'tol': None}\n",
      "0.757 (+/-0.150) for {'alpha': 1.0, 'loss': 'hinge', 'max_iter': 60, 'penalty': 'l2', 'random_state': 3, 'tol': 0.001}\n",
      "0.333 (+/-0.000) for {'alpha': 1.0, 'loss': 'hinge', 'max_iter': 60, 'penalty': 'l1', 'random_state': 3, 'tol': None}\n",
      "0.333 (+/-0.000) for {'alpha': 1.0, 'loss': 'hinge', 'max_iter': 60, 'penalty': 'l1', 'random_state': 3, 'tol': 0.001}\n",
      "0.788 (+/-0.072) for {'alpha': 1.0, 'loss': 'hinge', 'max_iter': 70, 'penalty': 'l2', 'random_state': 3, 'tol': None}\n",
      "0.757 (+/-0.150) for {'alpha': 1.0, 'loss': 'hinge', 'max_iter': 70, 'penalty': 'l2', 'random_state': 3, 'tol': 0.001}\n",
      "0.333 (+/-0.000) for {'alpha': 1.0, 'loss': 'hinge', 'max_iter': 70, 'penalty': 'l1', 'random_state': 3, 'tol': None}\n",
      "0.333 (+/-0.000) for {'alpha': 1.0, 'loss': 'hinge', 'max_iter': 70, 'penalty': 'l1', 'random_state': 3, 'tol': 0.001}\n",
      "0.784 (+/-0.071) for {'alpha': 1.0, 'loss': 'hinge', 'max_iter': 100, 'penalty': 'l2', 'random_state': 3, 'tol': None}\n",
      "0.757 (+/-0.150) for {'alpha': 1.0, 'loss': 'hinge', 'max_iter': 100, 'penalty': 'l2', 'random_state': 3, 'tol': 0.001}\n",
      "0.333 (+/-0.000) for {'alpha': 1.0, 'loss': 'hinge', 'max_iter': 100, 'penalty': 'l1', 'random_state': 3, 'tol': None}\n",
      "0.333 (+/-0.000) for {'alpha': 1.0, 'loss': 'hinge', 'max_iter': 100, 'penalty': 'l1', 'random_state': 3, 'tol': 0.001}\n",
      "0.788 (+/-0.072) for {'alpha': 1.0, 'loss': 'hinge', 'max_iter': 1000, 'penalty': 'l2', 'random_state': 3, 'tol': None}\n",
      "0.757 (+/-0.150) for {'alpha': 1.0, 'loss': 'hinge', 'max_iter': 1000, 'penalty': 'l2', 'random_state': 3, 'tol': 0.001}\n",
      "0.333 (+/-0.000) for {'alpha': 1.0, 'loss': 'hinge', 'max_iter': 1000, 'penalty': 'l1', 'random_state': 3, 'tol': None}\n",
      "0.333 (+/-0.000) for {'alpha': 1.0, 'loss': 'hinge', 'max_iter': 1000, 'penalty': 'l1', 'random_state': 3, 'tol': 0.001}\n",
      "0.788 (+/-0.072) for {'alpha': 1.0, 'loss': 'hinge', 'max_iter': 10000, 'penalty': 'l2', 'random_state': 3, 'tol': None}\n",
      "0.757 (+/-0.150) for {'alpha': 1.0, 'loss': 'hinge', 'max_iter': 10000, 'penalty': 'l2', 'random_state': 3, 'tol': 0.001}\n",
      "0.333 (+/-0.000) for {'alpha': 1.0, 'loss': 'hinge', 'max_iter': 10000, 'penalty': 'l1', 'random_state': 3, 'tol': None}\n",
      "0.333 (+/-0.000) for {'alpha': 1.0, 'loss': 'hinge', 'max_iter': 10000, 'penalty': 'l1', 'random_state': 3, 'tol': 0.001}\n",
      "0.333 (+/-0.000) for {'alpha': 1.0, 'loss': 'log', 'max_iter': 5, 'penalty': 'l2', 'random_state': 3, 'tol': None}\n",
      "0.333 (+/-0.000) for {'alpha': 1.0, 'loss': 'log', 'max_iter': 5, 'penalty': 'l2', 'random_state': 3, 'tol': 0.001}\n",
      "0.333 (+/-0.000) for {'alpha': 1.0, 'loss': 'log', 'max_iter': 5, 'penalty': 'l1', 'random_state': 3, 'tol': None}\n",
      "0.333 (+/-0.000) for {'alpha': 1.0, 'loss': 'log', 'max_iter': 5, 'penalty': 'l1', 'random_state': 3, 'tol': 0.001}\n",
      "0.333 (+/-0.000) for {'alpha': 1.0, 'loss': 'log', 'max_iter': 10, 'penalty': 'l2', 'random_state': 3, 'tol': None}\n",
      "0.333 (+/-0.000) for {'alpha': 1.0, 'loss': 'log', 'max_iter': 10, 'penalty': 'l2', 'random_state': 3, 'tol': 0.001}\n",
      "0.333 (+/-0.000) for {'alpha': 1.0, 'loss': 'log', 'max_iter': 10, 'penalty': 'l1', 'random_state': 3, 'tol': None}\n",
      "0.333 (+/-0.000) for {'alpha': 1.0, 'loss': 'log', 'max_iter': 10, 'penalty': 'l1', 'random_state': 3, 'tol': 0.001}\n",
      "0.333 (+/-0.000) for {'alpha': 1.0, 'loss': 'log', 'max_iter': 20, 'penalty': 'l2', 'random_state': 3, 'tol': None}\n",
      "0.333 (+/-0.000) for {'alpha': 1.0, 'loss': 'log', 'max_iter': 20, 'penalty': 'l2', 'random_state': 3, 'tol': 0.001}\n",
      "0.333 (+/-0.000) for {'alpha': 1.0, 'loss': 'log', 'max_iter': 20, 'penalty': 'l1', 'random_state': 3, 'tol': None}\n",
      "0.333 (+/-0.000) for {'alpha': 1.0, 'loss': 'log', 'max_iter': 20, 'penalty': 'l1', 'random_state': 3, 'tol': 0.001}\n",
      "0.333 (+/-0.000) for {'alpha': 1.0, 'loss': 'log', 'max_iter': 30, 'penalty': 'l2', 'random_state': 3, 'tol': None}\n",
      "0.333 (+/-0.000) for {'alpha': 1.0, 'loss': 'log', 'max_iter': 30, 'penalty': 'l2', 'random_state': 3, 'tol': 0.001}\n",
      "0.333 (+/-0.000) for {'alpha': 1.0, 'loss': 'log', 'max_iter': 30, 'penalty': 'l1', 'random_state': 3, 'tol': None}\n",
      "0.333 (+/-0.000) for {'alpha': 1.0, 'loss': 'log', 'max_iter': 30, 'penalty': 'l1', 'random_state': 3, 'tol': 0.001}\n",
      "0.333 (+/-0.000) for {'alpha': 1.0, 'loss': 'log', 'max_iter': 50, 'penalty': 'l2', 'random_state': 3, 'tol': None}\n",
      "0.333 (+/-0.000) for {'alpha': 1.0, 'loss': 'log', 'max_iter': 50, 'penalty': 'l2', 'random_state': 3, 'tol': 0.001}\n",
      "0.333 (+/-0.000) for {'alpha': 1.0, 'loss': 'log', 'max_iter': 50, 'penalty': 'l1', 'random_state': 3, 'tol': None}\n",
      "0.333 (+/-0.000) for {'alpha': 1.0, 'loss': 'log', 'max_iter': 50, 'penalty': 'l1', 'random_state': 3, 'tol': 0.001}\n",
      "0.333 (+/-0.000) for {'alpha': 1.0, 'loss': 'log', 'max_iter': 60, 'penalty': 'l2', 'random_state': 3, 'tol': None}\n",
      "0.333 (+/-0.000) for {'alpha': 1.0, 'loss': 'log', 'max_iter': 60, 'penalty': 'l2', 'random_state': 3, 'tol': 0.001}\n",
      "0.333 (+/-0.000) for {'alpha': 1.0, 'loss': 'log', 'max_iter': 60, 'penalty': 'l1', 'random_state': 3, 'tol': None}\n",
      "0.333 (+/-0.000) for {'alpha': 1.0, 'loss': 'log', 'max_iter': 60, 'penalty': 'l1', 'random_state': 3, 'tol': 0.001}\n",
      "0.333 (+/-0.000) for {'alpha': 1.0, 'loss': 'log', 'max_iter': 70, 'penalty': 'l2', 'random_state': 3, 'tol': None}\n",
      "0.333 (+/-0.000) for {'alpha': 1.0, 'loss': 'log', 'max_iter': 70, 'penalty': 'l2', 'random_state': 3, 'tol': 0.001}\n",
      "0.333 (+/-0.000) for {'alpha': 1.0, 'loss': 'log', 'max_iter': 70, 'penalty': 'l1', 'random_state': 3, 'tol': None}\n",
      "0.333 (+/-0.000) for {'alpha': 1.0, 'loss': 'log', 'max_iter': 70, 'penalty': 'l1', 'random_state': 3, 'tol': 0.001}\n",
      "0.333 (+/-0.000) for {'alpha': 1.0, 'loss': 'log', 'max_iter': 100, 'penalty': 'l2', 'random_state': 3, 'tol': None}\n",
      "0.333 (+/-0.000) for {'alpha': 1.0, 'loss': 'log', 'max_iter': 100, 'penalty': 'l2', 'random_state': 3, 'tol': 0.001}\n",
      "0.333 (+/-0.000) for {'alpha': 1.0, 'loss': 'log', 'max_iter': 100, 'penalty': 'l1', 'random_state': 3, 'tol': None}\n",
      "0.333 (+/-0.000) for {'alpha': 1.0, 'loss': 'log', 'max_iter': 100, 'penalty': 'l1', 'random_state': 3, 'tol': 0.001}\n",
      "0.333 (+/-0.000) for {'alpha': 1.0, 'loss': 'log', 'max_iter': 1000, 'penalty': 'l2', 'random_state': 3, 'tol': None}\n",
      "0.333 (+/-0.000) for {'alpha': 1.0, 'loss': 'log', 'max_iter': 1000, 'penalty': 'l2', 'random_state': 3, 'tol': 0.001}\n",
      "0.333 (+/-0.000) for {'alpha': 1.0, 'loss': 'log', 'max_iter': 1000, 'penalty': 'l1', 'random_state': 3, 'tol': None}\n",
      "0.333 (+/-0.000) for {'alpha': 1.0, 'loss': 'log', 'max_iter': 1000, 'penalty': 'l1', 'random_state': 3, 'tol': 0.001}\n",
      "0.342 (+/-0.036) for {'alpha': 1.0, 'loss': 'log', 'max_iter': 10000, 'penalty': 'l2', 'random_state': 3, 'tol': None}\n",
      "0.333 (+/-0.000) for {'alpha': 1.0, 'loss': 'log', 'max_iter': 10000, 'penalty': 'l2', 'random_state': 3, 'tol': 0.001}\n",
      "0.333 (+/-0.000) for {'alpha': 1.0, 'loss': 'log', 'max_iter': 10000, 'penalty': 'l1', 'random_state': 3, 'tol': None}\n",
      "0.333 (+/-0.000) for {'alpha': 1.0, 'loss': 'log', 'max_iter': 10000, 'penalty': 'l1', 'random_state': 3, 'tol': 0.001}\n",
      "0.761 (+/-0.100) for {'alpha': 0.0001, 'loss': 'hinge', 'max_iter': 5, 'penalty': 'l2', 'random_state': 3, 'tol': None}\n",
      "0.761 (+/-0.100) for {'alpha': 0.0001, 'loss': 'hinge', 'max_iter': 5, 'penalty': 'l2', 'random_state': 3, 'tol': 0.001}\n",
      "0.788 (+/-0.153) for {'alpha': 0.0001, 'loss': 'hinge', 'max_iter': 5, 'penalty': 'l1', 'random_state': 3, 'tol': None}\n",
      "0.788 (+/-0.153) for {'alpha': 0.0001, 'loss': 'hinge', 'max_iter': 5, 'penalty': 'l1', 'random_state': 3, 'tol': 0.001}\n",
      "0.811 (+/-0.125) for {'alpha': 0.0001, 'loss': 'hinge', 'max_iter': 10, 'penalty': 'l2', 'random_state': 3, 'tol': None}\n",
      "0.811 (+/-0.125) for {'alpha': 0.0001, 'loss': 'hinge', 'max_iter': 10, 'penalty': 'l2', 'random_state': 3, 'tol': 0.001}\n",
      "0.806 (+/-0.110) for {'alpha': 0.0001, 'loss': 'hinge', 'max_iter': 10, 'penalty': 'l1', 'random_state': 3, 'tol': None}\n",
      "0.806 (+/-0.110) for {'alpha': 0.0001, 'loss': 'hinge', 'max_iter': 10, 'penalty': 'l1', 'random_state': 3, 'tol': 0.001}\n",
      "0.811 (+/-0.134) for {'alpha': 0.0001, 'loss': 'hinge', 'max_iter': 20, 'penalty': 'l2', 'random_state': 3, 'tol': None}\n",
      "0.793 (+/-0.124) for {'alpha': 0.0001, 'loss': 'hinge', 'max_iter': 20, 'penalty': 'l2', 'random_state': 3, 'tol': 0.001}\n",
      "0.788 (+/-0.108) for {'alpha': 0.0001, 'loss': 'hinge', 'max_iter': 20, 'penalty': 'l1', 'random_state': 3, 'tol': None}\n",
      "0.779 (+/-0.117) for {'alpha': 0.0001, 'loss': 'hinge', 'max_iter': 20, 'penalty': 'l1', 'random_state': 3, 'tol': 0.001}\n",
      "0.815 (+/-0.100) for {'alpha': 0.0001, 'loss': 'hinge', 'max_iter': 30, 'penalty': 'l2', 'random_state': 3, 'tol': None}\n",
      "0.793 (+/-0.124) for {'alpha': 0.0001, 'loss': 'hinge', 'max_iter': 30, 'penalty': 'l2', 'random_state': 3, 'tol': 0.001}\n",
      "0.793 (+/-0.116) for {'alpha': 0.0001, 'loss': 'hinge', 'max_iter': 30, 'penalty': 'l1', 'random_state': 3, 'tol': None}\n",
      "0.784 (+/-0.115) for {'alpha': 0.0001, 'loss': 'hinge', 'max_iter': 30, 'penalty': 'l1', 'random_state': 3, 'tol': 0.001}\n",
      "0.802 (+/-0.127) for {'alpha': 0.0001, 'loss': 'hinge', 'max_iter': 50, 'penalty': 'l2', 'random_state': 3, 'tol': None}\n",
      "0.793 (+/-0.124) for {'alpha': 0.0001, 'loss': 'hinge', 'max_iter': 50, 'penalty': 'l2', 'random_state': 3, 'tol': 0.001}\n",
      "0.793 (+/-0.104) for {'alpha': 0.0001, 'loss': 'hinge', 'max_iter': 50, 'penalty': 'l1', 'random_state': 3, 'tol': None}\n",
      "0.788 (+/-0.108) for {'alpha': 0.0001, 'loss': 'hinge', 'max_iter': 50, 'penalty': 'l1', 'random_state': 3, 'tol': 0.001}\n",
      "0.793 (+/-0.132) for {'alpha': 0.0001, 'loss': 'hinge', 'max_iter': 60, 'penalty': 'l2', 'random_state': 3, 'tol': None}\n",
      "0.793 (+/-0.124) for {'alpha': 0.0001, 'loss': 'hinge', 'max_iter': 60, 'penalty': 'l2', 'random_state': 3, 'tol': 0.001}\n",
      "0.802 (+/-0.085) for {'alpha': 0.0001, 'loss': 'hinge', 'max_iter': 60, 'penalty': 'l1', 'random_state': 3, 'tol': None}\n",
      "0.788 (+/-0.108) for {'alpha': 0.0001, 'loss': 'hinge', 'max_iter': 60, 'penalty': 'l1', 'random_state': 3, 'tol': 0.001}\n",
      "0.802 (+/-0.112) for {'alpha': 0.0001, 'loss': 'hinge', 'max_iter': 70, 'penalty': 'l2', 'random_state': 3, 'tol': None}\n",
      "0.793 (+/-0.124) for {'alpha': 0.0001, 'loss': 'hinge', 'max_iter': 70, 'penalty': 'l2', 'random_state': 3, 'tol': 0.001}\n",
      "0.802 (+/-0.067) for {'alpha': 0.0001, 'loss': 'hinge', 'max_iter': 70, 'penalty': 'l1', 'random_state': 3, 'tol': None}\n",
      "0.788 (+/-0.108) for {'alpha': 0.0001, 'loss': 'hinge', 'max_iter': 70, 'penalty': 'l1', 'random_state': 3, 'tol': 0.001}\n",
      "0.811 (+/-0.125) for {'alpha': 0.0001, 'loss': 'hinge', 'max_iter': 100, 'penalty': 'l2', 'random_state': 3, 'tol': None}\n",
      "0.793 (+/-0.124) for {'alpha': 0.0001, 'loss': 'hinge', 'max_iter': 100, 'penalty': 'l2', 'random_state': 3, 'tol': 0.001}\n",
      "0.802 (+/-0.067) for {'alpha': 0.0001, 'loss': 'hinge', 'max_iter': 100, 'penalty': 'l1', 'random_state': 3, 'tol': None}\n",
      "0.788 (+/-0.108) for {'alpha': 0.0001, 'loss': 'hinge', 'max_iter': 100, 'penalty': 'l1', 'random_state': 3, 'tol': 0.001}\n",
      "0.793 (+/-0.142) for {'alpha': 0.0001, 'loss': 'hinge', 'max_iter': 1000, 'penalty': 'l2', 'random_state': 3, 'tol': None}\n",
      "0.793 (+/-0.124) for {'alpha': 0.0001, 'loss': 'hinge', 'max_iter': 1000, 'penalty': 'l2', 'random_state': 3, 'tol': 0.001}\n",
      "0.793 (+/-0.100) for {'alpha': 0.0001, 'loss': 'hinge', 'max_iter': 1000, 'penalty': 'l1', 'random_state': 3, 'tol': None}\n",
      "0.788 (+/-0.108) for {'alpha': 0.0001, 'loss': 'hinge', 'max_iter': 1000, 'penalty': 'l1', 'random_state': 3, 'tol': 0.001}\n",
      "0.784 (+/-0.158) for {'alpha': 0.0001, 'loss': 'hinge', 'max_iter': 10000, 'penalty': 'l2', 'random_state': 3, 'tol': None}\n",
      "0.793 (+/-0.124) for {'alpha': 0.0001, 'loss': 'hinge', 'max_iter': 10000, 'penalty': 'l2', 'random_state': 3, 'tol': 0.001}\n",
      "0.802 (+/-0.085) for {'alpha': 0.0001, 'loss': 'hinge', 'max_iter': 10000, 'penalty': 'l1', 'random_state': 3, 'tol': None}\n",
      "0.788 (+/-0.108) for {'alpha': 0.0001, 'loss': 'hinge', 'max_iter': 10000, 'penalty': 'l1', 'random_state': 3, 'tol': 0.001}\n",
      "0.802 (+/-0.144) for {'alpha': 0.0001, 'loss': 'log', 'max_iter': 5, 'penalty': 'l2', 'random_state': 3, 'tol': None}\n",
      "0.802 (+/-0.144) for {'alpha': 0.0001, 'loss': 'log', 'max_iter': 5, 'penalty': 'l2', 'random_state': 3, 'tol': 0.001}\n",
      "0.806 (+/-0.111) for {'alpha': 0.0001, 'loss': 'log', 'max_iter': 5, 'penalty': 'l1', 'random_state': 3, 'tol': None}\n",
      "0.806 (+/-0.111) for {'alpha': 0.0001, 'loss': 'log', 'max_iter': 5, 'penalty': 'l1', 'random_state': 3, 'tol': 0.001}\n",
      "0.811 (+/-0.108) for {'alpha': 0.0001, 'loss': 'log', 'max_iter': 10, 'penalty': 'l2', 'random_state': 3, 'tol': None}\n",
      "0.811 (+/-0.108) for {'alpha': 0.0001, 'loss': 'log', 'max_iter': 10, 'penalty': 'l2', 'random_state': 3, 'tol': 0.001}\n",
      "0.806 (+/-0.091) for {'alpha': 0.0001, 'loss': 'log', 'max_iter': 10, 'penalty': 'l1', 'random_state': 3, 'tol': None}\n",
      "0.811 (+/-0.083) for {'alpha': 0.0001, 'loss': 'log', 'max_iter': 10, 'penalty': 'l1', 'random_state': 3, 'tol': 0.001}\n",
      "0.820 (+/-0.108) for {'alpha': 0.0001, 'loss': 'log', 'max_iter': 20, 'penalty': 'l2', 'random_state': 3, 'tol': None}\n",
      "0.797 (+/-0.146) for {'alpha': 0.0001, 'loss': 'log', 'max_iter': 20, 'penalty': 'l2', 'random_state': 3, 'tol': 0.001}\n",
      "0.806 (+/-0.101) for {'alpha': 0.0001, 'loss': 'log', 'max_iter': 20, 'penalty': 'l1', 'random_state': 3, 'tol': None}\n",
      "0.784 (+/-0.111) for {'alpha': 0.0001, 'loss': 'log', 'max_iter': 20, 'penalty': 'l1', 'random_state': 3, 'tol': 0.001}\n",
      "0.820 (+/-0.114) for {'alpha': 0.0001, 'loss': 'log', 'max_iter': 30, 'penalty': 'l2', 'random_state': 3, 'tol': None}\n",
      "0.797 (+/-0.146) for {'alpha': 0.0001, 'loss': 'log', 'max_iter': 30, 'penalty': 'l2', 'random_state': 3, 'tol': 0.001}\n",
      "0.811 (+/-0.094) for {'alpha': 0.0001, 'loss': 'log', 'max_iter': 30, 'penalty': 'l1', 'random_state': 3, 'tol': None}\n",
      "0.788 (+/-0.113) for {'alpha': 0.0001, 'loss': 'log', 'max_iter': 30, 'penalty': 'l1', 'random_state': 3, 'tol': 0.001}\n",
      "0.811 (+/-0.113) for {'alpha': 0.0001, 'loss': 'log', 'max_iter': 50, 'penalty': 'l2', 'random_state': 3, 'tol': None}\n",
      "0.797 (+/-0.146) for {'alpha': 0.0001, 'loss': 'log', 'max_iter': 50, 'penalty': 'l2', 'random_state': 3, 'tol': 0.001}\n",
      "0.806 (+/-0.091) for {'alpha': 0.0001, 'loss': 'log', 'max_iter': 50, 'penalty': 'l1', 'random_state': 3, 'tol': None}\n",
      "0.788 (+/-0.113) for {'alpha': 0.0001, 'loss': 'log', 'max_iter': 50, 'penalty': 'l1', 'random_state': 3, 'tol': 0.001}\n",
      "0.806 (+/-0.134) for {'alpha': 0.0001, 'loss': 'log', 'max_iter': 60, 'penalty': 'l2', 'random_state': 3, 'tol': None}\n",
      "0.797 (+/-0.146) for {'alpha': 0.0001, 'loss': 'log', 'max_iter': 60, 'penalty': 'l2', 'random_state': 3, 'tol': 0.001}\n",
      "0.806 (+/-0.091) for {'alpha': 0.0001, 'loss': 'log', 'max_iter': 60, 'penalty': 'l1', 'random_state': 3, 'tol': None}\n",
      "0.788 (+/-0.113) for {'alpha': 0.0001, 'loss': 'log', 'max_iter': 60, 'penalty': 'l1', 'random_state': 3, 'tol': 0.001}\n",
      "0.815 (+/-0.084) for {'alpha': 0.0001, 'loss': 'log', 'max_iter': 70, 'penalty': 'l2', 'random_state': 3, 'tol': None}\n",
      "0.797 (+/-0.146) for {'alpha': 0.0001, 'loss': 'log', 'max_iter': 70, 'penalty': 'l2', 'random_state': 3, 'tol': 0.001}\n",
      "0.811 (+/-0.083) for {'alpha': 0.0001, 'loss': 'log', 'max_iter': 70, 'penalty': 'l1', 'random_state': 3, 'tol': None}\n",
      "0.788 (+/-0.113) for {'alpha': 0.0001, 'loss': 'log', 'max_iter': 70, 'penalty': 'l1', 'random_state': 3, 'tol': 0.001}\n",
      "0.815 (+/-0.100) for {'alpha': 0.0001, 'loss': 'log', 'max_iter': 100, 'penalty': 'l2', 'random_state': 3, 'tol': None}\n",
      "0.797 (+/-0.146) for {'alpha': 0.0001, 'loss': 'log', 'max_iter': 100, 'penalty': 'l2', 'random_state': 3, 'tol': 0.001}\n",
      "0.811 (+/-0.060) for {'alpha': 0.0001, 'loss': 'log', 'max_iter': 100, 'penalty': 'l1', 'random_state': 3, 'tol': None}\n",
      "0.788 (+/-0.113) for {'alpha': 0.0001, 'loss': 'log', 'max_iter': 100, 'penalty': 'l1', 'random_state': 3, 'tol': 0.001}\n",
      "0.815 (+/-0.118) for {'alpha': 0.0001, 'loss': 'log', 'max_iter': 1000, 'penalty': 'l2', 'random_state': 3, 'tol': None}\n",
      "0.797 (+/-0.146) for {'alpha': 0.0001, 'loss': 'log', 'max_iter': 1000, 'penalty': 'l2', 'random_state': 3, 'tol': 0.001}\n",
      "0.806 (+/-0.087) for {'alpha': 0.0001, 'loss': 'log', 'max_iter': 1000, 'penalty': 'l1', 'random_state': 3, 'tol': None}\n",
      "0.788 (+/-0.113) for {'alpha': 0.0001, 'loss': 'log', 'max_iter': 1000, 'penalty': 'l1', 'random_state': 3, 'tol': 0.001}\n",
      "0.815 (+/-0.118) for {'alpha': 0.0001, 'loss': 'log', 'max_iter': 10000, 'penalty': 'l2', 'random_state': 3, 'tol': None}\n",
      "0.797 (+/-0.146) for {'alpha': 0.0001, 'loss': 'log', 'max_iter': 10000, 'penalty': 'l2', 'random_state': 3, 'tol': 0.001}\n",
      "0.820 (+/-0.064) for {'alpha': 0.0001, 'loss': 'log', 'max_iter': 10000, 'penalty': 'l1', 'random_state': 3, 'tol': None}\n",
      "0.788 (+/-0.113) for {'alpha': 0.0001, 'loss': 'log', 'max_iter': 10000, 'penalty': 'l1', 'random_state': 3, 'tol': 0.001}\n"
     ]
    }
   ],
   "source": [
    "means = sgd_best_model.cv_results_['mean_test_score']\n",
    "stds = sgd_best_model.cv_results_['std_test_score']\n",
    "for mean, std, params in zip(means, stds, sgd_best_model.cv_results_['params']):\n",
    "    print(\"%0.3f (+/-%0.03f) for %r\"% (mean, std * 2, params))"
   ]
  },
  {
   "cell_type": "code",
   "execution_count": 46,
   "metadata": {},
   "outputs": [
    {
     "name": "stdout",
     "output_type": "stream",
     "text": [
      "Fitting 5 folds for each of 22 candidates, totalling 110 fits\n"
     ]
    },
    {
     "name": "stderr",
     "output_type": "stream",
     "text": [
      "[Parallel(n_jobs=-1)]: Using backend LokyBackend with 8 concurrent workers.\n"
     ]
    },
    {
     "name": "stdout",
     "output_type": "stream",
     "text": [
      "Logistic GridSearchCV best score : 81.53%, best_params : {'C': 100.0, 'multi_class': 'multinomial', 'penalty': 'l2', 'solver': 'lbfgs'}\n"
     ]
    },
    {
     "name": "stderr",
     "output_type": "stream",
     "text": [
      "[Parallel(n_jobs=-1)]: Done 110 out of 110 | elapsed:    0.9s finished\n"
     ]
    }
   ],
   "source": [
    "## LogisticRegression\n",
    "# LogisticRegression(penalty=’l2’, dual=False, tol=0.0001, C=1.0, fit_intercept=True, intercept_scaling=1, class_weight=None, random_state=None, solver=’warn’, max_iter=100, multi_class=’warn’, verbose=0, warm_start=False, n_jobs=None, l1_ratio=None)\n",
    "\n",
    "\n",
    "params = {\"solver\" : ['lbfgs', 'newton-cg'],\n",
    "          \"C\":[1e-4, 1e-3, 1e-2, 1e-1, 1e0, 1e1, 1e2, 1e3, 1e4, 1e5, 1e6],\n",
    "          \"penalty\":[\"l2\"],\n",
    "          'multi_class': ['multinomial']}\n",
    "\n",
    "\n",
    "Logisticgridsearch = GridSearchCV(LogisticRegression(), params,\n",
    "                     cv=5,\n",
    "                     verbose=1,\n",
    "                     n_jobs=-1)\n",
    "\n",
    "Logistic_model = Logisticgridsearch.fit(X_sampled, y_sampled)\n",
    "print('Logistic GridSearchCV best score : {:.2f}%, best_params : {}'.format(Logisticgridsearch.best_score_*100, Logisticgridsearch.best_params_))\n"
   ]
  },
  {
   "cell_type": "code",
   "execution_count": 47,
   "metadata": {},
   "outputs": [
    {
     "name": "stdout",
     "output_type": "stream",
     "text": [
      "Logistic GridSearchCV best score : 81.53%, best_params : {'C': 100.0, 'multi_class': 'multinomial', 'penalty': 'l2', 'solver': 'lbfgs'}\n"
     ]
    }
   ],
   "source": [
    "## LinearSVC\n",
    "\n",
    "params_grid = [{'kernel': ['rbf'], 'gamma': [1e-1, 1e-2, 1e-3, 1e-4, 1e-5],\n",
    "                     'C': [1, 10, 100, 1000]},\n",
    "                    {'kernel': ['linear'], 'C': [1, 10, 100, 1000, 1500]}]\n",
    "svm_model = GridSearchCV(SVC(), params_grid, cv=5)\n",
    "svm_model.fit(X_resampled, y_resampled)\n",
    "print('Logistic GridSearchCV best score : {:.2f}%, best_params : {}'.format(Logisticgridsearch.best_score_*100, Logisticgridsearch.best_params_))\n"
   ]
  },
  {
   "cell_type": "code",
   "execution_count": 48,
   "metadata": {},
   "outputs": [
    {
     "name": "stdout",
     "output_type": "stream",
     "text": [
      "Fitting 3 folds for each of 784 candidates, totalling 2352 fits\n"
     ]
    },
    {
     "name": "stderr",
     "output_type": "stream",
     "text": [
      "[Parallel(n_jobs=-1)]: Using backend LokyBackend with 8 concurrent workers.\n",
      "[Parallel(n_jobs=-1)]: Done  34 tasks      | elapsed:    6.2s\n",
      "[Parallel(n_jobs=-1)]: Done 184 tasks      | elapsed:   32.2s\n",
      "[Parallel(n_jobs=-1)]: Done 434 tasks      | elapsed:  1.3min\n",
      "[Parallel(n_jobs=-1)]: Done 784 tasks      | elapsed:  2.3min\n",
      "[Parallel(n_jobs=-1)]: Done 1234 tasks      | elapsed:  3.7min\n",
      "[Parallel(n_jobs=-1)]: Done 1784 tasks      | elapsed:  5.6min\n",
      "[Parallel(n_jobs=-1)]: Done 2352 out of 2352 | elapsed:  7.6min finished\n"
     ]
    },
    {
     "name": "stdout",
     "output_type": "stream",
     "text": [
      "GridSearchCV best score : 81.08%, best_params : {'bootstrap': False, 'max_depth': 20, 'max_features': 'auto', 'min_samples_leaf': 1, 'n_estimators': 100, 'random_state': 3}\n"
     ]
    }
   ],
   "source": [
    "## RandomForestClassifier\n",
    "# randomForestClassifier(n_estimators=’warn’, criterion=’gini’, max_depth=None, min_samples_split=2, min_samples_leaf=1, min_weight_fraction_leaf=0.0, max_features=’auto’, max_leaf_nodes=None, min_impurity_decrease=0.0, min_impurity_split=None, bootstrap=True, oob_score=False, n_jobs=None, random_state=None, verbose=0, warm_start=False, class_weight=None)\n",
    "\n",
    "bootstrap = [True, False]\n",
    "max_depth = [5,10,20,30, 50, 100, None]\n",
    "max_features = ['auto', 'sqrt']\n",
    "min_samples_leaf = [1, 2, 3, 4]\n",
    "min_samples_split = [2, 5, 10]\n",
    "n_estimators = [50, 100, 200, 300, 500 ,600, 800]\n",
    "random_state = [3]\n",
    "\n",
    "params = dict(bootstrap = bootstrap,\n",
    "              max_depth = max_depth,\n",
    "              max_features = max_features,\n",
    "              min_samples_leaf = min_samples_leaf,\n",
    "              n_estimators = n_estimators,\n",
    "              random_state=random_state)\n",
    "\n",
    "rfgridsearch = GridSearchCV(RandomForestClassifier(),\n",
    "                          params, \n",
    "                          cv=3,\n",
    "                          verbose=1, \n",
    "                          n_jobs=-1)\n",
    "\n",
    "rf_best_model = rfgridsearch.fit(X_sampled, y_sampled)\n",
    "print('GridSearchCV best score : {:.2f}%, best_params : {}'.format(rfgridsearch.best_score_*100, rfgridsearch.best_params_))"
   ]
  },
  {
   "cell_type": "code",
   "execution_count": 49,
   "metadata": {},
   "outputs": [
    {
     "name": "stdout",
     "output_type": "stream",
     "text": [
      "Fitting 3 folds for each of 384 candidates, totalling 1152 fits\n"
     ]
    },
    {
     "name": "stderr",
     "output_type": "stream",
     "text": [
      "[Parallel(n_jobs=-1)]: Using backend LokyBackend with 8 concurrent workers.\n",
      "[Parallel(n_jobs=-1)]: Done 268 tasks      | elapsed:    0.9s\n"
     ]
    },
    {
     "name": "stdout",
     "output_type": "stream",
     "text": [
      "DecisionTree GridSearchCV best score : 62.61%, best_params : {'criterion': 'entropy', 'min_samples_leaf': 9, 'min_samples_split': 15}\n"
     ]
    },
    {
     "name": "stderr",
     "output_type": "stream",
     "text": [
      "[Parallel(n_jobs=-1)]: Done 1152 out of 1152 | elapsed:    4.4s finished\n"
     ]
    }
   ],
   "source": [
    "## DecisionTreeClassifier## extra tree\n",
    "# DecisionTreeClassifier(criterion=’gini’, splitter=’best’, max_depth=None, min_samples_split=2, min_samples_leaf=1, min_weight_fraction_leaf=0.0, max_features=None, random_state=None, max_leaf_nodes=None, min_impurity_decrease=0.0, min_impurity_split=None, class_weight=None, presort=False)\n",
    "\n",
    "params = {'criterion': [\"gini\", 'entropy'],\n",
    "          'min_samples_split':[2,3,5,10,12,15,17,20,25,30,35,40],\n",
    "          'min_samples_leaf':[1,2,3,4,5,7,9,10,13,15,17,20,23,25,27,30]}\n",
    "\n",
    "DecisionTree_gridsearch = GridSearchCV(DecisionTreeClassifier(), \n",
    "                                       params, \n",
    "                                       cv=3,\n",
    "                                       verbose=1, \n",
    "                                       n_jobs=-1)\n",
    "\n",
    "DecisionTree_best_model = DecisionTree_gridsearch.fit(X_sampled, y_sampled)\n",
    "print('DecisionTree GridSearchCV best score : {:.2f}%, best_params : {}'.format(DecisionTree_gridsearch.best_score_*100, DecisionTree_gridsearch.best_params_))"
   ]
  },
  {
   "cell_type": "code",
   "execution_count": 50,
   "metadata": {},
   "outputs": [
    {
     "name": "stdout",
     "output_type": "stream",
     "text": [
      "Fitting 3 folds for each of 294 candidates, totalling 882 fits\n"
     ]
    },
    {
     "name": "stderr",
     "output_type": "stream",
     "text": [
      "[Parallel(n_jobs=-1)]: Using backend LokyBackend with 8 concurrent workers.\n",
      "[Parallel(n_jobs=-1)]: Done  43 tasks      | elapsed:    7.5s\n",
      "[Parallel(n_jobs=-1)]: Done 196 tasks      | elapsed:   35.0s\n",
      "[Parallel(n_jobs=-1)]: Done 446 tasks      | elapsed:  1.6min\n",
      "[Parallel(n_jobs=-1)]: Done 796 tasks      | elapsed:  3.2min\n",
      "[Parallel(n_jobs=-1)]: Done 882 out of 882 | elapsed:  3.7min finished\n"
     ]
    },
    {
     "name": "stdout",
     "output_type": "stream",
     "text": [
      "extra tree GridSearchCV best score : 77.48%, best_params : {'max_depth': 3, 'min_samples_split': 15, 'n_estimators': 200}\n"
     ]
    }
   ],
   "source": [
    "## GradientBoostingClassifier\n",
    "# GradientBoostingClassifier(loss=’deviance’, learning_rate=0.1, n_estimators=100, subsample=1.0, criterion=’friedman_mse’, min_samples_split=2, min_samples_leaf=1, min_weight_fraction_leaf=0.0, max_depth=3, min_impurity_decrease=0.0, min_impurity_split=None, init=None, random_state=None, max_features=None, verbose=0, max_leaf_nodes=None, warm_start=False, presort=’auto’, validation_fraction=0.1, n_iter_no_change=None, tol=0.0001)[source]\n",
    "\n",
    "from sklearn.ensemble import GradientBoostingClassifier\n",
    "\n",
    "gb = GradientBoostingClassifier()\n",
    "params = {'n_estimators' : [10, 20, 30, 50, 100, 150, 200],\n",
    "          'max_depth': [3, 5,10,15,20,25,30],\n",
    "          'min_samples_split':[2,5,7, 10,12,15]}\n",
    "\n",
    "gbgridsearch = GridSearchCV(GradientBoostingClassifier(), params,\n",
    "                     cv=3,\n",
    "                     verbose=1,\n",
    "                     n_jobs=-1)\n",
    "\n",
    "gb_best_model = gbgridsearch.fit(X_sampled, y_sampled)\n",
    "print('extra tree GridSearchCV best score : {:.2f}%, best_params : {}'.format(gbgridsearch.best_score_*100, gbgridsearch.best_params_))"
   ]
  },
  {
   "cell_type": "code",
   "execution_count": 51,
   "metadata": {},
   "outputs": [
    {
     "name": "stdout",
     "output_type": "stream",
     "text": [
      "Fitting 3 folds for each of 13 candidates, totalling 39 fits\n",
      "Ridge GridSearchCV best score : 81.08%, best_params : {'alpha': 0.5}\n"
     ]
    },
    {
     "name": "stderr",
     "output_type": "stream",
     "text": [
      "[Parallel(n_jobs=-1)]: Using backend LokyBackend with 8 concurrent workers.\n",
      "[Parallel(n_jobs=-1)]: Done  39 out of  39 | elapsed:    0.0s finished\n"
     ]
    }
   ],
   "source": [
    "## RidgeClassifier\n",
    "# class sklearn.linear_model.RidgeClassifier(alpha=1.0, fit_intercept=True, normalize=False, copy_X=True, max_iter=None, tol=0.001, class_weight=None, solver=’auto’, random_state=None)\n",
    "\n",
    "params = {'alpha': [25,10,4,2,1.0,0.8,0.5,0.3,0.2,0.1,0.05,0.02,0.01]}\n",
    "RidgeClassifier()\n",
    "Ridgegridsearch = GridSearchCV(RidgeClassifier(), params,\n",
    "                     cv=3,\n",
    "                     verbose=1,\n",
    "                     n_jobs=-1)\n",
    "\n",
    "Ridge_model = Ridgegridsearch.fit(X_sampled, y_sampled)\n",
    "print('Ridge GridSearchCV best score : {:.2f}%, best_params : {}'.format(Ridgegridsearch.best_score_*100, Ridgegridsearch.best_params_))"
   ]
  },
  {
   "cell_type": "code",
   "execution_count": 42,
   "metadata": {},
   "outputs": [
    {
     "name": "stderr",
     "output_type": "stream",
     "text": [
      "[Parallel(n_jobs=-1)]: Using backend LokyBackend with 8 concurrent workers.\n"
     ]
    },
    {
     "name": "stdout",
     "output_type": "stream",
     "text": [
      "Fitting 5 folds for each of 400 candidates, totalling 2000 fits\n"
     ]
    },
    {
     "name": "stderr",
     "output_type": "stream",
     "text": [
      "[Parallel(n_jobs=-1)]: Done  34 tasks      | elapsed:    1.8s\n",
      "[Parallel(n_jobs=-1)]: Done 184 tasks      | elapsed:   53.0s\n",
      "[Parallel(n_jobs=-1)]: Done 434 tasks      | elapsed:  9.0min\n"
     ]
    },
    {
     "ename": "KeyboardInterrupt",
     "evalue": "",
     "output_type": "error",
     "traceback": [
      "\u001b[1;31m---------------------------------------------------------------------------\u001b[0m",
      "\u001b[1;31mKeyboardInterrupt\u001b[0m                         Traceback (most recent call last)",
      "\u001b[1;32m<ipython-input-42-ae45ff4030a6>\u001b[0m in \u001b[0;36m<module>\u001b[1;34m\u001b[0m\n\u001b[0;32m      2\u001b[0m \u001b[1;33m\u001b[0m\u001b[0m\n\u001b[0;32m      3\u001b[0m \u001b[0mvote_clf\u001b[0m \u001b[1;33m=\u001b[0m \u001b[0mVotingClassifier\u001b[0m\u001b[1;33m(\u001b[0m\u001b[0mclfs\u001b[0m\u001b[1;33m,\u001b[0m \u001b[0mvoting\u001b[0m\u001b[1;33m=\u001b[0m \u001b[1;34m'soft'\u001b[0m\u001b[1;33m)\u001b[0m\u001b[1;33m\u001b[0m\u001b[1;33m\u001b[0m\u001b[0m\n\u001b[1;32m----> 4\u001b[1;33m \u001b[0mvote_clf\u001b[0m\u001b[1;33m.\u001b[0m\u001b[0mfit\u001b[0m\u001b[1;33m(\u001b[0m\u001b[0mX_resampled\u001b[0m\u001b[1;33m,\u001b[0m \u001b[0my_resampled\u001b[0m\u001b[1;33m)\u001b[0m\u001b[1;33m\u001b[0m\u001b[1;33m\u001b[0m\u001b[0m\n\u001b[0m",
      "\u001b[1;32m~\\Anaconda3\\lib\\site-packages\\sklearn\\ensemble\\voting_classifier.py\u001b[0m in \u001b[0;36mfit\u001b[1;34m(self, X, y, sample_weight)\u001b[0m\n\u001b[0;32m    198\u001b[0m                 delayed(_parallel_fit_estimator)(clone(clf), X, transformed_y,\n\u001b[0;32m    199\u001b[0m                                                  sample_weight=sample_weight)\n\u001b[1;32m--> 200\u001b[1;33m                 for clf in clfs if clf is not None)\n\u001b[0m\u001b[0;32m    201\u001b[0m \u001b[1;33m\u001b[0m\u001b[0m\n\u001b[0;32m    202\u001b[0m         \u001b[0mself\u001b[0m\u001b[1;33m.\u001b[0m\u001b[0mnamed_estimators_\u001b[0m \u001b[1;33m=\u001b[0m \u001b[0mBunch\u001b[0m\u001b[1;33m(\u001b[0m\u001b[1;33m**\u001b[0m\u001b[0mdict\u001b[0m\u001b[1;33m(\u001b[0m\u001b[1;33m)\u001b[0m\u001b[1;33m)\u001b[0m\u001b[1;33m\u001b[0m\u001b[1;33m\u001b[0m\u001b[0m\n",
      "\u001b[1;32m~\\Anaconda3\\lib\\site-packages\\sklearn\\externals\\joblib\\parallel.py\u001b[0m in \u001b[0;36m__call__\u001b[1;34m(self, iterable)\u001b[0m\n\u001b[0;32m    915\u001b[0m             \u001b[1;31m# remaining jobs.\u001b[0m\u001b[1;33m\u001b[0m\u001b[1;33m\u001b[0m\u001b[1;33m\u001b[0m\u001b[0m\n\u001b[0;32m    916\u001b[0m             \u001b[0mself\u001b[0m\u001b[1;33m.\u001b[0m\u001b[0m_iterating\u001b[0m \u001b[1;33m=\u001b[0m \u001b[1;32mFalse\u001b[0m\u001b[1;33m\u001b[0m\u001b[1;33m\u001b[0m\u001b[0m\n\u001b[1;32m--> 917\u001b[1;33m             \u001b[1;32mif\u001b[0m \u001b[0mself\u001b[0m\u001b[1;33m.\u001b[0m\u001b[0mdispatch_one_batch\u001b[0m\u001b[1;33m(\u001b[0m\u001b[0miterator\u001b[0m\u001b[1;33m)\u001b[0m\u001b[1;33m:\u001b[0m\u001b[1;33m\u001b[0m\u001b[1;33m\u001b[0m\u001b[0m\n\u001b[0m\u001b[0;32m    918\u001b[0m                 \u001b[0mself\u001b[0m\u001b[1;33m.\u001b[0m\u001b[0m_iterating\u001b[0m \u001b[1;33m=\u001b[0m \u001b[0mself\u001b[0m\u001b[1;33m.\u001b[0m\u001b[0m_original_iterator\u001b[0m \u001b[1;32mis\u001b[0m \u001b[1;32mnot\u001b[0m \u001b[1;32mNone\u001b[0m\u001b[1;33m\u001b[0m\u001b[1;33m\u001b[0m\u001b[0m\n\u001b[0;32m    919\u001b[0m \u001b[1;33m\u001b[0m\u001b[0m\n",
      "\u001b[1;32m~\\Anaconda3\\lib\\site-packages\\sklearn\\externals\\joblib\\parallel.py\u001b[0m in \u001b[0;36mdispatch_one_batch\u001b[1;34m(self, iterator)\u001b[0m\n\u001b[0;32m    757\u001b[0m                 \u001b[1;32mreturn\u001b[0m \u001b[1;32mFalse\u001b[0m\u001b[1;33m\u001b[0m\u001b[1;33m\u001b[0m\u001b[0m\n\u001b[0;32m    758\u001b[0m             \u001b[1;32melse\u001b[0m\u001b[1;33m:\u001b[0m\u001b[1;33m\u001b[0m\u001b[1;33m\u001b[0m\u001b[0m\n\u001b[1;32m--> 759\u001b[1;33m                 \u001b[0mself\u001b[0m\u001b[1;33m.\u001b[0m\u001b[0m_dispatch\u001b[0m\u001b[1;33m(\u001b[0m\u001b[0mtasks\u001b[0m\u001b[1;33m)\u001b[0m\u001b[1;33m\u001b[0m\u001b[1;33m\u001b[0m\u001b[0m\n\u001b[0m\u001b[0;32m    760\u001b[0m                 \u001b[1;32mreturn\u001b[0m \u001b[1;32mTrue\u001b[0m\u001b[1;33m\u001b[0m\u001b[1;33m\u001b[0m\u001b[0m\n\u001b[0;32m    761\u001b[0m \u001b[1;33m\u001b[0m\u001b[0m\n",
      "\u001b[1;32m~\\Anaconda3\\lib\\site-packages\\sklearn\\externals\\joblib\\parallel.py\u001b[0m in \u001b[0;36m_dispatch\u001b[1;34m(self, batch)\u001b[0m\n\u001b[0;32m    714\u001b[0m         \u001b[1;32mwith\u001b[0m \u001b[0mself\u001b[0m\u001b[1;33m.\u001b[0m\u001b[0m_lock\u001b[0m\u001b[1;33m:\u001b[0m\u001b[1;33m\u001b[0m\u001b[1;33m\u001b[0m\u001b[0m\n\u001b[0;32m    715\u001b[0m             \u001b[0mjob_idx\u001b[0m \u001b[1;33m=\u001b[0m \u001b[0mlen\u001b[0m\u001b[1;33m(\u001b[0m\u001b[0mself\u001b[0m\u001b[1;33m.\u001b[0m\u001b[0m_jobs\u001b[0m\u001b[1;33m)\u001b[0m\u001b[1;33m\u001b[0m\u001b[1;33m\u001b[0m\u001b[0m\n\u001b[1;32m--> 716\u001b[1;33m             \u001b[0mjob\u001b[0m \u001b[1;33m=\u001b[0m \u001b[0mself\u001b[0m\u001b[1;33m.\u001b[0m\u001b[0m_backend\u001b[0m\u001b[1;33m.\u001b[0m\u001b[0mapply_async\u001b[0m\u001b[1;33m(\u001b[0m\u001b[0mbatch\u001b[0m\u001b[1;33m,\u001b[0m \u001b[0mcallback\u001b[0m\u001b[1;33m=\u001b[0m\u001b[0mcb\u001b[0m\u001b[1;33m)\u001b[0m\u001b[1;33m\u001b[0m\u001b[1;33m\u001b[0m\u001b[0m\n\u001b[0m\u001b[0;32m    717\u001b[0m             \u001b[1;31m# A job can complete so quickly than its callback is\u001b[0m\u001b[1;33m\u001b[0m\u001b[1;33m\u001b[0m\u001b[1;33m\u001b[0m\u001b[0m\n\u001b[0;32m    718\u001b[0m             \u001b[1;31m# called before we get here, causing self._jobs to\u001b[0m\u001b[1;33m\u001b[0m\u001b[1;33m\u001b[0m\u001b[1;33m\u001b[0m\u001b[0m\n",
      "\u001b[1;32m~\\Anaconda3\\lib\\site-packages\\sklearn\\externals\\joblib\\_parallel_backends.py\u001b[0m in \u001b[0;36mapply_async\u001b[1;34m(self, func, callback)\u001b[0m\n\u001b[0;32m    180\u001b[0m     \u001b[1;32mdef\u001b[0m \u001b[0mapply_async\u001b[0m\u001b[1;33m(\u001b[0m\u001b[0mself\u001b[0m\u001b[1;33m,\u001b[0m \u001b[0mfunc\u001b[0m\u001b[1;33m,\u001b[0m \u001b[0mcallback\u001b[0m\u001b[1;33m=\u001b[0m\u001b[1;32mNone\u001b[0m\u001b[1;33m)\u001b[0m\u001b[1;33m:\u001b[0m\u001b[1;33m\u001b[0m\u001b[1;33m\u001b[0m\u001b[0m\n\u001b[0;32m    181\u001b[0m         \u001b[1;34m\"\"\"Schedule a func to be run\"\"\"\u001b[0m\u001b[1;33m\u001b[0m\u001b[1;33m\u001b[0m\u001b[0m\n\u001b[1;32m--> 182\u001b[1;33m         \u001b[0mresult\u001b[0m \u001b[1;33m=\u001b[0m \u001b[0mImmediateResult\u001b[0m\u001b[1;33m(\u001b[0m\u001b[0mfunc\u001b[0m\u001b[1;33m)\u001b[0m\u001b[1;33m\u001b[0m\u001b[1;33m\u001b[0m\u001b[0m\n\u001b[0m\u001b[0;32m    183\u001b[0m         \u001b[1;32mif\u001b[0m \u001b[0mcallback\u001b[0m\u001b[1;33m:\u001b[0m\u001b[1;33m\u001b[0m\u001b[1;33m\u001b[0m\u001b[0m\n\u001b[0;32m    184\u001b[0m             \u001b[0mcallback\u001b[0m\u001b[1;33m(\u001b[0m\u001b[0mresult\u001b[0m\u001b[1;33m)\u001b[0m\u001b[1;33m\u001b[0m\u001b[1;33m\u001b[0m\u001b[0m\n",
      "\u001b[1;32m~\\Anaconda3\\lib\\site-packages\\sklearn\\externals\\joblib\\_parallel_backends.py\u001b[0m in \u001b[0;36m__init__\u001b[1;34m(self, batch)\u001b[0m\n\u001b[0;32m    547\u001b[0m         \u001b[1;31m# Don't delay the application, to avoid keeping the input\u001b[0m\u001b[1;33m\u001b[0m\u001b[1;33m\u001b[0m\u001b[1;33m\u001b[0m\u001b[0m\n\u001b[0;32m    548\u001b[0m         \u001b[1;31m# arguments in memory\u001b[0m\u001b[1;33m\u001b[0m\u001b[1;33m\u001b[0m\u001b[1;33m\u001b[0m\u001b[0m\n\u001b[1;32m--> 549\u001b[1;33m         \u001b[0mself\u001b[0m\u001b[1;33m.\u001b[0m\u001b[0mresults\u001b[0m \u001b[1;33m=\u001b[0m \u001b[0mbatch\u001b[0m\u001b[1;33m(\u001b[0m\u001b[1;33m)\u001b[0m\u001b[1;33m\u001b[0m\u001b[1;33m\u001b[0m\u001b[0m\n\u001b[0m\u001b[0;32m    550\u001b[0m \u001b[1;33m\u001b[0m\u001b[0m\n\u001b[0;32m    551\u001b[0m     \u001b[1;32mdef\u001b[0m \u001b[0mget\u001b[0m\u001b[1;33m(\u001b[0m\u001b[0mself\u001b[0m\u001b[1;33m)\u001b[0m\u001b[1;33m:\u001b[0m\u001b[1;33m\u001b[0m\u001b[1;33m\u001b[0m\u001b[0m\n",
      "\u001b[1;32m~\\Anaconda3\\lib\\site-packages\\sklearn\\externals\\joblib\\parallel.py\u001b[0m in \u001b[0;36m__call__\u001b[1;34m(self)\u001b[0m\n\u001b[0;32m    223\u001b[0m         \u001b[1;32mwith\u001b[0m \u001b[0mparallel_backend\u001b[0m\u001b[1;33m(\u001b[0m\u001b[0mself\u001b[0m\u001b[1;33m.\u001b[0m\u001b[0m_backend\u001b[0m\u001b[1;33m,\u001b[0m \u001b[0mn_jobs\u001b[0m\u001b[1;33m=\u001b[0m\u001b[0mself\u001b[0m\u001b[1;33m.\u001b[0m\u001b[0m_n_jobs\u001b[0m\u001b[1;33m)\u001b[0m\u001b[1;33m:\u001b[0m\u001b[1;33m\u001b[0m\u001b[1;33m\u001b[0m\u001b[0m\n\u001b[0;32m    224\u001b[0m             return [func(*args, **kwargs)\n\u001b[1;32m--> 225\u001b[1;33m                     for func, args, kwargs in self.items]\n\u001b[0m\u001b[0;32m    226\u001b[0m \u001b[1;33m\u001b[0m\u001b[0m\n\u001b[0;32m    227\u001b[0m     \u001b[1;32mdef\u001b[0m \u001b[0m__len__\u001b[0m\u001b[1;33m(\u001b[0m\u001b[0mself\u001b[0m\u001b[1;33m)\u001b[0m\u001b[1;33m:\u001b[0m\u001b[1;33m\u001b[0m\u001b[1;33m\u001b[0m\u001b[0m\n",
      "\u001b[1;32m~\\Anaconda3\\lib\\site-packages\\sklearn\\externals\\joblib\\parallel.py\u001b[0m in \u001b[0;36m<listcomp>\u001b[1;34m(.0)\u001b[0m\n\u001b[0;32m    223\u001b[0m         \u001b[1;32mwith\u001b[0m \u001b[0mparallel_backend\u001b[0m\u001b[1;33m(\u001b[0m\u001b[0mself\u001b[0m\u001b[1;33m.\u001b[0m\u001b[0m_backend\u001b[0m\u001b[1;33m,\u001b[0m \u001b[0mn_jobs\u001b[0m\u001b[1;33m=\u001b[0m\u001b[0mself\u001b[0m\u001b[1;33m.\u001b[0m\u001b[0m_n_jobs\u001b[0m\u001b[1;33m)\u001b[0m\u001b[1;33m:\u001b[0m\u001b[1;33m\u001b[0m\u001b[1;33m\u001b[0m\u001b[0m\n\u001b[0;32m    224\u001b[0m             return [func(*args, **kwargs)\n\u001b[1;32m--> 225\u001b[1;33m                     for func, args, kwargs in self.items]\n\u001b[0m\u001b[0;32m    226\u001b[0m \u001b[1;33m\u001b[0m\u001b[0m\n\u001b[0;32m    227\u001b[0m     \u001b[1;32mdef\u001b[0m \u001b[0m__len__\u001b[0m\u001b[1;33m(\u001b[0m\u001b[0mself\u001b[0m\u001b[1;33m)\u001b[0m\u001b[1;33m:\u001b[0m\u001b[1;33m\u001b[0m\u001b[1;33m\u001b[0m\u001b[0m\n",
      "\u001b[1;32m~\\Anaconda3\\lib\\site-packages\\sklearn\\ensemble\\voting_classifier.py\u001b[0m in \u001b[0;36m_parallel_fit_estimator\u001b[1;34m(estimator, X, y, sample_weight)\u001b[0m\n\u001b[0;32m     30\u001b[0m         \u001b[0mestimator\u001b[0m\u001b[1;33m.\u001b[0m\u001b[0mfit\u001b[0m\u001b[1;33m(\u001b[0m\u001b[0mX\u001b[0m\u001b[1;33m,\u001b[0m \u001b[0my\u001b[0m\u001b[1;33m,\u001b[0m \u001b[0msample_weight\u001b[0m\u001b[1;33m=\u001b[0m\u001b[0msample_weight\u001b[0m\u001b[1;33m)\u001b[0m\u001b[1;33m\u001b[0m\u001b[1;33m\u001b[0m\u001b[0m\n\u001b[0;32m     31\u001b[0m     \u001b[1;32melse\u001b[0m\u001b[1;33m:\u001b[0m\u001b[1;33m\u001b[0m\u001b[1;33m\u001b[0m\u001b[0m\n\u001b[1;32m---> 32\u001b[1;33m         \u001b[0mestimator\u001b[0m\u001b[1;33m.\u001b[0m\u001b[0mfit\u001b[0m\u001b[1;33m(\u001b[0m\u001b[0mX\u001b[0m\u001b[1;33m,\u001b[0m \u001b[0my\u001b[0m\u001b[1;33m)\u001b[0m\u001b[1;33m\u001b[0m\u001b[1;33m\u001b[0m\u001b[0m\n\u001b[0m\u001b[0;32m     33\u001b[0m     \u001b[1;32mreturn\u001b[0m \u001b[0mestimator\u001b[0m\u001b[1;33m\u001b[0m\u001b[1;33m\u001b[0m\u001b[0m\n\u001b[0;32m     34\u001b[0m \u001b[1;33m\u001b[0m\u001b[0m\n",
      "\u001b[1;32m~\\Anaconda3\\lib\\site-packages\\sklearn\\model_selection\\_search.py\u001b[0m in \u001b[0;36mfit\u001b[1;34m(self, X, y, groups, **fit_params)\u001b[0m\n\u001b[0;32m    720\u001b[0m                 \u001b[1;32mreturn\u001b[0m \u001b[0mresults_container\u001b[0m\u001b[1;33m[\u001b[0m\u001b[1;36m0\u001b[0m\u001b[1;33m]\u001b[0m\u001b[1;33m\u001b[0m\u001b[1;33m\u001b[0m\u001b[0m\n\u001b[0;32m    721\u001b[0m \u001b[1;33m\u001b[0m\u001b[0m\n\u001b[1;32m--> 722\u001b[1;33m             \u001b[0mself\u001b[0m\u001b[1;33m.\u001b[0m\u001b[0m_run_search\u001b[0m\u001b[1;33m(\u001b[0m\u001b[0mevaluate_candidates\u001b[0m\u001b[1;33m)\u001b[0m\u001b[1;33m\u001b[0m\u001b[1;33m\u001b[0m\u001b[0m\n\u001b[0m\u001b[0;32m    723\u001b[0m \u001b[1;33m\u001b[0m\u001b[0m\n\u001b[0;32m    724\u001b[0m         \u001b[0mresults\u001b[0m \u001b[1;33m=\u001b[0m \u001b[0mresults_container\u001b[0m\u001b[1;33m[\u001b[0m\u001b[1;36m0\u001b[0m\u001b[1;33m]\u001b[0m\u001b[1;33m\u001b[0m\u001b[1;33m\u001b[0m\u001b[0m\n",
      "\u001b[1;32m~\\Anaconda3\\lib\\site-packages\\sklearn\\model_selection\\_search.py\u001b[0m in \u001b[0;36m_run_search\u001b[1;34m(self, evaluate_candidates)\u001b[0m\n\u001b[0;32m   1189\u001b[0m     \u001b[1;32mdef\u001b[0m \u001b[0m_run_search\u001b[0m\u001b[1;33m(\u001b[0m\u001b[0mself\u001b[0m\u001b[1;33m,\u001b[0m \u001b[0mevaluate_candidates\u001b[0m\u001b[1;33m)\u001b[0m\u001b[1;33m:\u001b[0m\u001b[1;33m\u001b[0m\u001b[1;33m\u001b[0m\u001b[0m\n\u001b[0;32m   1190\u001b[0m         \u001b[1;34m\"\"\"Search all candidates in param_grid\"\"\"\u001b[0m\u001b[1;33m\u001b[0m\u001b[1;33m\u001b[0m\u001b[0m\n\u001b[1;32m-> 1191\u001b[1;33m         \u001b[0mevaluate_candidates\u001b[0m\u001b[1;33m(\u001b[0m\u001b[0mParameterGrid\u001b[0m\u001b[1;33m(\u001b[0m\u001b[0mself\u001b[0m\u001b[1;33m.\u001b[0m\u001b[0mparam_grid\u001b[0m\u001b[1;33m)\u001b[0m\u001b[1;33m)\u001b[0m\u001b[1;33m\u001b[0m\u001b[1;33m\u001b[0m\u001b[0m\n\u001b[0m\u001b[0;32m   1192\u001b[0m \u001b[1;33m\u001b[0m\u001b[0m\n\u001b[0;32m   1193\u001b[0m \u001b[1;33m\u001b[0m\u001b[0m\n",
      "\u001b[1;32m~\\Anaconda3\\lib\\site-packages\\sklearn\\model_selection\\_search.py\u001b[0m in \u001b[0;36mevaluate_candidates\u001b[1;34m(candidate_params)\u001b[0m\n\u001b[0;32m    709\u001b[0m                                \u001b[1;32mfor\u001b[0m \u001b[0mparameters\u001b[0m\u001b[1;33m,\u001b[0m \u001b[1;33m(\u001b[0m\u001b[0mtrain\u001b[0m\u001b[1;33m,\u001b[0m \u001b[0mtest\u001b[0m\u001b[1;33m)\u001b[0m\u001b[1;33m\u001b[0m\u001b[1;33m\u001b[0m\u001b[0m\n\u001b[0;32m    710\u001b[0m                                in product(candidate_params,\n\u001b[1;32m--> 711\u001b[1;33m                                           cv.split(X, y, groups)))\n\u001b[0m\u001b[0;32m    712\u001b[0m \u001b[1;33m\u001b[0m\u001b[0m\n\u001b[0;32m    713\u001b[0m                 \u001b[0mall_candidate_params\u001b[0m\u001b[1;33m.\u001b[0m\u001b[0mextend\u001b[0m\u001b[1;33m(\u001b[0m\u001b[0mcandidate_params\u001b[0m\u001b[1;33m)\u001b[0m\u001b[1;33m\u001b[0m\u001b[1;33m\u001b[0m\u001b[0m\n",
      "\u001b[1;32m~\\Anaconda3\\lib\\site-packages\\sklearn\\externals\\joblib\\parallel.py\u001b[0m in \u001b[0;36m__call__\u001b[1;34m(self, iterable)\u001b[0m\n\u001b[0;32m    928\u001b[0m \u001b[1;33m\u001b[0m\u001b[0m\n\u001b[0;32m    929\u001b[0m             \u001b[1;32mwith\u001b[0m \u001b[0mself\u001b[0m\u001b[1;33m.\u001b[0m\u001b[0m_backend\u001b[0m\u001b[1;33m.\u001b[0m\u001b[0mretrieval_context\u001b[0m\u001b[1;33m(\u001b[0m\u001b[1;33m)\u001b[0m\u001b[1;33m:\u001b[0m\u001b[1;33m\u001b[0m\u001b[1;33m\u001b[0m\u001b[0m\n\u001b[1;32m--> 930\u001b[1;33m                 \u001b[0mself\u001b[0m\u001b[1;33m.\u001b[0m\u001b[0mretrieve\u001b[0m\u001b[1;33m(\u001b[0m\u001b[1;33m)\u001b[0m\u001b[1;33m\u001b[0m\u001b[1;33m\u001b[0m\u001b[0m\n\u001b[0m\u001b[0;32m    931\u001b[0m             \u001b[1;31m# Make sure that we get a last message telling us we are done\u001b[0m\u001b[1;33m\u001b[0m\u001b[1;33m\u001b[0m\u001b[1;33m\u001b[0m\u001b[0m\n\u001b[0;32m    932\u001b[0m             \u001b[0melapsed_time\u001b[0m \u001b[1;33m=\u001b[0m \u001b[0mtime\u001b[0m\u001b[1;33m.\u001b[0m\u001b[0mtime\u001b[0m\u001b[1;33m(\u001b[0m\u001b[1;33m)\u001b[0m \u001b[1;33m-\u001b[0m \u001b[0mself\u001b[0m\u001b[1;33m.\u001b[0m\u001b[0m_start_time\u001b[0m\u001b[1;33m\u001b[0m\u001b[1;33m\u001b[0m\u001b[0m\n",
      "\u001b[1;32m~\\Anaconda3\\lib\\site-packages\\sklearn\\externals\\joblib\\parallel.py\u001b[0m in \u001b[0;36mretrieve\u001b[1;34m(self)\u001b[0m\n\u001b[0;32m    831\u001b[0m             \u001b[1;32mtry\u001b[0m\u001b[1;33m:\u001b[0m\u001b[1;33m\u001b[0m\u001b[1;33m\u001b[0m\u001b[0m\n\u001b[0;32m    832\u001b[0m                 \u001b[1;32mif\u001b[0m \u001b[0mgetattr\u001b[0m\u001b[1;33m(\u001b[0m\u001b[0mself\u001b[0m\u001b[1;33m.\u001b[0m\u001b[0m_backend\u001b[0m\u001b[1;33m,\u001b[0m \u001b[1;34m'supports_timeout'\u001b[0m\u001b[1;33m,\u001b[0m \u001b[1;32mFalse\u001b[0m\u001b[1;33m)\u001b[0m\u001b[1;33m:\u001b[0m\u001b[1;33m\u001b[0m\u001b[1;33m\u001b[0m\u001b[0m\n\u001b[1;32m--> 833\u001b[1;33m                     \u001b[0mself\u001b[0m\u001b[1;33m.\u001b[0m\u001b[0m_output\u001b[0m\u001b[1;33m.\u001b[0m\u001b[0mextend\u001b[0m\u001b[1;33m(\u001b[0m\u001b[0mjob\u001b[0m\u001b[1;33m.\u001b[0m\u001b[0mget\u001b[0m\u001b[1;33m(\u001b[0m\u001b[0mtimeout\u001b[0m\u001b[1;33m=\u001b[0m\u001b[0mself\u001b[0m\u001b[1;33m.\u001b[0m\u001b[0mtimeout\u001b[0m\u001b[1;33m)\u001b[0m\u001b[1;33m)\u001b[0m\u001b[1;33m\u001b[0m\u001b[1;33m\u001b[0m\u001b[0m\n\u001b[0m\u001b[0;32m    834\u001b[0m                 \u001b[1;32melse\u001b[0m\u001b[1;33m:\u001b[0m\u001b[1;33m\u001b[0m\u001b[1;33m\u001b[0m\u001b[0m\n\u001b[0;32m    835\u001b[0m                     \u001b[0mself\u001b[0m\u001b[1;33m.\u001b[0m\u001b[0m_output\u001b[0m\u001b[1;33m.\u001b[0m\u001b[0mextend\u001b[0m\u001b[1;33m(\u001b[0m\u001b[0mjob\u001b[0m\u001b[1;33m.\u001b[0m\u001b[0mget\u001b[0m\u001b[1;33m(\u001b[0m\u001b[1;33m)\u001b[0m\u001b[1;33m)\u001b[0m\u001b[1;33m\u001b[0m\u001b[1;33m\u001b[0m\u001b[0m\n",
      "\u001b[1;32m~\\Anaconda3\\lib\\site-packages\\sklearn\\externals\\joblib\\_parallel_backends.py\u001b[0m in \u001b[0;36mwrap_future_result\u001b[1;34m(future, timeout)\u001b[0m\n\u001b[0;32m    519\u001b[0m         AsyncResults.get from multiprocessing.\"\"\"\n\u001b[0;32m    520\u001b[0m         \u001b[1;32mtry\u001b[0m\u001b[1;33m:\u001b[0m\u001b[1;33m\u001b[0m\u001b[1;33m\u001b[0m\u001b[0m\n\u001b[1;32m--> 521\u001b[1;33m             \u001b[1;32mreturn\u001b[0m \u001b[0mfuture\u001b[0m\u001b[1;33m.\u001b[0m\u001b[0mresult\u001b[0m\u001b[1;33m(\u001b[0m\u001b[0mtimeout\u001b[0m\u001b[1;33m=\u001b[0m\u001b[0mtimeout\u001b[0m\u001b[1;33m)\u001b[0m\u001b[1;33m\u001b[0m\u001b[1;33m\u001b[0m\u001b[0m\n\u001b[0m\u001b[0;32m    522\u001b[0m         \u001b[1;32mexcept\u001b[0m \u001b[0mLokyTimeoutError\u001b[0m\u001b[1;33m:\u001b[0m\u001b[1;33m\u001b[0m\u001b[1;33m\u001b[0m\u001b[0m\n\u001b[0;32m    523\u001b[0m             \u001b[1;32mraise\u001b[0m \u001b[0mTimeoutError\u001b[0m\u001b[1;33m(\u001b[0m\u001b[1;33m)\u001b[0m\u001b[1;33m\u001b[0m\u001b[1;33m\u001b[0m\u001b[0m\n",
      "\u001b[1;32m~\\Anaconda3\\lib\\concurrent\\futures\\_base.py\u001b[0m in \u001b[0;36mresult\u001b[1;34m(self, timeout)\u001b[0m\n\u001b[0;32m    425\u001b[0m                 \u001b[1;32mreturn\u001b[0m \u001b[0mself\u001b[0m\u001b[1;33m.\u001b[0m\u001b[0m__get_result\u001b[0m\u001b[1;33m(\u001b[0m\u001b[1;33m)\u001b[0m\u001b[1;33m\u001b[0m\u001b[1;33m\u001b[0m\u001b[0m\n\u001b[0;32m    426\u001b[0m \u001b[1;33m\u001b[0m\u001b[0m\n\u001b[1;32m--> 427\u001b[1;33m             \u001b[0mself\u001b[0m\u001b[1;33m.\u001b[0m\u001b[0m_condition\u001b[0m\u001b[1;33m.\u001b[0m\u001b[0mwait\u001b[0m\u001b[1;33m(\u001b[0m\u001b[0mtimeout\u001b[0m\u001b[1;33m)\u001b[0m\u001b[1;33m\u001b[0m\u001b[1;33m\u001b[0m\u001b[0m\n\u001b[0m\u001b[0;32m    428\u001b[0m \u001b[1;33m\u001b[0m\u001b[0m\n\u001b[0;32m    429\u001b[0m             \u001b[1;32mif\u001b[0m \u001b[0mself\u001b[0m\u001b[1;33m.\u001b[0m\u001b[0m_state\u001b[0m \u001b[1;32min\u001b[0m \u001b[1;33m[\u001b[0m\u001b[0mCANCELLED\u001b[0m\u001b[1;33m,\u001b[0m \u001b[0mCANCELLED_AND_NOTIFIED\u001b[0m\u001b[1;33m]\u001b[0m\u001b[1;33m:\u001b[0m\u001b[1;33m\u001b[0m\u001b[1;33m\u001b[0m\u001b[0m\n",
      "\u001b[1;32m~\\Anaconda3\\lib\\threading.py\u001b[0m in \u001b[0;36mwait\u001b[1;34m(self, timeout)\u001b[0m\n\u001b[0;32m    294\u001b[0m         \u001b[1;32mtry\u001b[0m\u001b[1;33m:\u001b[0m    \u001b[1;31m# restore state no matter what (e.g., KeyboardInterrupt)\u001b[0m\u001b[1;33m\u001b[0m\u001b[1;33m\u001b[0m\u001b[0m\n\u001b[0;32m    295\u001b[0m             \u001b[1;32mif\u001b[0m \u001b[0mtimeout\u001b[0m \u001b[1;32mis\u001b[0m \u001b[1;32mNone\u001b[0m\u001b[1;33m:\u001b[0m\u001b[1;33m\u001b[0m\u001b[1;33m\u001b[0m\u001b[0m\n\u001b[1;32m--> 296\u001b[1;33m                 \u001b[0mwaiter\u001b[0m\u001b[1;33m.\u001b[0m\u001b[0macquire\u001b[0m\u001b[1;33m(\u001b[0m\u001b[1;33m)\u001b[0m\u001b[1;33m\u001b[0m\u001b[1;33m\u001b[0m\u001b[0m\n\u001b[0m\u001b[0;32m    297\u001b[0m                 \u001b[0mgotit\u001b[0m \u001b[1;33m=\u001b[0m \u001b[1;32mTrue\u001b[0m\u001b[1;33m\u001b[0m\u001b[1;33m\u001b[0m\u001b[0m\n\u001b[0;32m    298\u001b[0m             \u001b[1;32melse\u001b[0m\u001b[1;33m:\u001b[0m\u001b[1;33m\u001b[0m\u001b[1;33m\u001b[0m\u001b[0m\n",
      "\u001b[1;31mKeyboardInterrupt\u001b[0m: "
     ]
    }
   ],
   "source": [
    "clfs = [('sgd', sgd_best_model), ('svm', svm_model),('Logistic', Logistic_model)]\n",
    "\n",
    "vote_clf = VotingClassifier(clfs, voting= 'soft') \n",
    "vote_clf.fit(X_resampled, y_resampled)\n"
   ]
  },
  {
   "cell_type": "markdown",
   "metadata": {},
   "source": [
    "#### test set"
   ]
  },
  {
   "cell_type": "code",
   "execution_count": 52,
   "metadata": {},
   "outputs": [
    {
     "data": {
      "text/plain": [
       "(6415, 3)"
      ]
     },
     "execution_count": 52,
     "metadata": {},
     "output_type": "execute_result"
    }
   ],
   "source": [
    "uskr = pd.read_csv('C:/Users/Juwon Oh/Documents/Dropbox/BigDataDiplomacy/Code/2019/Analysis/Fall/USJP.csv', encoding = \"ISO-8859-1\")\n",
    "fox = uskr[['date', 'title', 'text']]\n",
    "#fox = fox.dropna()\n",
    "fox = fox.fillna(0)\n",
    "test_text = fox.iloc[:, -1].values\n",
    "fox.shape"
   ]
  },
  {
   "cell_type": "code",
   "execution_count": 53,
   "metadata": {},
   "outputs": [],
   "source": [
    "from nltk.stem.snowball import SnowballStemmer\n",
    "stemmer = SnowballStemmer('english')\n",
    "\n",
    "test_corpus=[' '.join([stemmer.stem(word) for word in text.split(' ')])for text in test_text]"
   ]
  },
  {
   "cell_type": "code",
   "execution_count": 54,
   "metadata": {},
   "outputs": [],
   "source": [
    "from nltk.stem import WordNetLemmatizer\n",
    "lemmer=WordNetLemmatizer()\n",
    "\n",
    "test_corpus=[' '.join([lemmer.lemmatize(word) for word in text.split(' ')])for text in test_corpus]"
   ]
  },
  {
   "cell_type": "code",
   "execution_count": 55,
   "metadata": {},
   "outputs": [],
   "source": [
    "count_vect = CountVectorizer(stop_words=\"english\", ngram_range=(1, 2), max_df= 0.99, min_df=0.01)\n",
    "text_vector = count_vect.fit_transform(test_corpus)\n",
    "tfidf_transformer = TfidfTransformer(use_idf=True)\n",
    "test_Tfidf = tfidf_transformer.fit_transform(text_vector)"
   ]
  },
  {
   "cell_type": "code",
   "execution_count": 58,
   "metadata": {},
   "outputs": [],
   "source": [
    "#Dimenionality reduction. Only using the 100 best features er category\n",
    "\n",
    "lsa = TruncatedSVD(n_components=158, \n",
    "                   n_iter=10, \n",
    "                   random_state=3)\n",
    "\n",
    "y = lsa.fit_transform(test_Tfidf)\n"
   ]
  },
  {
   "cell_type": "code",
   "execution_count": 60,
   "metadata": {
    "scrolled": true
   },
   "outputs": [],
   "source": [
    "sgd_pred = sgd_best_model.predict(y)"
   ]
  },
  {
   "cell_type": "code",
   "execution_count": 36,
   "metadata": {},
   "outputs": [],
   "source": [
    "svm_pred =svm_model.predict(y)"
   ]
  },
  {
   "cell_type": "code",
   "execution_count": 37,
   "metadata": {},
   "outputs": [],
   "source": [
    "Logistic_pred =Logistic_model.predict(y)"
   ]
  },
  {
   "cell_type": "code",
   "execution_count": 48,
   "metadata": {},
   "outputs": [
    {
     "ename": "NotFittedError",
     "evalue": "This VotingClassifier instance is not fitted yet. Call 'fit' with appropriate arguments before using this method.",
     "output_type": "error",
     "traceback": [
      "\u001b[1;31m---------------------------------------------------------------------------\u001b[0m",
      "\u001b[1;31mNotFittedError\u001b[0m                            Traceback (most recent call last)",
      "\u001b[1;32m<ipython-input-48-ffdd545eecf4>\u001b[0m in \u001b[0;36m<module>\u001b[1;34m\u001b[0m\n\u001b[1;32m----> 1\u001b[1;33m \u001b[0mpred\u001b[0m \u001b[1;33m=\u001b[0m \u001b[0mvote_clf\u001b[0m\u001b[1;33m.\u001b[0m\u001b[0mpredict\u001b[0m\u001b[1;33m(\u001b[0m\u001b[0my\u001b[0m\u001b[1;33m)\u001b[0m\u001b[1;33m\u001b[0m\u001b[1;33m\u001b[0m\u001b[0m\n\u001b[0m",
      "\u001b[1;32m~\\Anaconda3\\lib\\site-packages\\sklearn\\ensemble\\voting_classifier.py\u001b[0m in \u001b[0;36mpredict\u001b[1;34m(self, X)\u001b[0m\n\u001b[0;32m    228\u001b[0m         \"\"\"\n\u001b[0;32m    229\u001b[0m \u001b[1;33m\u001b[0m\u001b[0m\n\u001b[1;32m--> 230\u001b[1;33m         \u001b[0mcheck_is_fitted\u001b[0m\u001b[1;33m(\u001b[0m\u001b[0mself\u001b[0m\u001b[1;33m,\u001b[0m \u001b[1;34m'estimators_'\u001b[0m\u001b[1;33m)\u001b[0m\u001b[1;33m\u001b[0m\u001b[1;33m\u001b[0m\u001b[0m\n\u001b[0m\u001b[0;32m    231\u001b[0m         \u001b[1;32mif\u001b[0m \u001b[0mself\u001b[0m\u001b[1;33m.\u001b[0m\u001b[0mvoting\u001b[0m \u001b[1;33m==\u001b[0m \u001b[1;34m'soft'\u001b[0m\u001b[1;33m:\u001b[0m\u001b[1;33m\u001b[0m\u001b[1;33m\u001b[0m\u001b[0m\n\u001b[0;32m    232\u001b[0m             \u001b[0mmaj\u001b[0m \u001b[1;33m=\u001b[0m \u001b[0mnp\u001b[0m\u001b[1;33m.\u001b[0m\u001b[0margmax\u001b[0m\u001b[1;33m(\u001b[0m\u001b[0mself\u001b[0m\u001b[1;33m.\u001b[0m\u001b[0mpredict_proba\u001b[0m\u001b[1;33m(\u001b[0m\u001b[0mX\u001b[0m\u001b[1;33m)\u001b[0m\u001b[1;33m,\u001b[0m \u001b[0maxis\u001b[0m\u001b[1;33m=\u001b[0m\u001b[1;36m1\u001b[0m\u001b[1;33m)\u001b[0m\u001b[1;33m\u001b[0m\u001b[1;33m\u001b[0m\u001b[0m\n",
      "\u001b[1;32m~\\Anaconda3\\lib\\site-packages\\sklearn\\utils\\validation.py\u001b[0m in \u001b[0;36mcheck_is_fitted\u001b[1;34m(estimator, attributes, msg, all_or_any)\u001b[0m\n\u001b[0;32m    949\u001b[0m \u001b[1;33m\u001b[0m\u001b[0m\n\u001b[0;32m    950\u001b[0m     \u001b[1;32mif\u001b[0m \u001b[1;32mnot\u001b[0m \u001b[0mall_or_any\u001b[0m\u001b[1;33m(\u001b[0m\u001b[1;33m[\u001b[0m\u001b[0mhasattr\u001b[0m\u001b[1;33m(\u001b[0m\u001b[0mestimator\u001b[0m\u001b[1;33m,\u001b[0m \u001b[0mattr\u001b[0m\u001b[1;33m)\u001b[0m \u001b[1;32mfor\u001b[0m \u001b[0mattr\u001b[0m \u001b[1;32min\u001b[0m \u001b[0mattributes\u001b[0m\u001b[1;33m]\u001b[0m\u001b[1;33m)\u001b[0m\u001b[1;33m:\u001b[0m\u001b[1;33m\u001b[0m\u001b[1;33m\u001b[0m\u001b[0m\n\u001b[1;32m--> 951\u001b[1;33m         \u001b[1;32mraise\u001b[0m \u001b[0mNotFittedError\u001b[0m\u001b[1;33m(\u001b[0m\u001b[0mmsg\u001b[0m \u001b[1;33m%\u001b[0m \u001b[1;33m{\u001b[0m\u001b[1;34m'name'\u001b[0m\u001b[1;33m:\u001b[0m \u001b[0mtype\u001b[0m\u001b[1;33m(\u001b[0m\u001b[0mestimator\u001b[0m\u001b[1;33m)\u001b[0m\u001b[1;33m.\u001b[0m\u001b[0m__name__\u001b[0m\u001b[1;33m}\u001b[0m\u001b[1;33m)\u001b[0m\u001b[1;33m\u001b[0m\u001b[1;33m\u001b[0m\u001b[0m\n\u001b[0m\u001b[0;32m    952\u001b[0m \u001b[1;33m\u001b[0m\u001b[0m\n\u001b[0;32m    953\u001b[0m \u001b[1;33m\u001b[0m\u001b[0m\n",
      "\u001b[1;31mNotFittedError\u001b[0m: This VotingClassifier instance is not fitted yet. Call 'fit' with appropriate arguments before using this method."
     ]
    }
   ],
   "source": [
    "y_pred = vote_clf.predict(X_test)"
   ]
  },
  {
   "cell_type": "code",
   "execution_count": 38,
   "metadata": {
    "scrolled": true
   },
   "outputs": [
    {
     "data": {
      "text/plain": [
       "0.7806004618937644"
      ]
     },
     "execution_count": 38,
     "metadata": {},
     "output_type": "execute_result"
    }
   ],
   "source": [
    "accuracy_score(svm_pred, sgd_pred)"
   ]
  },
  {
   "cell_type": "code",
   "execution_count": 39,
   "metadata": {},
   "outputs": [
    {
     "data": {
      "text/plain": [
       "0.8937644341801386"
      ]
     },
     "execution_count": 39,
     "metadata": {},
     "output_type": "execute_result"
    }
   ],
   "source": [
    "accuracy_score(Logistic_pred, sgd_pred)"
   ]
  },
  {
   "cell_type": "code",
   "execution_count": 53,
   "metadata": {
    "scrolled": true
   },
   "outputs": [
    {
     "ename": "NameError",
     "evalue": "name 'pred' is not defined",
     "output_type": "error",
     "traceback": [
      "\u001b[1;31m---------------------------------------------------------------------------\u001b[0m",
      "\u001b[1;31mNameError\u001b[0m                                 Traceback (most recent call last)",
      "\u001b[1;32m<ipython-input-53-0bd27b22a0eb>\u001b[0m in \u001b[0;36m<module>\u001b[1;34m\u001b[0m\n\u001b[1;32m----> 1\u001b[1;33m \u001b[0mlen\u001b[0m\u001b[1;33m(\u001b[0m\u001b[0mpred\u001b[0m\u001b[1;33m)\u001b[0m\u001b[1;33m\u001b[0m\u001b[1;33m\u001b[0m\u001b[0m\n\u001b[0m",
      "\u001b[1;31mNameError\u001b[0m: name 'pred' is not defined"
     ]
    }
   ],
   "source": [
    "len(pred)"
   ]
  },
  {
   "cell_type": "code",
   "execution_count": 55,
   "metadata": {},
   "outputs": [
    {
     "data": {
      "text/html": [
       "<div>\n",
       "<style scoped>\n",
       "    .dataframe tbody tr th:only-of-type {\n",
       "        vertical-align: middle;\n",
       "    }\n",
       "\n",
       "    .dataframe tbody tr th {\n",
       "        vertical-align: top;\n",
       "    }\n",
       "\n",
       "    .dataframe thead th {\n",
       "        text-align: right;\n",
       "    }\n",
       "</style>\n",
       "<table border=\"1\" class=\"dataframe\">\n",
       "  <thead>\n",
       "    <tr style=\"text-align: right;\">\n",
       "      <th></th>\n",
       "      <th>date</th>\n",
       "      <th>title</th>\n",
       "      <th>text</th>\n",
       "      <th>pred</th>\n",
       "    </tr>\n",
       "  </thead>\n",
       "  <tbody>\n",
       "    <tr>\n",
       "      <th>0</th>\n",
       "      <td>2018-11-21</td>\n",
       "      <td>Interpol elects South Korean Kim Jong Yang Pre...</td>\n",
       "      <td>russia ambitions head international police age...</td>\n",
       "      <td>-1</td>\n",
       "    </tr>\n",
       "    <tr>\n",
       "      <th>1</th>\n",
       "      <td>2018-12-20</td>\n",
       "      <td>Mattis quits, says his views aren't 'aligned' ...</td>\n",
       "      <td>defense secretary james mattis resigned thursd...</td>\n",
       "      <td>-1</td>\n",
       "    </tr>\n",
       "    <tr>\n",
       "      <th>2</th>\n",
       "      <td>2019-01-16</td>\n",
       "      <td>Schellenberg death sentence: Canadian's verdic...</td>\n",
       "      <td>death sentence imposed canadian robert lloyd ...</td>\n",
       "      <td>-1</td>\n",
       "    </tr>\n",
       "    <tr>\n",
       "      <th>3</th>\n",
       "      <td>2019-01-27</td>\n",
       "      <td>Why a military spat between Japan and South Ko...</td>\n",
       "      <td>japan southkorea engaged heated military dispu...</td>\n",
       "      <td>-1</td>\n",
       "    </tr>\n",
       "    <tr>\n",
       "      <th>4</th>\n",
       "      <td>2019-02-22</td>\n",
       "      <td>President Trump meets with Kim Jong Un</td>\n",
       "      <td>trump spoke reporters hano talks northkorean k...</td>\n",
       "      <td>-1</td>\n",
       "    </tr>\n",
       "    <tr>\n",
       "      <th>5</th>\n",
       "      <td>2019-03-08</td>\n",
       "      <td>#MyFreedomDay 2019: Students teach the world a...</td>\n",
       "      <td>enormous thank everybody took stand slavery m...</td>\n",
       "      <td>0</td>\n",
       "    </tr>\n",
       "    <tr>\n",
       "      <th>6</th>\n",
       "      <td>2019-05-02</td>\n",
       "      <td>As last jailed Kim Jong Nam killing suspect fr...</td>\n",
       "      <td>second woman accused killing half brother nor...</td>\n",
       "      <td>-1</td>\n",
       "    </tr>\n",
       "    <tr>\n",
       "      <th>7</th>\n",
       "      <td>2019-05-24</td>\n",
       "      <td>Trump arrives in Japan with his Asia policy in...</td>\n",
       "      <td>shinzo abe long game paying year ago japanese ...</td>\n",
       "      <td>-1</td>\n",
       "    </tr>\n",
       "    <tr>\n",
       "      <th>8</th>\n",
       "      <td>2019-06-17</td>\n",
       "      <td>Chinese President Xi Jinping to make first off...</td>\n",
       "      <td>chinese president jinping will arrive northkor...</td>\n",
       "      <td>-1</td>\n",
       "    </tr>\n",
       "    <tr>\n",
       "      <th>9</th>\n",
       "      <td>2019-06-19</td>\n",
       "      <td>Trump has two strategies to counter nuclear th...</td>\n",
       "      <td>inherit one nuclear crisis might look like mi...</td>\n",
       "      <td>-1</td>\n",
       "    </tr>\n",
       "    <tr>\n",
       "      <th>10</th>\n",
       "      <td>2019-06-25</td>\n",
       "      <td>G20 summit 2019: Trump meets leaders in Osaka</td>\n",
       "      <td>click read continuing live coverage results me...</td>\n",
       "      <td>-1</td>\n",
       "    </tr>\n",
       "    <tr>\n",
       "      <th>11</th>\n",
       "      <td>2019-06-26</td>\n",
       "      <td>DMZ: Donald Trump steps into North Korea with ...</td>\n",
       "      <td>live coverage ended can read trump visit nort...</td>\n",
       "      <td>-1</td>\n",
       "    </tr>\n",
       "    <tr>\n",
       "      <th>12</th>\n",
       "      <td>2019-06-29</td>\n",
       "      <td>Trump may meet Kim at the DMZ, but what's the ...</td>\n",
       "      <td>trump may enter history books sunday first ser...</td>\n",
       "      <td>-1</td>\n",
       "    </tr>\n",
       "    <tr>\n",
       "      <th>13</th>\n",
       "      <td>2019-07-23</td>\n",
       "      <td>Putin and Xi test a budding military alliance ...</td>\n",
       "      <td>russian vladimirputin chinese president jinpin...</td>\n",
       "      <td>-1</td>\n",
       "    </tr>\n",
       "    <tr>\n",
       "      <th>14</th>\n",
       "      <td>2019-07-23</td>\n",
       "      <td>Warplanes from four countries face off in Asia...</td>\n",
       "      <td>warplanes four countries faced tuesday chaotic...</td>\n",
       "      <td>-1</td>\n",
       "    </tr>\n",
       "    <tr>\n",
       "      <th>15</th>\n",
       "      <td>2019-07-24</td>\n",
       "      <td>South Korea accuses Russia of 'distortion of t...</td>\n",
       "      <td>southkorea accused russia distortion facts ami...</td>\n",
       "      <td>-1</td>\n",
       "    </tr>\n",
       "    <tr>\n",
       "      <th>16</th>\n",
       "      <td>2019-07-26</td>\n",
       "      <td>Why Russia and China are wading into a centuri...</td>\n",
       "      <td>japan southkorea may agree owns cluster tiny ...</td>\n",
       "      <td>-1</td>\n",
       "    </tr>\n",
       "    <tr>\n",
       "      <th>17</th>\n",
       "      <td>2019-08-02</td>\n",
       "      <td>A month after G20, Trump's Asia policy achieve...</td>\n",
       "      <td>end june us trump appeared deals hand northko...</td>\n",
       "      <td>-1</td>\n",
       "    </tr>\n",
       "    <tr>\n",
       "      <th>18</th>\n",
       "      <td>2019-08-13</td>\n",
       "      <td>Flights resume after second night of chaos at ...</td>\n",
       "      <td>live coverage hong kong airport protests ende...</td>\n",
       "      <td>-1</td>\n",
       "    </tr>\n",
       "    <tr>\n",
       "      <th>19</th>\n",
       "      <td>2019-08-15</td>\n",
       "      <td>Global turmoil Trump stirred threatens his ree...</td>\n",
       "      <td>trump showing happens united states abandons d...</td>\n",
       "      <td>-1</td>\n",
       "    </tr>\n",
       "    <tr>\n",
       "      <th>20</th>\n",
       "      <td>2019-08-23</td>\n",
       "      <td>North Korea and China are huge winners in the ...</td>\n",
       "      <td>cracks relationship southkorea japan deepenin...</td>\n",
       "      <td>-1</td>\n",
       "    </tr>\n",
       "    <tr>\n",
       "      <th>21</th>\n",
       "      <td>2019-09-20</td>\n",
       "      <td>Feminist icon Gloria Steinem urges United Stat...</td>\n",
       "      <td>political activist gloria steinem high school ...</td>\n",
       "      <td>-1</td>\n",
       "    </tr>\n",
       "    <tr>\n",
       "      <th>22</th>\n",
       "      <td>2018-11-05</td>\n",
       "      <td>South Koreans are working themselves to death....</td>\n",
       "      <td>takes park hyun suk widow lost husband gwaros...</td>\n",
       "      <td>-1</td>\n",
       "    </tr>\n",
       "    <tr>\n",
       "      <th>23</th>\n",
       "      <td>2018-11-09</td>\n",
       "      <td>BTS performance in Japan canceled amid anger o...</td>\n",
       "      <td>one japan biggest television stations canceled...</td>\n",
       "      <td>-1</td>\n",
       "    </tr>\n",
       "    <tr>\n",
       "      <th>24</th>\n",
       "      <td>2018-12-18</td>\n",
       "      <td>Inside South Korea's elderly crime wave</td>\n",
       "      <td>southkorea teenage gangs aren necessarily thr...</td>\n",
       "      <td>-1</td>\n",
       "    </tr>\n",
       "    <tr>\n",
       "      <th>25</th>\n",
       "      <td>2019-01-03</td>\n",
       "      <td>US scouting sites for 2nd Trump-Kim summit</td>\n",
       "      <td>trumpadministration scouting locations second...</td>\n",
       "      <td>-1</td>\n",
       "    </tr>\n",
       "    <tr>\n",
       "      <th>26</th>\n",
       "      <td>2019-02-02</td>\n",
       "      <td>South Koreans take to the streets to pay respe...</td>\n",
       "      <td>kim bok dong brought japanese embassy seoul on...</td>\n",
       "      <td>-1</td>\n",
       "    </tr>\n",
       "    <tr>\n",
       "      <th>27</th>\n",
       "      <td>2019-05-02</td>\n",
       "      <td>Gold ship hoax: Executives jailed over 'sunken...</td>\n",
       "      <td>three executives southkorean company claimed f...</td>\n",
       "      <td>-1</td>\n",
       "    </tr>\n",
       "    <tr>\n",
       "      <th>28</th>\n",
       "      <td>2019-05-05</td>\n",
       "      <td>Exclusive: Images show North Korea missile lau...</td>\n",
       "      <td>new satellite image obtained cnn shows smoke ...</td>\n",
       "      <td>-1</td>\n",
       "    </tr>\n",
       "    <tr>\n",
       "      <th>29</th>\n",
       "      <td>2019-05-09</td>\n",
       "      <td>North Korea launches 'two short-range missiles'</td>\n",
       "      <td>northkorea launched two suspected short range ...</td>\n",
       "      <td>-1</td>\n",
       "    </tr>\n",
       "    <tr>\n",
       "      <th>...</th>\n",
       "      <td>...</td>\n",
       "      <td>...</td>\n",
       "      <td>...</td>\n",
       "      <td>...</td>\n",
       "    </tr>\n",
       "    <tr>\n",
       "      <th>660</th>\n",
       "      <td>2019-06-27</td>\n",
       "      <td>Australia ¡®urgently seeking clarification¡¯ a...</td>\n",
       "      <td>seoul australia government said thursday urgen...</td>\n",
       "      <td>-1</td>\n",
       "    </tr>\n",
       "    <tr>\n",
       "      <th>661</th>\n",
       "      <td>2019-07-26</td>\n",
       "      <td>North Korean saber-rattling dims euphoria of T...</td>\n",
       "      <td>nearly month trump became first sitting presid...</td>\n",
       "      <td>-1</td>\n",
       "    </tr>\n",
       "    <tr>\n",
       "      <th>662</th>\n",
       "      <td>2019-07-29</td>\n",
       "      <td>Sex scandals stain the clean-cut image of Sout...</td>\n",
       "      <td>seoul fallen idols anguished victims betrayed ...</td>\n",
       "      <td>-1</td>\n",
       "    </tr>\n",
       "    <tr>\n",
       "      <th>663</th>\n",
       "      <td>2019-08-15</td>\n",
       "      <td>Fast, low and hard to stop: North Korea¡¯s mis...</td>\n",
       "      <td>tokyo trump brushed northkorea resumption miss...</td>\n",
       "      <td>-1</td>\n",
       "    </tr>\n",
       "    <tr>\n",
       "      <th>664</th>\n",
       "      <td>2019-08-16</td>\n",
       "      <td>North Korea spits out insults, launches missil...</td>\n",
       "      <td>tokyo northkorea spat insults southkorean moon...</td>\n",
       "      <td>-1</td>\n",
       "    </tr>\n",
       "    <tr>\n",
       "      <th>665</th>\n",
       "      <td>2019-08-22</td>\n",
       "      <td>In South Korea¡¯s hypercompetitive academia, e...</td>\n",
       "      <td>lee han sae used fight parents time age intere...</td>\n",
       "      <td>-1</td>\n",
       "    </tr>\n",
       "    <tr>\n",
       "      <th>666</th>\n",
       "      <td>2019-08-23</td>\n",
       "      <td>S. Korea says N. Korea has fired projectiles o...</td>\n",
       "      <td>seoul southkorea northkorea fired two unidenti...</td>\n",
       "      <td>-1</td>\n",
       "    </tr>\n",
       "    <tr>\n",
       "      <th>667</th>\n",
       "      <td>2019-08-28</td>\n",
       "      <td>Fall Preview: Bong Joon Ho and ¡®Parasite¡¯ ar...</td>\n",
       "      <td>new york bong joon ho parasite may film fall a...</td>\n",
       "      <td>0</td>\n",
       "    </tr>\n",
       "    <tr>\n",
       "      <th>668</th>\n",
       "      <td>2019-09-11</td>\n",
       "      <td>Global Forecast-Celsius</td>\n",
       "      <td>global forecast gmt wednesday september city t...</td>\n",
       "      <td>0</td>\n",
       "    </tr>\n",
       "    <tr>\n",
       "      <th>669</th>\n",
       "      <td>2019-09-11</td>\n",
       "      <td>Why Japan and South Korea Have Their Own Trade...</td>\n",
       "      <td>japan colonial rule korean peninsula ended sev...</td>\n",
       "      <td>-1</td>\n",
       "    </tr>\n",
       "    <tr>\n",
       "      <th>670</th>\n",
       "      <td>2019-09-15</td>\n",
       "      <td>Global Forecast-Fahrenheit</td>\n",
       "      <td>global forecast gmt sunday september city town...</td>\n",
       "      <td>0</td>\n",
       "    </tr>\n",
       "    <tr>\n",
       "      <th>671</th>\n",
       "      <td>2019-09-16</td>\n",
       "      <td>Global stocks slip as oil prices surge</td>\n",
       "      <td>beijing global stock markets sank monday crude...</td>\n",
       "      <td>-1</td>\n",
       "    </tr>\n",
       "    <tr>\n",
       "      <th>672</th>\n",
       "      <td>2019-09-16</td>\n",
       "      <td>North Korean-themed restaurant in Seoul remove...</td>\n",
       "      <td>seoul southkorea can sell northkorean food sou...</td>\n",
       "      <td>-1</td>\n",
       "    </tr>\n",
       "    <tr>\n",
       "      <th>673</th>\n",
       "      <td>2019-09-18</td>\n",
       "      <td>Global Forecast-Celsius</td>\n",
       "      <td>global forecast gmt wednesday september city t...</td>\n",
       "      <td>0</td>\n",
       "    </tr>\n",
       "    <tr>\n",
       "      <th>674</th>\n",
       "      <td>2018-11-29</td>\n",
       "      <td>Bad Blood Between Japan, South Korea Tests Ame...</td>\n",
       "      <td>resurgence frictions southkorea japan two clo...</td>\n",
       "      <td>-1</td>\n",
       "    </tr>\n",
       "    <tr>\n",
       "      <th>675</th>\n",
       "      <td>2019-01-12</td>\n",
       "      <td>Forced-Labor Dispute Strains Japan-South Korea...</td>\n",
       "      <td>recent court decisions southkorea japanese com...</td>\n",
       "      <td>-1</td>\n",
       "    </tr>\n",
       "    <tr>\n",
       "      <th>676</th>\n",
       "      <td>2019-06-28</td>\n",
       "      <td>Trump, Moon Look to Revive Talks With North Korea</td>\n",
       "      <td>summit japan trump will head seoul meet south...</td>\n",
       "      <td>-1</td>\n",
       "    </tr>\n",
       "    <tr>\n",
       "      <th>677</th>\n",
       "      <td>2019-07-01</td>\n",
       "      <td>Japan Curbs Exports to South Korea, Hitting Gl...</td>\n",
       "      <td>japan tightened controls exports southkorea hi...</td>\n",
       "      <td>-1</td>\n",
       "    </tr>\n",
       "    <tr>\n",
       "      <th>678</th>\n",
       "      <td>2019-07-03</td>\n",
       "      <td>Global Tech Ties Fray in Nationalist Shift as ...</td>\n",
       "      <td>japan restrictions exports southkorea promptin...</td>\n",
       "      <td>-1</td>\n",
       "    </tr>\n",
       "    <tr>\n",
       "      <th>679</th>\n",
       "      <td>2019-07-11</td>\n",
       "      <td>Japan¡¯s Restrictions on South Korean Chip Mak...</td>\n",
       "      <td>japan trade jab southkorea chip makers meant p...</td>\n",
       "      <td>-1</td>\n",
       "    </tr>\n",
       "    <tr>\n",
       "      <th>680</th>\n",
       "      <td>2019-08-02</td>\n",
       "      <td>Japan Ratchets Up Trade Dispute With South Korea</td>\n",
       "      <td>japan removed southkorea list preferential tra...</td>\n",
       "      <td>-1</td>\n",
       "    </tr>\n",
       "    <tr>\n",
       "      <th>681</th>\n",
       "      <td>2019-08-02</td>\n",
       "      <td>Protectionist Diplomacy Goes Global</td>\n",
       "      <td>tokyo taking trump using coercive trade seoul ...</td>\n",
       "      <td>-1</td>\n",
       "    </tr>\n",
       "    <tr>\n",
       "      <th>682</th>\n",
       "      <td>2019-08-22</td>\n",
       "      <td>South Korea Ends Pact to Share Military Inform...</td>\n",
       "      <td>southkorea said withdrawing agreement share mi...</td>\n",
       "      <td>-1</td>\n",
       "    </tr>\n",
       "    <tr>\n",
       "      <th>683</th>\n",
       "      <td>2019-09-02</td>\n",
       "      <td>U.S.-China Trade War Takes Toll on South Korea...</td>\n",
       "      <td>tradewar beginning crimp economies china neig...</td>\n",
       "      <td>-1</td>\n",
       "    </tr>\n",
       "    <tr>\n",
       "      <th>684</th>\n",
       "      <td>2019-09-05</td>\n",
       "      <td>South Korea Fears Japan Trade Dispute Could Sc...</td>\n",
       "      <td>southkorean officials concerned seoul increasi...</td>\n",
       "      <td>-1</td>\n",
       "    </tr>\n",
       "    <tr>\n",
       "      <th>685</th>\n",
       "      <td>2018-11-21</td>\n",
       "      <td>South Korea Dissolves Group Central to WWII-Er...</td>\n",
       "      <td>seoul said dissolve foundation heart bilateral...</td>\n",
       "      <td>-1</td>\n",
       "    </tr>\n",
       "    <tr>\n",
       "      <th>686</th>\n",
       "      <td>2019-07-10</td>\n",
       "      <td>North Korea¡¯s Weapons Program Fuels Tokyo¡¯s ...</td>\n",
       "      <td>contentious accusation underpins trade disput...</td>\n",
       "      <td>-1</td>\n",
       "    </tr>\n",
       "    <tr>\n",
       "      <th>687</th>\n",
       "      <td>2019-08-12</td>\n",
       "      <td>South Korea Kicks Japan Off List of Favored Tr...</td>\n",
       "      <td>southkorea said remove japan list countries qu...</td>\n",
       "      <td>-1</td>\n",
       "    </tr>\n",
       "    <tr>\n",
       "      <th>688</th>\n",
       "      <td>2019-08-28</td>\n",
       "      <td>South Korea Withdrawal From Intelligence Pact ...</td>\n",
       "      <td>nationalsecurity officials blindsided last we...</td>\n",
       "      <td>-1</td>\n",
       "    </tr>\n",
       "    <tr>\n",
       "      <th>689</th>\n",
       "      <td>2019-08-30</td>\n",
       "      <td>The U.S. Might Be Dragged Into the Japan-South...</td>\n",
       "      <td>bitter trade battle japan southkorea america ...</td>\n",
       "      <td>-1</td>\n",
       "    </tr>\n",
       "  </tbody>\n",
       "</table>\n",
       "<p>690 rows × 4 columns</p>\n",
       "</div>"
      ],
      "text/plain": [
       "           date                                              title  \\\n",
       "0    2018-11-21  Interpol elects South Korean Kim Jong Yang Pre...   \n",
       "1    2018-12-20  Mattis quits, says his views aren't 'aligned' ...   \n",
       "2    2019-01-16  Schellenberg death sentence: Canadian's verdic...   \n",
       "3    2019-01-27  Why a military spat between Japan and South Ko...   \n",
       "4    2019-02-22             President Trump meets with Kim Jong Un   \n",
       "5    2019-03-08  #MyFreedomDay 2019: Students teach the world a...   \n",
       "6    2019-05-02  As last jailed Kim Jong Nam killing suspect fr...   \n",
       "7    2019-05-24  Trump arrives in Japan with his Asia policy in...   \n",
       "8    2019-06-17  Chinese President Xi Jinping to make first off...   \n",
       "9    2019-06-19  Trump has two strategies to counter nuclear th...   \n",
       "10   2019-06-25      G20 summit 2019: Trump meets leaders in Osaka   \n",
       "11   2019-06-26  DMZ: Donald Trump steps into North Korea with ...   \n",
       "12   2019-06-29  Trump may meet Kim at the DMZ, but what's the ...   \n",
       "13   2019-07-23  Putin and Xi test a budding military alliance ...   \n",
       "14   2019-07-23  Warplanes from four countries face off in Asia...   \n",
       "15   2019-07-24  South Korea accuses Russia of 'distortion of t...   \n",
       "16   2019-07-26  Why Russia and China are wading into a centuri...   \n",
       "17   2019-08-02  A month after G20, Trump's Asia policy achieve...   \n",
       "18   2019-08-13  Flights resume after second night of chaos at ...   \n",
       "19   2019-08-15  Global turmoil Trump stirred threatens his ree...   \n",
       "20   2019-08-23  North Korea and China are huge winners in the ...   \n",
       "21   2019-09-20  Feminist icon Gloria Steinem urges United Stat...   \n",
       "22   2018-11-05  South Koreans are working themselves to death....   \n",
       "23   2018-11-09  BTS performance in Japan canceled amid anger o...   \n",
       "24   2018-12-18            Inside South Korea's elderly crime wave   \n",
       "25   2019-01-03         US scouting sites for 2nd Trump-Kim summit   \n",
       "26   2019-02-02  South Koreans take to the streets to pay respe...   \n",
       "27   2019-05-02  Gold ship hoax: Executives jailed over 'sunken...   \n",
       "28   2019-05-05  Exclusive: Images show North Korea missile lau...   \n",
       "29   2019-05-09    North Korea launches 'two short-range missiles'   \n",
       "..          ...                                                ...   \n",
       "660  2019-06-27  Australia ¡®urgently seeking clarification¡¯ a...   \n",
       "661  2019-07-26  North Korean saber-rattling dims euphoria of T...   \n",
       "662  2019-07-29  Sex scandals stain the clean-cut image of Sout...   \n",
       "663  2019-08-15  Fast, low and hard to stop: North Korea¡¯s mis...   \n",
       "664  2019-08-16  North Korea spits out insults, launches missil...   \n",
       "665  2019-08-22  In South Korea¡¯s hypercompetitive academia, e...   \n",
       "666  2019-08-23  S. Korea says N. Korea has fired projectiles o...   \n",
       "667  2019-08-28  Fall Preview: Bong Joon Ho and ¡®Parasite¡¯ ar...   \n",
       "668  2019-09-11                            Global Forecast-Celsius   \n",
       "669  2019-09-11  Why Japan and South Korea Have Their Own Trade...   \n",
       "670  2019-09-15                         Global Forecast-Fahrenheit   \n",
       "671  2019-09-16             Global stocks slip as oil prices surge   \n",
       "672  2019-09-16  North Korean-themed restaurant in Seoul remove...   \n",
       "673  2019-09-18                            Global Forecast-Celsius   \n",
       "674  2018-11-29  Bad Blood Between Japan, South Korea Tests Ame...   \n",
       "675  2019-01-12  Forced-Labor Dispute Strains Japan-South Korea...   \n",
       "676  2019-06-28  Trump, Moon Look to Revive Talks With North Korea   \n",
       "677  2019-07-01  Japan Curbs Exports to South Korea, Hitting Gl...   \n",
       "678  2019-07-03  Global Tech Ties Fray in Nationalist Shift as ...   \n",
       "679  2019-07-11  Japan¡¯s Restrictions on South Korean Chip Mak...   \n",
       "680  2019-08-02   Japan Ratchets Up Trade Dispute With South Korea   \n",
       "681  2019-08-02                Protectionist Diplomacy Goes Global   \n",
       "682  2019-08-22  South Korea Ends Pact to Share Military Inform...   \n",
       "683  2019-09-02  U.S.-China Trade War Takes Toll on South Korea...   \n",
       "684  2019-09-05  South Korea Fears Japan Trade Dispute Could Sc...   \n",
       "685  2018-11-21  South Korea Dissolves Group Central to WWII-Er...   \n",
       "686  2019-07-10  North Korea¡¯s Weapons Program Fuels Tokyo¡¯s ...   \n",
       "687  2019-08-12  South Korea Kicks Japan Off List of Favored Tr...   \n",
       "688  2019-08-28  South Korea Withdrawal From Intelligence Pact ...   \n",
       "689  2019-08-30  The U.S. Might Be Dragged Into the Japan-South...   \n",
       "\n",
       "                                                  text  pred  \n",
       "0    russia ambitions head international police age...    -1  \n",
       "1    defense secretary james mattis resigned thursd...    -1  \n",
       "2     death sentence imposed canadian robert lloyd ...    -1  \n",
       "3    japan southkorea engaged heated military dispu...    -1  \n",
       "4    trump spoke reporters hano talks northkorean k...    -1  \n",
       "5     enormous thank everybody took stand slavery m...     0  \n",
       "6     second woman accused killing half brother nor...    -1  \n",
       "7    shinzo abe long game paying year ago japanese ...    -1  \n",
       "8    chinese president jinping will arrive northkor...    -1  \n",
       "9     inherit one nuclear crisis might look like mi...    -1  \n",
       "10   click read continuing live coverage results me...    -1  \n",
       "11    live coverage ended can read trump visit nort...    -1  \n",
       "12   trump may enter history books sunday first ser...    -1  \n",
       "13   russian vladimirputin chinese president jinpin...    -1  \n",
       "14   warplanes four countries faced tuesday chaotic...    -1  \n",
       "15   southkorea accused russia distortion facts ami...    -1  \n",
       "16    japan southkorea may agree owns cluster tiny ...    -1  \n",
       "17    end june us trump appeared deals hand northko...    -1  \n",
       "18    live coverage hong kong airport protests ende...    -1  \n",
       "19   trump showing happens united states abandons d...    -1  \n",
       "20    cracks relationship southkorea japan deepenin...    -1  \n",
       "21   political activist gloria steinem high school ...    -1  \n",
       "22    takes park hyun suk widow lost husband gwaros...    -1  \n",
       "23   one japan biggest television stations canceled...    -1  \n",
       "24    southkorea teenage gangs aren necessarily thr...    -1  \n",
       "25    trumpadministration scouting locations second...    -1  \n",
       "26   kim bok dong brought japanese embassy seoul on...    -1  \n",
       "27   three executives southkorean company claimed f...    -1  \n",
       "28    new satellite image obtained cnn shows smoke ...    -1  \n",
       "29   northkorea launched two suspected short range ...    -1  \n",
       "..                                                 ...   ...  \n",
       "660  seoul australia government said thursday urgen...    -1  \n",
       "661  nearly month trump became first sitting presid...    -1  \n",
       "662  seoul fallen idols anguished victims betrayed ...    -1  \n",
       "663  tokyo trump brushed northkorea resumption miss...    -1  \n",
       "664  tokyo northkorea spat insults southkorean moon...    -1  \n",
       "665  lee han sae used fight parents time age intere...    -1  \n",
       "666  seoul southkorea northkorea fired two unidenti...    -1  \n",
       "667  new york bong joon ho parasite may film fall a...     0  \n",
       "668  global forecast gmt wednesday september city t...     0  \n",
       "669  japan colonial rule korean peninsula ended sev...    -1  \n",
       "670  global forecast gmt sunday september city town...     0  \n",
       "671  beijing global stock markets sank monday crude...    -1  \n",
       "672  seoul southkorea can sell northkorean food sou...    -1  \n",
       "673  global forecast gmt wednesday september city t...     0  \n",
       "674   resurgence frictions southkorea japan two clo...    -1  \n",
       "675  recent court decisions southkorea japanese com...    -1  \n",
       "676   summit japan trump will head seoul meet south...    -1  \n",
       "677  japan tightened controls exports southkorea hi...    -1  \n",
       "678  japan restrictions exports southkorea promptin...    -1  \n",
       "679  japan trade jab southkorea chip makers meant p...    -1  \n",
       "680  japan removed southkorea list preferential tra...    -1  \n",
       "681  tokyo taking trump using coercive trade seoul ...    -1  \n",
       "682  southkorea said withdrawing agreement share mi...    -1  \n",
       "683   tradewar beginning crimp economies china neig...    -1  \n",
       "684  southkorean officials concerned seoul increasi...    -1  \n",
       "685  seoul said dissolve foundation heart bilateral...    -1  \n",
       "686   contentious accusation underpins trade disput...    -1  \n",
       "687  southkorea said remove japan list countries qu...    -1  \n",
       "688   nationalsecurity officials blindsided last we...    -1  \n",
       "689   bitter trade battle japan southkorea america ...    -1  \n",
       "\n",
       "[690 rows x 4 columns]"
      ]
     },
     "execution_count": 55,
     "metadata": {},
     "output_type": "execute_result"
    }
   ],
   "source": [
    "fox"
   ]
  },
  {
   "cell_type": "code",
   "execution_count": 61,
   "metadata": {
    "scrolled": true
   },
   "outputs": [],
   "source": [
    "fox['pred'] = sgd_pred"
   ]
  },
  {
   "cell_type": "code",
   "execution_count": 62,
   "metadata": {},
   "outputs": [],
   "source": [
    "fox\n",
    "fox.to_csv(\"C:/Users/Juwon Oh/Documents/Dropbox/BigDataDiplomacy/Code/2019/Analysis/Fall/usjp_predict.csv\", mode='w')"
   ]
  },
  {
   "cell_type": "code",
   "execution_count": null,
   "metadata": {},
   "outputs": [],
   "source": []
  }
 ],
 "metadata": {
  "kernelspec": {
   "display_name": "Python 3",
   "language": "python",
   "name": "python3"
  },
  "language_info": {
   "codemirror_mode": {
    "name": "ipython",
    "version": 3
   },
   "file_extension": ".py",
   "mimetype": "text/x-python",
   "name": "python",
   "nbconvert_exporter": "python",
   "pygments_lexer": "ipython3",
   "version": "3.7.1"
  },
  "varInspector": {
   "cols": {
    "lenName": 16,
    "lenType": 16,
    "lenVar": 40
   },
   "kernels_config": {
    "python": {
     "delete_cmd_postfix": "",
     "delete_cmd_prefix": "del ",
     "library": "var_list.py",
     "varRefreshCmd": "print(var_dic_list())"
    },
    "r": {
     "delete_cmd_postfix": ") ",
     "delete_cmd_prefix": "rm(",
     "library": "var_list.r",
     "varRefreshCmd": "cat(var_dic_list()) "
    }
   },
   "position": {
    "height": "286.4px",
    "left": "1166px",
    "right": "20px",
    "top": "120px",
    "width": "350px"
   },
   "types_to_exclude": [
    "module",
    "function",
    "builtin_function_or_method",
    "instance",
    "_Feature"
   ],
   "window_display": true
  }
 },
 "nbformat": 4,
 "nbformat_minor": 2
}
